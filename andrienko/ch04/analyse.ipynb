{
 "cells": [
  {
   "cell_type": "code",
   "execution_count": 4,
   "id": "quarterly-shower",
   "metadata": {},
   "outputs": [],
   "source": [
    "import json\n",
    "\n",
    "import numpy as np\n",
    "np.set_printoptions(precision=2)\n",
    "                 \n",
    "import pandas as pd\n",
    "\n",
    "from IPython.display import display\n",
    "\n",
    "XLSX = '../data/2011-2020-Social-Progress-Index.xlsx'"
   ]
  },
  {
   "cell_type": "code",
   "execution_count": 5,
   "id": "approximate-injection",
   "metadata": {},
   "outputs": [],
   "source": [
    "def spi_hierarchy():\n",
    "    'Excel の最後のシートに記載されているSPI指標の定義から階層構造を構成する'\n",
    "\n",
    "    def rec(defs, keys):\n",
    "        indices = list(defs.keys())[:3]\n",
    "        dimensions = dict()\n",
    "        for _, row in defs.iterrows():\n",
    "            if pd.notna(row).all():\n",
    "                dimension, component, name = row['Dimension'], row['Component'], row['Indicator name']\n",
    "                if not dimension in dimensions: dimensions[dimension] = dict()\n",
    "                components = dimensions[dimension]\n",
    "                if not component in components: components[component] = []\n",
    "                components[component].append(name)\n",
    "        return dimensions\n",
    "\n",
    "    return rec(pd.read_excel(XLSX, sheet_name='Definitions', skiprows=[0]),\n",
    "               'Region Name, Sub-region Name, Intermediate Region Name, Country or Area'.split(', '))"
   ]
  },
  {
   "cell_type": "code",
   "execution_count": 7,
   "id": "quarterly-rolling",
   "metadata": {},
   "outputs": [
    {
     "data": {
      "text/plain": [
       "(163, 15)"
      ]
     },
     "execution_count": 7,
     "metadata": {},
     "output_type": "execute_result"
    }
   ],
   "source": [
    "IDXTREE = spi_hierarchy()\n",
    "\n",
    "INDICES1 = list(IDXTREE.keys())\n",
    "INDICES2 = []\n",
    "for idx in INDICES1: INDICES2 += list(IDXTREE[idx].keys())\n",
    "    \n",
    "SPI = pd.read_excel(XLSX, sheet_name='Data_SPI_2011-2020', skiprows=2)\n",
    "META = list(SPI.keys())[:6]\n",
    "SPI = SPI[META + INDICES1 + INDICES2]\n",
    "SPI = SPI[(SPI['SPI year'] == 2020) & (SPI['SPI Rank'].notna())]\n",
    "\n",
    "data = SPI.iloc[:, 6:]\n",
    "data.shape"
   ]
  },
  {
   "cell_type": "markdown",
   "id": "indie-magnitude",
   "metadata": {},
   "source": [
    "# パッケージの読み込み\n",
    "\n",
    "統計、可視化、色彩科学関連のパッケージを読み込み"
   ]
  },
  {
   "cell_type": "code",
   "execution_count": 8,
   "id": "weighted-opinion",
   "metadata": {
    "scrolled": true
   },
   "outputs": [
    {
     "data": {
      "text/html": [
       "\n",
       "    <div class=\"bk-root\">\n",
       "        <a href=\"https://bokeh.org\" target=\"_blank\" class=\"bk-logo bk-logo-small bk-logo-notebook\"></a>\n",
       "        <span id=\"1001\">Loading BokehJS ...</span>\n",
       "    </div>"
      ]
     },
     "metadata": {},
     "output_type": "display_data"
    },
    {
     "data": {
      "application/javascript": [
       "\n",
       "(function(root) {\n",
       "  function now() {\n",
       "    return new Date();\n",
       "  }\n",
       "\n",
       "  var force = true;\n",
       "\n",
       "  if (typeof root._bokeh_onload_callbacks === \"undefined\" || force === true) {\n",
       "    root._bokeh_onload_callbacks = [];\n",
       "    root._bokeh_is_loading = undefined;\n",
       "  }\n",
       "\n",
       "  var JS_MIME_TYPE = 'application/javascript';\n",
       "  var HTML_MIME_TYPE = 'text/html';\n",
       "  var EXEC_MIME_TYPE = 'application/vnd.bokehjs_exec.v0+json';\n",
       "  var CLASS_NAME = 'output_bokeh rendered_html';\n",
       "\n",
       "  /**\n",
       "   * Render data to the DOM node\n",
       "   */\n",
       "  function render(props, node) {\n",
       "    var script = document.createElement(\"script\");\n",
       "    node.appendChild(script);\n",
       "  }\n",
       "\n",
       "  /**\n",
       "   * Handle when an output is cleared or removed\n",
       "   */\n",
       "  function handleClearOutput(event, handle) {\n",
       "    var cell = handle.cell;\n",
       "\n",
       "    var id = cell.output_area._bokeh_element_id;\n",
       "    var server_id = cell.output_area._bokeh_server_id;\n",
       "    // Clean up Bokeh references\n",
       "    if (id != null && id in Bokeh.index) {\n",
       "      Bokeh.index[id].model.document.clear();\n",
       "      delete Bokeh.index[id];\n",
       "    }\n",
       "\n",
       "    if (server_id !== undefined) {\n",
       "      // Clean up Bokeh references\n",
       "      var cmd = \"from bokeh.io.state import curstate; print(curstate().uuid_to_server['\" + server_id + \"'].get_sessions()[0].document.roots[0]._id)\";\n",
       "      cell.notebook.kernel.execute(cmd, {\n",
       "        iopub: {\n",
       "          output: function(msg) {\n",
       "            var id = msg.content.text.trim();\n",
       "            if (id in Bokeh.index) {\n",
       "              Bokeh.index[id].model.document.clear();\n",
       "              delete Bokeh.index[id];\n",
       "            }\n",
       "          }\n",
       "        }\n",
       "      });\n",
       "      // Destroy server and session\n",
       "      var cmd = \"import bokeh.io.notebook as ion; ion.destroy_server('\" + server_id + \"')\";\n",
       "      cell.notebook.kernel.execute(cmd);\n",
       "    }\n",
       "  }\n",
       "\n",
       "  /**\n",
       "   * Handle when a new output is added\n",
       "   */\n",
       "  function handleAddOutput(event, handle) {\n",
       "    var output_area = handle.output_area;\n",
       "    var output = handle.output;\n",
       "\n",
       "    // limit handleAddOutput to display_data with EXEC_MIME_TYPE content only\n",
       "    if ((output.output_type != \"display_data\") || (!output.data.hasOwnProperty(EXEC_MIME_TYPE))) {\n",
       "      return\n",
       "    }\n",
       "\n",
       "    var toinsert = output_area.element.find(\".\" + CLASS_NAME.split(' ')[0]);\n",
       "\n",
       "    if (output.metadata[EXEC_MIME_TYPE][\"id\"] !== undefined) {\n",
       "      toinsert[toinsert.length - 1].firstChild.textContent = output.data[JS_MIME_TYPE];\n",
       "      // store reference to embed id on output_area\n",
       "      output_area._bokeh_element_id = output.metadata[EXEC_MIME_TYPE][\"id\"];\n",
       "    }\n",
       "    if (output.metadata[EXEC_MIME_TYPE][\"server_id\"] !== undefined) {\n",
       "      var bk_div = document.createElement(\"div\");\n",
       "      bk_div.innerHTML = output.data[HTML_MIME_TYPE];\n",
       "      var script_attrs = bk_div.children[0].attributes;\n",
       "      for (var i = 0; i < script_attrs.length; i++) {\n",
       "        toinsert[toinsert.length - 1].firstChild.setAttribute(script_attrs[i].name, script_attrs[i].value);\n",
       "        toinsert[toinsert.length - 1].firstChild.textContent = bk_div.children[0].textContent\n",
       "      }\n",
       "      // store reference to server id on output_area\n",
       "      output_area._bokeh_server_id = output.metadata[EXEC_MIME_TYPE][\"server_id\"];\n",
       "    }\n",
       "  }\n",
       "\n",
       "  function register_renderer(events, OutputArea) {\n",
       "\n",
       "    function append_mime(data, metadata, element) {\n",
       "      // create a DOM node to render to\n",
       "      var toinsert = this.create_output_subarea(\n",
       "        metadata,\n",
       "        CLASS_NAME,\n",
       "        EXEC_MIME_TYPE\n",
       "      );\n",
       "      this.keyboard_manager.register_events(toinsert);\n",
       "      // Render to node\n",
       "      var props = {data: data, metadata: metadata[EXEC_MIME_TYPE]};\n",
       "      render(props, toinsert[toinsert.length - 1]);\n",
       "      element.append(toinsert);\n",
       "      return toinsert\n",
       "    }\n",
       "\n",
       "    /* Handle when an output is cleared or removed */\n",
       "    events.on('clear_output.CodeCell', handleClearOutput);\n",
       "    events.on('delete.Cell', handleClearOutput);\n",
       "\n",
       "    /* Handle when a new output is added */\n",
       "    events.on('output_added.OutputArea', handleAddOutput);\n",
       "\n",
       "    /**\n",
       "     * Register the mime type and append_mime function with output_area\n",
       "     */\n",
       "    OutputArea.prototype.register_mime_type(EXEC_MIME_TYPE, append_mime, {\n",
       "      /* Is output safe? */\n",
       "      safe: true,\n",
       "      /* Index of renderer in `output_area.display_order` */\n",
       "      index: 0\n",
       "    });\n",
       "  }\n",
       "\n",
       "  // register the mime type if in Jupyter Notebook environment and previously unregistered\n",
       "  if (root.Jupyter !== undefined) {\n",
       "    var events = require('base/js/events');\n",
       "    var OutputArea = require('notebook/js/outputarea').OutputArea;\n",
       "\n",
       "    if (OutputArea.prototype.mime_types().indexOf(EXEC_MIME_TYPE) == -1) {\n",
       "      register_renderer(events, OutputArea);\n",
       "    }\n",
       "  }\n",
       "\n",
       "  \n",
       "  if (typeof (root._bokeh_timeout) === \"undefined\" || force === true) {\n",
       "    root._bokeh_timeout = Date.now() + 5000;\n",
       "    root._bokeh_failed_load = false;\n",
       "  }\n",
       "\n",
       "  var NB_LOAD_WARNING = {'data': {'text/html':\n",
       "     \"<div style='background-color: #fdd'>\\n\"+\n",
       "     \"<p>\\n\"+\n",
       "     \"BokehJS does not appear to have successfully loaded. If loading BokehJS from CDN, this \\n\"+\n",
       "     \"may be due to a slow or bad network connection. Possible fixes:\\n\"+\n",
       "     \"</p>\\n\"+\n",
       "     \"<ul>\\n\"+\n",
       "     \"<li>re-rerun `output_notebook()` to attempt to load from CDN again, or</li>\\n\"+\n",
       "     \"<li>use INLINE resources instead, as so:</li>\\n\"+\n",
       "     \"</ul>\\n\"+\n",
       "     \"<code>\\n\"+\n",
       "     \"from bokeh.resources import INLINE\\n\"+\n",
       "     \"output_notebook(resources=INLINE)\\n\"+\n",
       "     \"</code>\\n\"+\n",
       "     \"</div>\"}};\n",
       "\n",
       "  function display_loaded() {\n",
       "    var el = document.getElementById(\"1001\");\n",
       "    if (el != null) {\n",
       "      el.textContent = \"BokehJS is loading...\";\n",
       "    }\n",
       "    if (root.Bokeh !== undefined) {\n",
       "      if (el != null) {\n",
       "        el.textContent = \"BokehJS \" + root.Bokeh.version + \" successfully loaded.\";\n",
       "      }\n",
       "    } else if (Date.now() < root._bokeh_timeout) {\n",
       "      setTimeout(display_loaded, 100)\n",
       "    }\n",
       "  }\n",
       "\n",
       "\n",
       "  function run_callbacks() {\n",
       "    try {\n",
       "      root._bokeh_onload_callbacks.forEach(function(callback) {\n",
       "        if (callback != null)\n",
       "          callback();\n",
       "      });\n",
       "    } finally {\n",
       "      delete root._bokeh_onload_callbacks\n",
       "    }\n",
       "    console.debug(\"Bokeh: all callbacks have finished\");\n",
       "  }\n",
       "\n",
       "  function load_libs(css_urls, js_urls, callback) {\n",
       "    if (css_urls == null) css_urls = [];\n",
       "    if (js_urls == null) js_urls = [];\n",
       "\n",
       "    root._bokeh_onload_callbacks.push(callback);\n",
       "    if (root._bokeh_is_loading > 0) {\n",
       "      console.debug(\"Bokeh: BokehJS is being loaded, scheduling callback at\", now());\n",
       "      return null;\n",
       "    }\n",
       "    if (js_urls == null || js_urls.length === 0) {\n",
       "      run_callbacks();\n",
       "      return null;\n",
       "    }\n",
       "    console.debug(\"Bokeh: BokehJS not loaded, scheduling load and callback at\", now());\n",
       "    root._bokeh_is_loading = css_urls.length + js_urls.length;\n",
       "\n",
       "    function on_load() {\n",
       "      root._bokeh_is_loading--;\n",
       "      if (root._bokeh_is_loading === 0) {\n",
       "        console.debug(\"Bokeh: all BokehJS libraries/stylesheets loaded\");\n",
       "        run_callbacks()\n",
       "      }\n",
       "    }\n",
       "\n",
       "    function on_error() {\n",
       "      console.error(\"failed to load \" + url);\n",
       "    }\n",
       "\n",
       "    for (var i = 0; i < css_urls.length; i++) {\n",
       "      var url = css_urls[i];\n",
       "      const element = document.createElement(\"link\");\n",
       "      element.onload = on_load;\n",
       "      element.onerror = on_error;\n",
       "      element.rel = \"stylesheet\";\n",
       "      element.type = \"text/css\";\n",
       "      element.href = url;\n",
       "      console.debug(\"Bokeh: injecting link tag for BokehJS stylesheet: \", url);\n",
       "      document.body.appendChild(element);\n",
       "    }\n",
       "\n",
       "    const hashes = {\"https://cdn.bokeh.org/bokeh/release/bokeh-2.2.3.min.js\": \"T2yuo9Oe71Cz/I4X9Ac5+gpEa5a8PpJCDlqKYO0CfAuEszu1JrXLl8YugMqYe3sM\", \"https://cdn.bokeh.org/bokeh/release/bokeh-widgets-2.2.3.min.js\": \"98GDGJ0kOMCUMUePhksaQ/GYgB3+NH9h996V88sh3aOiUNX3N+fLXAtry6xctSZ6\", \"https://cdn.bokeh.org/bokeh/release/bokeh-tables-2.2.3.min.js\": \"89bArO+nlbP3sgakeHjCo1JYxYR5wufVgA3IbUvDY+K7w4zyxJqssu7wVnfeKCq8\"};\n",
       "\n",
       "    for (var i = 0; i < js_urls.length; i++) {\n",
       "      var url = js_urls[i];\n",
       "      var element = document.createElement('script');\n",
       "      element.onload = on_load;\n",
       "      element.onerror = on_error;\n",
       "      element.async = false;\n",
       "      element.src = url;\n",
       "      if (url in hashes) {\n",
       "        element.crossOrigin = \"anonymous\";\n",
       "        element.integrity = \"sha384-\" + hashes[url];\n",
       "      }\n",
       "      console.debug(\"Bokeh: injecting script tag for BokehJS library: \", url);\n",
       "      document.head.appendChild(element);\n",
       "    }\n",
       "  };\n",
       "\n",
       "  function inject_raw_css(css) {\n",
       "    const element = document.createElement(\"style\");\n",
       "    element.appendChild(document.createTextNode(css));\n",
       "    document.body.appendChild(element);\n",
       "  }\n",
       "\n",
       "  \n",
       "  var js_urls = [\"https://cdn.bokeh.org/bokeh/release/bokeh-2.2.3.min.js\", \"https://cdn.bokeh.org/bokeh/release/bokeh-widgets-2.2.3.min.js\", \"https://cdn.bokeh.org/bokeh/release/bokeh-tables-2.2.3.min.js\"];\n",
       "  var css_urls = [];\n",
       "  \n",
       "\n",
       "  var inline_js = [\n",
       "    function(Bokeh) {\n",
       "      Bokeh.set_log_level(\"info\");\n",
       "    },\n",
       "    function(Bokeh) {\n",
       "    \n",
       "    \n",
       "    }\n",
       "  ];\n",
       "\n",
       "  function run_inline_js() {\n",
       "    \n",
       "    if (root.Bokeh !== undefined || force === true) {\n",
       "      \n",
       "    for (var i = 0; i < inline_js.length; i++) {\n",
       "      inline_js[i].call(root, root.Bokeh);\n",
       "    }\n",
       "    if (force === true) {\n",
       "        display_loaded();\n",
       "      }} else if (Date.now() < root._bokeh_timeout) {\n",
       "      setTimeout(run_inline_js, 100);\n",
       "    } else if (!root._bokeh_failed_load) {\n",
       "      console.log(\"Bokeh: BokehJS failed to load within specified timeout.\");\n",
       "      root._bokeh_failed_load = true;\n",
       "    } else if (force !== true) {\n",
       "      var cell = $(document.getElementById(\"1001\")).parents('.cell').data().cell;\n",
       "      cell.output_area.append_execute_result(NB_LOAD_WARNING)\n",
       "    }\n",
       "\n",
       "  }\n",
       "\n",
       "  if (root._bokeh_is_loading === 0) {\n",
       "    console.debug(\"Bokeh: BokehJS loaded, going straight to plotting\");\n",
       "    run_inline_js();\n",
       "  } else {\n",
       "    load_libs(css_urls, js_urls, function() {\n",
       "      console.debug(\"Bokeh: BokehJS plotting callback run at\", now());\n",
       "      run_inline_js();\n",
       "    });\n",
       "  }\n",
       "}(window));"
      ],
      "application/vnd.bokehjs_load.v0+json": "\n(function(root) {\n  function now() {\n    return new Date();\n  }\n\n  var force = true;\n\n  if (typeof root._bokeh_onload_callbacks === \"undefined\" || force === true) {\n    root._bokeh_onload_callbacks = [];\n    root._bokeh_is_loading = undefined;\n  }\n\n  \n\n  \n  if (typeof (root._bokeh_timeout) === \"undefined\" || force === true) {\n    root._bokeh_timeout = Date.now() + 5000;\n    root._bokeh_failed_load = false;\n  }\n\n  var NB_LOAD_WARNING = {'data': {'text/html':\n     \"<div style='background-color: #fdd'>\\n\"+\n     \"<p>\\n\"+\n     \"BokehJS does not appear to have successfully loaded. If loading BokehJS from CDN, this \\n\"+\n     \"may be due to a slow or bad network connection. Possible fixes:\\n\"+\n     \"</p>\\n\"+\n     \"<ul>\\n\"+\n     \"<li>re-rerun `output_notebook()` to attempt to load from CDN again, or</li>\\n\"+\n     \"<li>use INLINE resources instead, as so:</li>\\n\"+\n     \"</ul>\\n\"+\n     \"<code>\\n\"+\n     \"from bokeh.resources import INLINE\\n\"+\n     \"output_notebook(resources=INLINE)\\n\"+\n     \"</code>\\n\"+\n     \"</div>\"}};\n\n  function display_loaded() {\n    var el = document.getElementById(\"1001\");\n    if (el != null) {\n      el.textContent = \"BokehJS is loading...\";\n    }\n    if (root.Bokeh !== undefined) {\n      if (el != null) {\n        el.textContent = \"BokehJS \" + root.Bokeh.version + \" successfully loaded.\";\n      }\n    } else if (Date.now() < root._bokeh_timeout) {\n      setTimeout(display_loaded, 100)\n    }\n  }\n\n\n  function run_callbacks() {\n    try {\n      root._bokeh_onload_callbacks.forEach(function(callback) {\n        if (callback != null)\n          callback();\n      });\n    } finally {\n      delete root._bokeh_onload_callbacks\n    }\n    console.debug(\"Bokeh: all callbacks have finished\");\n  }\n\n  function load_libs(css_urls, js_urls, callback) {\n    if (css_urls == null) css_urls = [];\n    if (js_urls == null) js_urls = [];\n\n    root._bokeh_onload_callbacks.push(callback);\n    if (root._bokeh_is_loading > 0) {\n      console.debug(\"Bokeh: BokehJS is being loaded, scheduling callback at\", now());\n      return null;\n    }\n    if (js_urls == null || js_urls.length === 0) {\n      run_callbacks();\n      return null;\n    }\n    console.debug(\"Bokeh: BokehJS not loaded, scheduling load and callback at\", now());\n    root._bokeh_is_loading = css_urls.length + js_urls.length;\n\n    function on_load() {\n      root._bokeh_is_loading--;\n      if (root._bokeh_is_loading === 0) {\n        console.debug(\"Bokeh: all BokehJS libraries/stylesheets loaded\");\n        run_callbacks()\n      }\n    }\n\n    function on_error() {\n      console.error(\"failed to load \" + url);\n    }\n\n    for (var i = 0; i < css_urls.length; i++) {\n      var url = css_urls[i];\n      const element = document.createElement(\"link\");\n      element.onload = on_load;\n      element.onerror = on_error;\n      element.rel = \"stylesheet\";\n      element.type = \"text/css\";\n      element.href = url;\n      console.debug(\"Bokeh: injecting link tag for BokehJS stylesheet: \", url);\n      document.body.appendChild(element);\n    }\n\n    const hashes = {\"https://cdn.bokeh.org/bokeh/release/bokeh-2.2.3.min.js\": \"T2yuo9Oe71Cz/I4X9Ac5+gpEa5a8PpJCDlqKYO0CfAuEszu1JrXLl8YugMqYe3sM\", \"https://cdn.bokeh.org/bokeh/release/bokeh-widgets-2.2.3.min.js\": \"98GDGJ0kOMCUMUePhksaQ/GYgB3+NH9h996V88sh3aOiUNX3N+fLXAtry6xctSZ6\", \"https://cdn.bokeh.org/bokeh/release/bokeh-tables-2.2.3.min.js\": \"89bArO+nlbP3sgakeHjCo1JYxYR5wufVgA3IbUvDY+K7w4zyxJqssu7wVnfeKCq8\"};\n\n    for (var i = 0; i < js_urls.length; i++) {\n      var url = js_urls[i];\n      var element = document.createElement('script');\n      element.onload = on_load;\n      element.onerror = on_error;\n      element.async = false;\n      element.src = url;\n      if (url in hashes) {\n        element.crossOrigin = \"anonymous\";\n        element.integrity = \"sha384-\" + hashes[url];\n      }\n      console.debug(\"Bokeh: injecting script tag for BokehJS library: \", url);\n      document.head.appendChild(element);\n    }\n  };\n\n  function inject_raw_css(css) {\n    const element = document.createElement(\"style\");\n    element.appendChild(document.createTextNode(css));\n    document.body.appendChild(element);\n  }\n\n  \n  var js_urls = [\"https://cdn.bokeh.org/bokeh/release/bokeh-2.2.3.min.js\", \"https://cdn.bokeh.org/bokeh/release/bokeh-widgets-2.2.3.min.js\", \"https://cdn.bokeh.org/bokeh/release/bokeh-tables-2.2.3.min.js\"];\n  var css_urls = [];\n  \n\n  var inline_js = [\n    function(Bokeh) {\n      Bokeh.set_log_level(\"info\");\n    },\n    function(Bokeh) {\n    \n    \n    }\n  ];\n\n  function run_inline_js() {\n    \n    if (root.Bokeh !== undefined || force === true) {\n      \n    for (var i = 0; i < inline_js.length; i++) {\n      inline_js[i].call(root, root.Bokeh);\n    }\n    if (force === true) {\n        display_loaded();\n      }} else if (Date.now() < root._bokeh_timeout) {\n      setTimeout(run_inline_js, 100);\n    } else if (!root._bokeh_failed_load) {\n      console.log(\"Bokeh: BokehJS failed to load within specified timeout.\");\n      root._bokeh_failed_load = true;\n    } else if (force !== true) {\n      var cell = $(document.getElementById(\"1001\")).parents('.cell').data().cell;\n      cell.output_area.append_execute_result(NB_LOAD_WARNING)\n    }\n\n  }\n\n  if (root._bokeh_is_loading === 0) {\n    console.debug(\"Bokeh: BokehJS loaded, going straight to plotting\");\n    run_inline_js();\n  } else {\n    load_libs(css_urls, js_urls, function() {\n      console.debug(\"Bokeh: BokehJS plotting callback run at\", now());\n      run_inline_js();\n    });\n  }\n}(window));"
     },
     "metadata": {},
     "output_type": "display_data"
    }
   ],
   "source": [
    "# Statistics\n",
    "\n",
    "# Visualization\n",
    "from bokeh.io import output_notebook\n",
    "from bokeh.models import ColumnDataSource\n",
    "from bokeh.layouts import column\n",
    "from bokeh.colors import RGB\n",
    "from bokeh import palettes\n",
    "\n",
    "output_notebook()"
   ]
  },
  {
   "cell_type": "markdown",
   "id": "clean-sheep",
   "metadata": {},
   "source": [
    "# 可視化\n",
    "\n",
    "主成分分析 (PCA) の第一、第二主成分をそれぞれ X-, Y-軸として可視化する。"
   ]
  },
  {
   "cell_type": "code",
   "execution_count": 29,
   "id": "operational-hundred",
   "metadata": {},
   "outputs": [],
   "source": [
    "from sklearn.decomposition import PCA\n",
    "\n",
    "pca = PCA()\n",
    "XY = pca.fit_transform(data)[:, :2]\n",
    "SPI['x'], SPI['y'] = XY[:, 0], XY[:, 1]\n",
    "\n",
    "TOOLTIPS = [ ('Country:', '@Country'), ('Label:', '@labels') ]\n",
    "\n",
    "from bokeh.plotting import figure, show\n",
    "\n",
    "def scatter(source, **args):\n",
    "    p = figure(plot_width=400, plot_height=400, tooltips=TOOLTIPS)\n",
    "    p.circle(source=source, radius=1.5, line_color=None, **args)\n",
    "    return p"
   ]
  },
  {
   "cell_type": "code",
   "execution_count": 30,
   "id": "moral-arena",
   "metadata": {},
   "outputs": [
    {
     "data": {
      "text/html": [
       "\n",
       "\n",
       "\n",
       "\n",
       "\n",
       "\n",
       "  <div class=\"bk-root\" id=\"04783b60-45a5-49e1-8d88-d11ad2fd0be0\" data-root-id=\"25645\"></div>\n"
      ]
     },
     "metadata": {},
     "output_type": "display_data"
    },
    {
     "data": {
      "application/javascript": [
       "(function(root) {\n",
       "  function embed_document(root) {\n",
       "    \n",
       "  var docs_json = {\"899cd52b-0232-479f-adcd-50ed86a26d92\":{\"roots\":{\"references\":[{\"attributes\":{\"below\":[{\"id\":\"25654\"}],\"center\":[{\"id\":\"25657\"},{\"id\":\"25661\"}],\"left\":[{\"id\":\"25658\"}],\"plot_height\":400,\"plot_width\":400,\"renderers\":[{\"id\":\"25681\"}],\"title\":{\"id\":\"26407\"},\"toolbar\":{\"id\":\"25670\"},\"x_range\":{\"id\":\"25646\"},\"x_scale\":{\"id\":\"25650\"},\"y_range\":{\"id\":\"25648\"},\"y_scale\":{\"id\":\"25652\"}},\"id\":\"25645\",\"subtype\":\"Figure\",\"type\":\"Plot\"},{\"attributes\":{\"axis\":{\"id\":\"25654\"},\"ticker\":null},\"id\":\"25657\",\"type\":\"Grid\"},{\"attributes\":{\"text\":\"\"},\"id\":\"26407\",\"type\":\"Title\"},{\"attributes\":{\"fill_alpha\":{\"value\":0.1},\"fill_color\":{\"value\":\"#1f77b4\"},\"line_alpha\":{\"value\":0.1},\"line_color\":{\"value\":null},\"radius\":{\"units\":\"data\",\"value\":1.5}},\"id\":\"25680\",\"type\":\"Circle\"},{\"attributes\":{},\"id\":\"25665\",\"type\":\"SaveTool\"},{\"attributes\":{\"data_source\":{\"id\":\"25644\"},\"glyph\":{\"id\":\"25679\"},\"hover_glyph\":null,\"muted_glyph\":null,\"nonselection_glyph\":{\"id\":\"25680\"},\"selection_glyph\":null,\"view\":{\"id\":\"25682\"}},\"id\":\"25681\",\"type\":\"GlyphRenderer\"},{\"attributes\":{},\"id\":\"26409\",\"type\":\"BasicTickFormatter\"},{\"attributes\":{\"active_drag\":\"auto\",\"active_inspect\":\"auto\",\"active_multi\":null,\"active_scroll\":\"auto\",\"active_tap\":\"auto\",\"tools\":[{\"id\":\"25662\"},{\"id\":\"25663\"},{\"id\":\"25664\"},{\"id\":\"25665\"},{\"id\":\"25666\"},{\"id\":\"25667\"},{\"id\":\"25669\"}]},\"id\":\"25670\",\"type\":\"Toolbar\"},{\"attributes\":{\"bottom_units\":\"screen\",\"fill_alpha\":0.5,\"fill_color\":\"lightgrey\",\"left_units\":\"screen\",\"level\":\"overlay\",\"line_alpha\":1.0,\"line_color\":\"black\",\"line_dash\":[4,4],\"line_width\":2,\"right_units\":\"screen\",\"top_units\":\"screen\"},\"id\":\"25668\",\"type\":\"BoxAnnotation\"},{\"attributes\":{\"overlay\":{\"id\":\"25668\"}},\"id\":\"25664\",\"type\":\"BoxZoomTool\"},{\"attributes\":{},\"id\":\"25662\",\"type\":\"PanTool\"},{\"attributes\":{},\"id\":\"26411\",\"type\":\"BasicTickFormatter\"},{\"attributes\":{},\"id\":\"25659\",\"type\":\"BasicTicker\"},{\"attributes\":{\"formatter\":{\"id\":\"26411\"},\"ticker\":{\"id\":\"25659\"}},\"id\":\"25658\",\"type\":\"LinearAxis\"},{\"attributes\":{\"axis\":{\"id\":\"25658\"},\"dimension\":1,\"ticker\":null},\"id\":\"25661\",\"type\":\"Grid\"},{\"attributes\":{},\"id\":\"26414\",\"type\":\"Selection\"},{\"attributes\":{},\"id\":\"25663\",\"type\":\"WheelZoomTool\"},{\"attributes\":{},\"id\":\"25666\",\"type\":\"ResetTool\"},{\"attributes\":{\"source\":{\"id\":\"25644\"}},\"id\":\"25682\",\"type\":\"CDSView\"},{\"attributes\":{},\"id\":\"25655\",\"type\":\"BasicTicker\"},{\"attributes\":{},\"id\":\"25652\",\"type\":\"LinearScale\"},{\"attributes\":{},\"id\":\"25646\",\"type\":\"DataRange1d\"},{\"attributes\":{},\"id\":\"25648\",\"type\":\"DataRange1d\"},{\"attributes\":{\"data\":{\"Country\":[\"Afghanistan\",\"Albania\",\"Algeria\",\"Angola\",\"Argentina\",\"Armenia\",\"Australia\",\"Austria\",\"Azerbaijan\",\"Bahrain\",\"Bangladesh\",\"Barbados\",\"Belarus\",\"Belgium\",\"Benin\",\"Bhutan\",\"Bolivia\",\"Bosnia and Herzegovina\",\"Botswana\",\"Brazil\",\"Bulgaria\",\"Burkina Faso\",\"Burundi\",\"Cabo Verde\",\"Cambodia\",\"Cameroon\",\"Canada\",\"Central African Republic\",\"Colombia\",\"Congo, Democratic Republic of\",\"Congo, Republic of\",\"Costa Rica\",\"C\\u00f4te d'Ivoire\",\"Croatia\",\"Cuba\",\"Cyprus\",\"Czechia\",\"Denmark\",\"Djibouti\",\"Dominican Republic\",\"Ecuador\",\"Egypt\",\"El Salvador\",\"Equatorial Guinea\",\"Eritrea\",\"Estonia\",\"Eswatini\",\"Ethiopia\",\"Fiji\",\"Finland\",\"France\",\"Gabon\",\"Gambia, The\",\"Georgia\",\"Germany\",\"Ghana\",\"Greece\",\"Guatemala\",\"Guinea\",\"Guinea-Bissau\",\"Guyana\",\"Haiti\",\"Honduras\",\"Hungary\",\"Chad\",\"Chile\",\"China\",\"Iceland\",\"India\",\"Indonesia\",\"Iran\",\"Iraq\",\"Ireland\",\"Israel\",\"Italy\",\"Jamaica\",\"Japan\",\"Jordan\",\"Kazakhstan\",\"Kenya\",\"Korea, Democratic Republic of\",\"Korea, Republic of\",\"Kuwait\",\"Kyrgyzstan\",\"Laos\",\"Latvia\",\"Lebanon\",\"Lesotho\",\"Liberia\",\"Lithuania\",\"Luxembourg\",\"Madagascar\",\"Malawi\",\"Malaysia\",\"Maldives\",\"Mali\",\"Malta\",\"Mauritania\",\"Mauritius\",\"Mexico\",\"Moldova\",\"Mongolia\",\"Montenegro\",\"Morocco\",\"Mozambique\",\"Myanmar\",\"Namibia\",\"Nepal\",\"Netherlands\",\"New Zealand\",\"Nicaragua\",\"Niger\",\"Nigeria\",\"Norway\",\"Oman\",\"Pakistan\",\"Panama\",\"Papua New Guinea\",\"Paraguay\",\"Peru\",\"Philippines\",\"Poland\",\"Portugal\",\"Qatar\",\"Republic of North Macedonia\",\"Romania\",\"Russia\",\"Rwanda\",\"Saudi Arabia\",\"Senegal\",\"Serbia\",\"Sierra Leone\",\"Singapore\",\"Slovakia\",\"Slovenia\",\"Somalia\",\"South Africa\",\"South Sudan\",\"Spain\",\"Sri Lanka\",\"Sudan\",\"Suriname\",\"Sweden\",\"Switzerland\",\"Tajikistan\",\"Tanzania\",\"Thailand\",\"Timor-Leste\",\"Togo\",\"Trinidad and Tobago\",\"Tunisia\",\"Turkey\",\"Turkmenistan\",\"Uganda\",\"Ukraine\",\"United Arab Emirates\",\"United Kingdom\",\"United States\",\"Uruguay\",\"Uzbekistan\",\"Vietnam\",\"Zambia\",\"Zimbabwe\"],\"index\":[10,20,30,40,50,60,70,80,90,100,110,120,130,140,150,160,170,180,190,200,210,220,230,240,250,260,270,280,290,300,310,320,330,340,350,360,370,380,390,400,410,420,430,440,450,460,470,480,490,500,510,520,530,540,550,560,570,580,590,600,610,620,630,640,650,660,670,680,690,700,710,720,730,740,750,760,770,780,790,800,810,820,830,840,850,860,870,880,890,900,910,920,930,940,950,960,970,980,990,1000,1010,1020,1030,1040,1050,1060,1070,1080,1090,1100,1110,1120,1130,1140,1150,1160,1170,1180,1190,1200,1210,1220,1230,1240,1250,1260,1270,1280,1293,1303,1313,1323,1333,1343,1353,1363,1373,1383,1390,1400,1410,1420,1430,1440,1450,1460,1470,1480,1490,1500,1510,1520,1530,1540,1550,1560,1570,1580,1590,1600,1610,1620,1630],\"x\":{\"__ndarray__\":\"9381A0duWEAC368tE6s8wDIAU9VouCfAlqW6+nFOVEAjX0n8urFJwHwetArayUHAR+AexhsWVsAHVDca6m9UwIzzHrBh3yFARQHsco39GsA0GmcFa3pIQDl42o0GH0nAUt6nQmoFQ8BVl/2KgEBUwDqf7acTjE1ARfxh8cgavb/YjSJw8QQTwPaSd4Xa+zXAxYdg4TsO679/UUl31gA6wJ8NFiRIaEfAqIbCJcxEVED7opvtvvtbQFGnRBXl4SrAHWYaWcWYR0AcSkdwJ3ZQQP3LwU3+FFbAQO0D0kStYkAE3+T4Mhw6wFv0GxpzgVpArBaoJaViU0DBM7GLt0FMwK9ritA/+E5A3mPB01NtS8BWXgxId/EnwIc9I6Di+1HABUFdpLLpUcBCMADxrKtWwH1BsMkZQ1NAP7Px1+c9JcDxYl2wFfs9wKcpyivzCTJAsF5O9FWT3z8qneG2yTFRQK+k8+vEc2BAbpXW3vZWUsCh/XOQaN5NQMDUCE9F31RAdjfE2VER/r84ya67mFdWwFLWTHKJ0FPAbGL5Fg7zK0AOvTAtapJMQDQzZm0sdzzAOuWvYAthVcAtJgCLbsoyQDKVbQ9GAlHAacNEyP0LOEDJimxYgZhZQMypBthqtFdAdhA7JBmNE0AbpptV/hxUQCoqBKHHvTVAJBj8qX5uScBy29v8yKNiQP1B7xiZUU7AIU0a5+srCsCqrtjpfKVVwFzlagrszUFAB7RbG1U/F8CEvBCMDpoZwHn9vnI5rh9AFtpU8v/qVMCZfRoCg+BOwJPcs7enaFLAMpPg03FCN8CtECgi6BNVwNfGIlcfKTPAXSeC4UhtNsAXvUNFOulHQDXY2xEKIVFAe9nfxfyGVMC/HDYOheREwKgVBLJMpRDAg1mdubvdUEDMagiMTpdNwDloowzqkCbAioWICrNYTkC3n8CohwBTQD4wBVIms07A4cl6rRP7U8BpVDBsiQhWQGLm6SGikFBABfQf4N0FQ8BQb1K37mIjwDRk61r9Z1VAcK0JMuUFUMDSu58cjrNSQP+vbaLzzUXAeD9KsuNLOMCdYqMXsUI0wG1YbZFbLSXAVMm5pTX4O8Dt80o+L7rgv4G7JjPwQFVAIyPpw9znR0A9hLrycXMhQHEFXMd/DkRADyvI87nPVcA3I7MSAxFWwLm6WiU2hTFAS8WcaYYiW0BOM4mDux5QQAqvZL7zFlfAzzEECKouNMDhbLNL3U9RQIqh7w7nnz/AKWqdeKRVWEAr1YOQMisxwIm1XZ1ODzjAXjG4OgQ/EkBrmoj+hc5PwIbGzWI+cFLAg4wVz3HHM8Ai+BHayBE4wOwTDgSbOUTAInFyXZgiOcC6FdwVkYlNQPHGO4hZ5QrALYRXbp14Q0CNU98abB1AwPcAa3Ym2FJAqd639D0UUcC5m0kK55tNwG+WdiZPpVLA3vt1lX06YEBhScl76gMmwDTVYdA7A2NA4gAr30OUU8BwujiZlIowwKmYDBglLVJAjHdIS1iVJ8DMq5FxQBZWwKPITWukL1bAXmroQY9PQ0D78B30/LRLQKaHem0H3CjA4uxow2KKQEC01vo8FaRQQNZOeHrmukDASJmCCoAVP8C5QEtCOQ0lwGYTVI2G6z9Ap5NNavIlUECCoB2RHZE6wAZCkVz8jTLAe4zmE47IU8D3KbHrggdSwA4GzfYANE3AhQshkxpwGUARqQo9ydASwEg0gDIEEk1AztXaQyVlUEA=\",\"dtype\":\"float64\",\"order\":\"little\",\"shape\":[163]},\"y\":{\"__ndarray__\":\"e4Lu+j0NLEBIgEvt2AX7P3tG7kN3DEBAwPVMFCzZFcBevvOSsKIWwEvGrIsM6BhAerCQHoq6McCL0s6ZmUElwBquSQjgfUVA2o4WrIr/T0DtQJe+Ww0tQGnDIZDaqB3Aty4c08J+N0BDgyjAxLQzwPChDh1t0kbA7hFXIcOBHsDxMZJbH5TGv1/j3aiyJC5A3qzLMzQWMsAKjJGVdzkiQJcW9GM5dAnAChD7Rt3cQ8D8kk4ed0gJwGaXBxQ0QDLA8NL1zTxqL0DZwqNTDSD8PyzK9lWeaTTAOvhh4I3EPsAGf5Ai19QsQOqd93j49M2/nxFpA3LOMEDKKvh7JrgwwHXDArH/MTPA2jQ8ntlX5j/rCLIKkwU7QKtuyOak2STA15IFr3PhIcA9+H/FVjw5wA1AllYBUhJASFkJ8rDfFMD1OOK6yCfWv6O34UklKEtAzutAMerCFkD/TMEuj746QGK3NA2taTZADq5368jsKMB+RH2+8AY2QOGXNOPWrSTAX/zudjU2FkBuW0sMXKM4wMd0dIgKcSnA9FBr+JpcFUBjb6lcgBlAwNoRBDcnRgxABAfqWBJqM8D2M3Zrb4NAwMb7lEOICyfAInqDnTnnHUAhFhrCkxEuwLpRG7o+2EDArgbKjyAtHsDJ24HB0bkpwD/IVkPbhSVAjXujAvEl7z+uRAlLGjMgwPp7qXcamR/AyoLASW0eTUC2nh1HMiYxwJChx0ZPyyxAH5OkhKccwr/+hQnpY0BJQAigOh0agUJA8j46CaRtNcBG/DZQiN8BQI6L2oxMJjDA38WnXeQKNcCppVVAqbopwOu6vy6YW0BA7jvfruz0PED4JZtaEzoswPZ++wpH1klAig7/GS+gIcD3EZ7ESaY1QGRotSpKLDFA5+NECguxL0DQLHoGyCYcwL+6Wgk5lTxAWGPXOt5LQMCLIlGatJ1HwI0fgRZ7YyfAUioOXZSmNsAqWAuLupBEwGvK0anXUUDAW7sxgQPcLUANl3sybZEgQLGVAi0lPTzA9v/sn4yjJcD7IzidDz0VQNN1ZXU8NyHAHbsaJ8kQE0AiNLwSUNIYQFPeD72nHy3Ajmw7zpxxMkBxrCkgW1A5QPf67B0jhkHAlzWgo6vnGkDJINfsbVM6wHAlfg5akCTACukIzMvCM8CUEHR3g2k3wD7DOXqyDDNA2tg4BdwvQ8AD+r8tSOQhwAInLcZzPDjA+YaJsyLcQECcnwmR6HQ1QDfUtuGfVR3AU2hca5K+QMByscbrJ/vwvzNQCg9D1QfA/lrkD9/H/7/V3wPEdWwIwD1ixpJGsTPAgnjLmHrTSkAXBb7WxfYxQDknjrdfRArAtzqtk+rmQkBqzANXwjEgwCwOKvdgglNA/LHf/tqgQMAwU14kRJ4nQJXqg3XpCUjAVF/sD9XhIUB4WZh/C/cQwA9MObYy2yvAkFZ0rLEeI0Din7jSFO0awOHoNdHYQw1AA7awOUSnMMBZJAoq91y2v1kf9boF+jlAiiqu56O+EsBBgYPDZrI4wJc6Z7ZThzPAdV7zITegSEDmoQYtFto8wBXMxBuwUjVANJS4KV03OMA5ekzoyoE6wL48twiG1yDAZp+PHqsW3j+AU/AnFilKQGjEoP0KOE9AJIpptwdnKsDnWDAcl7swQNqNhG04WUZA1A8GgwAPKcCsjfV+k8MIwISNgrudbDHAyh1sSoYuQUAtSmKUn3k2QNT8akyDkDbAoosAcdJcBUA=\",\"dtype\":\"float64\",\"order\":\"little\",\"shape\":[163]}},\"selected\":{\"id\":\"26414\"},\"selection_policy\":{\"id\":\"26413\"}},\"id\":\"25644\",\"type\":\"ColumnDataSource\"},{\"attributes\":{},\"id\":\"25667\",\"type\":\"HelpTool\"},{\"attributes\":{\"fill_color\":{\"value\":\"#1f77b4\"},\"line_color\":{\"value\":null},\"radius\":{\"units\":\"data\",\"value\":1.5}},\"id\":\"25679\",\"type\":\"Circle\"},{\"attributes\":{\"callback\":null,\"tooltips\":[[\"Country:\",\"@Country\"],[\"Label:\",\"@labels\"]]},\"id\":\"25669\",\"type\":\"HoverTool\"},{\"attributes\":{\"formatter\":{\"id\":\"26409\"},\"ticker\":{\"id\":\"25655\"}},\"id\":\"25654\",\"type\":\"LinearAxis\"},{\"attributes\":{},\"id\":\"26413\",\"type\":\"UnionRenderers\"},{\"attributes\":{},\"id\":\"25650\",\"type\":\"LinearScale\"}],\"root_ids\":[\"25645\"]},\"title\":\"Bokeh Application\",\"version\":\"2.2.3\"}};\n",
       "  var render_items = [{\"docid\":\"899cd52b-0232-479f-adcd-50ed86a26d92\",\"root_ids\":[\"25645\"],\"roots\":{\"25645\":\"04783b60-45a5-49e1-8d88-d11ad2fd0be0\"}}];\n",
       "  root.Bokeh.embed.embed_items_notebook(docs_json, render_items);\n",
       "\n",
       "  }\n",
       "  if (root.Bokeh !== undefined) {\n",
       "    embed_document(root);\n",
       "  } else {\n",
       "    var attempts = 0;\n",
       "    var timer = setInterval(function(root) {\n",
       "      if (root.Bokeh !== undefined) {\n",
       "        clearInterval(timer);\n",
       "        embed_document(root);\n",
       "      } else {\n",
       "        attempts++;\n",
       "        if (attempts > 100) {\n",
       "          clearInterval(timer);\n",
       "          console.log(\"Bokeh: ERROR: Unable to run BokehJS code because BokehJS library is missing\");\n",
       "        }\n",
       "      }\n",
       "    }, 10, root)\n",
       "  }\n",
       "})(window);"
      ],
      "application/vnd.bokehjs_exec.v0+json": ""
     },
     "metadata": {
      "application/vnd.bokehjs_exec.v0+json": {
       "id": "25645"
      }
     },
     "output_type": "display_data"
    }
   ],
   "source": [
    "show(scatter(ColumnDataSource(pd.DataFrame(SPI, columns=['x', 'y', 'Country']))))"
   ]
  },
  {
   "cell_type": "markdown",
   "id": "diagnostic-cosmetic",
   "metadata": {},
   "source": [
    "# Clustering ($k$-Means)\n",
    "\n",
    "- データを PCA で次元削減して可視化してみる。\n",
    "\n",
    "- $k$-Means クラスタリングを施し、各クラスタを着色した。クラスタの色はクラスタの centroid の座標に該当する座標と LCH 色空間を対応づけて決定した。"
   ]
  },
  {
   "cell_type": "code",
   "execution_count": 31,
   "id": "insured-advance",
   "metadata": {},
   "outputs": [],
   "source": [
    "def kmeans(k):\n",
    "    from sklearn.cluster import KMeans\n",
    "\n",
    "    model = KMeans(n_clusters=k, random_state=10).fit(data)\n",
    "    labels = model.labels_\n",
    "    \n",
    "    from sklearn.metrics import silhouette_score\n",
    "    return { 'k': k, 'labels': labels, 'silhouette': silhouette_score(data, labels)}"
   ]
  },
  {
   "cell_type": "markdown",
   "id": "weighted-hollywood",
   "metadata": {},
   "source": [
    "## 平均シルエット係数を用いた評価\n",
    "\n",
    "[Silhouette Coefficient](https://towardsdatascience.com/silhouette-coefficient-validating-clustering-techniques-e976bb81d10c)\n",
    "\n",
    "平均クラスタ内距離と平均クラスタ間距離に関する評価値。評価値の範囲は [-1, 1]\n",
    "\n",
    "- 1: クラスタがきれいに分離されている\n",
    "\n",
    "- 0: かなり疑わしいクラスタリング\n",
    "\n",
    "- -1: 完全におかしなクラスタリング"
   ]
  },
  {
   "cell_type": "code",
   "execution_count": 32,
   "id": "blank-captain",
   "metadata": {},
   "outputs": [
    {
     "data": {
      "text/html": [
       "\n",
       "\n",
       "\n",
       "\n",
       "\n",
       "\n",
       "  <div class=\"bk-root\" id=\"aa68a90f-ec6d-44c8-a8ac-43389d6ba3af\" data-root-id=\"26460\"></div>\n"
      ]
     },
     "metadata": {},
     "output_type": "display_data"
    },
    {
     "data": {
      "application/javascript": [
       "(function(root) {\n",
       "  function embed_document(root) {\n",
       "    \n",
       "  var docs_json = {\"1f180333-6e57-4aef-9731-d487ee10571a\":{\"roots\":{\"references\":[{\"attributes\":{\"below\":[{\"id\":\"26469\"}],\"center\":[{\"id\":\"26472\"},{\"id\":\"26476\"}],\"left\":[{\"id\":\"26473\"}],\"plot_height\":100,\"renderers\":[{\"id\":\"26497\"}],\"title\":{\"id\":\"27232\"},\"toolbar\":{\"id\":\"26485\"},\"x_range\":{\"id\":\"26461\"},\"x_scale\":{\"id\":\"26465\"},\"y_range\":{\"id\":\"26463\"},\"y_scale\":{\"id\":\"26467\"}},\"id\":\"26460\",\"subtype\":\"Figure\",\"type\":\"Plot\"},{\"attributes\":{},\"id\":\"26480\",\"type\":\"SaveTool\"},{\"attributes\":{},\"id\":\"27236\",\"type\":\"BasicTickFormatter\"},{\"attributes\":{},\"id\":\"26463\",\"type\":\"DataRange1d\"},{\"attributes\":{\"formatter\":{\"id\":\"27234\"},\"ticker\":{\"id\":\"26470\"}},\"id\":\"26469\",\"type\":\"LinearAxis\"},{\"attributes\":{\"bottom_units\":\"screen\",\"fill_alpha\":0.5,\"fill_color\":\"lightgrey\",\"left_units\":\"screen\",\"level\":\"overlay\",\"line_alpha\":1.0,\"line_color\":\"black\",\"line_dash\":[4,4],\"line_width\":2,\"right_units\":\"screen\",\"top_units\":\"screen\"},\"id\":\"26483\",\"type\":\"BoxAnnotation\"},{\"attributes\":{},\"id\":\"26477\",\"type\":\"PanTool\"},{\"attributes\":{\"fill_color\":{\"value\":\"#1f77b4\"},\"line_color\":{\"value\":\"#1f77b4\"},\"top\":{\"field\":\"silhouette\"},\"width\":{\"value\":0.5},\"x\":{\"field\":\"k\"}},\"id\":\"26495\",\"type\":\"VBar\"},{\"attributes\":{},\"id\":\"26461\",\"type\":\"DataRange1d\"},{\"attributes\":{\"axis\":{\"id\":\"26469\"},\"ticker\":null},\"id\":\"26472\",\"type\":\"Grid\"},{\"attributes\":{},\"id\":\"26467\",\"type\":\"LinearScale\"},{\"attributes\":{},\"id\":\"27234\",\"type\":\"BasicTickFormatter\"},{\"attributes\":{},\"id\":\"26470\",\"type\":\"BasicTicker\"},{\"attributes\":{},\"id\":\"27238\",\"type\":\"UnionRenderers\"},{\"attributes\":{},\"id\":\"27239\",\"type\":\"Selection\"},{\"attributes\":{\"source\":{\"id\":\"26493\"}},\"id\":\"26498\",\"type\":\"CDSView\"},{\"attributes\":{\"active_drag\":\"auto\",\"active_inspect\":\"auto\",\"active_multi\":null,\"active_scroll\":\"auto\",\"active_tap\":\"auto\",\"tools\":[{\"id\":\"26477\"},{\"id\":\"26478\"},{\"id\":\"26479\"},{\"id\":\"26480\"},{\"id\":\"26481\"},{\"id\":\"26482\"},{\"id\":\"26484\"}]},\"id\":\"26485\",\"type\":\"Toolbar\"},{\"attributes\":{\"callback\":null,\"tooltips\":[[\"Silhouette:\",\"@silhouette\"]]},\"id\":\"26484\",\"type\":\"HoverTool\"},{\"attributes\":{\"data_source\":{\"id\":\"26493\"},\"glyph\":{\"id\":\"26495\"},\"hover_glyph\":null,\"muted_glyph\":null,\"nonselection_glyph\":{\"id\":\"26496\"},\"selection_glyph\":null,\"view\":{\"id\":\"26498\"}},\"id\":\"26497\",\"type\":\"GlyphRenderer\"},{\"attributes\":{},\"id\":\"26481\",\"type\":\"ResetTool\"},{\"attributes\":{},\"id\":\"26474\",\"type\":\"BasicTicker\"},{\"attributes\":{\"fill_alpha\":{\"value\":0.1},\"fill_color\":{\"value\":\"#1f77b4\"},\"line_alpha\":{\"value\":0.1},\"line_color\":{\"value\":\"#1f77b4\"},\"top\":{\"field\":\"silhouette\"},\"width\":{\"value\":0.5},\"x\":{\"field\":\"k\"}},\"id\":\"26496\",\"type\":\"VBar\"},{\"attributes\":{\"axis\":{\"id\":\"26473\"},\"dimension\":1,\"ticker\":null},\"id\":\"26476\",\"type\":\"Grid\"},{\"attributes\":{},\"id\":\"26465\",\"type\":\"LinearScale\"},{\"attributes\":{},\"id\":\"26482\",\"type\":\"HelpTool\"},{\"attributes\":{\"data\":{\"index\":[0,1,2,3,4,5,6,7,8,9,10,11],\"k\":[3,4,5,6,7,8,9,10,11,12,13,14],\"labels\":[[1,0,0,1,2,0,2,2,0,0,1,2,0,2,1,0,0,0,0,0,2,1,1,0,1,1,2,1,0,1,1,2,1,2,0,2,2,2,1,0,0,0,0,1,1,2,1,1,0,2,2,0,1,0,2,0,2,0,1,1,0,1,0,2,1,2,0,2,0,0,0,0,2,2,2,0,2,0,0,1,1,2,0,0,1,2,0,1,1,2,2,1,1,0,0,1,2,1,2,0,0,0,0,0,1,1,0,1,2,2,0,1,1,2,0,1,0,1,0,0,0,2,2,0,0,2,0,1,0,1,0,1,2,2,2,1,0,1,2,0,1,0,2,2,0,1,0,1,1,0,0,0,0,1,0,0,2,2,2,0,0,1,1],[1,0,3,1,2,0,2,2,3,3,1,2,0,2,1,0,0,0,0,0,2,1,1,0,1,1,2,1,0,1,1,2,1,2,3,2,2,2,1,0,0,3,0,1,1,2,1,1,0,2,2,0,1,0,2,0,2,0,1,1,0,1,0,2,1,2,3,2,3,0,3,3,2,2,2,0,2,3,3,1,1,2,0,0,1,2,3,1,1,2,2,1,1,0,0,1,2,1,0,0,0,0,0,3,1,1,0,1,2,2,3,1,1,2,3,1,0,1,0,0,0,2,2,3,0,0,3,1,3,1,0,1,2,2,2,1,0,1,2,0,1,0,2,2,3,1,3,1,1,0,0,3,3,1,0,3,2,2,2,3,3,1,1],[3,4,0,2,1,4,1,1,0,0,2,1,0,1,2,4,4,4,4,4,1,2,3,4,2,2,1,3,4,3,2,1,2,1,0,1,1,1,2,4,4,0,4,2,3,1,2,2,4,1,1,4,2,4,1,4,1,4,3,2,4,2,4,1,3,1,0,1,2,4,0,0,1,1,1,4,1,0,0,2,2,1,4,4,2,1,0,2,2,1,1,2,2,4,4,2,1,2,4,4,4,4,4,0,2,2,4,2,1,1,0,3,2,1,0,2,4,2,4,4,4,1,1,0,4,4,0,2,0,2,4,2,1,1,1,3,4,3,1,4,2,4,1,1,0,2,0,2,2,4,4,0,0,2,4,0,1,1,1,0,0,2,2],[4,3,0,2,1,3,1,1,0,0,4,1,3,1,2,3,3,3,3,3,1,2,5,3,4,4,1,5,3,5,4,1,2,1,0,1,1,1,4,3,3,0,3,4,5,1,4,2,3,1,1,3,2,3,1,2,1,3,5,2,3,2,3,1,5,1,0,1,4,3,0,0,1,1,1,3,1,0,0,2,4,1,3,3,4,1,0,2,2,1,1,2,2,3,3,2,1,4,3,3,3,3,3,0,2,4,3,2,1,1,3,2,2,1,0,4,3,2,3,3,3,1,1,0,3,3,0,2,0,2,3,2,1,1,1,5,3,5,1,3,4,3,1,1,4,2,3,2,2,3,3,0,0,2,3,0,1,1,1,0,0,2,4],[6,3,2,1,3,3,0,0,2,2,1,3,3,0,4,5,5,3,5,3,3,4,6,5,1,1,0,6,3,6,1,0,4,3,2,0,0,0,1,5,3,2,5,1,6,0,1,4,5,0,0,5,4,3,0,5,0,5,4,4,5,4,5,3,6,0,2,0,1,5,2,2,0,0,0,3,0,2,2,1,1,0,3,2,1,0,2,4,4,0,0,4,4,3,5,4,0,1,3,3,3,5,3,2,4,1,5,1,0,0,5,4,1,0,2,1,3,4,3,3,5,0,0,2,3,3,2,1,2,4,3,4,0,0,0,6,5,6,0,3,1,5,0,0,2,4,2,5,4,3,3,2,2,4,3,2,0,0,0,2,2,4,1],[6,0,3,7,0,0,2,2,3,3,7,0,0,2,1,5,5,0,5,0,0,1,6,5,4,7,2,6,0,6,4,2,1,0,3,2,2,2,7,5,0,3,5,4,6,2,4,1,5,2,2,5,1,0,2,5,2,5,6,1,5,1,5,0,6,2,3,2,7,5,3,3,2,2,2,0,2,3,3,7,4,2,0,5,4,2,3,7,1,2,2,1,1,0,5,1,2,7,0,0,0,5,0,3,1,7,5,7,2,2,5,1,7,2,3,7,0,1,0,0,5,2,2,3,0,0,3,7,3,1,0,1,2,2,2,6,5,6,2,0,4,5,2,2,4,1,3,7,1,0,0,3,3,7,0,3,2,2,2,3,3,1,4],[8,2,0,1,2,2,3,3,0,0,8,2,2,3,1,4,4,2,4,2,2,6,7,4,8,8,3,7,2,7,8,3,1,2,0,3,3,3,8,4,2,0,4,8,7,3,8,1,4,3,3,4,1,2,3,4,3,4,6,6,4,1,4,2,7,3,0,3,8,4,0,0,3,3,3,2,3,0,0,1,5,3,2,4,8,3,0,1,6,3,3,6,1,2,4,6,3,8,2,2,2,4,2,0,6,8,4,8,3,3,4,6,1,3,0,8,2,6,2,2,4,3,3,0,2,2,0,1,0,1,2,6,3,3,3,7,4,7,3,2,8,4,3,3,5,1,0,1,1,2,2,0,5,1,2,0,3,3,3,0,0,1,1],[0,1,4,0,2,1,7,7,4,4,0,2,1,7,8,5,5,1,5,1,2,3,9,5,6,0,7,9,1,9,6,2,8,2,1,7,7,7,0,5,1,4,5,6,9,7,6,3,5,7,7,5,8,1,7,8,7,5,3,3,5,3,5,2,9,2,4,7,0,5,4,4,7,2,7,5,7,1,1,8,6,7,1,1,6,2,1,8,3,2,7,3,8,1,5,3,2,0,2,1,1,5,1,5,3,0,5,0,7,7,5,3,0,7,4,0,1,3,5,1,5,2,7,4,1,2,4,8,4,8,1,3,7,2,7,9,5,9,7,1,0,5,7,7,6,8,1,8,8,2,2,4,6,8,1,4,7,7,2,4,1,8,6],[1,6,8,1,6,2,0,0,8,7,1,6,2,0,9,4,4,2,4,6,6,3,5,4,1,1,0,5,6,5,1,0,9,6,8,0,0,0,1,4,6,7,4,1,5,0,1,3,4,0,0,4,9,2,0,9,0,4,3,3,4,3,4,6,5,0,7,0,1,4,8,8,0,0,0,6,0,8,8,9,10,0,2,8,1,0,8,9,3,0,0,3,9,2,4,3,0,1,6,6,2,4,2,8,3,1,4,9,0,0,4,3,1,0,8,1,6,3,6,6,4,0,0,7,2,6,8,9,7,9,2,3,0,0,0,5,4,5,0,2,1,4,0,0,10,9,8,9,9,6,6,7,10,9,2,7,0,0,0,8,8,9,1],[4,6,3,4,0,6,7,7,3,5,1,0,6,7,2,9,9,6,9,6,0,2,8,9,1,4,7,8,6,8,1,0,4,0,3,0,0,7,4,9,6,5,9,1,8,0,1,4,9,7,7,9,2,6,7,10,0,10,4,2,9,4,9,0,8,0,5,7,10,9,5,5,7,0,7,9,7,3,3,10,11,7,6,3,1,0,3,2,2,0,7,2,2,6,3,2,0,4,0,6,6,9,6,3,2,1,9,10,7,7,3,2,4,7,3,1,6,2,6,6,9,0,7,5,6,6,5,4,5,10,6,2,0,0,7,8,9,8,7,6,1,9,7,7,11,2,3,10,2,6,6,5,11,4,6,5,7,0,0,3,3,2,1],[5,8,6,5,1,4,7,7,12,11,5,1,4,7,0,8,8,4,2,8,1,10,3,8,9,5,7,3,8,3,9,1,0,1,6,1,1,7,5,8,8,11,8,9,3,1,9,10,2,7,7,2,0,4,7,2,1,12,10,10,2,10,12,1,3,1,11,7,5,2,6,6,7,1,7,8,7,6,6,0,9,7,4,6,9,1,6,0,10,1,7,10,0,4,8,10,1,5,1,8,8,2,4,6,10,0,2,0,7,7,12,10,5,7,6,5,8,10,8,8,2,1,7,11,4,4,6,0,11,0,4,10,1,1,7,3,2,3,7,8,5,8,7,7,12,0,6,0,0,8,8,11,12,0,4,11,7,1,1,6,6,0,9],[0,13,7,5,1,2,3,3,8,8,6,1,7,3,4,10,10,2,9,13,1,4,5,9,0,6,3,11,13,5,0,1,6,1,7,3,3,3,0,13,13,8,10,0,11,3,0,5,9,3,3,10,6,2,3,9,3,10,5,4,9,5,10,1,11,1,8,3,6,9,8,8,3,1,3,13,3,7,2,6,12,3,2,2,0,1,7,6,4,1,3,4,4,2,10,4,1,0,1,13,2,9,2,10,4,6,9,6,3,3,10,4,6,3,7,0,13,4,13,13,9,1,3,8,2,1,7,6,8,6,2,4,3,1,3,11,9,11,3,13,0,9,3,3,12,6,7,6,6,13,13,8,12,6,2,8,3,3,1,7,7,6,5]],\"silhouette\":{\"__ndarray__\":\"3exSU8bU2T9uGXdQ+CvXP8X+0thV3tQ/POn9jDZe1D+EIFwcbdbRP4zkfERVv9A/suDMYTYh0T+7Sj9MmRjMP4e2+qBY8cw/ey+4qaeSyj+5sM6+jGzJPy/FYFXC4Mk/\",\"dtype\":\"float64\",\"order\":\"little\",\"shape\":[12]}},\"selected\":{\"id\":\"27239\"},\"selection_policy\":{\"id\":\"27238\"}},\"id\":\"26493\",\"type\":\"ColumnDataSource\"},{\"attributes\":{\"formatter\":{\"id\":\"27236\"},\"ticker\":{\"id\":\"26474\"}},\"id\":\"26473\",\"type\":\"LinearAxis\"},{\"attributes\":{\"text\":\"\"},\"id\":\"27232\",\"type\":\"Title\"},{\"attributes\":{\"overlay\":{\"id\":\"26483\"}},\"id\":\"26479\",\"type\":\"BoxZoomTool\"},{\"attributes\":{},\"id\":\"26478\",\"type\":\"WheelZoomTool\"}],\"root_ids\":[\"26460\"]},\"title\":\"Bokeh Application\",\"version\":\"2.2.3\"}};\n",
       "  var render_items = [{\"docid\":\"1f180333-6e57-4aef-9731-d487ee10571a\",\"root_ids\":[\"26460\"],\"roots\":{\"26460\":\"aa68a90f-ec6d-44c8-a8ac-43389d6ba3af\"}}];\n",
       "  root.Bokeh.embed.embed_items_notebook(docs_json, render_items);\n",
       "\n",
       "  }\n",
       "  if (root.Bokeh !== undefined) {\n",
       "    embed_document(root);\n",
       "  } else {\n",
       "    var attempts = 0;\n",
       "    var timer = setInterval(function(root) {\n",
       "      if (root.Bokeh !== undefined) {\n",
       "        clearInterval(timer);\n",
       "        embed_document(root);\n",
       "      } else {\n",
       "        attempts++;\n",
       "        if (attempts > 100) {\n",
       "          clearInterval(timer);\n",
       "          console.log(\"Bokeh: ERROR: Unable to run BokehJS code because BokehJS library is missing\");\n",
       "        }\n",
       "      }\n",
       "    }, 10, root)\n",
       "  }\n",
       "})(window);"
      ],
      "application/vnd.bokehjs_exec.v0+json": ""
     },
     "metadata": {
      "application/vnd.bokehjs_exec.v0+json": {
       "id": "26460"
      }
     },
     "output_type": "display_data"
    }
   ],
   "source": [
    "clusterings = [kmeans(k) for k in range(3, 15)]\n",
    "\n",
    "p = figure(plot_height=100, tooltips=[('Silhouette:', '@silhouette')])\n",
    "p.vbar(source=ColumnDataSource(pd.DataFrame(clusterings)), x='k', top='silhouette', width=0.5)\n",
    "show(p)"
   ]
  },
  {
   "cell_type": "markdown",
   "id": "partial-scholarship",
   "metadata": {},
   "source": []
  },
  {
   "cell_type": "code",
   "execution_count": 33,
   "id": "boolean-monthly",
   "metadata": {},
   "outputs": [],
   "source": [
    "# Colors\n",
    "from colormath.color_objects import ColorBase, LCHabColor as LCH, sRGBColor as sRGB, LabColor as Lab\n",
    "from colormath.color_conversions import convert_color\n",
    "\n",
    "ColorBase.values = ColorBase.get_value_tuple\n",
    "ColorBase.sRGB = lambda c: convert_color(c, sRGB)\n",
    "ColorBase.LCH = lambda c: convert_color(c, LCH)\n",
    "ColorBase.Lab = lambda c: convert_color(c, Lab)\n",
    "\n",
    "def _color2RGB(c):\n",
    "    r, g, b = c.sRGB().values()\n",
    "    return RGB(r * 255, g * 255, b * 255)\n",
    "\n",
    "ColorBase.RGB = lambda c: _color2RGB(c)"
   ]
  },
  {
   "cell_type": "markdown",
   "id": "still-modem",
   "metadata": {},
   "source": [
    "# クラスタ群の色分け\n",
    "\n",
    "配色にあたって、以下を目標とした\n",
    "\n",
    "- クラスタの内容の類似性を色に反映させること\n",
    "- 異なる $k$ に対する配色の対応がとりやすいこと\n",
    "\n",
    "このために、以下を実施している。\n",
    "\n",
    "- クラスタの centroid を配色空間 ($\\text {CIEL}^*\\text {C}^*\\text {H}^*$) に次元削減する\n",
    "- 異なる $k$ ごとの centroid を集めた全 centroid についてまとめて次元削減する"
   ]
  },
  {
   "cell_type": "code",
   "execution_count": 14,
   "id": "photographic-artist",
   "metadata": {},
   "outputs": [],
   "source": [
    "from bokeh.transform import factor_cmap\n",
    "\n",
    "all_centroids = []\n",
    "\n",
    "for clustering in clusterings:\n",
    "    clustering['centroids'] = [data[clustering['labels'] == k].mean() for k in range(clustering['k'])]\n",
    "    all_centroids = all_centroids + clustering['centroids']\n",
    "pca_c = PCA()\n",
    "pca_c.fit(all_centroids)\n",
    "\n",
    "def pca_cmap(k):\n",
    "    clustering = None\n",
    "    for c in clusterings:\n",
    "        if c['k'] == k:\n",
    "            clustering = c\n",
    "            break\n",
    "    if clustering == None: return\n",
    "    \n",
    "    df = pd.DataFrame(SPI, columns=['x', 'y', 'Country'])\n",
    "    df['labels'] = list(map(lambda x: f'{x:02d}', clustering['labels']))\n",
    "    \n",
    "    p = pca_c.transform(clustering['centroids'])[:, :2]\n",
    "    p /= np.linalg.norm(p, axis=1).max()\n",
    "    x, y = p[:, 0], p[:, 1]\n",
    "    c = np.linalg.norm(p, axis=1) * 100\n",
    "    h = (np.arctan2(y, x) / np.pi + 1) * 180\n",
    "    palette = [LCH(60, c, h).RGB() for c, h in zip(c, h)]\n",
    "    clustering['palette'] = palette\n",
    "    clustering['cmap'] = factor_cmap('labels', palette=palette, factors=list(map(lambda x: f'{x:02d}', range(clustering['k']))))\n",
    "    \n",
    "    print(f'silhouette: {clustering[\"silhouette\"]:.3f}')\n",
    "    plot(ColumnDataSource(df), fill_color=clustering['cmap'], legend_group='labels')"
   ]
  },
  {
   "cell_type": "markdown",
   "id": "median-middle",
   "metadata": {},
   "source": [
    "# クラスタ内の特徴の分析\n"
   ]
  },
  {
   "cell_type": "code",
   "execution_count": 25,
   "id": "proprietary-metadata",
   "metadata": {},
   "outputs": [],
   "source": [
    "def cluster_attributes(clustering, df):\n",
    "    keys = df.keys()\n",
    "    labels = clustering['labels']\n",
    "    mean = data.mean(axis=0)\n",
    "    std = data.std(axis=0)\n",
    "\n",
    "    p = figure(plot_width=clustering['k'] * 100, plot_height=400)\n",
    "\n",
    "    z_scores = np.ndarray((clustering['k'] + 1, len(keys)))\n",
    "    for k in range(clustering['k']):\n",
    "        z_scores[k,:] = (data[labels==k].mean(axis=0) - mean) / std\n",
    "        p.hbar(y=np.arange(len(keys)), height=0.3, left=k * 3, right=k * 3 + z_scores[k, :],\n",
    "               color=clustering['palette'][k])\n",
    "\n",
    "    return p\n",
    "\n",
    "def show_clusters(k):\n",
    "    print(f'k = {k}')\n",
    "    pca_cmap(k)\n",
    "    cluster_attributes(clusterings[k-3], data)"
   ]
  },
  {
   "cell_type": "code",
   "execution_count": 26,
   "id": "buried-wright",
   "metadata": {},
   "outputs": [
    {
     "name": "stdout",
     "output_type": "stream",
     "text": [
      "k = 3\n",
      "silhouette: 0.404\n"
     ]
    },
    {
     "data": {
      "text/html": [
       "\n",
       "\n",
       "\n",
       "\n",
       "\n",
       "\n",
       "  <div class=\"bk-root\" id=\"8f333cad-6040-43b5-bd39-a5aa25438499\" data-root-id=\"13247\"></div>\n"
      ]
     },
     "metadata": {},
     "output_type": "display_data"
    },
    {
     "data": {
      "application/javascript": [
       "(function(root) {\n",
       "  function embed_document(root) {\n",
       "    \n",
       "  var docs_json = {\"8257d6bd-de3b-404d-b07e-1b50e4d168da\":{\"roots\":{\"references\":[{\"attributes\":{\"below\":[{\"id\":\"13256\"}],\"center\":[{\"id\":\"13259\"},{\"id\":\"13263\"},{\"id\":\"13294\"}],\"left\":[{\"id\":\"13260\"}],\"plot_height\":400,\"plot_width\":400,\"renderers\":[{\"id\":\"13283\"}],\"title\":{\"id\":\"13286\"},\"toolbar\":{\"id\":\"13272\"},\"x_range\":{\"id\":\"13248\"},\"x_scale\":{\"id\":\"13252\"},\"y_range\":{\"id\":\"13250\"},\"y_scale\":{\"id\":\"13254\"}},\"id\":\"13247\",\"subtype\":\"Figure\",\"type\":\"Plot\"},{\"attributes\":{\"axis\":{\"id\":\"13256\"},\"ticker\":null},\"id\":\"13259\",\"type\":\"Grid\"},{\"attributes\":{},\"id\":\"13264\",\"type\":\"PanTool\"},{\"attributes\":{},\"id\":\"13265\",\"type\":\"WheelZoomTool\"},{\"attributes\":{},\"id\":\"13252\",\"type\":\"LinearScale\"},{\"attributes\":{\"overlay\":{\"id\":\"13270\"}},\"id\":\"13266\",\"type\":\"BoxZoomTool\"},{\"attributes\":{\"formatter\":{\"id\":\"13288\"},\"ticker\":{\"id\":\"13257\"}},\"id\":\"13256\",\"type\":\"LinearAxis\"},{\"attributes\":{},\"id\":\"13248\",\"type\":\"DataRange1d\"},{\"attributes\":{},\"id\":\"13288\",\"type\":\"BasicTickFormatter\"},{\"attributes\":{},\"id\":\"13268\",\"type\":\"ResetTool\"},{\"attributes\":{\"axis\":{\"id\":\"13260\"},\"dimension\":1,\"ticker\":null},\"id\":\"13263\",\"type\":\"Grid\"},{\"attributes\":{\"source\":{\"id\":\"13246\"}},\"id\":\"13284\",\"type\":\"CDSView\"},{\"attributes\":{\"data\":{\"Country\":[\"Afghanistan\",\"Albania\",\"Algeria\",\"Angola\",\"Argentina\",\"Armenia\",\"Australia\",\"Austria\",\"Azerbaijan\",\"Bahrain\",\"Bangladesh\",\"Barbados\",\"Belarus\",\"Belgium\",\"Benin\",\"Bhutan\",\"Bolivia\",\"Bosnia and Herzegovina\",\"Botswana\",\"Brazil\",\"Bulgaria\",\"Burkina Faso\",\"Burundi\",\"Cabo Verde\",\"Cambodia\",\"Cameroon\",\"Canada\",\"Central African Republic\",\"Colombia\",\"Congo, Democratic Republic of\",\"Congo, Republic of\",\"Costa Rica\",\"C\\u00f4te d'Ivoire\",\"Croatia\",\"Cuba\",\"Cyprus\",\"Czechia\",\"Denmark\",\"Djibouti\",\"Dominican Republic\",\"Ecuador\",\"Egypt\",\"El Salvador\",\"Equatorial Guinea\",\"Eritrea\",\"Estonia\",\"Eswatini\",\"Ethiopia\",\"Fiji\",\"Finland\",\"France\",\"Gabon\",\"Gambia, The\",\"Georgia\",\"Germany\",\"Ghana\",\"Greece\",\"Guatemala\",\"Guinea\",\"Guinea-Bissau\",\"Guyana\",\"Haiti\",\"Honduras\",\"Hungary\",\"Chad\",\"Chile\",\"China\",\"Iceland\",\"India\",\"Indonesia\",\"Iran\",\"Iraq\",\"Ireland\",\"Israel\",\"Italy\",\"Jamaica\",\"Japan\",\"Jordan\",\"Kazakhstan\",\"Kenya\",\"Korea, Democratic Republic of\",\"Korea, Republic of\",\"Kuwait\",\"Kyrgyzstan\",\"Laos\",\"Latvia\",\"Lebanon\",\"Lesotho\",\"Liberia\",\"Lithuania\",\"Luxembourg\",\"Madagascar\",\"Malawi\",\"Malaysia\",\"Maldives\",\"Mali\",\"Malta\",\"Mauritania\",\"Mauritius\",\"Mexico\",\"Moldova\",\"Mongolia\",\"Montenegro\",\"Morocco\",\"Mozambique\",\"Myanmar\",\"Namibia\",\"Nepal\",\"Netherlands\",\"New Zealand\",\"Nicaragua\",\"Niger\",\"Nigeria\",\"Norway\",\"Oman\",\"Pakistan\",\"Panama\",\"Papua New Guinea\",\"Paraguay\",\"Peru\",\"Philippines\",\"Poland\",\"Portugal\",\"Qatar\",\"Republic of North Macedonia\",\"Romania\",\"Russia\",\"Rwanda\",\"Saudi Arabia\",\"Senegal\",\"Serbia\",\"Sierra Leone\",\"Singapore\",\"Slovakia\",\"Slovenia\",\"Somalia\",\"South Africa\",\"South Sudan\",\"Spain\",\"Sri Lanka\",\"Sudan\",\"Suriname\",\"Sweden\",\"Switzerland\",\"Tajikistan\",\"Tanzania\",\"Thailand\",\"Timor-Leste\",\"Togo\",\"Trinidad and Tobago\",\"Tunisia\",\"Turkey\",\"Turkmenistan\",\"Uganda\",\"Ukraine\",\"United Arab Emirates\",\"United Kingdom\",\"United States\",\"Uruguay\",\"Uzbekistan\",\"Vietnam\",\"Zambia\",\"Zimbabwe\"],\"index\":[10,20,30,40,50,60,70,80,90,100,110,120,130,140,150,160,170,180,190,200,210,220,230,240,250,260,270,280,290,300,310,320,330,340,350,360,370,380,390,400,410,420,430,440,450,460,470,480,490,500,510,520,530,540,550,560,570,580,590,600,610,620,630,640,650,660,670,680,690,700,710,720,730,740,750,760,770,780,790,800,810,820,830,840,850,860,870,880,890,900,910,920,930,940,950,960,970,980,990,1000,1010,1020,1030,1040,1050,1060,1070,1080,1090,1100,1110,1120,1130,1140,1150,1160,1170,1180,1190,1200,1210,1220,1230,1240,1250,1260,1270,1280,1293,1303,1313,1323,1333,1343,1353,1363,1373,1383,1390,1400,1410,1420,1430,1440,1450,1460,1470,1480,1490,1500,1510,1520,1530,1540,1550,1560,1570,1580,1590,1600,1610,1620,1630],\"labels\":[\"01\",\"00\",\"00\",\"01\",\"02\",\"00\",\"02\",\"02\",\"00\",\"00\",\"01\",\"02\",\"00\",\"02\",\"01\",\"00\",\"00\",\"00\",\"00\",\"00\",\"02\",\"01\",\"01\",\"00\",\"01\",\"01\",\"02\",\"01\",\"00\",\"01\",\"01\",\"02\",\"01\",\"02\",\"00\",\"02\",\"02\",\"02\",\"01\",\"00\",\"00\",\"00\",\"00\",\"01\",\"01\",\"02\",\"01\",\"01\",\"00\",\"02\",\"02\",\"00\",\"01\",\"00\",\"02\",\"00\",\"02\",\"00\",\"01\",\"01\",\"00\",\"01\",\"00\",\"02\",\"01\",\"02\",\"00\",\"02\",\"00\",\"00\",\"00\",\"00\",\"02\",\"02\",\"02\",\"00\",\"02\",\"00\",\"00\",\"01\",\"01\",\"02\",\"00\",\"00\",\"01\",\"02\",\"00\",\"01\",\"01\",\"02\",\"02\",\"01\",\"01\",\"00\",\"00\",\"01\",\"02\",\"01\",\"02\",\"00\",\"00\",\"00\",\"00\",\"00\",\"01\",\"01\",\"00\",\"01\",\"02\",\"02\",\"00\",\"01\",\"01\",\"02\",\"00\",\"01\",\"00\",\"01\",\"00\",\"00\",\"00\",\"02\",\"02\",\"00\",\"00\",\"02\",\"00\",\"01\",\"00\",\"01\",\"00\",\"01\",\"02\",\"02\",\"02\",\"01\",\"00\",\"01\",\"02\",\"00\",\"01\",\"00\",\"02\",\"02\",\"00\",\"01\",\"00\",\"01\",\"01\",\"00\",\"00\",\"00\",\"00\",\"01\",\"00\",\"00\",\"02\",\"02\",\"02\",\"00\",\"00\",\"01\",\"01\"],\"x\":{\"__ndarray__\":\"9381A0duWEAC368tE6s8wDIAU9VouCfAlqW6+nFOVEAjX0n8urFJwHwetArayUHAR+AexhsWVsAHVDca6m9UwIzzHrBh3yFARQHsco39GsA0GmcFa3pIQDl42o0GH0nAUt6nQmoFQ8BVl/2KgEBUwDqf7acTjE1ARfxh8cgavb/YjSJw8QQTwPaSd4Xa+zXAxYdg4TsO679/UUl31gA6wJ8NFiRIaEfAqIbCJcxEVED7opvtvvtbQFGnRBXl4SrAHWYaWcWYR0AcSkdwJ3ZQQP3LwU3+FFbAQO0D0kStYkAE3+T4Mhw6wFv0GxpzgVpArBaoJaViU0DBM7GLt0FMwK9ritA/+E5A3mPB01NtS8BWXgxId/EnwIc9I6Di+1HABUFdpLLpUcBCMADxrKtWwH1BsMkZQ1NAP7Px1+c9JcDxYl2wFfs9wKcpyivzCTJAsF5O9FWT3z8qneG2yTFRQK+k8+vEc2BAbpXW3vZWUsCh/XOQaN5NQMDUCE9F31RAdjfE2VER/r84ya67mFdWwFLWTHKJ0FPAbGL5Fg7zK0AOvTAtapJMQDQzZm0sdzzAOuWvYAthVcAtJgCLbsoyQDKVbQ9GAlHAacNEyP0LOEDJimxYgZhZQMypBthqtFdAdhA7JBmNE0AbpptV/hxUQCoqBKHHvTVAJBj8qX5uScBy29v8yKNiQP1B7xiZUU7AIU0a5+srCsCqrtjpfKVVwFzlagrszUFAB7RbG1U/F8CEvBCMDpoZwHn9vnI5rh9AFtpU8v/qVMCZfRoCg+BOwJPcs7enaFLAMpPg03FCN8CtECgi6BNVwNfGIlcfKTPAXSeC4UhtNsAXvUNFOulHQDXY2xEKIVFAe9nfxfyGVMC/HDYOheREwKgVBLJMpRDAg1mdubvdUEDMagiMTpdNwDloowzqkCbAioWICrNYTkC3n8CohwBTQD4wBVIms07A4cl6rRP7U8BpVDBsiQhWQGLm6SGikFBABfQf4N0FQ8BQb1K37mIjwDRk61r9Z1VAcK0JMuUFUMDSu58cjrNSQP+vbaLzzUXAeD9KsuNLOMCdYqMXsUI0wG1YbZFbLSXAVMm5pTX4O8Dt80o+L7rgv4G7JjPwQFVAIyPpw9znR0A9hLrycXMhQHEFXMd/DkRADyvI87nPVcA3I7MSAxFWwLm6WiU2hTFAS8WcaYYiW0BOM4mDux5QQAqvZL7zFlfAzzEECKouNMDhbLNL3U9RQIqh7w7nnz/AKWqdeKRVWEAr1YOQMisxwIm1XZ1ODzjAXjG4OgQ/EkBrmoj+hc5PwIbGzWI+cFLAg4wVz3HHM8Ai+BHayBE4wOwTDgSbOUTAInFyXZgiOcC6FdwVkYlNQPHGO4hZ5QrALYRXbp14Q0CNU98abB1AwPcAa3Ym2FJAqd639D0UUcC5m0kK55tNwG+WdiZPpVLA3vt1lX06YEBhScl76gMmwDTVYdA7A2NA4gAr30OUU8BwujiZlIowwKmYDBglLVJAjHdIS1iVJ8DMq5FxQBZWwKPITWukL1bAXmroQY9PQ0D78B30/LRLQKaHem0H3CjA4uxow2KKQEC01vo8FaRQQNZOeHrmukDASJmCCoAVP8C5QEtCOQ0lwGYTVI2G6z9Ap5NNavIlUECCoB2RHZE6wAZCkVz8jTLAe4zmE47IU8D3KbHrggdSwA4GzfYANE3AhQshkxpwGUARqQo9ydASwEg0gDIEEk1AztXaQyVlUEA=\",\"dtype\":\"float64\",\"order\":\"little\",\"shape\":[163]},\"y\":{\"__ndarray__\":\"e4Lu+j0NLEBIgEvt2AX7P3tG7kN3DEBAwPVMFCzZFcBevvOSsKIWwEvGrIsM6BhAerCQHoq6McCL0s6ZmUElwBquSQjgfUVA2o4WrIr/T0DtQJe+Ww0tQGnDIZDaqB3Aty4c08J+N0BDgyjAxLQzwPChDh1t0kbA7hFXIcOBHsDxMZJbH5TGv1/j3aiyJC5A3qzLMzQWMsAKjJGVdzkiQJcW9GM5dAnAChD7Rt3cQ8D8kk4ed0gJwGaXBxQ0QDLA8NL1zTxqL0DZwqNTDSD8PyzK9lWeaTTAOvhh4I3EPsAGf5Ai19QsQOqd93j49M2/nxFpA3LOMEDKKvh7JrgwwHXDArH/MTPA2jQ8ntlX5j/rCLIKkwU7QKtuyOak2STA15IFr3PhIcA9+H/FVjw5wA1AllYBUhJASFkJ8rDfFMD1OOK6yCfWv6O34UklKEtAzutAMerCFkD/TMEuj746QGK3NA2taTZADq5368jsKMB+RH2+8AY2QOGXNOPWrSTAX/zudjU2FkBuW0sMXKM4wMd0dIgKcSnA9FBr+JpcFUBjb6lcgBlAwNoRBDcnRgxABAfqWBJqM8D2M3Zrb4NAwMb7lEOICyfAInqDnTnnHUAhFhrCkxEuwLpRG7o+2EDArgbKjyAtHsDJ24HB0bkpwD/IVkPbhSVAjXujAvEl7z+uRAlLGjMgwPp7qXcamR/AyoLASW0eTUC2nh1HMiYxwJChx0ZPyyxAH5OkhKccwr/+hQnpY0BJQAigOh0agUJA8j46CaRtNcBG/DZQiN8BQI6L2oxMJjDA38WnXeQKNcCppVVAqbopwOu6vy6YW0BA7jvfruz0PED4JZtaEzoswPZ++wpH1klAig7/GS+gIcD3EZ7ESaY1QGRotSpKLDFA5+NECguxL0DQLHoGyCYcwL+6Wgk5lTxAWGPXOt5LQMCLIlGatJ1HwI0fgRZ7YyfAUioOXZSmNsAqWAuLupBEwGvK0anXUUDAW7sxgQPcLUANl3sybZEgQLGVAi0lPTzA9v/sn4yjJcD7IzidDz0VQNN1ZXU8NyHAHbsaJ8kQE0AiNLwSUNIYQFPeD72nHy3Ajmw7zpxxMkBxrCkgW1A5QPf67B0jhkHAlzWgo6vnGkDJINfsbVM6wHAlfg5akCTACukIzMvCM8CUEHR3g2k3wD7DOXqyDDNA2tg4BdwvQ8AD+r8tSOQhwAInLcZzPDjA+YaJsyLcQECcnwmR6HQ1QDfUtuGfVR3AU2hca5K+QMByscbrJ/vwvzNQCg9D1QfA/lrkD9/H/7/V3wPEdWwIwD1ixpJGsTPAgnjLmHrTSkAXBb7WxfYxQDknjrdfRArAtzqtk+rmQkBqzANXwjEgwCwOKvdgglNA/LHf/tqgQMAwU14kRJ4nQJXqg3XpCUjAVF/sD9XhIUB4WZh/C/cQwA9MObYy2yvAkFZ0rLEeI0Din7jSFO0awOHoNdHYQw1AA7awOUSnMMBZJAoq91y2v1kf9boF+jlAiiqu56O+EsBBgYPDZrI4wJc6Z7ZThzPAdV7zITegSEDmoQYtFto8wBXMxBuwUjVANJS4KV03OMA5ekzoyoE6wL48twiG1yDAZp+PHqsW3j+AU/AnFilKQGjEoP0KOE9AJIpptwdnKsDnWDAcl7swQNqNhG04WUZA1A8GgwAPKcCsjfV+k8MIwISNgrudbDHAyh1sSoYuQUAtSmKUn3k2QNT8akyDkDbAoosAcdJcBUA=\",\"dtype\":\"float64\",\"order\":\"little\",\"shape\":[163]}},\"selected\":{\"id\":\"13293\"},\"selection_policy\":{\"id\":\"13292\"}},\"id\":\"13246\",\"type\":\"ColumnDataSource\"},{\"attributes\":{},\"id\":\"13261\",\"type\":\"BasicTicker\"},{\"attributes\":{},\"id\":\"13290\",\"type\":\"BasicTickFormatter\"},{\"attributes\":{\"fill_alpha\":{\"value\":0.1},\"fill_color\":{\"field\":\"labels\",\"transform\":{\"id\":\"13245\"}},\"line_alpha\":{\"value\":0.1},\"line_color\":{\"value\":null},\"radius\":{\"units\":\"data\",\"value\":1.5}},\"id\":\"13282\",\"type\":\"Circle\"},{\"attributes\":{\"data_source\":{\"id\":\"13246\"},\"glyph\":{\"id\":\"13281\"},\"hover_glyph\":null,\"muted_glyph\":null,\"nonselection_glyph\":{\"id\":\"13282\"},\"selection_glyph\":null,\"view\":{\"id\":\"13284\"}},\"id\":\"13283\",\"type\":\"GlyphRenderer\"},{\"attributes\":{},\"id\":\"13269\",\"type\":\"HelpTool\"},{\"attributes\":{},\"id\":\"13257\",\"type\":\"BasicTicker\"},{\"attributes\":{\"index\":1,\"label\":{\"value\":\"00\"},\"renderers\":[{\"id\":\"13283\"}]},\"id\":\"13295\",\"type\":\"LegendItem\"},{\"attributes\":{\"factors\":[\"00\",\"01\",\"02\"],\"palette\":[\"rgb(193, 121, 164)\",\"rgb(0, 170, 119)\",\"rgb(289, 0, 114)\"]},\"id\":\"13245\",\"type\":\"CategoricalColorMapper\"},{\"attributes\":{\"index\":4,\"label\":{\"value\":\"02\"},\"renderers\":[{\"id\":\"13283\"}]},\"id\":\"13297\",\"type\":\"LegendItem\"},{\"attributes\":{\"text\":\"\"},\"id\":\"13286\",\"type\":\"Title\"},{\"attributes\":{\"callback\":null,\"tooltips\":[[\"Country:\",\"@Country\"],[\"Label:\",\"@labels\"]]},\"id\":\"13271\",\"type\":\"HoverTool\"},{\"attributes\":{\"index\":0,\"label\":{\"value\":\"01\"},\"renderers\":[{\"id\":\"13283\"}]},\"id\":\"13296\",\"type\":\"LegendItem\"},{\"attributes\":{\"active_drag\":\"auto\",\"active_inspect\":\"auto\",\"active_multi\":null,\"active_scroll\":\"auto\",\"active_tap\":\"auto\",\"tools\":[{\"id\":\"13264\"},{\"id\":\"13265\"},{\"id\":\"13266\"},{\"id\":\"13267\"},{\"id\":\"13268\"},{\"id\":\"13269\"},{\"id\":\"13271\"}]},\"id\":\"13272\",\"type\":\"Toolbar\"},{\"attributes\":{},\"id\":\"13292\",\"type\":\"UnionRenderers\"},{\"attributes\":{},\"id\":\"13250\",\"type\":\"DataRange1d\"},{\"attributes\":{},\"id\":\"13293\",\"type\":\"Selection\"},{\"attributes\":{\"items\":[{\"id\":\"13295\"},{\"id\":\"13296\"},{\"id\":\"13297\"}]},\"id\":\"13294\",\"type\":\"Legend\"},{\"attributes\":{},\"id\":\"13267\",\"type\":\"SaveTool\"},{\"attributes\":{\"formatter\":{\"id\":\"13290\"},\"ticker\":{\"id\":\"13261\"}},\"id\":\"13260\",\"type\":\"LinearAxis\"},{\"attributes\":{},\"id\":\"13254\",\"type\":\"LinearScale\"},{\"attributes\":{\"bottom_units\":\"screen\",\"fill_alpha\":0.5,\"fill_color\":\"lightgrey\",\"left_units\":\"screen\",\"level\":\"overlay\",\"line_alpha\":1.0,\"line_color\":\"black\",\"line_dash\":[4,4],\"line_width\":2,\"right_units\":\"screen\",\"top_units\":\"screen\"},\"id\":\"13270\",\"type\":\"BoxAnnotation\"},{\"attributes\":{\"fill_color\":{\"field\":\"labels\",\"transform\":{\"id\":\"13245\"}},\"line_color\":{\"value\":null},\"radius\":{\"units\":\"data\",\"value\":1.5}},\"id\":\"13281\",\"type\":\"Circle\"}],\"root_ids\":[\"13247\"]},\"title\":\"Bokeh Application\",\"version\":\"2.2.3\"}};\n",
       "  var render_items = [{\"docid\":\"8257d6bd-de3b-404d-b07e-1b50e4d168da\",\"root_ids\":[\"13247\"],\"roots\":{\"13247\":\"8f333cad-6040-43b5-bd39-a5aa25438499\"}}];\n",
       "  root.Bokeh.embed.embed_items_notebook(docs_json, render_items);\n",
       "\n",
       "  }\n",
       "  if (root.Bokeh !== undefined) {\n",
       "    embed_document(root);\n",
       "  } else {\n",
       "    var attempts = 0;\n",
       "    var timer = setInterval(function(root) {\n",
       "      if (root.Bokeh !== undefined) {\n",
       "        clearInterval(timer);\n",
       "        embed_document(root);\n",
       "      } else {\n",
       "        attempts++;\n",
       "        if (attempts > 100) {\n",
       "          clearInterval(timer);\n",
       "          console.log(\"Bokeh: ERROR: Unable to run BokehJS code because BokehJS library is missing\");\n",
       "        }\n",
       "      }\n",
       "    }, 10, root)\n",
       "  }\n",
       "})(window);"
      ],
      "application/vnd.bokehjs_exec.v0+json": ""
     },
     "metadata": {
      "application/vnd.bokehjs_exec.v0+json": {
       "id": "13247"
      }
     },
     "output_type": "display_data"
    },
    {
     "data": {
      "text/html": [
       "\n",
       "\n",
       "\n",
       "\n",
       "\n",
       "\n",
       "  <div class=\"bk-root\" id=\"1551f1c1-1924-40d6-bde3-f47f1894a1ab\" data-root-id=\"13834\"></div>\n"
      ]
     },
     "metadata": {},
     "output_type": "display_data"
    },
    {
     "data": {
      "application/javascript": [
       "(function(root) {\n",
       "  function embed_document(root) {\n",
       "    \n",
       "  var docs_json = {\"82da5c98-bc8d-4277-b563-a7a825fcdf6d\":{\"roots\":{\"references\":[{\"attributes\":{\"below\":[{\"id\":\"13843\"}],\"center\":[{\"id\":\"13846\"},{\"id\":\"13850\"}],\"left\":[{\"id\":\"13847\"}],\"plot_height\":400,\"plot_width\":300,\"renderers\":[{\"id\":\"13868\"},{\"id\":\"13873\"},{\"id\":\"13878\"}],\"title\":{\"id\":\"14372\"},\"toolbar\":{\"id\":\"13858\"},\"x_range\":{\"id\":\"13835\"},\"x_scale\":{\"id\":\"13839\"},\"y_range\":{\"id\":\"13837\"},\"y_scale\":{\"id\":\"13841\"}},\"id\":\"13834\",\"subtype\":\"Figure\",\"type\":\"Plot\"},{\"attributes\":{\"active_drag\":\"auto\",\"active_inspect\":\"auto\",\"active_multi\":null,\"active_scroll\":\"auto\",\"active_tap\":\"auto\",\"tools\":[{\"id\":\"13851\"},{\"id\":\"13852\"},{\"id\":\"13853\"},{\"id\":\"13854\"},{\"id\":\"13855\"},{\"id\":\"13856\"}]},\"id\":\"13858\",\"type\":\"Toolbar\"},{\"attributes\":{},\"id\":\"13856\",\"type\":\"HelpTool\"},{\"attributes\":{\"axis\":{\"id\":\"13843\"},\"ticker\":null},\"id\":\"13846\",\"type\":\"Grid\"},{\"attributes\":{},\"id\":\"14380\",\"type\":\"UnionRenderers\"},{\"attributes\":{\"axis\":{\"id\":\"13847\"},\"dimension\":1,\"ticker\":null},\"id\":\"13850\",\"type\":\"Grid\"},{\"attributes\":{\"formatter\":{\"id\":\"14374\"},\"ticker\":{\"id\":\"13844\"}},\"id\":\"13843\",\"type\":\"LinearAxis\"},{\"attributes\":{\"fill_color\":\"rgb(0, 170, 119)\",\"height\":{\"value\":0.3},\"left\":{\"value\":3},\"line_color\":\"rgb(0, 170, 119)\",\"right\":{\"field\":\"right\"},\"y\":{\"field\":\"y\"}},\"id\":\"13871\",\"type\":\"HBar\"},{\"attributes\":{},\"id\":\"13851\",\"type\":\"PanTool\"},{\"attributes\":{},\"id\":\"14381\",\"type\":\"Selection\"},{\"attributes\":{\"fill_color\":\"rgb(289, 0, 114)\",\"height\":{\"value\":0.3},\"left\":{\"value\":6},\"line_color\":\"rgb(289, 0, 114)\",\"right\":{\"field\":\"right\"},\"y\":{\"field\":\"y\"}},\"id\":\"13876\",\"type\":\"HBar\"},{\"attributes\":{},\"id\":\"13852\",\"type\":\"WheelZoomTool\"},{\"attributes\":{\"overlay\":{\"id\":\"13857\"}},\"id\":\"13853\",\"type\":\"BoxZoomTool\"},{\"attributes\":{},\"id\":\"13854\",\"type\":\"SaveTool\"},{\"attributes\":{},\"id\":\"13855\",\"type\":\"ResetTool\"},{\"attributes\":{},\"id\":\"13844\",\"type\":\"BasicTicker\"},{\"attributes\":{},\"id\":\"14376\",\"type\":\"BasicTickFormatter\"},{\"attributes\":{},\"id\":\"13848\",\"type\":\"BasicTicker\"},{\"attributes\":{},\"id\":\"14383\",\"type\":\"Selection\"},{\"attributes\":{},\"id\":\"13835\",\"type\":\"DataRange1d\"},{\"attributes\":{\"fill_alpha\":{\"value\":0.1},\"fill_color\":\"rgb(0, 170, 119)\",\"height\":{\"value\":0.3},\"left\":{\"value\":3},\"line_alpha\":{\"value\":0.1},\"line_color\":\"rgb(0, 170, 119)\",\"right\":{\"field\":\"right\"},\"y\":{\"field\":\"y\"}},\"id\":\"13872\",\"type\":\"HBar\"},{\"attributes\":{\"source\":{\"id\":\"13865\"}},\"id\":\"13869\",\"type\":\"CDSView\"},{\"attributes\":{\"fill_color\":\"rgb(193, 121, 164)\",\"height\":{\"value\":0.3},\"line_color\":\"rgb(193, 121, 164)\",\"right\":{\"field\":\"right\"},\"y\":{\"field\":\"y\"}},\"id\":\"13866\",\"type\":\"HBar\"},{\"attributes\":{},\"id\":\"13837\",\"type\":\"DataRange1d\"},{\"attributes\":{\"data_source\":{\"id\":\"13875\"},\"glyph\":{\"id\":\"13876\"},\"hover_glyph\":null,\"muted_glyph\":null,\"nonselection_glyph\":{\"id\":\"13877\"},\"selection_glyph\":null,\"view\":{\"id\":\"13879\"}},\"id\":\"13878\",\"type\":\"GlyphRenderer\"},{\"attributes\":{},\"id\":\"14382\",\"type\":\"UnionRenderers\"},{\"attributes\":{},\"id\":\"13841\",\"type\":\"LinearScale\"},{\"attributes\":{\"data\":{\"right\":{\"__ndarray__\":\"udPaqZht1D+kfxyS4m+xP63xTTppWb2/B462uSbK2D/p5GhfDLvWPyaYUw2fU9s/jyl24c1yt79Kt2ssSa7QP9XrH19BAsU/ZoPoHn46sT+PF9fuISXZv+RKSd2niMu/DzdX+x/Zsz/dKHGwa0DWv0DahXCojrg/\",\"dtype\":\"float64\",\"order\":\"little\",\"shape\":[15]},\"y\":[0,1,2,3,4,5,6,7,8,9,10,11,12,13,14]},\"selected\":{\"id\":\"14379\"},\"selection_policy\":{\"id\":\"14378\"}},\"id\":\"13865\",\"type\":\"ColumnDataSource\"},{\"attributes\":{\"fill_alpha\":{\"value\":0.1},\"fill_color\":\"rgb(193, 121, 164)\",\"height\":{\"value\":0.3},\"line_alpha\":{\"value\":0.1},\"line_color\":\"rgb(193, 121, 164)\",\"right\":{\"field\":\"right\"},\"y\":{\"field\":\"y\"}},\"id\":\"13867\",\"type\":\"HBar\"},{\"attributes\":{},\"id\":\"14374\",\"type\":\"BasicTickFormatter\"},{\"attributes\":{\"fill_alpha\":{\"value\":0.1},\"fill_color\":\"rgb(289, 0, 114)\",\"height\":{\"value\":0.3},\"left\":{\"value\":6},\"line_alpha\":{\"value\":0.1},\"line_color\":\"rgb(289, 0, 114)\",\"right\":{\"field\":\"right\"},\"y\":{\"field\":\"y\"}},\"id\":\"13877\",\"type\":\"HBar\"},{\"attributes\":{\"data_source\":{\"id\":\"13865\"},\"glyph\":{\"id\":\"13866\"},\"hover_glyph\":null,\"muted_glyph\":null,\"nonselection_glyph\":{\"id\":\"13867\"},\"selection_glyph\":null,\"view\":{\"id\":\"13869\"}},\"id\":\"13868\",\"type\":\"GlyphRenderer\"},{\"attributes\":{\"data_source\":{\"id\":\"13870\"},\"glyph\":{\"id\":\"13871\"},\"hover_glyph\":null,\"muted_glyph\":null,\"nonselection_glyph\":{\"id\":\"13872\"},\"selection_glyph\":null,\"view\":{\"id\":\"13874\"}},\"id\":\"13873\",\"type\":\"GlyphRenderer\"},{\"attributes\":{\"source\":{\"id\":\"13870\"}},\"id\":\"13874\",\"type\":\"CDSView\"},{\"attributes\":{\"text\":\"\"},\"id\":\"14372\",\"type\":\"Title\"},{\"attributes\":{},\"id\":\"14378\",\"type\":\"UnionRenderers\"},{\"attributes\":{\"data\":{\"right\":{\"__ndarray__\":\"YXUjbly4+j/NoPSAX3z9PziyctAwy/8/F0cOlKy8+j9PAmcEKfv6P4h318M9NPo/sgl9Umo1AUDwSKeqIhT9P6KHKfctav0/IG8tEBhZ/j8DBT4890sGQGpKMIMK0AJAcFujvtHX/T+g5zMZYlwDQOyaE/OUsP0/\",\"dtype\":\"float64\",\"order\":\"little\",\"shape\":[15]},\"y\":[0,1,2,3,4,5,6,7,8,9,10,11,12,13,14]},\"selected\":{\"id\":\"14381\"},\"selection_policy\":{\"id\":\"14380\"}},\"id\":\"13870\",\"type\":\"ColumnDataSource\"},{\"attributes\":{\"bottom_units\":\"screen\",\"fill_alpha\":0.5,\"fill_color\":\"lightgrey\",\"left_units\":\"screen\",\"level\":\"overlay\",\"line_alpha\":1.0,\"line_color\":\"black\",\"line_dash\":[4,4],\"line_width\":2,\"right_units\":\"screen\",\"top_units\":\"screen\"},\"id\":\"13857\",\"type\":\"BoxAnnotation\"},{\"attributes\":{},\"id\":\"14379\",\"type\":\"Selection\"},{\"attributes\":{\"data\":{\"right\":{\"__ndarray__\":\"UF/ao1P7G0ChCsZuKrscQKtbDdbYMR1Ab/iCHa2QG0DaMHrWGbEbQDQCE0Q8eRtAQoZA/pxTHEDUABeSNq4bQH7pXMSkKxxAHkr0ch1/HEBQnYhRMVIbQBoOyq+bLhxAMW4+tzCTHEAzHjJLyK0cQGpZwSiggRxA\",\"dtype\":\"float64\",\"order\":\"little\",\"shape\":[15]},\"y\":[0,1,2,3,4,5,6,7,8,9,10,11,12,13,14]},\"selected\":{\"id\":\"14383\"},\"selection_policy\":{\"id\":\"14382\"}},\"id\":\"13875\",\"type\":\"ColumnDataSource\"},{\"attributes\":{},\"id\":\"13839\",\"type\":\"LinearScale\"},{\"attributes\":{\"formatter\":{\"id\":\"14376\"},\"ticker\":{\"id\":\"13848\"}},\"id\":\"13847\",\"type\":\"LinearAxis\"},{\"attributes\":{\"source\":{\"id\":\"13875\"}},\"id\":\"13879\",\"type\":\"CDSView\"}],\"root_ids\":[\"13834\"]},\"title\":\"Bokeh Application\",\"version\":\"2.2.3\"}};\n",
       "  var render_items = [{\"docid\":\"82da5c98-bc8d-4277-b563-a7a825fcdf6d\",\"root_ids\":[\"13834\"],\"roots\":{\"13834\":\"1551f1c1-1924-40d6-bde3-f47f1894a1ab\"}}];\n",
       "  root.Bokeh.embed.embed_items_notebook(docs_json, render_items);\n",
       "\n",
       "  }\n",
       "  if (root.Bokeh !== undefined) {\n",
       "    embed_document(root);\n",
       "  } else {\n",
       "    var attempts = 0;\n",
       "    var timer = setInterval(function(root) {\n",
       "      if (root.Bokeh !== undefined) {\n",
       "        clearInterval(timer);\n",
       "        embed_document(root);\n",
       "      } else {\n",
       "        attempts++;\n",
       "        if (attempts > 100) {\n",
       "          clearInterval(timer);\n",
       "          console.log(\"Bokeh: ERROR: Unable to run BokehJS code because BokehJS library is missing\");\n",
       "        }\n",
       "      }\n",
       "    }, 10, root)\n",
       "  }\n",
       "})(window);"
      ],
      "application/vnd.bokehjs_exec.v0+json": ""
     },
     "metadata": {
      "application/vnd.bokehjs_exec.v0+json": {
       "id": "13834"
      }
     },
     "output_type": "display_data"
    },
    {
     "name": "stdout",
     "output_type": "stream",
     "text": [
      "k = 4\n",
      "silhouette: 0.362\n"
     ]
    },
    {
     "data": {
      "text/html": [
       "\n",
       "\n",
       "\n",
       "\n",
       "\n",
       "\n",
       "  <div class=\"bk-root\" id=\"29195352-433e-4976-a78f-1c750e1512d5\" data-root-id=\"14451\"></div>\n"
      ]
     },
     "metadata": {},
     "output_type": "display_data"
    },
    {
     "data": {
      "application/javascript": [
       "(function(root) {\n",
       "  function embed_document(root) {\n",
       "    \n",
       "  var docs_json = {\"d65c6b24-07ed-41bb-a0d1-d01d440a7dc2\":{\"roots\":{\"references\":[{\"attributes\":{\"below\":[{\"id\":\"14460\"}],\"center\":[{\"id\":\"14463\"},{\"id\":\"14467\"},{\"id\":\"14498\"}],\"left\":[{\"id\":\"14464\"}],\"plot_height\":400,\"plot_width\":400,\"renderers\":[{\"id\":\"14487\"}],\"title\":{\"id\":\"14490\"},\"toolbar\":{\"id\":\"14476\"},\"x_range\":{\"id\":\"14452\"},\"x_scale\":{\"id\":\"14456\"},\"y_range\":{\"id\":\"14454\"},\"y_scale\":{\"id\":\"14458\"}},\"id\":\"14451\",\"subtype\":\"Figure\",\"type\":\"Plot\"},{\"attributes\":{\"fill_alpha\":{\"value\":0.1},\"fill_color\":{\"field\":\"labels\",\"transform\":{\"id\":\"14449\"}},\"line_alpha\":{\"value\":0.1},\"line_color\":{\"value\":null},\"radius\":{\"units\":\"data\",\"value\":1.5}},\"id\":\"14486\",\"type\":\"Circle\"},{\"attributes\":{},\"id\":\"14465\",\"type\":\"BasicTicker\"},{\"attributes\":{},\"id\":\"14469\",\"type\":\"WheelZoomTool\"},{\"attributes\":{\"data_source\":{\"id\":\"14450\"},\"glyph\":{\"id\":\"14485\"},\"hover_glyph\":null,\"muted_glyph\":null,\"nonselection_glyph\":{\"id\":\"14486\"},\"selection_glyph\":null,\"view\":{\"id\":\"14488\"}},\"id\":\"14487\",\"type\":\"GlyphRenderer\"},{\"attributes\":{},\"id\":\"14454\",\"type\":\"DataRange1d\"},{\"attributes\":{\"bottom_units\":\"screen\",\"fill_alpha\":0.5,\"fill_color\":\"lightgrey\",\"left_units\":\"screen\",\"level\":\"overlay\",\"line_alpha\":1.0,\"line_color\":\"black\",\"line_dash\":[4,4],\"line_width\":2,\"right_units\":\"screen\",\"top_units\":\"screen\"},\"id\":\"14474\",\"type\":\"BoxAnnotation\"},{\"attributes\":{\"factors\":[\"00\",\"01\",\"02\",\"03\"],\"palette\":[\"rgb(208, 116, 137)\",\"rgb(0, 169, 119)\",\"rgb(289, 0, 113)\",\"rgb(163, 130, 209)\"]},\"id\":\"14449\",\"type\":\"CategoricalColorMapper\"},{\"attributes\":{\"active_drag\":\"auto\",\"active_inspect\":\"auto\",\"active_multi\":null,\"active_scroll\":\"auto\",\"active_tap\":\"auto\",\"tools\":[{\"id\":\"14468\"},{\"id\":\"14469\"},{\"id\":\"14470\"},{\"id\":\"14471\"},{\"id\":\"14472\"},{\"id\":\"14473\"},{\"id\":\"14475\"}]},\"id\":\"14476\",\"type\":\"Toolbar\"},{\"attributes\":{},\"id\":\"14456\",\"type\":\"LinearScale\"},{\"attributes\":{\"source\":{\"id\":\"14450\"}},\"id\":\"14488\",\"type\":\"CDSView\"},{\"attributes\":{\"fill_color\":{\"field\":\"labels\",\"transform\":{\"id\":\"14449\"}},\"line_color\":{\"value\":null},\"radius\":{\"units\":\"data\",\"value\":1.5}},\"id\":\"14485\",\"type\":\"Circle\"},{\"attributes\":{\"formatter\":{\"id\":\"14492\"},\"ticker\":{\"id\":\"14461\"}},\"id\":\"14460\",\"type\":\"LinearAxis\"},{\"attributes\":{\"formatter\":{\"id\":\"14494\"},\"ticker\":{\"id\":\"14465\"}},\"id\":\"14464\",\"type\":\"LinearAxis\"},{\"attributes\":{},\"id\":\"14472\",\"type\":\"ResetTool\"},{\"attributes\":{},\"id\":\"14471\",\"type\":\"SaveTool\"},{\"attributes\":{\"data\":{\"Country\":[\"Afghanistan\",\"Albania\",\"Algeria\",\"Angola\",\"Argentina\",\"Armenia\",\"Australia\",\"Austria\",\"Azerbaijan\",\"Bahrain\",\"Bangladesh\",\"Barbados\",\"Belarus\",\"Belgium\",\"Benin\",\"Bhutan\",\"Bolivia\",\"Bosnia and Herzegovina\",\"Botswana\",\"Brazil\",\"Bulgaria\",\"Burkina Faso\",\"Burundi\",\"Cabo Verde\",\"Cambodia\",\"Cameroon\",\"Canada\",\"Central African Republic\",\"Colombia\",\"Congo, Democratic Republic of\",\"Congo, Republic of\",\"Costa Rica\",\"C\\u00f4te d'Ivoire\",\"Croatia\",\"Cuba\",\"Cyprus\",\"Czechia\",\"Denmark\",\"Djibouti\",\"Dominican Republic\",\"Ecuador\",\"Egypt\",\"El Salvador\",\"Equatorial Guinea\",\"Eritrea\",\"Estonia\",\"Eswatini\",\"Ethiopia\",\"Fiji\",\"Finland\",\"France\",\"Gabon\",\"Gambia, The\",\"Georgia\",\"Germany\",\"Ghana\",\"Greece\",\"Guatemala\",\"Guinea\",\"Guinea-Bissau\",\"Guyana\",\"Haiti\",\"Honduras\",\"Hungary\",\"Chad\",\"Chile\",\"China\",\"Iceland\",\"India\",\"Indonesia\",\"Iran\",\"Iraq\",\"Ireland\",\"Israel\",\"Italy\",\"Jamaica\",\"Japan\",\"Jordan\",\"Kazakhstan\",\"Kenya\",\"Korea, Democratic Republic of\",\"Korea, Republic of\",\"Kuwait\",\"Kyrgyzstan\",\"Laos\",\"Latvia\",\"Lebanon\",\"Lesotho\",\"Liberia\",\"Lithuania\",\"Luxembourg\",\"Madagascar\",\"Malawi\",\"Malaysia\",\"Maldives\",\"Mali\",\"Malta\",\"Mauritania\",\"Mauritius\",\"Mexico\",\"Moldova\",\"Mongolia\",\"Montenegro\",\"Morocco\",\"Mozambique\",\"Myanmar\",\"Namibia\",\"Nepal\",\"Netherlands\",\"New Zealand\",\"Nicaragua\",\"Niger\",\"Nigeria\",\"Norway\",\"Oman\",\"Pakistan\",\"Panama\",\"Papua New Guinea\",\"Paraguay\",\"Peru\",\"Philippines\",\"Poland\",\"Portugal\",\"Qatar\",\"Republic of North Macedonia\",\"Romania\",\"Russia\",\"Rwanda\",\"Saudi Arabia\",\"Senegal\",\"Serbia\",\"Sierra Leone\",\"Singapore\",\"Slovakia\",\"Slovenia\",\"Somalia\",\"South Africa\",\"South Sudan\",\"Spain\",\"Sri Lanka\",\"Sudan\",\"Suriname\",\"Sweden\",\"Switzerland\",\"Tajikistan\",\"Tanzania\",\"Thailand\",\"Timor-Leste\",\"Togo\",\"Trinidad and Tobago\",\"Tunisia\",\"Turkey\",\"Turkmenistan\",\"Uganda\",\"Ukraine\",\"United Arab Emirates\",\"United Kingdom\",\"United States\",\"Uruguay\",\"Uzbekistan\",\"Vietnam\",\"Zambia\",\"Zimbabwe\"],\"index\":[10,20,30,40,50,60,70,80,90,100,110,120,130,140,150,160,170,180,190,200,210,220,230,240,250,260,270,280,290,300,310,320,330,340,350,360,370,380,390,400,410,420,430,440,450,460,470,480,490,500,510,520,530,540,550,560,570,580,590,600,610,620,630,640,650,660,670,680,690,700,710,720,730,740,750,760,770,780,790,800,810,820,830,840,850,860,870,880,890,900,910,920,930,940,950,960,970,980,990,1000,1010,1020,1030,1040,1050,1060,1070,1080,1090,1100,1110,1120,1130,1140,1150,1160,1170,1180,1190,1200,1210,1220,1230,1240,1250,1260,1270,1280,1293,1303,1313,1323,1333,1343,1353,1363,1373,1383,1390,1400,1410,1420,1430,1440,1450,1460,1470,1480,1490,1500,1510,1520,1530,1540,1550,1560,1570,1580,1590,1600,1610,1620,1630],\"labels\":[\"01\",\"00\",\"03\",\"01\",\"02\",\"00\",\"02\",\"02\",\"03\",\"03\",\"01\",\"02\",\"00\",\"02\",\"01\",\"00\",\"00\",\"00\",\"00\",\"00\",\"02\",\"01\",\"01\",\"00\",\"01\",\"01\",\"02\",\"01\",\"00\",\"01\",\"01\",\"02\",\"01\",\"02\",\"03\",\"02\",\"02\",\"02\",\"01\",\"00\",\"00\",\"03\",\"00\",\"01\",\"01\",\"02\",\"01\",\"01\",\"00\",\"02\",\"02\",\"00\",\"01\",\"00\",\"02\",\"00\",\"02\",\"00\",\"01\",\"01\",\"00\",\"01\",\"00\",\"02\",\"01\",\"02\",\"03\",\"02\",\"03\",\"00\",\"03\",\"03\",\"02\",\"02\",\"02\",\"00\",\"02\",\"03\",\"03\",\"01\",\"01\",\"02\",\"00\",\"00\",\"01\",\"02\",\"03\",\"01\",\"01\",\"02\",\"02\",\"01\",\"01\",\"00\",\"00\",\"01\",\"02\",\"01\",\"00\",\"00\",\"00\",\"00\",\"00\",\"03\",\"01\",\"01\",\"00\",\"01\",\"02\",\"02\",\"03\",\"01\",\"01\",\"02\",\"03\",\"01\",\"00\",\"01\",\"00\",\"00\",\"00\",\"02\",\"02\",\"03\",\"00\",\"00\",\"03\",\"01\",\"03\",\"01\",\"00\",\"01\",\"02\",\"02\",\"02\",\"01\",\"00\",\"01\",\"02\",\"00\",\"01\",\"00\",\"02\",\"02\",\"03\",\"01\",\"03\",\"01\",\"01\",\"00\",\"00\",\"03\",\"03\",\"01\",\"00\",\"03\",\"02\",\"02\",\"02\",\"03\",\"03\",\"01\",\"01\"],\"x\":{\"__ndarray__\":\"9381A0duWEAC368tE6s8wDIAU9VouCfAlqW6+nFOVEAjX0n8urFJwHwetArayUHAR+AexhsWVsAHVDca6m9UwIzzHrBh3yFARQHsco39GsA0GmcFa3pIQDl42o0GH0nAUt6nQmoFQ8BVl/2KgEBUwDqf7acTjE1ARfxh8cgavb/YjSJw8QQTwPaSd4Xa+zXAxYdg4TsO679/UUl31gA6wJ8NFiRIaEfAqIbCJcxEVED7opvtvvtbQFGnRBXl4SrAHWYaWcWYR0AcSkdwJ3ZQQP3LwU3+FFbAQO0D0kStYkAE3+T4Mhw6wFv0GxpzgVpArBaoJaViU0DBM7GLt0FMwK9ritA/+E5A3mPB01NtS8BWXgxId/EnwIc9I6Di+1HABUFdpLLpUcBCMADxrKtWwH1BsMkZQ1NAP7Px1+c9JcDxYl2wFfs9wKcpyivzCTJAsF5O9FWT3z8qneG2yTFRQK+k8+vEc2BAbpXW3vZWUsCh/XOQaN5NQMDUCE9F31RAdjfE2VER/r84ya67mFdWwFLWTHKJ0FPAbGL5Fg7zK0AOvTAtapJMQDQzZm0sdzzAOuWvYAthVcAtJgCLbsoyQDKVbQ9GAlHAacNEyP0LOEDJimxYgZhZQMypBthqtFdAdhA7JBmNE0AbpptV/hxUQCoqBKHHvTVAJBj8qX5uScBy29v8yKNiQP1B7xiZUU7AIU0a5+srCsCqrtjpfKVVwFzlagrszUFAB7RbG1U/F8CEvBCMDpoZwHn9vnI5rh9AFtpU8v/qVMCZfRoCg+BOwJPcs7enaFLAMpPg03FCN8CtECgi6BNVwNfGIlcfKTPAXSeC4UhtNsAXvUNFOulHQDXY2xEKIVFAe9nfxfyGVMC/HDYOheREwKgVBLJMpRDAg1mdubvdUEDMagiMTpdNwDloowzqkCbAioWICrNYTkC3n8CohwBTQD4wBVIms07A4cl6rRP7U8BpVDBsiQhWQGLm6SGikFBABfQf4N0FQ8BQb1K37mIjwDRk61r9Z1VAcK0JMuUFUMDSu58cjrNSQP+vbaLzzUXAeD9KsuNLOMCdYqMXsUI0wG1YbZFbLSXAVMm5pTX4O8Dt80o+L7rgv4G7JjPwQFVAIyPpw9znR0A9hLrycXMhQHEFXMd/DkRADyvI87nPVcA3I7MSAxFWwLm6WiU2hTFAS8WcaYYiW0BOM4mDux5QQAqvZL7zFlfAzzEECKouNMDhbLNL3U9RQIqh7w7nnz/AKWqdeKRVWEAr1YOQMisxwIm1XZ1ODzjAXjG4OgQ/EkBrmoj+hc5PwIbGzWI+cFLAg4wVz3HHM8Ai+BHayBE4wOwTDgSbOUTAInFyXZgiOcC6FdwVkYlNQPHGO4hZ5QrALYRXbp14Q0CNU98abB1AwPcAa3Ym2FJAqd639D0UUcC5m0kK55tNwG+WdiZPpVLA3vt1lX06YEBhScl76gMmwDTVYdA7A2NA4gAr30OUU8BwujiZlIowwKmYDBglLVJAjHdIS1iVJ8DMq5FxQBZWwKPITWukL1bAXmroQY9PQ0D78B30/LRLQKaHem0H3CjA4uxow2KKQEC01vo8FaRQQNZOeHrmukDASJmCCoAVP8C5QEtCOQ0lwGYTVI2G6z9Ap5NNavIlUECCoB2RHZE6wAZCkVz8jTLAe4zmE47IU8D3KbHrggdSwA4GzfYANE3AhQshkxpwGUARqQo9ydASwEg0gDIEEk1AztXaQyVlUEA=\",\"dtype\":\"float64\",\"order\":\"little\",\"shape\":[163]},\"y\":{\"__ndarray__\":\"e4Lu+j0NLEBIgEvt2AX7P3tG7kN3DEBAwPVMFCzZFcBevvOSsKIWwEvGrIsM6BhAerCQHoq6McCL0s6ZmUElwBquSQjgfUVA2o4WrIr/T0DtQJe+Ww0tQGnDIZDaqB3Aty4c08J+N0BDgyjAxLQzwPChDh1t0kbA7hFXIcOBHsDxMZJbH5TGv1/j3aiyJC5A3qzLMzQWMsAKjJGVdzkiQJcW9GM5dAnAChD7Rt3cQ8D8kk4ed0gJwGaXBxQ0QDLA8NL1zTxqL0DZwqNTDSD8PyzK9lWeaTTAOvhh4I3EPsAGf5Ai19QsQOqd93j49M2/nxFpA3LOMEDKKvh7JrgwwHXDArH/MTPA2jQ8ntlX5j/rCLIKkwU7QKtuyOak2STA15IFr3PhIcA9+H/FVjw5wA1AllYBUhJASFkJ8rDfFMD1OOK6yCfWv6O34UklKEtAzutAMerCFkD/TMEuj746QGK3NA2taTZADq5368jsKMB+RH2+8AY2QOGXNOPWrSTAX/zudjU2FkBuW0sMXKM4wMd0dIgKcSnA9FBr+JpcFUBjb6lcgBlAwNoRBDcnRgxABAfqWBJqM8D2M3Zrb4NAwMb7lEOICyfAInqDnTnnHUAhFhrCkxEuwLpRG7o+2EDArgbKjyAtHsDJ24HB0bkpwD/IVkPbhSVAjXujAvEl7z+uRAlLGjMgwPp7qXcamR/AyoLASW0eTUC2nh1HMiYxwJChx0ZPyyxAH5OkhKccwr/+hQnpY0BJQAigOh0agUJA8j46CaRtNcBG/DZQiN8BQI6L2oxMJjDA38WnXeQKNcCppVVAqbopwOu6vy6YW0BA7jvfruz0PED4JZtaEzoswPZ++wpH1klAig7/GS+gIcD3EZ7ESaY1QGRotSpKLDFA5+NECguxL0DQLHoGyCYcwL+6Wgk5lTxAWGPXOt5LQMCLIlGatJ1HwI0fgRZ7YyfAUioOXZSmNsAqWAuLupBEwGvK0anXUUDAW7sxgQPcLUANl3sybZEgQLGVAi0lPTzA9v/sn4yjJcD7IzidDz0VQNN1ZXU8NyHAHbsaJ8kQE0AiNLwSUNIYQFPeD72nHy3Ajmw7zpxxMkBxrCkgW1A5QPf67B0jhkHAlzWgo6vnGkDJINfsbVM6wHAlfg5akCTACukIzMvCM8CUEHR3g2k3wD7DOXqyDDNA2tg4BdwvQ8AD+r8tSOQhwAInLcZzPDjA+YaJsyLcQECcnwmR6HQ1QDfUtuGfVR3AU2hca5K+QMByscbrJ/vwvzNQCg9D1QfA/lrkD9/H/7/V3wPEdWwIwD1ixpJGsTPAgnjLmHrTSkAXBb7WxfYxQDknjrdfRArAtzqtk+rmQkBqzANXwjEgwCwOKvdgglNA/LHf/tqgQMAwU14kRJ4nQJXqg3XpCUjAVF/sD9XhIUB4WZh/C/cQwA9MObYy2yvAkFZ0rLEeI0Din7jSFO0awOHoNdHYQw1AA7awOUSnMMBZJAoq91y2v1kf9boF+jlAiiqu56O+EsBBgYPDZrI4wJc6Z7ZThzPAdV7zITegSEDmoQYtFto8wBXMxBuwUjVANJS4KV03OMA5ekzoyoE6wL48twiG1yDAZp+PHqsW3j+AU/AnFilKQGjEoP0KOE9AJIpptwdnKsDnWDAcl7swQNqNhG04WUZA1A8GgwAPKcCsjfV+k8MIwISNgrudbDHAyh1sSoYuQUAtSmKUn3k2QNT8akyDkDbAoosAcdJcBUA=\",\"dtype\":\"float64\",\"order\":\"little\",\"shape\":[163]}},\"selected\":{\"id\":\"14497\"},\"selection_policy\":{\"id\":\"14496\"}},\"id\":\"14450\",\"type\":\"ColumnDataSource\"},{\"attributes\":{\"index\":1,\"label\":{\"value\":\"00\"},\"renderers\":[{\"id\":\"14487\"}]},\"id\":\"14499\",\"type\":\"LegendItem\"},{\"attributes\":{},\"id\":\"14468\",\"type\":\"PanTool\"},{\"attributes\":{},\"id\":\"14494\",\"type\":\"BasicTickFormatter\"},{\"attributes\":{\"overlay\":{\"id\":\"14474\"}},\"id\":\"14470\",\"type\":\"BoxZoomTool\"},{\"attributes\":{\"callback\":null,\"tooltips\":[[\"Country:\",\"@Country\"],[\"Label:\",\"@labels\"]]},\"id\":\"14475\",\"type\":\"HoverTool\"},{\"attributes\":{},\"id\":\"14461\",\"type\":\"BasicTicker\"},{\"attributes\":{\"axis\":{\"id\":\"14464\"},\"dimension\":1,\"ticker\":null},\"id\":\"14467\",\"type\":\"Grid\"},{\"attributes\":{},\"id\":\"14452\",\"type\":\"DataRange1d\"},{\"attributes\":{\"axis\":{\"id\":\"14460\"},\"ticker\":null},\"id\":\"14463\",\"type\":\"Grid\"},{\"attributes\":{},\"id\":\"14458\",\"type\":\"LinearScale\"},{\"attributes\":{},\"id\":\"14473\",\"type\":\"HelpTool\"},{\"attributes\":{\"index\":2,\"label\":{\"value\":\"03\"},\"renderers\":[{\"id\":\"14487\"}]},\"id\":\"14502\",\"type\":\"LegendItem\"},{\"attributes\":{\"index\":4,\"label\":{\"value\":\"02\"},\"renderers\":[{\"id\":\"14487\"}]},\"id\":\"14501\",\"type\":\"LegendItem\"},{\"attributes\":{\"text\":\"\"},\"id\":\"14490\",\"type\":\"Title\"},{\"attributes\":{\"items\":[{\"id\":\"14499\"},{\"id\":\"14500\"},{\"id\":\"14501\"},{\"id\":\"14502\"}]},\"id\":\"14498\",\"type\":\"Legend\"},{\"attributes\":{},\"id\":\"14492\",\"type\":\"BasicTickFormatter\"},{\"attributes\":{},\"id\":\"14496\",\"type\":\"UnionRenderers\"},{\"attributes\":{},\"id\":\"14497\",\"type\":\"Selection\"},{\"attributes\":{\"index\":0,\"label\":{\"value\":\"01\"},\"renderers\":[{\"id\":\"14487\"}]},\"id\":\"14500\",\"type\":\"LegendItem\"}],\"root_ids\":[\"14451\"]},\"title\":\"Bokeh Application\",\"version\":\"2.2.3\"}};\n",
       "  var render_items = [{\"docid\":\"d65c6b24-07ed-41bb-a0d1-d01d440a7dc2\",\"root_ids\":[\"14451\"],\"roots\":{\"14451\":\"29195352-433e-4976-a78f-1c750e1512d5\"}}];\n",
       "  root.Bokeh.embed.embed_items_notebook(docs_json, render_items);\n",
       "\n",
       "  }\n",
       "  if (root.Bokeh !== undefined) {\n",
       "    embed_document(root);\n",
       "  } else {\n",
       "    var attempts = 0;\n",
       "    var timer = setInterval(function(root) {\n",
       "      if (root.Bokeh !== undefined) {\n",
       "        clearInterval(timer);\n",
       "        embed_document(root);\n",
       "      } else {\n",
       "        attempts++;\n",
       "        if (attempts > 100) {\n",
       "          clearInterval(timer);\n",
       "          console.log(\"Bokeh: ERROR: Unable to run BokehJS code because BokehJS library is missing\");\n",
       "        }\n",
       "      }\n",
       "    }, 10, root)\n",
       "  }\n",
       "})(window);"
      ],
      "application/vnd.bokehjs_exec.v0+json": ""
     },
     "metadata": {
      "application/vnd.bokehjs_exec.v0+json": {
       "id": "14451"
      }
     },
     "output_type": "display_data"
    },
    {
     "data": {
      "text/html": [
       "\n",
       "\n",
       "\n",
       "\n",
       "\n",
       "\n",
       "  <div class=\"bk-root\" id=\"31f9fa92-1822-417e-be9a-d2016d52073a\" data-root-id=\"15061\"></div>\n"
      ]
     },
     "metadata": {},
     "output_type": "display_data"
    },
    {
     "data": {
      "application/javascript": [
       "(function(root) {\n",
       "  function embed_document(root) {\n",
       "    \n",
       "  var docs_json = {\"e506b288-4883-43b5-aae5-b3ea75214be0\":{\"roots\":{\"references\":[{\"attributes\":{\"below\":[{\"id\":\"15070\"}],\"center\":[{\"id\":\"15073\"},{\"id\":\"15077\"}],\"left\":[{\"id\":\"15074\"}],\"plot_height\":400,\"plot_width\":400,\"renderers\":[{\"id\":\"15095\"},{\"id\":\"15100\"},{\"id\":\"15105\"},{\"id\":\"15110\"}],\"title\":{\"id\":\"15626\"},\"toolbar\":{\"id\":\"15085\"},\"x_range\":{\"id\":\"15062\"},\"x_scale\":{\"id\":\"15066\"},\"y_range\":{\"id\":\"15064\"},\"y_scale\":{\"id\":\"15068\"}},\"id\":\"15061\",\"subtype\":\"Figure\",\"type\":\"Plot\"},{\"attributes\":{},\"id\":\"15082\",\"type\":\"ResetTool\"},{\"attributes\":{},\"id\":\"15062\",\"type\":\"DataRange1d\"},{\"attributes\":{},\"id\":\"15637\",\"type\":\"Selection\"},{\"attributes\":{},\"id\":\"15064\",\"type\":\"DataRange1d\"},{\"attributes\":{},\"id\":\"15630\",\"type\":\"BasicTickFormatter\"},{\"attributes\":{\"fill_color\":\"rgb(208, 116, 137)\",\"height\":{\"value\":0.3},\"line_color\":\"rgb(208, 116, 137)\",\"right\":{\"field\":\"right\"},\"y\":{\"field\":\"y\"}},\"id\":\"15093\",\"type\":\"HBar\"},{\"attributes\":{},\"id\":\"15638\",\"type\":\"UnionRenderers\"},{\"attributes\":{},\"id\":\"15639\",\"type\":\"Selection\"},{\"attributes\":{},\"id\":\"15628\",\"type\":\"BasicTickFormatter\"},{\"attributes\":{},\"id\":\"15636\",\"type\":\"UnionRenderers\"},{\"attributes\":{\"source\":{\"id\":\"15092\"}},\"id\":\"15096\",\"type\":\"CDSView\"},{\"attributes\":{\"text\":\"\"},\"id\":\"15626\",\"type\":\"Title\"},{\"attributes\":{\"formatter\":{\"id\":\"15628\"},\"ticker\":{\"id\":\"15071\"}},\"id\":\"15070\",\"type\":\"LinearAxis\"},{\"attributes\":{\"fill_alpha\":{\"value\":0.1},\"fill_color\":\"rgb(0, 169, 119)\",\"height\":{\"value\":0.3},\"left\":{\"value\":3},\"line_alpha\":{\"value\":0.1},\"line_color\":\"rgb(0, 169, 119)\",\"right\":{\"field\":\"right\"},\"y\":{\"field\":\"y\"}},\"id\":\"15099\",\"type\":\"HBar\"},{\"attributes\":{\"fill_color\":\"rgb(289, 0, 113)\",\"height\":{\"value\":0.3},\"left\":{\"value\":6},\"line_color\":\"rgb(289, 0, 113)\",\"right\":{\"field\":\"right\"},\"y\":{\"field\":\"y\"}},\"id\":\"15103\",\"type\":\"HBar\"},{\"attributes\":{\"fill_alpha\":{\"value\":0.1},\"fill_color\":\"rgb(289, 0, 113)\",\"height\":{\"value\":0.3},\"left\":{\"value\":6},\"line_alpha\":{\"value\":0.1},\"line_color\":\"rgb(289, 0, 113)\",\"right\":{\"field\":\"right\"},\"y\":{\"field\":\"y\"}},\"id\":\"15104\",\"type\":\"HBar\"},{\"attributes\":{\"data_source\":{\"id\":\"15107\"},\"glyph\":{\"id\":\"15108\"},\"hover_glyph\":null,\"muted_glyph\":null,\"nonselection_glyph\":{\"id\":\"15109\"},\"selection_glyph\":null,\"view\":{\"id\":\"15111\"}},\"id\":\"15110\",\"type\":\"GlyphRenderer\"},{\"attributes\":{\"data\":{\"right\":{\"__ndarray__\":\"DODZ0nAFHEDpV5rzV9wcQD816jpBUR1AnR6/NrecG0BAGODzn7YbQMjC6vJOhhtApsKg7qVbHEAg4dPGSb8bQFnU6SL8QRxAsR8NOzqrHEAZO536+3AbQEyfzAz8MxxAq9Lrn4e1HECOHII9bs0cQJRnE6mFqhxA\",\"dtype\":\"float64\",\"order\":\"little\",\"shape\":[15]},\"y\":[0,1,2,3,4,5,6,7,8,9,10,11,12,13,14]},\"selected\":{\"id\":\"15637\"},\"selection_policy\":{\"id\":\"15636\"}},\"id\":\"15102\",\"type\":\"ColumnDataSource\"},{\"attributes\":{\"data\":{\"right\":{\"__ndarray__\":\"YXUjbly4+j/NoPSAX3z9PziyctAwy/8/F0cOlKy8+j9PAmcEKfv6P4h318M9NPo/sgl9Umo1AUDwSKeqIhT9P6KHKfctav0/IG8tEBhZ/j8DBT4890sGQGpKMIMK0AJAcFujvtHX/T+g5zMZYlwDQOyaE/OUsP0/\",\"dtype\":\"float64\",\"order\":\"little\",\"shape\":[15]},\"y\":[0,1,2,3,4,5,6,7,8,9,10,11,12,13,14]},\"selected\":{\"id\":\"15635\"},\"selection_policy\":{\"id\":\"15634\"}},\"id\":\"15097\",\"type\":\"ColumnDataSource\"},{\"attributes\":{\"fill_alpha\":{\"value\":0.1},\"fill_color\":\"rgb(208, 116, 137)\",\"height\":{\"value\":0.3},\"line_alpha\":{\"value\":0.1},\"line_color\":\"rgb(208, 116, 137)\",\"right\":{\"field\":\"right\"},\"y\":{\"field\":\"y\"}},\"id\":\"15094\",\"type\":\"HBar\"},{\"attributes\":{\"data_source\":{\"id\":\"15102\"},\"glyph\":{\"id\":\"15103\"},\"hover_glyph\":null,\"muted_glyph\":null,\"nonselection_glyph\":{\"id\":\"15104\"},\"selection_glyph\":null,\"view\":{\"id\":\"15106\"}},\"id\":\"15105\",\"type\":\"GlyphRenderer\"},{\"attributes\":{\"data_source\":{\"id\":\"15097\"},\"glyph\":{\"id\":\"15098\"},\"hover_glyph\":null,\"muted_glyph\":null,\"nonselection_glyph\":{\"id\":\"15099\"},\"selection_glyph\":null,\"view\":{\"id\":\"15101\"}},\"id\":\"15100\",\"type\":\"GlyphRenderer\"},{\"attributes\":{},\"id\":\"15083\",\"type\":\"HelpTool\"},{\"attributes\":{},\"id\":\"15635\",\"type\":\"Selection\"},{\"attributes\":{\"fill_color\":\"rgb(0, 169, 119)\",\"height\":{\"value\":0.3},\"left\":{\"value\":3},\"line_color\":\"rgb(0, 169, 119)\",\"right\":{\"field\":\"right\"},\"y\":{\"field\":\"y\"}},\"id\":\"15098\",\"type\":\"HBar\"},{\"attributes\":{\"bottom_units\":\"screen\",\"fill_alpha\":0.5,\"fill_color\":\"lightgrey\",\"left_units\":\"screen\",\"level\":\"overlay\",\"line_alpha\":1.0,\"line_color\":\"black\",\"line_dash\":[4,4],\"line_width\":2,\"right_units\":\"screen\",\"top_units\":\"screen\"},\"id\":\"15084\",\"type\":\"BoxAnnotation\"},{\"attributes\":{\"fill_color\":\"rgb(163, 130, 209)\",\"height\":{\"value\":0.3},\"left\":{\"value\":9},\"line_color\":\"rgb(163, 130, 209)\",\"right\":{\"field\":\"right\"},\"y\":{\"field\":\"y\"}},\"id\":\"15108\",\"type\":\"HBar\"},{\"attributes\":{\"fill_alpha\":{\"value\":0.1},\"fill_color\":\"rgb(163, 130, 209)\",\"height\":{\"value\":0.3},\"left\":{\"value\":9},\"line_alpha\":{\"value\":0.1},\"line_color\":\"rgb(163, 130, 209)\",\"right\":{\"field\":\"right\"},\"y\":{\"field\":\"y\"}},\"id\":\"15109\",\"type\":\"HBar\"},{\"attributes\":{\"data_source\":{\"id\":\"15092\"},\"glyph\":{\"id\":\"15093\"},\"hover_glyph\":null,\"muted_glyph\":null,\"nonselection_glyph\":{\"id\":\"15094\"},\"selection_glyph\":null,\"view\":{\"id\":\"15096\"}},\"id\":\"15095\",\"type\":\"GlyphRenderer\"},{\"attributes\":{\"formatter\":{\"id\":\"15630\"},\"ticker\":{\"id\":\"15075\"}},\"id\":\"15074\",\"type\":\"LinearAxis\"},{\"attributes\":{},\"id\":\"15632\",\"type\":\"UnionRenderers\"},{\"attributes\":{\"data\":{\"right\":{\"__ndarray__\":\"xpiHo0rHIkA/1cVKGpIhQPU6RzKI9iBAsdoB2tv7IkDTFlGtd+0iQLoeRuVN/iJA9K3Mx3C0IUA91I5lyIEiQLPAe7CY2CFAjuBeZvA1IkAU6P3/mP8eQLWKE1AEdh9AULCkLO05IkC+SH9aIScgQKktlIc4hCJA\",\"dtype\":\"float64\",\"order\":\"little\",\"shape\":[15]},\"y\":[0,1,2,3,4,5,6,7,8,9,10,11,12,13,14]},\"selected\":{\"id\":\"15639\"},\"selection_policy\":{\"id\":\"15638\"}},\"id\":\"15107\",\"type\":\"ColumnDataSource\"},{\"attributes\":{},\"id\":\"15633\",\"type\":\"Selection\"},{\"attributes\":{\"source\":{\"id\":\"15097\"}},\"id\":\"15101\",\"type\":\"CDSView\"},{\"attributes\":{},\"id\":\"15071\",\"type\":\"BasicTicker\"},{\"attributes\":{\"axis\":{\"id\":\"15070\"},\"ticker\":null},\"id\":\"15073\",\"type\":\"Grid\"},{\"attributes\":{\"axis\":{\"id\":\"15074\"},\"dimension\":1,\"ticker\":null},\"id\":\"15077\",\"type\":\"Grid\"},{\"attributes\":{},\"id\":\"15075\",\"type\":\"BasicTicker\"},{\"attributes\":{\"source\":{\"id\":\"15102\"}},\"id\":\"15106\",\"type\":\"CDSView\"},{\"attributes\":{\"data\":{\"right\":{\"__ndarray__\":\"N+JxS8NB0z9PO4E9NzTPP7HAnQ0FVcI/ebqyxjHJ1T/zTRC5MyfUPz2JA4GrUtk/MaQlEn46kL+dtPcylsrRPz0MY9u3PdQ/Yx3B9Eebqj+RJ4S4xe+7P3jGRMQ1MtY/EEhltkO2sj/F+QlBOdGEP7QtKUjEbos/\",\"dtype\":\"float64\",\"order\":\"little\",\"shape\":[15]},\"y\":[0,1,2,3,4,5,6,7,8,9,10,11,12,13,14]},\"selected\":{\"id\":\"15633\"},\"selection_policy\":{\"id\":\"15632\"}},\"id\":\"15092\",\"type\":\"ColumnDataSource\"},{\"attributes\":{\"active_drag\":\"auto\",\"active_inspect\":\"auto\",\"active_multi\":null,\"active_scroll\":\"auto\",\"active_tap\":\"auto\",\"tools\":[{\"id\":\"15078\"},{\"id\":\"15079\"},{\"id\":\"15080\"},{\"id\":\"15081\"},{\"id\":\"15082\"},{\"id\":\"15083\"}]},\"id\":\"15085\",\"type\":\"Toolbar\"},{\"attributes\":{},\"id\":\"15079\",\"type\":\"WheelZoomTool\"},{\"attributes\":{},\"id\":\"15078\",\"type\":\"PanTool\"},{\"attributes\":{\"source\":{\"id\":\"15107\"}},\"id\":\"15111\",\"type\":\"CDSView\"},{\"attributes\":{},\"id\":\"15066\",\"type\":\"LinearScale\"},{\"attributes\":{\"overlay\":{\"id\":\"15084\"}},\"id\":\"15080\",\"type\":\"BoxZoomTool\"},{\"attributes\":{},\"id\":\"15081\",\"type\":\"SaveTool\"},{\"attributes\":{},\"id\":\"15634\",\"type\":\"UnionRenderers\"},{\"attributes\":{},\"id\":\"15068\",\"type\":\"LinearScale\"}],\"root_ids\":[\"15061\"]},\"title\":\"Bokeh Application\",\"version\":\"2.2.3\"}};\n",
       "  var render_items = [{\"docid\":\"e506b288-4883-43b5-aae5-b3ea75214be0\",\"root_ids\":[\"15061\"],\"roots\":{\"15061\":\"31f9fa92-1822-417e-be9a-d2016d52073a\"}}];\n",
       "  root.Bokeh.embed.embed_items_notebook(docs_json, render_items);\n",
       "\n",
       "  }\n",
       "  if (root.Bokeh !== undefined) {\n",
       "    embed_document(root);\n",
       "  } else {\n",
       "    var attempts = 0;\n",
       "    var timer = setInterval(function(root) {\n",
       "      if (root.Bokeh !== undefined) {\n",
       "        clearInterval(timer);\n",
       "        embed_document(root);\n",
       "      } else {\n",
       "        attempts++;\n",
       "        if (attempts > 100) {\n",
       "          clearInterval(timer);\n",
       "          console.log(\"Bokeh: ERROR: Unable to run BokehJS code because BokehJS library is missing\");\n",
       "        }\n",
       "      }\n",
       "    }, 10, root)\n",
       "  }\n",
       "})(window);"
      ],
      "application/vnd.bokehjs_exec.v0+json": ""
     },
     "metadata": {
      "application/vnd.bokehjs_exec.v0+json": {
       "id": "15061"
      }
     },
     "output_type": "display_data"
    },
    {
     "name": "stdout",
     "output_type": "stream",
     "text": [
      "k = 5\n",
      "silhouette: 0.326\n"
     ]
    },
    {
     "data": {
      "text/html": [
       "\n",
       "\n",
       "\n",
       "\n",
       "\n",
       "\n",
       "  <div class=\"bk-root\" id=\"672436bb-2f51-49f2-887f-ac28655f2887\" data-root-id=\"15717\"></div>\n"
      ]
     },
     "metadata": {},
     "output_type": "display_data"
    },
    {
     "data": {
      "application/javascript": [
       "(function(root) {\n",
       "  function embed_document(root) {\n",
       "    \n",
       "  var docs_json = {\"972f2eee-59c3-4d67-a3b0-d9ba48af7498\":{\"roots\":{\"references\":[{\"attributes\":{\"below\":[{\"id\":\"15726\"}],\"center\":[{\"id\":\"15729\"},{\"id\":\"15733\"},{\"id\":\"15764\"}],\"left\":[{\"id\":\"15730\"}],\"plot_height\":400,\"plot_width\":400,\"renderers\":[{\"id\":\"15753\"}],\"title\":{\"id\":\"15756\"},\"toolbar\":{\"id\":\"15742\"},\"x_range\":{\"id\":\"15718\"},\"x_scale\":{\"id\":\"15722\"},\"y_range\":{\"id\":\"15720\"},\"y_scale\":{\"id\":\"15724\"}},\"id\":\"15717\",\"subtype\":\"Figure\",\"type\":\"Plot\"},{\"attributes\":{\"items\":[{\"id\":\"15765\"},{\"id\":\"15766\"},{\"id\":\"15767\"},{\"id\":\"15768\"},{\"id\":\"15769\"}]},\"id\":\"15764\",\"type\":\"Legend\"},{\"attributes\":{},\"id\":\"15758\",\"type\":\"BasicTickFormatter\"},{\"attributes\":{\"index\":2,\"label\":{\"value\":\"00\"},\"renderers\":[{\"id\":\"15753\"}]},\"id\":\"15765\",\"type\":\"LegendItem\"},{\"attributes\":{},\"id\":\"15739\",\"type\":\"HelpTool\"},{\"attributes\":{\"index\":4,\"label\":{\"value\":\"01\"},\"renderers\":[{\"id\":\"15753\"}]},\"id\":\"15766\",\"type\":\"LegendItem\"},{\"attributes\":{\"fill_alpha\":{\"value\":0.1},\"fill_color\":{\"field\":\"labels\",\"transform\":{\"id\":\"15715\"}},\"line_alpha\":{\"value\":0.1},\"line_color\":{\"value\":null},\"radius\":{\"units\":\"data\",\"value\":1.5}},\"id\":\"15752\",\"type\":\"Circle\"},{\"attributes\":{\"data_source\":{\"id\":\"15716\"},\"glyph\":{\"id\":\"15751\"},\"hover_glyph\":null,\"muted_glyph\":null,\"nonselection_glyph\":{\"id\":\"15752\"},\"selection_glyph\":null,\"view\":{\"id\":\"15754\"}},\"id\":\"15753\",\"type\":\"GlyphRenderer\"},{\"attributes\":{\"index\":3,\"label\":{\"value\":\"02\"},\"renderers\":[{\"id\":\"15753\"}]},\"id\":\"15767\",\"type\":\"LegendItem\"},{\"attributes\":{\"bottom_units\":\"screen\",\"fill_alpha\":0.5,\"fill_color\":\"lightgrey\",\"left_units\":\"screen\",\"level\":\"overlay\",\"line_alpha\":1.0,\"line_color\":\"black\",\"line_dash\":[4,4],\"line_width\":2,\"right_units\":\"screen\",\"top_units\":\"screen\"},\"id\":\"15740\",\"type\":\"BoxAnnotation\"},{\"attributes\":{\"active_drag\":\"auto\",\"active_inspect\":\"auto\",\"active_multi\":null,\"active_scroll\":\"auto\",\"active_tap\":\"auto\",\"tools\":[{\"id\":\"15734\"},{\"id\":\"15735\"},{\"id\":\"15736\"},{\"id\":\"15737\"},{\"id\":\"15738\"},{\"id\":\"15739\"},{\"id\":\"15741\"}]},\"id\":\"15742\",\"type\":\"Toolbar\"},{\"attributes\":{\"index\":0,\"label\":{\"value\":\"03\"},\"renderers\":[{\"id\":\"15753\"}]},\"id\":\"15768\",\"type\":\"LegendItem\"},{\"attributes\":{},\"id\":\"15720\",\"type\":\"DataRange1d\"},{\"attributes\":{\"source\":{\"id\":\"15716\"}},\"id\":\"15754\",\"type\":\"CDSView\"},{\"attributes\":{\"factors\":[\"00\",\"01\",\"02\",\"03\",\"04\"],\"palette\":[\"rgb(166, 129, 204)\",\"rgb(279, 0, 116)\",\"rgb(27, 164, 120)\",\"rgb(0, 180, 132)\",\"rgb(202, 119, 136)\"]},\"id\":\"15715\",\"type\":\"CategoricalColorMapper\"},{\"attributes\":{\"formatter\":{\"id\":\"15760\"},\"ticker\":{\"id\":\"15731\"}},\"id\":\"15730\",\"type\":\"LinearAxis\"},{\"attributes\":{\"index\":1,\"label\":{\"value\":\"04\"},\"renderers\":[{\"id\":\"15753\"}]},\"id\":\"15769\",\"type\":\"LegendItem\"},{\"attributes\":{},\"id\":\"15722\",\"type\":\"LinearScale\"},{\"attributes\":{\"formatter\":{\"id\":\"15758\"},\"ticker\":{\"id\":\"15727\"}},\"id\":\"15726\",\"type\":\"LinearAxis\"},{\"attributes\":{},\"id\":\"15724\",\"type\":\"LinearScale\"},{\"attributes\":{\"overlay\":{\"id\":\"15740\"}},\"id\":\"15736\",\"type\":\"BoxZoomTool\"},{\"attributes\":{\"axis\":{\"id\":\"15730\"},\"dimension\":1,\"ticker\":null},\"id\":\"15733\",\"type\":\"Grid\"},{\"attributes\":{\"data\":{\"Country\":[\"Afghanistan\",\"Albania\",\"Algeria\",\"Angola\",\"Argentina\",\"Armenia\",\"Australia\",\"Austria\",\"Azerbaijan\",\"Bahrain\",\"Bangladesh\",\"Barbados\",\"Belarus\",\"Belgium\",\"Benin\",\"Bhutan\",\"Bolivia\",\"Bosnia and Herzegovina\",\"Botswana\",\"Brazil\",\"Bulgaria\",\"Burkina Faso\",\"Burundi\",\"Cabo Verde\",\"Cambodia\",\"Cameroon\",\"Canada\",\"Central African Republic\",\"Colombia\",\"Congo, Democratic Republic of\",\"Congo, Republic of\",\"Costa Rica\",\"C\\u00f4te d'Ivoire\",\"Croatia\",\"Cuba\",\"Cyprus\",\"Czechia\",\"Denmark\",\"Djibouti\",\"Dominican Republic\",\"Ecuador\",\"Egypt\",\"El Salvador\",\"Equatorial Guinea\",\"Eritrea\",\"Estonia\",\"Eswatini\",\"Ethiopia\",\"Fiji\",\"Finland\",\"France\",\"Gabon\",\"Gambia, The\",\"Georgia\",\"Germany\",\"Ghana\",\"Greece\",\"Guatemala\",\"Guinea\",\"Guinea-Bissau\",\"Guyana\",\"Haiti\",\"Honduras\",\"Hungary\",\"Chad\",\"Chile\",\"China\",\"Iceland\",\"India\",\"Indonesia\",\"Iran\",\"Iraq\",\"Ireland\",\"Israel\",\"Italy\",\"Jamaica\",\"Japan\",\"Jordan\",\"Kazakhstan\",\"Kenya\",\"Korea, Democratic Republic of\",\"Korea, Republic of\",\"Kuwait\",\"Kyrgyzstan\",\"Laos\",\"Latvia\",\"Lebanon\",\"Lesotho\",\"Liberia\",\"Lithuania\",\"Luxembourg\",\"Madagascar\",\"Malawi\",\"Malaysia\",\"Maldives\",\"Mali\",\"Malta\",\"Mauritania\",\"Mauritius\",\"Mexico\",\"Moldova\",\"Mongolia\",\"Montenegro\",\"Morocco\",\"Mozambique\",\"Myanmar\",\"Namibia\",\"Nepal\",\"Netherlands\",\"New Zealand\",\"Nicaragua\",\"Niger\",\"Nigeria\",\"Norway\",\"Oman\",\"Pakistan\",\"Panama\",\"Papua New Guinea\",\"Paraguay\",\"Peru\",\"Philippines\",\"Poland\",\"Portugal\",\"Qatar\",\"Republic of North Macedonia\",\"Romania\",\"Russia\",\"Rwanda\",\"Saudi Arabia\",\"Senegal\",\"Serbia\",\"Sierra Leone\",\"Singapore\",\"Slovakia\",\"Slovenia\",\"Somalia\",\"South Africa\",\"South Sudan\",\"Spain\",\"Sri Lanka\",\"Sudan\",\"Suriname\",\"Sweden\",\"Switzerland\",\"Tajikistan\",\"Tanzania\",\"Thailand\",\"Timor-Leste\",\"Togo\",\"Trinidad and Tobago\",\"Tunisia\",\"Turkey\",\"Turkmenistan\",\"Uganda\",\"Ukraine\",\"United Arab Emirates\",\"United Kingdom\",\"United States\",\"Uruguay\",\"Uzbekistan\",\"Vietnam\",\"Zambia\",\"Zimbabwe\"],\"index\":[10,20,30,40,50,60,70,80,90,100,110,120,130,140,150,160,170,180,190,200,210,220,230,240,250,260,270,280,290,300,310,320,330,340,350,360,370,380,390,400,410,420,430,440,450,460,470,480,490,500,510,520,530,540,550,560,570,580,590,600,610,620,630,640,650,660,670,680,690,700,710,720,730,740,750,760,770,780,790,800,810,820,830,840,850,860,870,880,890,900,910,920,930,940,950,960,970,980,990,1000,1010,1020,1030,1040,1050,1060,1070,1080,1090,1100,1110,1120,1130,1140,1150,1160,1170,1180,1190,1200,1210,1220,1230,1240,1250,1260,1270,1280,1293,1303,1313,1323,1333,1343,1353,1363,1373,1383,1390,1400,1410,1420,1430,1440,1450,1460,1470,1480,1490,1500,1510,1520,1530,1540,1550,1560,1570,1580,1590,1600,1610,1620,1630],\"labels\":[\"03\",\"04\",\"00\",\"02\",\"01\",\"04\",\"01\",\"01\",\"00\",\"00\",\"02\",\"01\",\"00\",\"01\",\"02\",\"04\",\"04\",\"04\",\"04\",\"04\",\"01\",\"02\",\"03\",\"04\",\"02\",\"02\",\"01\",\"03\",\"04\",\"03\",\"02\",\"01\",\"02\",\"01\",\"00\",\"01\",\"01\",\"01\",\"02\",\"04\",\"04\",\"00\",\"04\",\"02\",\"03\",\"01\",\"02\",\"02\",\"04\",\"01\",\"01\",\"04\",\"02\",\"04\",\"01\",\"04\",\"01\",\"04\",\"03\",\"02\",\"04\",\"02\",\"04\",\"01\",\"03\",\"01\",\"00\",\"01\",\"02\",\"04\",\"00\",\"00\",\"01\",\"01\",\"01\",\"04\",\"01\",\"00\",\"00\",\"02\",\"02\",\"01\",\"04\",\"04\",\"02\",\"01\",\"00\",\"02\",\"02\",\"01\",\"01\",\"02\",\"02\",\"04\",\"04\",\"02\",\"01\",\"02\",\"04\",\"04\",\"04\",\"04\",\"04\",\"00\",\"02\",\"02\",\"04\",\"02\",\"01\",\"01\",\"00\",\"03\",\"02\",\"01\",\"00\",\"02\",\"04\",\"02\",\"04\",\"04\",\"04\",\"01\",\"01\",\"00\",\"04\",\"04\",\"00\",\"02\",\"00\",\"02\",\"04\",\"02\",\"01\",\"01\",\"01\",\"03\",\"04\",\"03\",\"01\",\"04\",\"02\",\"04\",\"01\",\"01\",\"00\",\"02\",\"00\",\"02\",\"02\",\"04\",\"04\",\"00\",\"00\",\"02\",\"04\",\"00\",\"01\",\"01\",\"01\",\"00\",\"00\",\"02\",\"02\"],\"x\":{\"__ndarray__\":\"9381A0duWEAC368tE6s8wDIAU9VouCfAlqW6+nFOVEAjX0n8urFJwHwetArayUHAR+AexhsWVsAHVDca6m9UwIzzHrBh3yFARQHsco39GsA0GmcFa3pIQDl42o0GH0nAUt6nQmoFQ8BVl/2KgEBUwDqf7acTjE1ARfxh8cgavb/YjSJw8QQTwPaSd4Xa+zXAxYdg4TsO679/UUl31gA6wJ8NFiRIaEfAqIbCJcxEVED7opvtvvtbQFGnRBXl4SrAHWYaWcWYR0AcSkdwJ3ZQQP3LwU3+FFbAQO0D0kStYkAE3+T4Mhw6wFv0GxpzgVpArBaoJaViU0DBM7GLt0FMwK9ritA/+E5A3mPB01NtS8BWXgxId/EnwIc9I6Di+1HABUFdpLLpUcBCMADxrKtWwH1BsMkZQ1NAP7Px1+c9JcDxYl2wFfs9wKcpyivzCTJAsF5O9FWT3z8qneG2yTFRQK+k8+vEc2BAbpXW3vZWUsCh/XOQaN5NQMDUCE9F31RAdjfE2VER/r84ya67mFdWwFLWTHKJ0FPAbGL5Fg7zK0AOvTAtapJMQDQzZm0sdzzAOuWvYAthVcAtJgCLbsoyQDKVbQ9GAlHAacNEyP0LOEDJimxYgZhZQMypBthqtFdAdhA7JBmNE0AbpptV/hxUQCoqBKHHvTVAJBj8qX5uScBy29v8yKNiQP1B7xiZUU7AIU0a5+srCsCqrtjpfKVVwFzlagrszUFAB7RbG1U/F8CEvBCMDpoZwHn9vnI5rh9AFtpU8v/qVMCZfRoCg+BOwJPcs7enaFLAMpPg03FCN8CtECgi6BNVwNfGIlcfKTPAXSeC4UhtNsAXvUNFOulHQDXY2xEKIVFAe9nfxfyGVMC/HDYOheREwKgVBLJMpRDAg1mdubvdUEDMagiMTpdNwDloowzqkCbAioWICrNYTkC3n8CohwBTQD4wBVIms07A4cl6rRP7U8BpVDBsiQhWQGLm6SGikFBABfQf4N0FQ8BQb1K37mIjwDRk61r9Z1VAcK0JMuUFUMDSu58cjrNSQP+vbaLzzUXAeD9KsuNLOMCdYqMXsUI0wG1YbZFbLSXAVMm5pTX4O8Dt80o+L7rgv4G7JjPwQFVAIyPpw9znR0A9hLrycXMhQHEFXMd/DkRADyvI87nPVcA3I7MSAxFWwLm6WiU2hTFAS8WcaYYiW0BOM4mDux5QQAqvZL7zFlfAzzEECKouNMDhbLNL3U9RQIqh7w7nnz/AKWqdeKRVWEAr1YOQMisxwIm1XZ1ODzjAXjG4OgQ/EkBrmoj+hc5PwIbGzWI+cFLAg4wVz3HHM8Ai+BHayBE4wOwTDgSbOUTAInFyXZgiOcC6FdwVkYlNQPHGO4hZ5QrALYRXbp14Q0CNU98abB1AwPcAa3Ym2FJAqd639D0UUcC5m0kK55tNwG+WdiZPpVLA3vt1lX06YEBhScl76gMmwDTVYdA7A2NA4gAr30OUU8BwujiZlIowwKmYDBglLVJAjHdIS1iVJ8DMq5FxQBZWwKPITWukL1bAXmroQY9PQ0D78B30/LRLQKaHem0H3CjA4uxow2KKQEC01vo8FaRQQNZOeHrmukDASJmCCoAVP8C5QEtCOQ0lwGYTVI2G6z9Ap5NNavIlUECCoB2RHZE6wAZCkVz8jTLAe4zmE47IU8D3KbHrggdSwA4GzfYANE3AhQshkxpwGUARqQo9ydASwEg0gDIEEk1AztXaQyVlUEA=\",\"dtype\":\"float64\",\"order\":\"little\",\"shape\":[163]},\"y\":{\"__ndarray__\":\"e4Lu+j0NLEBIgEvt2AX7P3tG7kN3DEBAwPVMFCzZFcBevvOSsKIWwEvGrIsM6BhAerCQHoq6McCL0s6ZmUElwBquSQjgfUVA2o4WrIr/T0DtQJe+Ww0tQGnDIZDaqB3Aty4c08J+N0BDgyjAxLQzwPChDh1t0kbA7hFXIcOBHsDxMZJbH5TGv1/j3aiyJC5A3qzLMzQWMsAKjJGVdzkiQJcW9GM5dAnAChD7Rt3cQ8D8kk4ed0gJwGaXBxQ0QDLA8NL1zTxqL0DZwqNTDSD8PyzK9lWeaTTAOvhh4I3EPsAGf5Ai19QsQOqd93j49M2/nxFpA3LOMEDKKvh7JrgwwHXDArH/MTPA2jQ8ntlX5j/rCLIKkwU7QKtuyOak2STA15IFr3PhIcA9+H/FVjw5wA1AllYBUhJASFkJ8rDfFMD1OOK6yCfWv6O34UklKEtAzutAMerCFkD/TMEuj746QGK3NA2taTZADq5368jsKMB+RH2+8AY2QOGXNOPWrSTAX/zudjU2FkBuW0sMXKM4wMd0dIgKcSnA9FBr+JpcFUBjb6lcgBlAwNoRBDcnRgxABAfqWBJqM8D2M3Zrb4NAwMb7lEOICyfAInqDnTnnHUAhFhrCkxEuwLpRG7o+2EDArgbKjyAtHsDJ24HB0bkpwD/IVkPbhSVAjXujAvEl7z+uRAlLGjMgwPp7qXcamR/AyoLASW0eTUC2nh1HMiYxwJChx0ZPyyxAH5OkhKccwr/+hQnpY0BJQAigOh0agUJA8j46CaRtNcBG/DZQiN8BQI6L2oxMJjDA38WnXeQKNcCppVVAqbopwOu6vy6YW0BA7jvfruz0PED4JZtaEzoswPZ++wpH1klAig7/GS+gIcD3EZ7ESaY1QGRotSpKLDFA5+NECguxL0DQLHoGyCYcwL+6Wgk5lTxAWGPXOt5LQMCLIlGatJ1HwI0fgRZ7YyfAUioOXZSmNsAqWAuLupBEwGvK0anXUUDAW7sxgQPcLUANl3sybZEgQLGVAi0lPTzA9v/sn4yjJcD7IzidDz0VQNN1ZXU8NyHAHbsaJ8kQE0AiNLwSUNIYQFPeD72nHy3Ajmw7zpxxMkBxrCkgW1A5QPf67B0jhkHAlzWgo6vnGkDJINfsbVM6wHAlfg5akCTACukIzMvCM8CUEHR3g2k3wD7DOXqyDDNA2tg4BdwvQ8AD+r8tSOQhwAInLcZzPDjA+YaJsyLcQECcnwmR6HQ1QDfUtuGfVR3AU2hca5K+QMByscbrJ/vwvzNQCg9D1QfA/lrkD9/H/7/V3wPEdWwIwD1ixpJGsTPAgnjLmHrTSkAXBb7WxfYxQDknjrdfRArAtzqtk+rmQkBqzANXwjEgwCwOKvdgglNA/LHf/tqgQMAwU14kRJ4nQJXqg3XpCUjAVF/sD9XhIUB4WZh/C/cQwA9MObYy2yvAkFZ0rLEeI0Din7jSFO0awOHoNdHYQw1AA7awOUSnMMBZJAoq91y2v1kf9boF+jlAiiqu56O+EsBBgYPDZrI4wJc6Z7ZThzPAdV7zITegSEDmoQYtFto8wBXMxBuwUjVANJS4KV03OMA5ekzoyoE6wL48twiG1yDAZp+PHqsW3j+AU/AnFilKQGjEoP0KOE9AJIpptwdnKsDnWDAcl7swQNqNhG04WUZA1A8GgwAPKcCsjfV+k8MIwISNgrudbDHAyh1sSoYuQUAtSmKUn3k2QNT8akyDkDbAoosAcdJcBUA=\",\"dtype\":\"float64\",\"order\":\"little\",\"shape\":[163]}},\"selected\":{\"id\":\"15763\"},\"selection_policy\":{\"id\":\"15762\"}},\"id\":\"15716\",\"type\":\"ColumnDataSource\"},{\"attributes\":{},\"id\":\"15737\",\"type\":\"SaveTool\"},{\"attributes\":{},\"id\":\"15760\",\"type\":\"BasicTickFormatter\"},{\"attributes\":{},\"id\":\"15738\",\"type\":\"ResetTool\"},{\"attributes\":{},\"id\":\"15735\",\"type\":\"WheelZoomTool\"},{\"attributes\":{},\"id\":\"15762\",\"type\":\"UnionRenderers\"},{\"attributes\":{},\"id\":\"15734\",\"type\":\"PanTool\"},{\"attributes\":{},\"id\":\"15763\",\"type\":\"Selection\"},{\"attributes\":{},\"id\":\"15731\",\"type\":\"BasicTicker\"},{\"attributes\":{\"callback\":null,\"tooltips\":[[\"Country:\",\"@Country\"],[\"Label:\",\"@labels\"]]},\"id\":\"15741\",\"type\":\"HoverTool\"},{\"attributes\":{},\"id\":\"15727\",\"type\":\"BasicTicker\"},{\"attributes\":{\"axis\":{\"id\":\"15726\"},\"ticker\":null},\"id\":\"15729\",\"type\":\"Grid\"},{\"attributes\":{},\"id\":\"15718\",\"type\":\"DataRange1d\"},{\"attributes\":{\"fill_color\":{\"field\":\"labels\",\"transform\":{\"id\":\"15715\"}},\"line_color\":{\"value\":null},\"radius\":{\"units\":\"data\",\"value\":1.5}},\"id\":\"15751\",\"type\":\"Circle\"},{\"attributes\":{\"text\":\"\"},\"id\":\"15756\",\"type\":\"Title\"}],\"root_ids\":[\"15717\"]},\"title\":\"Bokeh Application\",\"version\":\"2.2.3\"}};\n",
       "  var render_items = [{\"docid\":\"972f2eee-59c3-4d67-a3b0-d9ba48af7498\",\"root_ids\":[\"15717\"],\"roots\":{\"15717\":\"672436bb-2f51-49f2-887f-ac28655f2887\"}}];\n",
       "  root.Bokeh.embed.embed_items_notebook(docs_json, render_items);\n",
       "\n",
       "  }\n",
       "  if (root.Bokeh !== undefined) {\n",
       "    embed_document(root);\n",
       "  } else {\n",
       "    var attempts = 0;\n",
       "    var timer = setInterval(function(root) {\n",
       "      if (root.Bokeh !== undefined) {\n",
       "        clearInterval(timer);\n",
       "        embed_document(root);\n",
       "      } else {\n",
       "        attempts++;\n",
       "        if (attempts > 100) {\n",
       "          clearInterval(timer);\n",
       "          console.log(\"Bokeh: ERROR: Unable to run BokehJS code because BokehJS library is missing\");\n",
       "        }\n",
       "      }\n",
       "    }, 10, root)\n",
       "  }\n",
       "})(window);"
      ],
      "application/vnd.bokehjs_exec.v0+json": ""
     },
     "metadata": {
      "application/vnd.bokehjs_exec.v0+json": {
       "id": "15717"
      }
     },
     "output_type": "display_data"
    },
    {
     "data": {
      "text/html": [
       "\n",
       "\n",
       "\n",
       "\n",
       "\n",
       "\n",
       "  <div class=\"bk-root\" id=\"01b01b31-5afd-4273-81ec-a190c510055e\" data-root-id=\"16352\"></div>\n"
      ]
     },
     "metadata": {},
     "output_type": "display_data"
    },
    {
     "data": {
      "application/javascript": [
       "(function(root) {\n",
       "  function embed_document(root) {\n",
       "    \n",
       "  var docs_json = {\"50b44653-03ef-42d3-a378-fb3d0821be80\":{\"roots\":{\"references\":[{\"attributes\":{\"below\":[{\"id\":\"16361\"}],\"center\":[{\"id\":\"16364\"},{\"id\":\"16368\"}],\"left\":[{\"id\":\"16365\"}],\"plot_height\":400,\"plot_width\":500,\"renderers\":[{\"id\":\"16386\"},{\"id\":\"16391\"},{\"id\":\"16396\"},{\"id\":\"16401\"},{\"id\":\"16406\"}],\"title\":{\"id\":\"16946\"},\"toolbar\":{\"id\":\"16376\"},\"x_range\":{\"id\":\"16353\"},\"x_scale\":{\"id\":\"16357\"},\"y_range\":{\"id\":\"16355\"},\"y_scale\":{\"id\":\"16359\"}},\"id\":\"16352\",\"subtype\":\"Figure\",\"type\":\"Plot\"},{\"attributes\":{},\"id\":\"16954\",\"type\":\"UnionRenderers\"},{\"attributes\":{},\"id\":\"16355\",\"type\":\"DataRange1d\"},{\"attributes\":{},\"id\":\"16370\",\"type\":\"WheelZoomTool\"},{\"attributes\":{},\"id\":\"16955\",\"type\":\"Selection\"},{\"attributes\":{},\"id\":\"16357\",\"type\":\"LinearScale\"},{\"attributes\":{},\"id\":\"16374\",\"type\":\"HelpTool\"},{\"attributes\":{},\"id\":\"16359\",\"type\":\"LinearScale\"},{\"attributes\":{},\"id\":\"16950\",\"type\":\"BasicTickFormatter\"},{\"attributes\":{},\"id\":\"16369\",\"type\":\"PanTool\"},{\"attributes\":{\"overlay\":{\"id\":\"16375\"}},\"id\":\"16371\",\"type\":\"BoxZoomTool\"},{\"attributes\":{},\"id\":\"16372\",\"type\":\"SaveTool\"},{\"attributes\":{},\"id\":\"16373\",\"type\":\"ResetTool\"},{\"attributes\":{\"formatter\":{\"id\":\"16950\"},\"ticker\":{\"id\":\"16366\"}},\"id\":\"16365\",\"type\":\"LinearAxis\"},{\"attributes\":{\"source\":{\"id\":\"16398\"}},\"id\":\"16402\",\"type\":\"CDSView\"},{\"attributes\":{},\"id\":\"16362\",\"type\":\"BasicTicker\"},{\"attributes\":{},\"id\":\"16956\",\"type\":\"UnionRenderers\"},{\"attributes\":{},\"id\":\"16957\",\"type\":\"Selection\"},{\"attributes\":{},\"id\":\"16948\",\"type\":\"BasicTickFormatter\"},{\"attributes\":{\"data\":{\"right\":{\"__ndarray__\":\"ZXo0PLCUKECqSJCEXHooQO7giYmNRihA9eEUBo+nKEAE4L4fWpwoQNAECZAQxyhAgbbfeQjyJ0C/iW5mUoUoQBCbSulkoihAnMTUlEcXKEAwR9Op6DwoQMEEN0MdvShAT7FF7lccKEC/KGBHRwEoQLeIWfbu+ydA\",\"dtype\":\"float64\",\"order\":\"little\",\"shape\":[15]},\"y\":[0,1,2,3,4,5,6,7,8,9,10,11,12,13,14]},\"selected\":{\"id\":\"16961\"},\"selection_policy\":{\"id\":\"16960\"}},\"id\":\"16403\",\"type\":\"ColumnDataSource\"},{\"attributes\":{\"fill_color\":\"rgb(202, 119, 136)\",\"height\":{\"value\":0.3},\"left\":{\"value\":12},\"line_color\":\"rgb(202, 119, 136)\",\"right\":{\"field\":\"right\"},\"y\":{\"field\":\"y\"}},\"id\":\"16404\",\"type\":\"HBar\"},{\"attributes\":{\"formatter\":{\"id\":\"16948\"},\"ticker\":{\"id\":\"16362\"}},\"id\":\"16361\",\"type\":\"LinearAxis\"},{\"attributes\":{\"source\":{\"id\":\"16383\"}},\"id\":\"16387\",\"type\":\"CDSView\"},{\"attributes\":{\"data_source\":{\"id\":\"16403\"},\"glyph\":{\"id\":\"16404\"},\"hover_glyph\":null,\"muted_glyph\":null,\"nonselection_glyph\":{\"id\":\"16405\"},\"selection_glyph\":null,\"view\":{\"id\":\"16407\"}},\"id\":\"16406\",\"type\":\"GlyphRenderer\"},{\"attributes\":{\"fill_color\":\"rgb(27, 164, 120)\",\"height\":{\"value\":0.3},\"left\":{\"value\":6},\"line_color\":\"rgb(27, 164, 120)\",\"right\":{\"field\":\"right\"},\"y\":{\"field\":\"y\"}},\"id\":\"16394\",\"type\":\"HBar\"},{\"attributes\":{\"data_source\":{\"id\":\"16393\"},\"glyph\":{\"id\":\"16394\"},\"hover_glyph\":null,\"muted_glyph\":null,\"nonselection_glyph\":{\"id\":\"16395\"},\"selection_glyph\":null,\"view\":{\"id\":\"16397\"}},\"id\":\"16396\",\"type\":\"GlyphRenderer\"},{\"attributes\":{},\"id\":\"16353\",\"type\":\"DataRange1d\"},{\"attributes\":{\"data\":{\"right\":{\"__ndarray__\":\"fc1xymU+3D9YS6ylb+zBvwQufse+ht+/nj+KMHKt4T+MbbRAKpzgPwQ4J7glTOE/1ETVVp5svb8WB9JHnLDUP6+SWW/ekq+/RZsxjYx2wz9D2Czjd77xv21Ef5KhivK/eiK8HbIuxT+Io2/RFD7sv4WNJHZBmtI/\",\"dtype\":\"float64\",\"order\":\"little\",\"shape\":[15]},\"y\":[0,1,2,3,4,5,6,7,8,9,10,11,12,13,14]},\"selected\":{\"id\":\"16953\"},\"selection_policy\":{\"id\":\"16952\"}},\"id\":\"16383\",\"type\":\"ColumnDataSource\"},{\"attributes\":{\"fill_alpha\":{\"value\":0.1},\"fill_color\":\"rgb(166, 129, 204)\",\"height\":{\"value\":0.3},\"line_alpha\":{\"value\":0.1},\"line_color\":\"rgb(166, 129, 204)\",\"right\":{\"field\":\"right\"},\"y\":{\"field\":\"y\"}},\"id\":\"16385\",\"type\":\"HBar\"},{\"attributes\":{\"data\":{\"right\":{\"__ndarray__\":\"ll+dCHd1E0Cga+8edA8UQG6Ojgy6txRA4BF/m01vE0ArAnVO72UTQIiH51FYLRNAL6uAqbCZFUA47dgqtSEUQNVXwAxxKxRA3R2fHSQRFEC2MybuuRQXQFG2PNlgMRZAsNI3YWZVFEB01aJ6xh0WQOJRZ35v9RNA\",\"dtype\":\"float64\",\"order\":\"little\",\"shape\":[15]},\"y\":[0,1,2,3,4,5,6,7,8,9,10,11,12,13,14]},\"selected\":{\"id\":\"16957\"},\"selection_policy\":{\"id\":\"16956\"}},\"id\":\"16393\",\"type\":\"ColumnDataSource\"},{\"attributes\":{\"data_source\":{\"id\":\"16398\"},\"glyph\":{\"id\":\"16399\"},\"hover_glyph\":null,\"muted_glyph\":null,\"nonselection_glyph\":{\"id\":\"16400\"},\"selection_glyph\":null,\"view\":{\"id\":\"16402\"}},\"id\":\"16401\",\"type\":\"GlyphRenderer\"},{\"attributes\":{\"data\":{\"right\":{\"__ndarray__\":\"DODZ0nAFEEDpV5rzV9wQQD816jpBURFAOT1+bW45D0CAMMDnP20PQJCF1eWdDA9ApsKg7qVbEEA/wqeNk34PQFnU6SL8QRBAsR8NOzqrEEAzdjr19+EOQEyfzAz8MxBAq9Lrn4e1EECOHII9bs0QQJRnE6mFqhBA\",\"dtype\":\"float64\",\"order\":\"little\",\"shape\":[15]},\"y\":[0,1,2,3,4,5,6,7,8,9,10,11,12,13,14]},\"selected\":{\"id\":\"16955\"},\"selection_policy\":{\"id\":\"16954\"}},\"id\":\"16388\",\"type\":\"ColumnDataSource\"},{\"attributes\":{\"fill_color\":\"rgb(166, 129, 204)\",\"height\":{\"value\":0.3},\"line_color\":\"rgb(166, 129, 204)\",\"right\":{\"field\":\"right\"},\"y\":{\"field\":\"y\"}},\"id\":\"16384\",\"type\":\"HBar\"},{\"attributes\":{},\"id\":\"16958\",\"type\":\"UnionRenderers\"},{\"attributes\":{\"data_source\":{\"id\":\"16383\"},\"glyph\":{\"id\":\"16384\"},\"hover_glyph\":null,\"muted_glyph\":null,\"nonselection_glyph\":{\"id\":\"16385\"},\"selection_glyph\":null,\"view\":{\"id\":\"16387\"}},\"id\":\"16386\",\"type\":\"GlyphRenderer\"},{\"attributes\":{},\"id\":\"16959\",\"type\":\"Selection\"},{\"attributes\":{\"text\":\"\"},\"id\":\"16946\",\"type\":\"Title\"},{\"attributes\":{\"fill_alpha\":{\"value\":0.1},\"fill_color\":\"rgb(279, 0, 116)\",\"height\":{\"value\":0.3},\"left\":{\"value\":3},\"line_alpha\":{\"value\":0.1},\"line_color\":\"rgb(279, 0, 116)\",\"right\":{\"field\":\"right\"},\"y\":{\"field\":\"y\"}},\"id\":\"16390\",\"type\":\"HBar\"},{\"attributes\":{},\"id\":\"16952\",\"type\":\"UnionRenderers\"},{\"attributes\":{\"data_source\":{\"id\":\"16388\"},\"glyph\":{\"id\":\"16389\"},\"hover_glyph\":null,\"muted_glyph\":null,\"nonselection_glyph\":{\"id\":\"16390\"},\"selection_glyph\":null,\"view\":{\"id\":\"16392\"}},\"id\":\"16391\",\"type\":\"GlyphRenderer\"},{\"attributes\":{\"fill_alpha\":{\"value\":0.1},\"fill_color\":\"rgb(202, 119, 136)\",\"height\":{\"value\":0.3},\"left\":{\"value\":12},\"line_alpha\":{\"value\":0.1},\"line_color\":\"rgb(202, 119, 136)\",\"right\":{\"field\":\"right\"},\"y\":{\"field\":\"y\"}},\"id\":\"16405\",\"type\":\"HBar\"},{\"attributes\":{\"fill_alpha\":{\"value\":0.1},\"fill_color\":\"rgb(0, 180, 132)\",\"height\":{\"value\":0.3},\"left\":{\"value\":9},\"line_alpha\":{\"value\":0.1},\"line_color\":\"rgb(0, 180, 132)\",\"right\":{\"field\":\"right\"},\"y\":{\"field\":\"y\"}},\"id\":\"16400\",\"type\":\"HBar\"},{\"attributes\":{\"fill_color\":\"rgb(279, 0, 116)\",\"height\":{\"value\":0.3},\"left\":{\"value\":3},\"line_color\":\"rgb(279, 0, 116)\",\"right\":{\"field\":\"right\"},\"y\":{\"field\":\"y\"}},\"id\":\"16389\",\"type\":\"HBar\"},{\"attributes\":{\"source\":{\"id\":\"16393\"}},\"id\":\"16397\",\"type\":\"CDSView\"},{\"attributes\":{\"bottom_units\":\"screen\",\"fill_alpha\":0.5,\"fill_color\":\"lightgrey\",\"left_units\":\"screen\",\"level\":\"overlay\",\"line_alpha\":1.0,\"line_color\":\"black\",\"line_dash\":[4,4],\"line_width\":2,\"right_units\":\"screen\",\"top_units\":\"screen\"},\"id\":\"16375\",\"type\":\"BoxAnnotation\"},{\"attributes\":{},\"id\":\"16953\",\"type\":\"Selection\"},{\"attributes\":{},\"id\":\"16366\",\"type\":\"BasicTicker\"},{\"attributes\":{\"fill_alpha\":{\"value\":0.1},\"fill_color\":\"rgb(27, 164, 120)\",\"height\":{\"value\":0.3},\"left\":{\"value\":6},\"line_alpha\":{\"value\":0.1},\"line_color\":\"rgb(27, 164, 120)\",\"right\":{\"field\":\"right\"},\"y\":{\"field\":\"y\"}},\"id\":\"16395\",\"type\":\"HBar\"},{\"attributes\":{\"axis\":{\"id\":\"16365\"},\"dimension\":1,\"ticker\":null},\"id\":\"16368\",\"type\":\"Grid\"},{\"attributes\":{\"source\":{\"id\":\"16388\"}},\"id\":\"16392\",\"type\":\"CDSView\"},{\"attributes\":{\"active_drag\":\"auto\",\"active_inspect\":\"auto\",\"active_multi\":null,\"active_scroll\":\"auto\",\"active_tap\":\"auto\",\"tools\":[{\"id\":\"16369\"},{\"id\":\"16370\"},{\"id\":\"16371\"},{\"id\":\"16372\"},{\"id\":\"16373\"},{\"id\":\"16374\"}]},\"id\":\"16376\",\"type\":\"Toolbar\"},{\"attributes\":{\"axis\":{\"id\":\"16361\"},\"ticker\":null},\"id\":\"16364\",\"type\":\"Grid\"},{\"attributes\":{\"data\":{\"right\":{\"__ndarray__\":\"xOr7PpfNG0AlQ9vgDXIcQBkCasrpFx1AXNT3S6nmG0DbkhRarlUcQLZvyhGYXhxAPHIK+Yi6HEDhKiVvbu4bQOK+M28nbhxAlfTib4W6HUBKoVWit/sgQBJijy10bB5AhH7TWWknHED//D9BuNofQEgjyNbzvB1A\",\"dtype\":\"float64\",\"order\":\"little\",\"shape\":[15]},\"y\":[0,1,2,3,4,5,6,7,8,9,10,11,12,13,14]},\"selected\":{\"id\":\"16959\"},\"selection_policy\":{\"id\":\"16958\"}},\"id\":\"16398\",\"type\":\"ColumnDataSource\"},{\"attributes\":{\"source\":{\"id\":\"16403\"}},\"id\":\"16407\",\"type\":\"CDSView\"},{\"attributes\":{\"fill_color\":\"rgb(0, 180, 132)\",\"height\":{\"value\":0.3},\"left\":{\"value\":9},\"line_color\":\"rgb(0, 180, 132)\",\"right\":{\"field\":\"right\"},\"y\":{\"field\":\"y\"}},\"id\":\"16399\",\"type\":\"HBar\"},{\"attributes\":{},\"id\":\"16960\",\"type\":\"UnionRenderers\"},{\"attributes\":{},\"id\":\"16961\",\"type\":\"Selection\"}],\"root_ids\":[\"16352\"]},\"title\":\"Bokeh Application\",\"version\":\"2.2.3\"}};\n",
       "  var render_items = [{\"docid\":\"50b44653-03ef-42d3-a378-fb3d0821be80\",\"root_ids\":[\"16352\"],\"roots\":{\"16352\":\"01b01b31-5afd-4273-81ec-a190c510055e\"}}];\n",
       "  root.Bokeh.embed.embed_items_notebook(docs_json, render_items);\n",
       "\n",
       "  }\n",
       "  if (root.Bokeh !== undefined) {\n",
       "    embed_document(root);\n",
       "  } else {\n",
       "    var attempts = 0;\n",
       "    var timer = setInterval(function(root) {\n",
       "      if (root.Bokeh !== undefined) {\n",
       "        clearInterval(timer);\n",
       "        embed_document(root);\n",
       "      } else {\n",
       "        attempts++;\n",
       "        if (attempts > 100) {\n",
       "          clearInterval(timer);\n",
       "          console.log(\"Bokeh: ERROR: Unable to run BokehJS code because BokehJS library is missing\");\n",
       "        }\n",
       "      }\n",
       "    }, 10, root)\n",
       "  }\n",
       "})(window);"
      ],
      "application/vnd.bokehjs_exec.v0+json": ""
     },
     "metadata": {
      "application/vnd.bokehjs_exec.v0+json": {
       "id": "16352"
      }
     },
     "output_type": "display_data"
    },
    {
     "name": "stdout",
     "output_type": "stream",
     "text": [
      "k = 6\n",
      "silhouette: 0.318\n"
     ]
    },
    {
     "data": {
      "text/html": [
       "\n",
       "\n",
       "\n",
       "\n",
       "\n",
       "\n",
       "  <div class=\"bk-root\" id=\"0146f0d1-05b9-4c32-97c5-1e6412616de9\" data-root-id=\"17049\"></div>\n"
      ]
     },
     "metadata": {},
     "output_type": "display_data"
    },
    {
     "data": {
      "application/javascript": [
       "(function(root) {\n",
       "  function embed_document(root) {\n",
       "    \n",
       "  var docs_json = {\"5c0aa1ef-aca9-4a65-9916-5f26ebb863aa\":{\"roots\":{\"references\":[{\"attributes\":{\"below\":[{\"id\":\"17058\"}],\"center\":[{\"id\":\"17061\"},{\"id\":\"17065\"},{\"id\":\"17096\"}],\"left\":[{\"id\":\"17062\"}],\"plot_height\":400,\"plot_width\":400,\"renderers\":[{\"id\":\"17085\"}],\"title\":{\"id\":\"17088\"},\"toolbar\":{\"id\":\"17074\"},\"x_range\":{\"id\":\"17050\"},\"x_scale\":{\"id\":\"17054\"},\"y_range\":{\"id\":\"17052\"},\"y_scale\":{\"id\":\"17056\"}},\"id\":\"17049\",\"subtype\":\"Figure\",\"type\":\"Plot\"},{\"attributes\":{\"factors\":[\"00\",\"01\",\"02\",\"03\",\"04\",\"05\"],\"palette\":[\"rgb(166, 129, 205)\",\"rgb(273, 30, 117)\",\"rgb(56, 163, 93)\",\"rgb(200, 120, 140)\",\"rgb(0, 163, 168)\",\"rgb(0, 180, 136)\"]},\"id\":\"17047\",\"type\":\"CategoricalColorMapper\"},{\"attributes\":{\"index\":0,\"label\":{\"value\":\"04\"},\"renderers\":[{\"id\":\"17085\"}]},\"id\":\"17101\",\"type\":\"LegendItem\"},{\"attributes\":{\"index\":4,\"label\":{\"value\":\"01\"},\"renderers\":[{\"id\":\"17085\"}]},\"id\":\"17098\",\"type\":\"LegendItem\"},{\"attributes\":{\"index\":3,\"label\":{\"value\":\"02\"},\"renderers\":[{\"id\":\"17085\"}]},\"id\":\"17099\",\"type\":\"LegendItem\"},{\"attributes\":{\"index\":1,\"label\":{\"value\":\"03\"},\"renderers\":[{\"id\":\"17085\"}]},\"id\":\"17100\",\"type\":\"LegendItem\"},{\"attributes\":{\"text\":\"\"},\"id\":\"17088\",\"type\":\"Title\"},{\"attributes\":{\"items\":[{\"id\":\"17097\"},{\"id\":\"17098\"},{\"id\":\"17099\"},{\"id\":\"17100\"},{\"id\":\"17101\"},{\"id\":\"17102\"}]},\"id\":\"17096\",\"type\":\"Legend\"},{\"attributes\":{},\"id\":\"17090\",\"type\":\"BasicTickFormatter\"},{\"attributes\":{},\"id\":\"17094\",\"type\":\"UnionRenderers\"},{\"attributes\":{},\"id\":\"17095\",\"type\":\"Selection\"},{\"attributes\":{\"data\":{\"Country\":[\"Afghanistan\",\"Albania\",\"Algeria\",\"Angola\",\"Argentina\",\"Armenia\",\"Australia\",\"Austria\",\"Azerbaijan\",\"Bahrain\",\"Bangladesh\",\"Barbados\",\"Belarus\",\"Belgium\",\"Benin\",\"Bhutan\",\"Bolivia\",\"Bosnia and Herzegovina\",\"Botswana\",\"Brazil\",\"Bulgaria\",\"Burkina Faso\",\"Burundi\",\"Cabo Verde\",\"Cambodia\",\"Cameroon\",\"Canada\",\"Central African Republic\",\"Colombia\",\"Congo, Democratic Republic of\",\"Congo, Republic of\",\"Costa Rica\",\"C\\u00f4te d'Ivoire\",\"Croatia\",\"Cuba\",\"Cyprus\",\"Czechia\",\"Denmark\",\"Djibouti\",\"Dominican Republic\",\"Ecuador\",\"Egypt\",\"El Salvador\",\"Equatorial Guinea\",\"Eritrea\",\"Estonia\",\"Eswatini\",\"Ethiopia\",\"Fiji\",\"Finland\",\"France\",\"Gabon\",\"Gambia, The\",\"Georgia\",\"Germany\",\"Ghana\",\"Greece\",\"Guatemala\",\"Guinea\",\"Guinea-Bissau\",\"Guyana\",\"Haiti\",\"Honduras\",\"Hungary\",\"Chad\",\"Chile\",\"China\",\"Iceland\",\"India\",\"Indonesia\",\"Iran\",\"Iraq\",\"Ireland\",\"Israel\",\"Italy\",\"Jamaica\",\"Japan\",\"Jordan\",\"Kazakhstan\",\"Kenya\",\"Korea, Democratic Republic of\",\"Korea, Republic of\",\"Kuwait\",\"Kyrgyzstan\",\"Laos\",\"Latvia\",\"Lebanon\",\"Lesotho\",\"Liberia\",\"Lithuania\",\"Luxembourg\",\"Madagascar\",\"Malawi\",\"Malaysia\",\"Maldives\",\"Mali\",\"Malta\",\"Mauritania\",\"Mauritius\",\"Mexico\",\"Moldova\",\"Mongolia\",\"Montenegro\",\"Morocco\",\"Mozambique\",\"Myanmar\",\"Namibia\",\"Nepal\",\"Netherlands\",\"New Zealand\",\"Nicaragua\",\"Niger\",\"Nigeria\",\"Norway\",\"Oman\",\"Pakistan\",\"Panama\",\"Papua New Guinea\",\"Paraguay\",\"Peru\",\"Philippines\",\"Poland\",\"Portugal\",\"Qatar\",\"Republic of North Macedonia\",\"Romania\",\"Russia\",\"Rwanda\",\"Saudi Arabia\",\"Senegal\",\"Serbia\",\"Sierra Leone\",\"Singapore\",\"Slovakia\",\"Slovenia\",\"Somalia\",\"South Africa\",\"South Sudan\",\"Spain\",\"Sri Lanka\",\"Sudan\",\"Suriname\",\"Sweden\",\"Switzerland\",\"Tajikistan\",\"Tanzania\",\"Thailand\",\"Timor-Leste\",\"Togo\",\"Trinidad and Tobago\",\"Tunisia\",\"Turkey\",\"Turkmenistan\",\"Uganda\",\"Ukraine\",\"United Arab Emirates\",\"United Kingdom\",\"United States\",\"Uruguay\",\"Uzbekistan\",\"Vietnam\",\"Zambia\",\"Zimbabwe\"],\"index\":[10,20,30,40,50,60,70,80,90,100,110,120,130,140,150,160,170,180,190,200,210,220,230,240,250,260,270,280,290,300,310,320,330,340,350,360,370,380,390,400,410,420,430,440,450,460,470,480,490,500,510,520,530,540,550,560,570,580,590,600,610,620,630,640,650,660,670,680,690,700,710,720,730,740,750,760,770,780,790,800,810,820,830,840,850,860,870,880,890,900,910,920,930,940,950,960,970,980,990,1000,1010,1020,1030,1040,1050,1060,1070,1080,1090,1100,1110,1120,1130,1140,1150,1160,1170,1180,1190,1200,1210,1220,1230,1240,1250,1260,1270,1280,1293,1303,1313,1323,1333,1343,1353,1363,1373,1383,1390,1400,1410,1420,1430,1440,1450,1460,1470,1480,1490,1500,1510,1520,1530,1540,1550,1560,1570,1580,1590,1600,1610,1620,1630],\"labels\":[\"04\",\"03\",\"00\",\"02\",\"01\",\"03\",\"01\",\"01\",\"00\",\"00\",\"04\",\"01\",\"03\",\"01\",\"02\",\"03\",\"03\",\"03\",\"03\",\"03\",\"01\",\"02\",\"05\",\"03\",\"04\",\"04\",\"01\",\"05\",\"03\",\"05\",\"04\",\"01\",\"02\",\"01\",\"00\",\"01\",\"01\",\"01\",\"04\",\"03\",\"03\",\"00\",\"03\",\"04\",\"05\",\"01\",\"04\",\"02\",\"03\",\"01\",\"01\",\"03\",\"02\",\"03\",\"01\",\"02\",\"01\",\"03\",\"05\",\"02\",\"03\",\"02\",\"03\",\"01\",\"05\",\"01\",\"00\",\"01\",\"04\",\"03\",\"00\",\"00\",\"01\",\"01\",\"01\",\"03\",\"01\",\"00\",\"00\",\"02\",\"04\",\"01\",\"03\",\"03\",\"04\",\"01\",\"00\",\"02\",\"02\",\"01\",\"01\",\"02\",\"02\",\"03\",\"03\",\"02\",\"01\",\"04\",\"03\",\"03\",\"03\",\"03\",\"03\",\"00\",\"02\",\"04\",\"03\",\"02\",\"01\",\"01\",\"03\",\"02\",\"02\",\"01\",\"00\",\"04\",\"03\",\"02\",\"03\",\"03\",\"03\",\"01\",\"01\",\"00\",\"03\",\"03\",\"00\",\"02\",\"00\",\"02\",\"03\",\"02\",\"01\",\"01\",\"01\",\"05\",\"03\",\"05\",\"01\",\"03\",\"04\",\"03\",\"01\",\"01\",\"04\",\"02\",\"03\",\"02\",\"02\",\"03\",\"03\",\"00\",\"00\",\"02\",\"03\",\"00\",\"01\",\"01\",\"01\",\"00\",\"00\",\"02\",\"04\"],\"x\":{\"__ndarray__\":\"9381A0duWEAC368tE6s8wDIAU9VouCfAlqW6+nFOVEAjX0n8urFJwHwetArayUHAR+AexhsWVsAHVDca6m9UwIzzHrBh3yFARQHsco39GsA0GmcFa3pIQDl42o0GH0nAUt6nQmoFQ8BVl/2KgEBUwDqf7acTjE1ARfxh8cgavb/YjSJw8QQTwPaSd4Xa+zXAxYdg4TsO679/UUl31gA6wJ8NFiRIaEfAqIbCJcxEVED7opvtvvtbQFGnRBXl4SrAHWYaWcWYR0AcSkdwJ3ZQQP3LwU3+FFbAQO0D0kStYkAE3+T4Mhw6wFv0GxpzgVpArBaoJaViU0DBM7GLt0FMwK9ritA/+E5A3mPB01NtS8BWXgxId/EnwIc9I6Di+1HABUFdpLLpUcBCMADxrKtWwH1BsMkZQ1NAP7Px1+c9JcDxYl2wFfs9wKcpyivzCTJAsF5O9FWT3z8qneG2yTFRQK+k8+vEc2BAbpXW3vZWUsCh/XOQaN5NQMDUCE9F31RAdjfE2VER/r84ya67mFdWwFLWTHKJ0FPAbGL5Fg7zK0AOvTAtapJMQDQzZm0sdzzAOuWvYAthVcAtJgCLbsoyQDKVbQ9GAlHAacNEyP0LOEDJimxYgZhZQMypBthqtFdAdhA7JBmNE0AbpptV/hxUQCoqBKHHvTVAJBj8qX5uScBy29v8yKNiQP1B7xiZUU7AIU0a5+srCsCqrtjpfKVVwFzlagrszUFAB7RbG1U/F8CEvBCMDpoZwHn9vnI5rh9AFtpU8v/qVMCZfRoCg+BOwJPcs7enaFLAMpPg03FCN8CtECgi6BNVwNfGIlcfKTPAXSeC4UhtNsAXvUNFOulHQDXY2xEKIVFAe9nfxfyGVMC/HDYOheREwKgVBLJMpRDAg1mdubvdUEDMagiMTpdNwDloowzqkCbAioWICrNYTkC3n8CohwBTQD4wBVIms07A4cl6rRP7U8BpVDBsiQhWQGLm6SGikFBABfQf4N0FQ8BQb1K37mIjwDRk61r9Z1VAcK0JMuUFUMDSu58cjrNSQP+vbaLzzUXAeD9KsuNLOMCdYqMXsUI0wG1YbZFbLSXAVMm5pTX4O8Dt80o+L7rgv4G7JjPwQFVAIyPpw9znR0A9hLrycXMhQHEFXMd/DkRADyvI87nPVcA3I7MSAxFWwLm6WiU2hTFAS8WcaYYiW0BOM4mDux5QQAqvZL7zFlfAzzEECKouNMDhbLNL3U9RQIqh7w7nnz/AKWqdeKRVWEAr1YOQMisxwIm1XZ1ODzjAXjG4OgQ/EkBrmoj+hc5PwIbGzWI+cFLAg4wVz3HHM8Ai+BHayBE4wOwTDgSbOUTAInFyXZgiOcC6FdwVkYlNQPHGO4hZ5QrALYRXbp14Q0CNU98abB1AwPcAa3Ym2FJAqd639D0UUcC5m0kK55tNwG+WdiZPpVLA3vt1lX06YEBhScl76gMmwDTVYdA7A2NA4gAr30OUU8BwujiZlIowwKmYDBglLVJAjHdIS1iVJ8DMq5FxQBZWwKPITWukL1bAXmroQY9PQ0D78B30/LRLQKaHem0H3CjA4uxow2KKQEC01vo8FaRQQNZOeHrmukDASJmCCoAVP8C5QEtCOQ0lwGYTVI2G6z9Ap5NNavIlUECCoB2RHZE6wAZCkVz8jTLAe4zmE47IU8D3KbHrggdSwA4GzfYANE3AhQshkxpwGUARqQo9ydASwEg0gDIEEk1AztXaQyVlUEA=\",\"dtype\":\"float64\",\"order\":\"little\",\"shape\":[163]},\"y\":{\"__ndarray__\":\"e4Lu+j0NLEBIgEvt2AX7P3tG7kN3DEBAwPVMFCzZFcBevvOSsKIWwEvGrIsM6BhAerCQHoq6McCL0s6ZmUElwBquSQjgfUVA2o4WrIr/T0DtQJe+Ww0tQGnDIZDaqB3Aty4c08J+N0BDgyjAxLQzwPChDh1t0kbA7hFXIcOBHsDxMZJbH5TGv1/j3aiyJC5A3qzLMzQWMsAKjJGVdzkiQJcW9GM5dAnAChD7Rt3cQ8D8kk4ed0gJwGaXBxQ0QDLA8NL1zTxqL0DZwqNTDSD8PyzK9lWeaTTAOvhh4I3EPsAGf5Ai19QsQOqd93j49M2/nxFpA3LOMEDKKvh7JrgwwHXDArH/MTPA2jQ8ntlX5j/rCLIKkwU7QKtuyOak2STA15IFr3PhIcA9+H/FVjw5wA1AllYBUhJASFkJ8rDfFMD1OOK6yCfWv6O34UklKEtAzutAMerCFkD/TMEuj746QGK3NA2taTZADq5368jsKMB+RH2+8AY2QOGXNOPWrSTAX/zudjU2FkBuW0sMXKM4wMd0dIgKcSnA9FBr+JpcFUBjb6lcgBlAwNoRBDcnRgxABAfqWBJqM8D2M3Zrb4NAwMb7lEOICyfAInqDnTnnHUAhFhrCkxEuwLpRG7o+2EDArgbKjyAtHsDJ24HB0bkpwD/IVkPbhSVAjXujAvEl7z+uRAlLGjMgwPp7qXcamR/AyoLASW0eTUC2nh1HMiYxwJChx0ZPyyxAH5OkhKccwr/+hQnpY0BJQAigOh0agUJA8j46CaRtNcBG/DZQiN8BQI6L2oxMJjDA38WnXeQKNcCppVVAqbopwOu6vy6YW0BA7jvfruz0PED4JZtaEzoswPZ++wpH1klAig7/GS+gIcD3EZ7ESaY1QGRotSpKLDFA5+NECguxL0DQLHoGyCYcwL+6Wgk5lTxAWGPXOt5LQMCLIlGatJ1HwI0fgRZ7YyfAUioOXZSmNsAqWAuLupBEwGvK0anXUUDAW7sxgQPcLUANl3sybZEgQLGVAi0lPTzA9v/sn4yjJcD7IzidDz0VQNN1ZXU8NyHAHbsaJ8kQE0AiNLwSUNIYQFPeD72nHy3Ajmw7zpxxMkBxrCkgW1A5QPf67B0jhkHAlzWgo6vnGkDJINfsbVM6wHAlfg5akCTACukIzMvCM8CUEHR3g2k3wD7DOXqyDDNA2tg4BdwvQ8AD+r8tSOQhwAInLcZzPDjA+YaJsyLcQECcnwmR6HQ1QDfUtuGfVR3AU2hca5K+QMByscbrJ/vwvzNQCg9D1QfA/lrkD9/H/7/V3wPEdWwIwD1ixpJGsTPAgnjLmHrTSkAXBb7WxfYxQDknjrdfRArAtzqtk+rmQkBqzANXwjEgwCwOKvdgglNA/LHf/tqgQMAwU14kRJ4nQJXqg3XpCUjAVF/sD9XhIUB4WZh/C/cQwA9MObYy2yvAkFZ0rLEeI0Din7jSFO0awOHoNdHYQw1AA7awOUSnMMBZJAoq91y2v1kf9boF+jlAiiqu56O+EsBBgYPDZrI4wJc6Z7ZThzPAdV7zITegSEDmoQYtFto8wBXMxBuwUjVANJS4KV03OMA5ekzoyoE6wL48twiG1yDAZp+PHqsW3j+AU/AnFilKQGjEoP0KOE9AJIpptwdnKsDnWDAcl7swQNqNhG04WUZA1A8GgwAPKcCsjfV+k8MIwISNgrudbDHAyh1sSoYuQUAtSmKUn3k2QNT8akyDkDbAoosAcdJcBUA=\",\"dtype\":\"float64\",\"order\":\"little\",\"shape\":[163]}},\"selected\":{\"id\":\"17095\"},\"selection_policy\":{\"id\":\"17094\"}},\"id\":\"17048\",\"type\":\"ColumnDataSource\"},{\"attributes\":{},\"id\":\"17069\",\"type\":\"SaveTool\"},{\"attributes\":{\"axis\":{\"id\":\"17062\"},\"dimension\":1,\"ticker\":null},\"id\":\"17065\",\"type\":\"Grid\"},{\"attributes\":{\"fill_alpha\":{\"value\":0.1},\"fill_color\":{\"field\":\"labels\",\"transform\":{\"id\":\"17047\"}},\"line_alpha\":{\"value\":0.1},\"line_color\":{\"value\":null},\"radius\":{\"units\":\"data\",\"value\":1.5}},\"id\":\"17084\",\"type\":\"Circle\"},{\"attributes\":{},\"id\":\"17063\",\"type\":\"BasicTicker\"},{\"attributes\":{},\"id\":\"17066\",\"type\":\"PanTool\"},{\"attributes\":{\"data_source\":{\"id\":\"17048\"},\"glyph\":{\"id\":\"17083\"},\"hover_glyph\":null,\"muted_glyph\":null,\"nonselection_glyph\":{\"id\":\"17084\"},\"selection_glyph\":null,\"view\":{\"id\":\"17086\"}},\"id\":\"17085\",\"type\":\"GlyphRenderer\"},{\"attributes\":{\"formatter\":{\"id\":\"17092\"},\"ticker\":{\"id\":\"17063\"}},\"id\":\"17062\",\"type\":\"LinearAxis\"},{\"attributes\":{\"bottom_units\":\"screen\",\"fill_alpha\":0.5,\"fill_color\":\"lightgrey\",\"left_units\":\"screen\",\"level\":\"overlay\",\"line_alpha\":1.0,\"line_color\":\"black\",\"line_dash\":[4,4],\"line_width\":2,\"right_units\":\"screen\",\"top_units\":\"screen\"},\"id\":\"17072\",\"type\":\"BoxAnnotation\"},{\"attributes\":{\"fill_color\":{\"field\":\"labels\",\"transform\":{\"id\":\"17047\"}},\"line_color\":{\"value\":null},\"radius\":{\"units\":\"data\",\"value\":1.5}},\"id\":\"17083\",\"type\":\"Circle\"},{\"attributes\":{\"active_drag\":\"auto\",\"active_inspect\":\"auto\",\"active_multi\":null,\"active_scroll\":\"auto\",\"active_tap\":\"auto\",\"tools\":[{\"id\":\"17066\"},{\"id\":\"17067\"},{\"id\":\"17068\"},{\"id\":\"17069\"},{\"id\":\"17070\"},{\"id\":\"17071\"},{\"id\":\"17073\"}]},\"id\":\"17074\",\"type\":\"Toolbar\"},{\"attributes\":{\"source\":{\"id\":\"17048\"}},\"id\":\"17086\",\"type\":\"CDSView\"},{\"attributes\":{},\"id\":\"17054\",\"type\":\"LinearScale\"},{\"attributes\":{\"formatter\":{\"id\":\"17090\"},\"ticker\":{\"id\":\"17059\"}},\"id\":\"17058\",\"type\":\"LinearAxis\"},{\"attributes\":{},\"id\":\"17050\",\"type\":\"DataRange1d\"},{\"attributes\":{\"overlay\":{\"id\":\"17072\"}},\"id\":\"17068\",\"type\":\"BoxZoomTool\"},{\"attributes\":{},\"id\":\"17067\",\"type\":\"WheelZoomTool\"},{\"attributes\":{},\"id\":\"17070\",\"type\":\"ResetTool\"},{\"attributes\":{\"index\":22,\"label\":{\"value\":\"05\"},\"renderers\":[{\"id\":\"17085\"}]},\"id\":\"17102\",\"type\":\"LegendItem\"},{\"attributes\":{\"callback\":null,\"tooltips\":[[\"Country:\",\"@Country\"],[\"Label:\",\"@labels\"]]},\"id\":\"17073\",\"type\":\"HoverTool\"},{\"attributes\":{},\"id\":\"17092\",\"type\":\"BasicTickFormatter\"},{\"attributes\":{\"index\":2,\"label\":{\"value\":\"00\"},\"renderers\":[{\"id\":\"17085\"}]},\"id\":\"17097\",\"type\":\"LegendItem\"},{\"attributes\":{},\"id\":\"17071\",\"type\":\"HelpTool\"},{\"attributes\":{},\"id\":\"17059\",\"type\":\"BasicTicker\"},{\"attributes\":{\"axis\":{\"id\":\"17058\"},\"ticker\":null},\"id\":\"17061\",\"type\":\"Grid\"},{\"attributes\":{},\"id\":\"17052\",\"type\":\"DataRange1d\"},{\"attributes\":{},\"id\":\"17056\",\"type\":\"LinearScale\"}],\"root_ids\":[\"17049\"]},\"title\":\"Bokeh Application\",\"version\":\"2.2.3\"}};\n",
       "  var render_items = [{\"docid\":\"5c0aa1ef-aca9-4a65-9916-5f26ebb863aa\",\"root_ids\":[\"17049\"],\"roots\":{\"17049\":\"0146f0d1-05b9-4c32-97c5-1e6412616de9\"}}];\n",
       "  root.Bokeh.embed.embed_items_notebook(docs_json, render_items);\n",
       "\n",
       "  }\n",
       "  if (root.Bokeh !== undefined) {\n",
       "    embed_document(root);\n",
       "  } else {\n",
       "    var attempts = 0;\n",
       "    var timer = setInterval(function(root) {\n",
       "      if (root.Bokeh !== undefined) {\n",
       "        clearInterval(timer);\n",
       "        embed_document(root);\n",
       "      } else {\n",
       "        attempts++;\n",
       "        if (attempts > 100) {\n",
       "          clearInterval(timer);\n",
       "          console.log(\"Bokeh: ERROR: Unable to run BokehJS code because BokehJS library is missing\");\n",
       "        }\n",
       "      }\n",
       "    }, 10, root)\n",
       "  }\n",
       "})(window);"
      ],
      "application/vnd.bokehjs_exec.v0+json": ""
     },
     "metadata": {
      "application/vnd.bokehjs_exec.v0+json": {
       "id": "17049"
      }
     },
     "output_type": "display_data"
    },
    {
     "data": {
      "text/html": [
       "\n",
       "\n",
       "\n",
       "\n",
       "\n",
       "\n",
       "  <div class=\"bk-root\" id=\"dc0064d7-6a7f-44bc-82f6-ea3c6eb59e80\" data-root-id=\"17711\"></div>\n"
      ]
     },
     "metadata": {},
     "output_type": "display_data"
    },
    {
     "data": {
      "application/javascript": [
       "(function(root) {\n",
       "  function embed_document(root) {\n",
       "    \n",
       "  var docs_json = {\"4800b968-aa19-4086-8f02-2e2e43027e89\":{\"roots\":{\"references\":[{\"attributes\":{\"below\":[{\"id\":\"17720\"}],\"center\":[{\"id\":\"17723\"},{\"id\":\"17727\"}],\"left\":[{\"id\":\"17724\"}],\"plot_height\":400,\"renderers\":[{\"id\":\"17745\"},{\"id\":\"17750\"},{\"id\":\"17755\"},{\"id\":\"17760\"},{\"id\":\"17765\"},{\"id\":\"17770\"}],\"title\":{\"id\":\"18336\"},\"toolbar\":{\"id\":\"17735\"},\"x_range\":{\"id\":\"17712\"},\"x_scale\":{\"id\":\"17716\"},\"y_range\":{\"id\":\"17714\"},\"y_scale\":{\"id\":\"17718\"}},\"id\":\"17711\",\"subtype\":\"Figure\",\"type\":\"Plot\"},{\"attributes\":{},\"id\":\"17716\",\"type\":\"LinearScale\"},{\"attributes\":{\"fill_color\":\"rgb(0, 163, 168)\",\"height\":{\"value\":0.3},\"left\":{\"value\":12},\"line_color\":\"rgb(0, 163, 168)\",\"right\":{\"field\":\"right\"},\"y\":{\"field\":\"y\"}},\"id\":\"17763\",\"type\":\"HBar\"},{\"attributes\":{\"axis\":{\"id\":\"17720\"},\"ticker\":null},\"id\":\"17723\",\"type\":\"Grid\"},{\"attributes\":{\"source\":{\"id\":\"17747\"}},\"id\":\"17751\",\"type\":\"CDSView\"},{\"attributes\":{\"axis\":{\"id\":\"17724\"},\"dimension\":1,\"ticker\":null},\"id\":\"17727\",\"type\":\"Grid\"},{\"attributes\":{\"data\":{\"right\":{\"__ndarray__\":\"TChuAn1VJkCPqBrszLglQOg+iBYQqiVALTCf0N9NJkAp7qLdrpUmQHdMWptfdiZA/9J7UMFNJkCGhuNEoWQmQHQ+v9HZ0SVAaU+q+SQXJkBU8lfDxSMmQDXrZne3diVAIziKgj9iJkCB5qme0N4lQP5TIhpwWiZA\",\"dtype\":\"float64\",\"order\":\"little\",\"shape\":[15]},\"y\":[0,1,2,3,4,5,6,7,8,9,10,11,12,13,14]},\"selected\":{\"id\":\"18351\"},\"selection_policy\":{\"id\":\"18350\"}},\"id\":\"17762\",\"type\":\"ColumnDataSource\"},{\"attributes\":{},\"id\":\"17725\",\"type\":\"BasicTicker\"},{\"attributes\":{\"data\":{\"right\":{\"__ndarray__\":\"mXYGImd/3j9oXx4i2O3Gv1gbf8Hp996/865V/GGt4j/CXCRT40niP9SXPKzfDOI/imPOVrVuub9C/a51ePPTP8QKDuIWhZC/qfqHH/gxwz8sA0oBmy/1v18p81Yvm/K/BGBcIaTIyT8iP+E2E27uv6fvIvYBhtY/\",\"dtype\":\"float64\",\"order\":\"little\",\"shape\":[15]},\"y\":[0,1,2,3,4,5,6,7,8,9,10,11,12,13,14]},\"selected\":{\"id\":\"18343\"},\"selection_policy\":{\"id\":\"18342\"}},\"id\":\"17742\",\"type\":\"ColumnDataSource\"},{\"attributes\":{\"source\":{\"id\":\"17752\"}},\"id\":\"17756\",\"type\":\"CDSView\"},{\"attributes\":{\"active_drag\":\"auto\",\"active_inspect\":\"auto\",\"active_multi\":null,\"active_scroll\":\"auto\",\"active_tap\":\"auto\",\"tools\":[{\"id\":\"17728\"},{\"id\":\"17729\"},{\"id\":\"17730\"},{\"id\":\"17731\"},{\"id\":\"17732\"},{\"id\":\"17733\"}]},\"id\":\"17735\",\"type\":\"Toolbar\"},{\"attributes\":{\"fill_color\":\"rgb(0, 180, 136)\",\"height\":{\"value\":0.3},\"left\":{\"value\":15},\"line_color\":\"rgb(0, 180, 136)\",\"right\":{\"field\":\"right\"},\"y\":{\"field\":\"y\"}},\"id\":\"17768\",\"type\":\"HBar\"},{\"attributes\":{},\"id\":\"18338\",\"type\":\"BasicTickFormatter\"},{\"attributes\":{},\"id\":\"17729\",\"type\":\"WheelZoomTool\"},{\"attributes\":{},\"id\":\"18350\",\"type\":\"UnionRenderers\"},{\"attributes\":{},\"id\":\"17728\",\"type\":\"PanTool\"},{\"attributes\":{},\"id\":\"18351\",\"type\":\"Selection\"},{\"attributes\":{\"overlay\":{\"id\":\"17734\"}},\"id\":\"17730\",\"type\":\"BoxZoomTool\"},{\"attributes\":{\"data\":{\"right\":{\"__ndarray__\":\"ykZyf7ypKUAgek5HWUwqQDW8nVR2UCpAAyj0GvHFKUAnM9LyBvgpQOdgVh5H9ylAMClk97ALKkCqtVqIBT4qQEKEVVby+SlAKUeCsAy7KkCKCBS+LXItQIQNwvUVyCpAgLjkxi8TKkA4ZURuRZwrQK+zRp3w2ypA\",\"dtype\":\"float64\",\"order\":\"little\",\"shape\":[15]},\"y\":[0,1,2,3,4,5,6,7,8,9,10,11,12,13,14]},\"selected\":{\"id\":\"18353\"},\"selection_policy\":{\"id\":\"18352\"}},\"id\":\"17767\",\"type\":\"ColumnDataSource\"},{\"attributes\":{},\"id\":\"17731\",\"type\":\"SaveTool\"},{\"attributes\":{\"data_source\":{\"id\":\"17742\"},\"glyph\":{\"id\":\"17743\"},\"hover_glyph\":null,\"muted_glyph\":null,\"nonselection_glyph\":{\"id\":\"17744\"},\"selection_glyph\":null,\"view\":{\"id\":\"17746\"}},\"id\":\"17745\",\"type\":\"GlyphRenderer\"},{\"attributes\":{},\"id\":\"17732\",\"type\":\"ResetTool\"},{\"attributes\":{},\"id\":\"18344\",\"type\":\"UnionRenderers\"},{\"attributes\":{\"fill_alpha\":{\"value\":0.1},\"fill_color\":\"rgb(200, 120, 140)\",\"height\":{\"value\":0.3},\"left\":{\"value\":9},\"line_alpha\":{\"value\":0.1},\"line_color\":\"rgb(200, 120, 140)\",\"right\":{\"field\":\"right\"},\"y\":{\"field\":\"y\"}},\"id\":\"17759\",\"type\":\"HBar\"},{\"attributes\":{\"source\":{\"id\":\"17757\"}},\"id\":\"17761\",\"type\":\"CDSView\"},{\"attributes\":{},\"id\":\"18345\",\"type\":\"Selection\"},{\"attributes\":{\"data_source\":{\"id\":\"17747\"},\"glyph\":{\"id\":\"17748\"},\"hover_glyph\":null,\"muted_glyph\":null,\"nonselection_glyph\":{\"id\":\"17749\"},\"selection_glyph\":null,\"view\":{\"id\":\"17751\"}},\"id\":\"17750\",\"type\":\"GlyphRenderer\"},{\"attributes\":{\"data_source\":{\"id\":\"17752\"},\"glyph\":{\"id\":\"17753\"},\"hover_glyph\":null,\"muted_glyph\":null,\"nonselection_glyph\":{\"id\":\"17754\"},\"selection_glyph\":null,\"view\":{\"id\":\"17756\"}},\"id\":\"17755\",\"type\":\"GlyphRenderer\"},{\"attributes\":{\"fill_alpha\":{\"value\":0.1},\"fill_color\":\"rgb(166, 129, 205)\",\"height\":{\"value\":0.3},\"line_alpha\":{\"value\":0.1},\"line_color\":\"rgb(166, 129, 205)\",\"right\":{\"field\":\"right\"},\"y\":{\"field\":\"y\"}},\"id\":\"17744\",\"type\":\"HBar\"},{\"attributes\":{},\"id\":\"18340\",\"type\":\"BasicTickFormatter\"},{\"attributes\":{\"data_source\":{\"id\":\"17757\"},\"glyph\":{\"id\":\"17758\"},\"hover_glyph\":null,\"muted_glyph\":null,\"nonselection_glyph\":{\"id\":\"17759\"},\"selection_glyph\":null,\"view\":{\"id\":\"17761\"}},\"id\":\"17760\",\"type\":\"GlyphRenderer\"},{\"attributes\":{\"fill_alpha\":{\"value\":0.1},\"fill_color\":\"rgb(56, 163, 93)\",\"height\":{\"value\":0.3},\"left\":{\"value\":6},\"line_alpha\":{\"value\":0.1},\"line_color\":\"rgb(56, 163, 93)\",\"right\":{\"field\":\"right\"},\"y\":{\"field\":\"y\"}},\"id\":\"17754\",\"type\":\"HBar\"},{\"attributes\":{\"source\":{\"id\":\"17762\"}},\"id\":\"17766\",\"type\":\"CDSView\"},{\"attributes\":{\"fill_alpha\":{\"value\":0.1},\"fill_color\":\"rgb(0, 180, 136)\",\"height\":{\"value\":0.3},\"left\":{\"value\":15},\"line_alpha\":{\"value\":0.1},\"line_color\":\"rgb(0, 180, 136)\",\"right\":{\"field\":\"right\"},\"y\":{\"field\":\"y\"}},\"id\":\"17769\",\"type\":\"HBar\"},{\"attributes\":{},\"id\":\"18352\",\"type\":\"UnionRenderers\"},{\"attributes\":{\"data_source\":{\"id\":\"17767\"},\"glyph\":{\"id\":\"17768\"},\"hover_glyph\":null,\"muted_glyph\":null,\"nonselection_glyph\":{\"id\":\"17769\"},\"selection_glyph\":null,\"view\":{\"id\":\"17771\"}},\"id\":\"17770\",\"type\":\"GlyphRenderer\"},{\"attributes\":{},\"id\":\"18353\",\"type\":\"Selection\"},{\"attributes\":{\"formatter\":{\"id\":\"18338\"},\"ticker\":{\"id\":\"17721\"}},\"id\":\"17720\",\"type\":\"LinearAxis\"},{\"attributes\":{\"source\":{\"id\":\"17742\"}},\"id\":\"17746\",\"type\":\"CDSView\"},{\"attributes\":{},\"id\":\"18346\",\"type\":\"UnionRenderers\"},{\"attributes\":{\"source\":{\"id\":\"17767\"}},\"id\":\"17771\",\"type\":\"CDSView\"},{\"attributes\":{\"fill_alpha\":{\"value\":0.1},\"fill_color\":\"rgb(273, 30, 117)\",\"height\":{\"value\":0.3},\"left\":{\"value\":3},\"line_alpha\":{\"value\":0.1},\"line_color\":\"rgb(273, 30, 117)\",\"right\":{\"field\":\"right\"},\"y\":{\"field\":\"y\"}},\"id\":\"17749\",\"type\":\"HBar\"},{\"attributes\":{},\"id\":\"17714\",\"type\":\"DataRange1d\"},{\"attributes\":{},\"id\":\"18347\",\"type\":\"Selection\"},{\"attributes\":{\"fill_color\":\"rgb(56, 163, 93)\",\"height\":{\"value\":0.3},\"left\":{\"value\":6},\"line_color\":\"rgb(56, 163, 93)\",\"right\":{\"field\":\"right\"},\"y\":{\"field\":\"y\"}},\"id\":\"17753\",\"type\":\"HBar\"},{\"attributes\":{\"data\":{\"right\":{\"__ndarray__\":\"TQzchmXYEkA2mJmByUkUQELQwSiGexVAe6PYS1bbEkBOsnpgSV0SQGLcPHKuUBJAUzLaZBlIFkBJaZZR25QTQEbMUOARgxRA1mHjjFj8E0CB9YQMElsYQB5NRId3IRhAKRMHHQXjE0CMp+NfJYUXQEGDkmIbfBNA\",\"dtype\":\"float64\",\"order\":\"little\",\"shape\":[15]},\"y\":[0,1,2,3,4,5,6,7,8,9,10,11,12,13,14]},\"selected\":{\"id\":\"18347\"},\"selection_policy\":{\"id\":\"18346\"}},\"id\":\"17752\",\"type\":\"ColumnDataSource\"},{\"attributes\":{},\"id\":\"17733\",\"type\":\"HelpTool\"},{\"attributes\":{\"data\":{\"right\":{\"__ndarray__\":\"DODZ0nAFEEDpV5rzV9wQQD816jpBURFAOT1+bW45D0CAMMDnP20PQJCF1eWdDA9ApsKg7qVbEEA/wqeNk34PQFnU6SL8QRBAsR8NOzqrEEAzdjr19+EOQEyfzAz8MxBAq9Lrn4e1EECOHII9bs0QQJRnE6mFqhBA\",\"dtype\":\"float64\",\"order\":\"little\",\"shape\":[15]},\"y\":[0,1,2,3,4,5,6,7,8,9,10,11,12,13,14]},\"selected\":{\"id\":\"18345\"},\"selection_policy\":{\"id\":\"18344\"}},\"id\":\"17747\",\"type\":\"ColumnDataSource\"},{\"attributes\":{},\"id\":\"18343\",\"type\":\"Selection\"},{\"attributes\":{},\"id\":\"17712\",\"type\":\"DataRange1d\"},{\"attributes\":{\"data_source\":{\"id\":\"17762\"},\"glyph\":{\"id\":\"17763\"},\"hover_glyph\":null,\"muted_glyph\":null,\"nonselection_glyph\":{\"id\":\"17764\"},\"selection_glyph\":null,\"view\":{\"id\":\"17766\"}},\"id\":\"17765\",\"type\":\"GlyphRenderer\"},{\"attributes\":{\"bottom_units\":\"screen\",\"fill_alpha\":0.5,\"fill_color\":\"lightgrey\",\"left_units\":\"screen\",\"level\":\"overlay\",\"line_alpha\":1.0,\"line_color\":\"black\",\"line_dash\":[4,4],\"line_width\":2,\"right_units\":\"screen\",\"top_units\":\"screen\"},\"id\":\"17734\",\"type\":\"BoxAnnotation\"},{\"attributes\":{\"fill_alpha\":{\"value\":0.1},\"fill_color\":\"rgb(0, 163, 168)\",\"height\":{\"value\":0.3},\"left\":{\"value\":12},\"line_alpha\":{\"value\":0.1},\"line_color\":\"rgb(0, 163, 168)\",\"right\":{\"field\":\"right\"},\"y\":{\"field\":\"y\"}},\"id\":\"17764\",\"type\":\"HBar\"},{\"attributes\":{\"formatter\":{\"id\":\"18340\"},\"ticker\":{\"id\":\"17725\"}},\"id\":\"17724\",\"type\":\"LinearAxis\"},{\"attributes\":{\"fill_color\":\"rgb(273, 30, 117)\",\"height\":{\"value\":0.3},\"left\":{\"value\":3},\"line_color\":\"rgb(273, 30, 117)\",\"right\":{\"field\":\"right\"},\"y\":{\"field\":\"y\"}},\"id\":\"17748\",\"type\":\"HBar\"},{\"attributes\":{\"fill_color\":\"rgb(200, 120, 140)\",\"height\":{\"value\":0.3},\"left\":{\"value\":9},\"line_color\":\"rgb(200, 120, 140)\",\"right\":{\"field\":\"right\"},\"y\":{\"field\":\"y\"}},\"id\":\"17758\",\"type\":\"HBar\"},{\"attributes\":{},\"id\":\"18342\",\"type\":\"UnionRenderers\"},{\"attributes\":{},\"id\":\"18348\",\"type\":\"UnionRenderers\"},{\"attributes\":{\"text\":\"\"},\"id\":\"18336\",\"type\":\"Title\"},{\"attributes\":{},\"id\":\"18349\",\"type\":\"Selection\"},{\"attributes\":{\"data\":{\"right\":{\"__ndarray__\":\"QU3FFsyfIkDoLQY9z4EiQAQZhBkUOiJAW05MRbe0IkAxw79Ij64iQFxeF8Br1iJAtA0v7THkIUA0W3mpXI4iQDkgf7V+lyJApIc+PEstIkDkEOHtrUYiQECJ5nX2jSJAUQWc15clIkDkr2LH5/ghQDKkqxvbBiJA\",\"dtype\":\"float64\",\"order\":\"little\",\"shape\":[15]},\"y\":[0,1,2,3,4,5,6,7,8,9,10,11,12,13,14]},\"selected\":{\"id\":\"18349\"},\"selection_policy\":{\"id\":\"18348\"}},\"id\":\"17757\",\"type\":\"ColumnDataSource\"},{\"attributes\":{},\"id\":\"17718\",\"type\":\"LinearScale\"},{\"attributes\":{\"fill_color\":\"rgb(166, 129, 205)\",\"height\":{\"value\":0.3},\"line_color\":\"rgb(166, 129, 205)\",\"right\":{\"field\":\"right\"},\"y\":{\"field\":\"y\"}},\"id\":\"17743\",\"type\":\"HBar\"},{\"attributes\":{},\"id\":\"17721\",\"type\":\"BasicTicker\"}],\"root_ids\":[\"17711\"]},\"title\":\"Bokeh Application\",\"version\":\"2.2.3\"}};\n",
       "  var render_items = [{\"docid\":\"4800b968-aa19-4086-8f02-2e2e43027e89\",\"root_ids\":[\"17711\"],\"roots\":{\"17711\":\"dc0064d7-6a7f-44bc-82f6-ea3c6eb59e80\"}}];\n",
       "  root.Bokeh.embed.embed_items_notebook(docs_json, render_items);\n",
       "\n",
       "  }\n",
       "  if (root.Bokeh !== undefined) {\n",
       "    embed_document(root);\n",
       "  } else {\n",
       "    var attempts = 0;\n",
       "    var timer = setInterval(function(root) {\n",
       "      if (root.Bokeh !== undefined) {\n",
       "        clearInterval(timer);\n",
       "        embed_document(root);\n",
       "      } else {\n",
       "        attempts++;\n",
       "        if (attempts > 100) {\n",
       "          clearInterval(timer);\n",
       "          console.log(\"Bokeh: ERROR: Unable to run BokehJS code because BokehJS library is missing\");\n",
       "        }\n",
       "      }\n",
       "    }, 10, root)\n",
       "  }\n",
       "})(window);"
      ],
      "application/vnd.bokehjs_exec.v0+json": ""
     },
     "metadata": {
      "application/vnd.bokehjs_exec.v0+json": {
       "id": "17711"
      }
     },
     "output_type": "display_data"
    },
    {
     "name": "stdout",
     "output_type": "stream",
     "text": [
      "k = 7\n",
      "silhouette: 0.279\n"
     ]
    },
    {
     "data": {
      "text/html": [
       "\n",
       "\n",
       "\n",
       "\n",
       "\n",
       "\n",
       "  <div class=\"bk-root\" id=\"09685b06-1616-478e-aec7-9f036752b530\" data-root-id=\"18451\"></div>\n"
      ]
     },
     "metadata": {},
     "output_type": "display_data"
    },
    {
     "data": {
      "application/javascript": [
       "(function(root) {\n",
       "  function embed_document(root) {\n",
       "    \n",
       "  var docs_json = {\"bf47670e-4487-41a5-8aae-6846ee4868ff\":{\"roots\":{\"references\":[{\"attributes\":{\"below\":[{\"id\":\"18460\"}],\"center\":[{\"id\":\"18463\"},{\"id\":\"18467\"},{\"id\":\"18498\"}],\"left\":[{\"id\":\"18464\"}],\"plot_height\":400,\"plot_width\":400,\"renderers\":[{\"id\":\"18487\"}],\"title\":{\"id\":\"18490\"},\"toolbar\":{\"id\":\"18476\"},\"x_range\":{\"id\":\"18452\"},\"x_scale\":{\"id\":\"18456\"},\"y_range\":{\"id\":\"18454\"},\"y_scale\":{\"id\":\"18458\"}},\"id\":\"18451\",\"subtype\":\"Figure\",\"type\":\"Plot\"},{\"attributes\":{\"formatter\":{\"id\":\"18494\"},\"ticker\":{\"id\":\"18465\"}},\"id\":\"18464\",\"type\":\"LinearAxis\"},{\"attributes\":{},\"id\":\"18452\",\"type\":\"DataRange1d\"},{\"attributes\":{\"fill_color\":{\"field\":\"labels\",\"transform\":{\"id\":\"18449\"}},\"line_color\":{\"value\":null},\"radius\":{\"units\":\"data\",\"value\":1.5}},\"id\":\"18485\",\"type\":\"Circle\"},{\"attributes\":{},\"id\":\"18472\",\"type\":\"ResetTool\"},{\"attributes\":{\"data\":{\"Country\":[\"Afghanistan\",\"Albania\",\"Algeria\",\"Angola\",\"Argentina\",\"Armenia\",\"Australia\",\"Austria\",\"Azerbaijan\",\"Bahrain\",\"Bangladesh\",\"Barbados\",\"Belarus\",\"Belgium\",\"Benin\",\"Bhutan\",\"Bolivia\",\"Bosnia and Herzegovina\",\"Botswana\",\"Brazil\",\"Bulgaria\",\"Burkina Faso\",\"Burundi\",\"Cabo Verde\",\"Cambodia\",\"Cameroon\",\"Canada\",\"Central African Republic\",\"Colombia\",\"Congo, Democratic Republic of\",\"Congo, Republic of\",\"Costa Rica\",\"C\\u00f4te d'Ivoire\",\"Croatia\",\"Cuba\",\"Cyprus\",\"Czechia\",\"Denmark\",\"Djibouti\",\"Dominican Republic\",\"Ecuador\",\"Egypt\",\"El Salvador\",\"Equatorial Guinea\",\"Eritrea\",\"Estonia\",\"Eswatini\",\"Ethiopia\",\"Fiji\",\"Finland\",\"France\",\"Gabon\",\"Gambia, The\",\"Georgia\",\"Germany\",\"Ghana\",\"Greece\",\"Guatemala\",\"Guinea\",\"Guinea-Bissau\",\"Guyana\",\"Haiti\",\"Honduras\",\"Hungary\",\"Chad\",\"Chile\",\"China\",\"Iceland\",\"India\",\"Indonesia\",\"Iran\",\"Iraq\",\"Ireland\",\"Israel\",\"Italy\",\"Jamaica\",\"Japan\",\"Jordan\",\"Kazakhstan\",\"Kenya\",\"Korea, Democratic Republic of\",\"Korea, Republic of\",\"Kuwait\",\"Kyrgyzstan\",\"Laos\",\"Latvia\",\"Lebanon\",\"Lesotho\",\"Liberia\",\"Lithuania\",\"Luxembourg\",\"Madagascar\",\"Malawi\",\"Malaysia\",\"Maldives\",\"Mali\",\"Malta\",\"Mauritania\",\"Mauritius\",\"Mexico\",\"Moldova\",\"Mongolia\",\"Montenegro\",\"Morocco\",\"Mozambique\",\"Myanmar\",\"Namibia\",\"Nepal\",\"Netherlands\",\"New Zealand\",\"Nicaragua\",\"Niger\",\"Nigeria\",\"Norway\",\"Oman\",\"Pakistan\",\"Panama\",\"Papua New Guinea\",\"Paraguay\",\"Peru\",\"Philippines\",\"Poland\",\"Portugal\",\"Qatar\",\"Republic of North Macedonia\",\"Romania\",\"Russia\",\"Rwanda\",\"Saudi Arabia\",\"Senegal\",\"Serbia\",\"Sierra Leone\",\"Singapore\",\"Slovakia\",\"Slovenia\",\"Somalia\",\"South Africa\",\"South Sudan\",\"Spain\",\"Sri Lanka\",\"Sudan\",\"Suriname\",\"Sweden\",\"Switzerland\",\"Tajikistan\",\"Tanzania\",\"Thailand\",\"Timor-Leste\",\"Togo\",\"Trinidad and Tobago\",\"Tunisia\",\"Turkey\",\"Turkmenistan\",\"Uganda\",\"Ukraine\",\"United Arab Emirates\",\"United Kingdom\",\"United States\",\"Uruguay\",\"Uzbekistan\",\"Vietnam\",\"Zambia\",\"Zimbabwe\"],\"index\":[10,20,30,40,50,60,70,80,90,100,110,120,130,140,150,160,170,180,190,200,210,220,230,240,250,260,270,280,290,300,310,320,330,340,350,360,370,380,390,400,410,420,430,440,450,460,470,480,490,500,510,520,530,540,550,560,570,580,590,600,610,620,630,640,650,660,670,680,690,700,710,720,730,740,750,760,770,780,790,800,810,820,830,840,850,860,870,880,890,900,910,920,930,940,950,960,970,980,990,1000,1010,1020,1030,1040,1050,1060,1070,1080,1090,1100,1110,1120,1130,1140,1150,1160,1170,1180,1190,1200,1210,1220,1230,1240,1250,1260,1270,1280,1293,1303,1313,1323,1333,1343,1353,1363,1373,1383,1390,1400,1410,1420,1430,1440,1450,1460,1470,1480,1490,1500,1510,1520,1530,1540,1550,1560,1570,1580,1590,1600,1610,1620,1630],\"labels\":[\"06\",\"03\",\"02\",\"01\",\"03\",\"03\",\"00\",\"00\",\"02\",\"02\",\"01\",\"03\",\"03\",\"00\",\"04\",\"05\",\"05\",\"03\",\"05\",\"03\",\"03\",\"04\",\"06\",\"05\",\"01\",\"01\",\"00\",\"06\",\"03\",\"06\",\"01\",\"00\",\"04\",\"03\",\"02\",\"00\",\"00\",\"00\",\"01\",\"05\",\"03\",\"02\",\"05\",\"01\",\"06\",\"00\",\"01\",\"04\",\"05\",\"00\",\"00\",\"05\",\"04\",\"03\",\"00\",\"05\",\"00\",\"05\",\"04\",\"04\",\"05\",\"04\",\"05\",\"03\",\"06\",\"00\",\"02\",\"00\",\"01\",\"05\",\"02\",\"02\",\"00\",\"00\",\"00\",\"03\",\"00\",\"02\",\"02\",\"01\",\"01\",\"00\",\"03\",\"02\",\"01\",\"00\",\"02\",\"04\",\"04\",\"00\",\"00\",\"04\",\"04\",\"03\",\"05\",\"04\",\"00\",\"01\",\"03\",\"03\",\"03\",\"05\",\"03\",\"02\",\"04\",\"01\",\"05\",\"01\",\"00\",\"00\",\"05\",\"04\",\"01\",\"00\",\"02\",\"01\",\"03\",\"04\",\"03\",\"03\",\"05\",\"00\",\"00\",\"02\",\"03\",\"03\",\"02\",\"01\",\"02\",\"04\",\"03\",\"04\",\"00\",\"00\",\"00\",\"06\",\"05\",\"06\",\"00\",\"03\",\"01\",\"05\",\"00\",\"00\",\"02\",\"04\",\"02\",\"05\",\"04\",\"03\",\"03\",\"02\",\"02\",\"04\",\"03\",\"02\",\"00\",\"00\",\"00\",\"02\",\"02\",\"04\",\"01\"],\"x\":{\"__ndarray__\":\"9381A0duWEAC368tE6s8wDIAU9VouCfAlqW6+nFOVEAjX0n8urFJwHwetArayUHAR+AexhsWVsAHVDca6m9UwIzzHrBh3yFARQHsco39GsA0GmcFa3pIQDl42o0GH0nAUt6nQmoFQ8BVl/2KgEBUwDqf7acTjE1ARfxh8cgavb/YjSJw8QQTwPaSd4Xa+zXAxYdg4TsO679/UUl31gA6wJ8NFiRIaEfAqIbCJcxEVED7opvtvvtbQFGnRBXl4SrAHWYaWcWYR0AcSkdwJ3ZQQP3LwU3+FFbAQO0D0kStYkAE3+T4Mhw6wFv0GxpzgVpArBaoJaViU0DBM7GLt0FMwK9ritA/+E5A3mPB01NtS8BWXgxId/EnwIc9I6Di+1HABUFdpLLpUcBCMADxrKtWwH1BsMkZQ1NAP7Px1+c9JcDxYl2wFfs9wKcpyivzCTJAsF5O9FWT3z8qneG2yTFRQK+k8+vEc2BAbpXW3vZWUsCh/XOQaN5NQMDUCE9F31RAdjfE2VER/r84ya67mFdWwFLWTHKJ0FPAbGL5Fg7zK0AOvTAtapJMQDQzZm0sdzzAOuWvYAthVcAtJgCLbsoyQDKVbQ9GAlHAacNEyP0LOEDJimxYgZhZQMypBthqtFdAdhA7JBmNE0AbpptV/hxUQCoqBKHHvTVAJBj8qX5uScBy29v8yKNiQP1B7xiZUU7AIU0a5+srCsCqrtjpfKVVwFzlagrszUFAB7RbG1U/F8CEvBCMDpoZwHn9vnI5rh9AFtpU8v/qVMCZfRoCg+BOwJPcs7enaFLAMpPg03FCN8CtECgi6BNVwNfGIlcfKTPAXSeC4UhtNsAXvUNFOulHQDXY2xEKIVFAe9nfxfyGVMC/HDYOheREwKgVBLJMpRDAg1mdubvdUEDMagiMTpdNwDloowzqkCbAioWICrNYTkC3n8CohwBTQD4wBVIms07A4cl6rRP7U8BpVDBsiQhWQGLm6SGikFBABfQf4N0FQ8BQb1K37mIjwDRk61r9Z1VAcK0JMuUFUMDSu58cjrNSQP+vbaLzzUXAeD9KsuNLOMCdYqMXsUI0wG1YbZFbLSXAVMm5pTX4O8Dt80o+L7rgv4G7JjPwQFVAIyPpw9znR0A9hLrycXMhQHEFXMd/DkRADyvI87nPVcA3I7MSAxFWwLm6WiU2hTFAS8WcaYYiW0BOM4mDux5QQAqvZL7zFlfAzzEECKouNMDhbLNL3U9RQIqh7w7nnz/AKWqdeKRVWEAr1YOQMisxwIm1XZ1ODzjAXjG4OgQ/EkBrmoj+hc5PwIbGzWI+cFLAg4wVz3HHM8Ai+BHayBE4wOwTDgSbOUTAInFyXZgiOcC6FdwVkYlNQPHGO4hZ5QrALYRXbp14Q0CNU98abB1AwPcAa3Ym2FJAqd639D0UUcC5m0kK55tNwG+WdiZPpVLA3vt1lX06YEBhScl76gMmwDTVYdA7A2NA4gAr30OUU8BwujiZlIowwKmYDBglLVJAjHdIS1iVJ8DMq5FxQBZWwKPITWukL1bAXmroQY9PQ0D78B30/LRLQKaHem0H3CjA4uxow2KKQEC01vo8FaRQQNZOeHrmukDASJmCCoAVP8C5QEtCOQ0lwGYTVI2G6z9Ap5NNavIlUECCoB2RHZE6wAZCkVz8jTLAe4zmE47IU8D3KbHrggdSwA4GzfYANE3AhQshkxpwGUARqQo9ydASwEg0gDIEEk1AztXaQyVlUEA=\",\"dtype\":\"float64\",\"order\":\"little\",\"shape\":[163]},\"y\":{\"__ndarray__\":\"e4Lu+j0NLEBIgEvt2AX7P3tG7kN3DEBAwPVMFCzZFcBevvOSsKIWwEvGrIsM6BhAerCQHoq6McCL0s6ZmUElwBquSQjgfUVA2o4WrIr/T0DtQJe+Ww0tQGnDIZDaqB3Aty4c08J+N0BDgyjAxLQzwPChDh1t0kbA7hFXIcOBHsDxMZJbH5TGv1/j3aiyJC5A3qzLMzQWMsAKjJGVdzkiQJcW9GM5dAnAChD7Rt3cQ8D8kk4ed0gJwGaXBxQ0QDLA8NL1zTxqL0DZwqNTDSD8PyzK9lWeaTTAOvhh4I3EPsAGf5Ai19QsQOqd93j49M2/nxFpA3LOMEDKKvh7JrgwwHXDArH/MTPA2jQ8ntlX5j/rCLIKkwU7QKtuyOak2STA15IFr3PhIcA9+H/FVjw5wA1AllYBUhJASFkJ8rDfFMD1OOK6yCfWv6O34UklKEtAzutAMerCFkD/TMEuj746QGK3NA2taTZADq5368jsKMB+RH2+8AY2QOGXNOPWrSTAX/zudjU2FkBuW0sMXKM4wMd0dIgKcSnA9FBr+JpcFUBjb6lcgBlAwNoRBDcnRgxABAfqWBJqM8D2M3Zrb4NAwMb7lEOICyfAInqDnTnnHUAhFhrCkxEuwLpRG7o+2EDArgbKjyAtHsDJ24HB0bkpwD/IVkPbhSVAjXujAvEl7z+uRAlLGjMgwPp7qXcamR/AyoLASW0eTUC2nh1HMiYxwJChx0ZPyyxAH5OkhKccwr/+hQnpY0BJQAigOh0agUJA8j46CaRtNcBG/DZQiN8BQI6L2oxMJjDA38WnXeQKNcCppVVAqbopwOu6vy6YW0BA7jvfruz0PED4JZtaEzoswPZ++wpH1klAig7/GS+gIcD3EZ7ESaY1QGRotSpKLDFA5+NECguxL0DQLHoGyCYcwL+6Wgk5lTxAWGPXOt5LQMCLIlGatJ1HwI0fgRZ7YyfAUioOXZSmNsAqWAuLupBEwGvK0anXUUDAW7sxgQPcLUANl3sybZEgQLGVAi0lPTzA9v/sn4yjJcD7IzidDz0VQNN1ZXU8NyHAHbsaJ8kQE0AiNLwSUNIYQFPeD72nHy3Ajmw7zpxxMkBxrCkgW1A5QPf67B0jhkHAlzWgo6vnGkDJINfsbVM6wHAlfg5akCTACukIzMvCM8CUEHR3g2k3wD7DOXqyDDNA2tg4BdwvQ8AD+r8tSOQhwAInLcZzPDjA+YaJsyLcQECcnwmR6HQ1QDfUtuGfVR3AU2hca5K+QMByscbrJ/vwvzNQCg9D1QfA/lrkD9/H/7/V3wPEdWwIwD1ixpJGsTPAgnjLmHrTSkAXBb7WxfYxQDknjrdfRArAtzqtk+rmQkBqzANXwjEgwCwOKvdgglNA/LHf/tqgQMAwU14kRJ4nQJXqg3XpCUjAVF/sD9XhIUB4WZh/C/cQwA9MObYy2yvAkFZ0rLEeI0Din7jSFO0awOHoNdHYQw1AA7awOUSnMMBZJAoq91y2v1kf9boF+jlAiiqu56O+EsBBgYPDZrI4wJc6Z7ZThzPAdV7zITegSEDmoQYtFto8wBXMxBuwUjVANJS4KV03OMA5ekzoyoE6wL48twiG1yDAZp+PHqsW3j+AU/AnFilKQGjEoP0KOE9AJIpptwdnKsDnWDAcl7swQNqNhG04WUZA1A8GgwAPKcCsjfV+k8MIwISNgrudbDHAyh1sSoYuQUAtSmKUn3k2QNT8akyDkDbAoosAcdJcBUA=\",\"dtype\":\"float64\",\"order\":\"little\",\"shape\":[163]}},\"selected\":{\"id\":\"18497\"},\"selection_policy\":{\"id\":\"18496\"}},\"id\":\"18450\",\"type\":\"ColumnDataSource\"},{\"attributes\":{},\"id\":\"18471\",\"type\":\"SaveTool\"},{\"attributes\":{},\"id\":\"18468\",\"type\":\"PanTool\"},{\"attributes\":{},\"id\":\"18494\",\"type\":\"BasicTickFormatter\"},{\"attributes\":{\"index\":6,\"label\":{\"value\":\"00\"},\"renderers\":[{\"id\":\"18487\"}]},\"id\":\"18499\",\"type\":\"LegendItem\"},{\"attributes\":{\"overlay\":{\"id\":\"18474\"}},\"id\":\"18470\",\"type\":\"BoxZoomTool\"},{\"attributes\":{},\"id\":\"18465\",\"type\":\"BasicTicker\"},{\"attributes\":{\"callback\":null,\"tooltips\":[[\"Country:\",\"@Country\"],[\"Label:\",\"@labels\"]]},\"id\":\"18475\",\"type\":\"HoverTool\"},{\"attributes\":{},\"id\":\"18473\",\"type\":\"HelpTool\"},{\"attributes\":{\"index\":3,\"label\":{\"value\":\"01\"},\"renderers\":[{\"id\":\"18487\"}]},\"id\":\"18500\",\"type\":\"LegendItem\"},{\"attributes\":{\"formatter\":{\"id\":\"18492\"},\"ticker\":{\"id\":\"18461\"}},\"id\":\"18460\",\"type\":\"LinearAxis\"},{\"attributes\":{},\"id\":\"18461\",\"type\":\"BasicTicker\"},{\"attributes\":{\"axis\":{\"id\":\"18460\"},\"ticker\":null},\"id\":\"18463\",\"type\":\"Grid\"},{\"attributes\":{\"source\":{\"id\":\"18450\"}},\"id\":\"18488\",\"type\":\"CDSView\"},{\"attributes\":{\"active_drag\":\"auto\",\"active_inspect\":\"auto\",\"active_multi\":null,\"active_scroll\":\"auto\",\"active_tap\":\"auto\",\"tools\":[{\"id\":\"18468\"},{\"id\":\"18469\"},{\"id\":\"18470\"},{\"id\":\"18471\"},{\"id\":\"18472\"},{\"id\":\"18473\"},{\"id\":\"18475\"}]},\"id\":\"18476\",\"type\":\"Toolbar\"},{\"attributes\":{},\"id\":\"18454\",\"type\":\"DataRange1d\"},{\"attributes\":{\"data_source\":{\"id\":\"18450\"},\"glyph\":{\"id\":\"18485\"},\"hover_glyph\":null,\"muted_glyph\":null,\"nonselection_glyph\":{\"id\":\"18486\"},\"selection_glyph\":null,\"view\":{\"id\":\"18488\"}},\"id\":\"18487\",\"type\":\"GlyphRenderer\"},{\"attributes\":{},\"id\":\"18458\",\"type\":\"LinearScale\"},{\"attributes\":{\"index\":2,\"label\":{\"value\":\"02\"},\"renderers\":[{\"id\":\"18487\"}]},\"id\":\"18501\",\"type\":\"LegendItem\"},{\"attributes\":{\"axis\":{\"id\":\"18464\"},\"dimension\":1,\"ticker\":null},\"id\":\"18467\",\"type\":\"Grid\"},{\"attributes\":{\"index\":15,\"label\":{\"value\":\"05\"},\"renderers\":[{\"id\":\"18487\"}]},\"id\":\"18504\",\"type\":\"LegendItem\"},{\"attributes\":{},\"id\":\"18469\",\"type\":\"WheelZoomTool\"},{\"attributes\":{\"index\":14,\"label\":{\"value\":\"04\"},\"renderers\":[{\"id\":\"18487\"}]},\"id\":\"18503\",\"type\":\"LegendItem\"},{\"attributes\":{\"fill_alpha\":{\"value\":0.1},\"fill_color\":{\"field\":\"labels\",\"transform\":{\"id\":\"18449\"}},\"line_alpha\":{\"value\":0.1},\"line_color\":{\"value\":null},\"radius\":{\"units\":\"data\",\"value\":1.5}},\"id\":\"18486\",\"type\":\"Circle\"},{\"attributes\":{},\"id\":\"18456\",\"type\":\"LinearScale\"},{\"attributes\":{\"index\":0,\"label\":{\"value\":\"06\"},\"renderers\":[{\"id\":\"18487\"}]},\"id\":\"18505\",\"type\":\"LegendItem\"},{\"attributes\":{\"index\":1,\"label\":{\"value\":\"03\"},\"renderers\":[{\"id\":\"18487\"}]},\"id\":\"18502\",\"type\":\"LegendItem\"},{\"attributes\":{\"items\":[{\"id\":\"18499\"},{\"id\":\"18500\"},{\"id\":\"18501\"},{\"id\":\"18502\"},{\"id\":\"18503\"},{\"id\":\"18504\"},{\"id\":\"18505\"}]},\"id\":\"18498\",\"type\":\"Legend\"},{\"attributes\":{\"text\":\"\"},\"id\":\"18490\",\"type\":\"Title\"},{\"attributes\":{},\"id\":\"18496\",\"type\":\"UnionRenderers\"},{\"attributes\":{},\"id\":\"18497\",\"type\":\"Selection\"},{\"attributes\":{},\"id\":\"18492\",\"type\":\"BasicTickFormatter\"},{\"attributes\":{\"factors\":[\"00\",\"01\",\"02\",\"03\",\"04\",\"05\",\"06\"],\"palette\":[\"rgb(277, 0, 115)\",\"rgb(2, 162, 154)\",\"rgb(164, 130, 203)\",\"rgb(222, 105, 142)\",\"rgb(9, 166, 87)\",\"rgb(176, 134, 128)\",\"rgb(0, 180, 142)\"]},\"id\":\"18449\",\"type\":\"CategoricalColorMapper\"},{\"attributes\":{\"bottom_units\":\"screen\",\"fill_alpha\":0.5,\"fill_color\":\"lightgrey\",\"left_units\":\"screen\",\"level\":\"overlay\",\"line_alpha\":1.0,\"line_color\":\"black\",\"line_dash\":[4,4],\"line_width\":2,\"right_units\":\"screen\",\"top_units\":\"screen\"},\"id\":\"18474\",\"type\":\"BoxAnnotation\"}],\"root_ids\":[\"18451\"]},\"title\":\"Bokeh Application\",\"version\":\"2.2.3\"}};\n",
       "  var render_items = [{\"docid\":\"bf47670e-4487-41a5-8aae-6846ee4868ff\",\"root_ids\":[\"18451\"],\"roots\":{\"18451\":\"09685b06-1616-478e-aec7-9f036752b530\"}}];\n",
       "  root.Bokeh.embed.embed_items_notebook(docs_json, render_items);\n",
       "\n",
       "  }\n",
       "  if (root.Bokeh !== undefined) {\n",
       "    embed_document(root);\n",
       "  } else {\n",
       "    var attempts = 0;\n",
       "    var timer = setInterval(function(root) {\n",
       "      if (root.Bokeh !== undefined) {\n",
       "        clearInterval(timer);\n",
       "        embed_document(root);\n",
       "      } else {\n",
       "        attempts++;\n",
       "        if (attempts > 100) {\n",
       "          clearInterval(timer);\n",
       "          console.log(\"Bokeh: ERROR: Unable to run BokehJS code because BokehJS library is missing\");\n",
       "        }\n",
       "      }\n",
       "    }, 10, root)\n",
       "  }\n",
       "})(window);"
      ],
      "application/vnd.bokehjs_exec.v0+json": ""
     },
     "metadata": {
      "application/vnd.bokehjs_exec.v0+json": {
       "id": "18451"
      }
     },
     "output_type": "display_data"
    },
    {
     "data": {
      "text/html": [
       "\n",
       "\n",
       "\n",
       "\n",
       "\n",
       "\n",
       "  <div class=\"bk-root\" id=\"726e3e2f-3f8a-43d9-8c97-755593d3f863\" data-root-id=\"19142\"></div>\n"
      ]
     },
     "metadata": {},
     "output_type": "display_data"
    },
    {
     "data": {
      "application/javascript": [
       "(function(root) {\n",
       "  function embed_document(root) {\n",
       "    \n",
       "  var docs_json = {\"b35c9e54-9406-423f-a04c-613563471141\":{\"roots\":{\"references\":[{\"attributes\":{\"below\":[{\"id\":\"19151\"}],\"center\":[{\"id\":\"19154\"},{\"id\":\"19158\"}],\"left\":[{\"id\":\"19155\"}],\"plot_height\":400,\"plot_width\":700,\"renderers\":[{\"id\":\"19176\"},{\"id\":\"19181\"},{\"id\":\"19186\"},{\"id\":\"19191\"},{\"id\":\"19196\"},{\"id\":\"19201\"},{\"id\":\"19206\"}],\"title\":{\"id\":\"19800\"},\"toolbar\":{\"id\":\"19166\"},\"x_range\":{\"id\":\"19143\"},\"x_scale\":{\"id\":\"19147\"},\"y_range\":{\"id\":\"19145\"},\"y_scale\":{\"id\":\"19149\"}},\"id\":\"19142\",\"subtype\":\"Figure\",\"type\":\"Plot\"},{\"attributes\":{},\"id\":\"19156\",\"type\":\"BasicTicker\"},{\"attributes\":{\"source\":{\"id\":\"19183\"}},\"id\":\"19187\",\"type\":\"CDSView\"},{\"attributes\":{\"data\":{\"right\":{\"__ndarray__\":\"qiafNFyX8D8pTU4znHb0P0d+FIvIS/Y/dfKxIIh77T9KGERDZC3uP7xCVHaI1ew/ovr1AKa+8j8+IiQV/2PuP01+ZtX0xPE/4MN9X/0n9D9SKT5bsdXtP9Sz/kP+UvE/gM0SK6Hn8z+A9yws8YX0P8M5k2fDbvM/\",\"dtype\":\"float64\",\"order\":\"little\",\"shape\":[15]},\"y\":[0,1,2,3,4,5,6,7,8,9,10,11,12,13,14]},\"selected\":{\"id\":\"19807\"},\"selection_policy\":{\"id\":\"19806\"}},\"id\":\"19173\",\"type\":\"ColumnDataSource\"},{\"attributes\":{\"fill_color\":\"rgb(176, 134, 128)\",\"height\":{\"value\":0.3},\"left\":{\"value\":15},\"line_color\":\"rgb(176, 134, 128)\",\"right\":{\"field\":\"right\"},\"y\":{\"field\":\"y\"}},\"id\":\"19199\",\"type\":\"HBar\"},{\"attributes\":{\"active_drag\":\"auto\",\"active_inspect\":\"auto\",\"active_multi\":null,\"active_scroll\":\"auto\",\"active_tap\":\"auto\",\"tools\":[{\"id\":\"19159\"},{\"id\":\"19160\"},{\"id\":\"19161\"},{\"id\":\"19162\"},{\"id\":\"19163\"},{\"id\":\"19164\"}]},\"id\":\"19166\",\"type\":\"Toolbar\"},{\"attributes\":{},\"id\":\"19160\",\"type\":\"WheelZoomTool\"},{\"attributes\":{},\"id\":\"19159\",\"type\":\"PanTool\"},{\"attributes\":{\"data\":{\"right\":{\"__ndarray__\":\"xcLhZojzLUAyuLQuguAtQBK5d0Vr5S1A6+g9okPNLUBVag+g9OMtQC8yKcicPy5AiILelQnDLUCzHvYtcOMtQPKd+VlJBC5A+XyvW6VpLUDiiVGw/EsuQK1ImOorhC5AXUODFlr3LUDO339bCBYuQGLogbEiCi1A\",\"dtype\":\"float64\",\"order\":\"little\",\"shape\":[15]},\"y\":[0,1,2,3,4,5,6,7,8,9,10,11,12,13,14]},\"selected\":{\"id\":\"19817\"},\"selection_policy\":{\"id\":\"19816\"}},\"id\":\"19198\",\"type\":\"ColumnDataSource\"},{\"attributes\":{\"overlay\":{\"id\":\"19165\"}},\"id\":\"19161\",\"type\":\"BoxZoomTool\"},{\"attributes\":{},\"id\":\"19162\",\"type\":\"SaveTool\"},{\"attributes\":{\"source\":{\"id\":\"19188\"}},\"id\":\"19192\",\"type\":\"CDSView\"},{\"attributes\":{\"data_source\":{\"id\":\"19173\"},\"glyph\":{\"id\":\"19174\"},\"hover_glyph\":null,\"muted_glyph\":null,\"nonselection_glyph\":{\"id\":\"19175\"},\"selection_glyph\":null,\"view\":{\"id\":\"19177\"}},\"id\":\"19176\",\"type\":\"GlyphRenderer\"},{\"attributes\":{},\"id\":\"19163\",\"type\":\"ResetTool\"},{\"attributes\":{},\"id\":\"19814\",\"type\":\"UnionRenderers\"},{\"attributes\":{\"fill_alpha\":{\"value\":0.1},\"fill_color\":\"rgb(222, 105, 142)\",\"height\":{\"value\":0.3},\"left\":{\"value\":9},\"line_alpha\":{\"value\":0.1},\"line_color\":\"rgb(222, 105, 142)\",\"right\":{\"field\":\"right\"},\"y\":{\"field\":\"y\"}},\"id\":\"19190\",\"type\":\"HBar\"},{\"attributes\":{},\"id\":\"19815\",\"type\":\"Selection\"},{\"attributes\":{\"data_source\":{\"id\":\"19178\"},\"glyph\":{\"id\":\"19179\"},\"hover_glyph\":null,\"muted_glyph\":null,\"nonselection_glyph\":{\"id\":\"19180\"},\"selection_glyph\":null,\"view\":{\"id\":\"19182\"}},\"id\":\"19181\",\"type\":\"GlyphRenderer\"},{\"attributes\":{\"data_source\":{\"id\":\"19183\"},\"glyph\":{\"id\":\"19184\"},\"hover_glyph\":null,\"muted_glyph\":null,\"nonselection_glyph\":{\"id\":\"19185\"},\"selection_glyph\":null,\"view\":{\"id\":\"19187\"}},\"id\":\"19186\",\"type\":\"GlyphRenderer\"},{\"attributes\":{\"data_source\":{\"id\":\"19203\"},\"glyph\":{\"id\":\"19204\"},\"hover_glyph\":null,\"muted_glyph\":null,\"nonselection_glyph\":{\"id\":\"19205\"},\"selection_glyph\":null,\"view\":{\"id\":\"19207\"}},\"id\":\"19206\",\"type\":\"GlyphRenderer\"},{\"attributes\":{\"fill_alpha\":{\"value\":0.1},\"fill_color\":\"rgb(277, 0, 115)\",\"height\":{\"value\":0.3},\"line_alpha\":{\"value\":0.1},\"line_color\":\"rgb(277, 0, 115)\",\"right\":{\"field\":\"right\"},\"y\":{\"field\":\"y\"}},\"id\":\"19175\",\"type\":\"HBar\"},{\"attributes\":{},\"id\":\"19808\",\"type\":\"UnionRenderers\"},{\"attributes\":{},\"id\":\"19809\",\"type\":\"Selection\"},{\"attributes\":{\"source\":{\"id\":\"19193\"}},\"id\":\"19197\",\"type\":\"CDSView\"},{\"attributes\":{\"data_source\":{\"id\":\"19188\"},\"glyph\":{\"id\":\"19189\"},\"hover_glyph\":null,\"muted_glyph\":null,\"nonselection_glyph\":{\"id\":\"19190\"},\"selection_glyph\":null,\"view\":{\"id\":\"19192\"}},\"id\":\"19191\",\"type\":\"GlyphRenderer\"},{\"attributes\":{\"fill_alpha\":{\"value\":0.1},\"fill_color\":\"rgb(164, 130, 203)\",\"height\":{\"value\":0.3},\"left\":{\"value\":6},\"line_alpha\":{\"value\":0.1},\"line_color\":\"rgb(164, 130, 203)\",\"right\":{\"field\":\"right\"},\"y\":{\"field\":\"y\"}},\"id\":\"19185\",\"type\":\"HBar\"},{\"attributes\":{\"fill_alpha\":{\"value\":0.1},\"fill_color\":\"rgb(0, 180, 142)\",\"height\":{\"value\":0.3},\"left\":{\"value\":18},\"line_alpha\":{\"value\":0.1},\"line_color\":\"rgb(0, 180, 142)\",\"right\":{\"field\":\"right\"},\"y\":{\"field\":\"y\"}},\"id\":\"19205\",\"type\":\"HBar\"},{\"attributes\":{\"fill_alpha\":{\"value\":0.1},\"fill_color\":\"rgb(176, 134, 128)\",\"height\":{\"value\":0.3},\"left\":{\"value\":15},\"line_alpha\":{\"value\":0.1},\"line_color\":\"rgb(176, 134, 128)\",\"right\":{\"field\":\"right\"},\"y\":{\"field\":\"y\"}},\"id\":\"19200\",\"type\":\"HBar\"},{\"attributes\":{\"data_source\":{\"id\":\"19198\"},\"glyph\":{\"id\":\"19199\"},\"hover_glyph\":null,\"muted_glyph\":null,\"nonselection_glyph\":{\"id\":\"19200\"},\"selection_glyph\":null,\"view\":{\"id\":\"19202\"}},\"id\":\"19201\",\"type\":\"GlyphRenderer\"},{\"attributes\":{},\"id\":\"19145\",\"type\":\"DataRange1d\"},{\"attributes\":{},\"id\":\"19804\",\"type\":\"BasicTickFormatter\"},{\"attributes\":{\"source\":{\"id\":\"19198\"}},\"id\":\"19202\",\"type\":\"CDSView\"},{\"attributes\":{\"source\":{\"id\":\"19173\"}},\"id\":\"19177\",\"type\":\"CDSView\"},{\"attributes\":{},\"id\":\"19816\",\"type\":\"UnionRenderers\"},{\"attributes\":{\"fill_alpha\":{\"value\":0.1},\"fill_color\":\"rgb(2, 162, 154)\",\"height\":{\"value\":0.3},\"left\":{\"value\":3},\"line_alpha\":{\"value\":0.1},\"line_color\":\"rgb(2, 162, 154)\",\"right\":{\"field\":\"right\"},\"y\":{\"field\":\"y\"}},\"id\":\"19180\",\"type\":\"HBar\"},{\"attributes\":{},\"id\":\"19802\",\"type\":\"BasicTickFormatter\"},{\"attributes\":{},\"id\":\"19817\",\"type\":\"Selection\"},{\"attributes\":{\"fill_color\":\"rgb(164, 130, 203)\",\"height\":{\"value\":0.3},\"left\":{\"value\":6},\"line_color\":\"rgb(164, 130, 203)\",\"right\":{\"field\":\"right\"},\"y\":{\"field\":\"y\"}},\"id\":\"19184\",\"type\":\"HBar\"},{\"attributes\":{\"data\":{\"right\":{\"__ndarray__\":\"gexNqwzHL0CjhMkhPQgwQACBz5qlKzBAEAznfObgL0AYd8W0SQwwQEME74ilGjBA5O5H/JzoL0Au8NCXexEwQNT0X4I20y9AjtZkY3FcMEAt4z5DR2wxQDHPlcfAUzBAZ2sIGrUWMECwx4lpQtwwQFzTeNkUdDBA\",\"dtype\":\"float64\",\"order\":\"little\",\"shape\":[15]},\"y\":[0,1,2,3,4,5,6,7,8,9,10,11,12,13,14]},\"selected\":{\"id\":\"19819\"},\"selection_policy\":{\"id\":\"19818\"}},\"id\":\"19203\",\"type\":\"ColumnDataSource\"},{\"attributes\":{},\"id\":\"19810\",\"type\":\"UnionRenderers\"},{\"attributes\":{},\"id\":\"19149\",\"type\":\"LinearScale\"},{\"attributes\":{\"data\":{\"right\":{\"__ndarray__\":\"0aOSPTDCGUA89x1b6FYXQF2SdPYA+hVAlH3yNCwxGkAVlpQnPgEaQEYhoc2dLRpAK5Uu2tqfF0DIhzVv01AZQMPCzYGc0RdAUFeGnYZ2GEDUvFBF5i4TQFRJYXjebBNAvRv3kcyWGEC/ho7gxjMUQJDOhJk+NhlA\",\"dtype\":\"float64\",\"order\":\"little\",\"shape\":[15]},\"y\":[0,1,2,3,4,5,6,7,8,9,10,11,12,13,14]},\"selected\":{\"id\":\"19811\"},\"selection_policy\":{\"id\":\"19810\"}},\"id\":\"19183\",\"type\":\"ColumnDataSource\"},{\"attributes\":{\"fill_color\":\"rgb(0, 180, 142)\",\"height\":{\"value\":0.3},\"left\":{\"value\":18},\"line_color\":\"rgb(0, 180, 142)\",\"right\":{\"field\":\"right\"},\"y\":{\"field\":\"y\"}},\"id\":\"19204\",\"type\":\"HBar\"},{\"attributes\":{\"data\":{\"right\":{\"__ndarray__\":\"DrA12pamAEAgkC3F32L/P1FiKdDlmP8/Zl6CCN6iAEDcPyGZyk4BQOcHehEIGAFAOGjITItfAUC9rF9yXLMBQALXJLMwWABA6OgSpKkrAUBZ5FllqDQBQH7aSVV2XwBArZyYLXauAUCjWyw9iHsAQHaJfRllXwFA\",\"dtype\":\"float64\",\"order\":\"little\",\"shape\":[15]},\"y\":[0,1,2,3,4,5,6,7,8,9,10,11,12,13,14]},\"selected\":{\"id\":\"19809\"},\"selection_policy\":{\"id\":\"19808\"}},\"id\":\"19178\",\"type\":\"ColumnDataSource\"},{\"attributes\":{\"source\":{\"id\":\"19203\"}},\"id\":\"19207\",\"type\":\"CDSView\"},{\"attributes\":{},\"id\":\"19811\",\"type\":\"Selection\"},{\"attributes\":{},\"id\":\"19147\",\"type\":\"LinearScale\"},{\"attributes\":{\"data_source\":{\"id\":\"19193\"},\"glyph\":{\"id\":\"19194\"},\"hover_glyph\":null,\"muted_glyph\":null,\"nonselection_glyph\":{\"id\":\"19195\"},\"selection_glyph\":null,\"view\":{\"id\":\"19197\"}},\"id\":\"19196\",\"type\":\"GlyphRenderer\"},{\"attributes\":{},\"id\":\"19143\",\"type\":\"DataRange1d\"},{\"attributes\":{\"formatter\":{\"id\":\"19802\"},\"ticker\":{\"id\":\"19152\"}},\"id\":\"19151\",\"type\":\"LinearAxis\"},{\"attributes\":{\"fill_alpha\":{\"value\":0.1},\"fill_color\":\"rgb(9, 166, 87)\",\"height\":{\"value\":0.3},\"left\":{\"value\":12},\"line_alpha\":{\"value\":0.1},\"line_color\":\"rgb(9, 166, 87)\",\"right\":{\"field\":\"right\"},\"y\":{\"field\":\"y\"}},\"id\":\"19195\",\"type\":\"HBar\"},{\"attributes\":{\"bottom_units\":\"screen\",\"fill_alpha\":0.5,\"fill_color\":\"lightgrey\",\"left_units\":\"screen\",\"level\":\"overlay\",\"line_alpha\":1.0,\"line_color\":\"black\",\"line_dash\":[4,4],\"line_width\":2,\"right_units\":\"screen\",\"top_units\":\"screen\"},\"id\":\"19165\",\"type\":\"BoxAnnotation\"},{\"attributes\":{},\"id\":\"19164\",\"type\":\"HelpTool\"},{\"attributes\":{\"fill_color\":\"rgb(2, 162, 154)\",\"height\":{\"value\":0.3},\"left\":{\"value\":3},\"line_color\":\"rgb(2, 162, 154)\",\"right\":{\"field\":\"right\"},\"y\":{\"field\":\"y\"}},\"id\":\"19179\",\"type\":\"HBar\"},{\"attributes\":{\"fill_color\":\"rgb(222, 105, 142)\",\"height\":{\"value\":0.3},\"left\":{\"value\":9},\"line_color\":\"rgb(222, 105, 142)\",\"right\":{\"field\":\"right\"},\"y\":{\"field\":\"y\"}},\"id\":\"19189\",\"type\":\"HBar\"},{\"attributes\":{},\"id\":\"19818\",\"type\":\"UnionRenderers\"},{\"attributes\":{\"text\":\"\"},\"id\":\"19800\",\"type\":\"Title\"},{\"attributes\":{},\"id\":\"19819\",\"type\":\"Selection\"},{\"attributes\":{\"formatter\":{\"id\":\"19804\"},\"ticker\":{\"id\":\"19156\"}},\"id\":\"19155\",\"type\":\"LinearAxis\"},{\"attributes\":{\"data\":{\"right\":{\"__ndarray__\":\"uCZqkdAgI0B4z8+hngsjQPWZidTUuCJA1P0WqyxPI0DLEQprQkUjQEu5eXq4MCNA2/cmHYE1IkBbiD6U8RkjQMJPTPhQHCNAdWutljq3IkBfG2pWf2IiQLFddt926CJAnz3dGWBpIkDiPCQvlTAiQHehBGLj2CJA\",\"dtype\":\"float64\",\"order\":\"little\",\"shape\":[15]},\"y\":[0,1,2,3,4,5,6,7,8,9,10,11,12,13,14]},\"selected\":{\"id\":\"19813\"},\"selection_policy\":{\"id\":\"19812\"}},\"id\":\"19188\",\"type\":\"ColumnDataSource\"},{\"attributes\":{\"fill_color\":\"rgb(277, 0, 115)\",\"height\":{\"value\":0.3},\"line_color\":\"rgb(277, 0, 115)\",\"right\":{\"field\":\"right\"},\"y\":{\"field\":\"y\"}},\"id\":\"19174\",\"type\":\"HBar\"},{\"attributes\":{\"source\":{\"id\":\"19178\"}},\"id\":\"19182\",\"type\":\"CDSView\"},{\"attributes\":{},\"id\":\"19806\",\"type\":\"UnionRenderers\"},{\"attributes\":{},\"id\":\"19812\",\"type\":\"UnionRenderers\"},{\"attributes\":{},\"id\":\"19152\",\"type\":\"BasicTicker\"},{\"attributes\":{\"fill_color\":\"rgb(9, 166, 87)\",\"height\":{\"value\":0.3},\"left\":{\"value\":12},\"line_color\":\"rgb(9, 166, 87)\",\"right\":{\"field\":\"right\"},\"y\":{\"field\":\"y\"}},\"id\":\"19194\",\"type\":\"HBar\"},{\"attributes\":{},\"id\":\"19813\",\"type\":\"Selection\"},{\"attributes\":{},\"id\":\"19807\",\"type\":\"Selection\"},{\"attributes\":{\"axis\":{\"id\":\"19151\"},\"ticker\":null},\"id\":\"19154\",\"type\":\"Grid\"},{\"attributes\":{\"data\":{\"right\":{\"__ndarray__\":\"ZJdloyAsJUAuxOpt+fMlQK1dtV1NmSZA2IT5zpkyJUDPQtu6FfYkQAA7hZKFySRAM+FrMAcYJ0Cz0ObpV3ElQHAhtURo/SVAYgi3qGe5JUCWj/zC948oQLLj1C5L+SdAF4p7ApatJUCKbJoMNNYnQNBS2OIkiSVA\",\"dtype\":\"float64\",\"order\":\"little\",\"shape\":[15]},\"y\":[0,1,2,3,4,5,6,7,8,9,10,11,12,13,14]},\"selected\":{\"id\":\"19815\"},\"selection_policy\":{\"id\":\"19814\"}},\"id\":\"19193\",\"type\":\"ColumnDataSource\"},{\"attributes\":{\"axis\":{\"id\":\"19155\"},\"dimension\":1,\"ticker\":null},\"id\":\"19158\",\"type\":\"Grid\"}],\"root_ids\":[\"19142\"]},\"title\":\"Bokeh Application\",\"version\":\"2.2.3\"}};\n",
       "  var render_items = [{\"docid\":\"b35c9e54-9406-423f-a04c-613563471141\",\"root_ids\":[\"19142\"],\"roots\":{\"19142\":\"726e3e2f-3f8a-43d9-8c97-755593d3f863\"}}];\n",
       "  root.Bokeh.embed.embed_items_notebook(docs_json, render_items);\n",
       "\n",
       "  }\n",
       "  if (root.Bokeh !== undefined) {\n",
       "    embed_document(root);\n",
       "  } else {\n",
       "    var attempts = 0;\n",
       "    var timer = setInterval(function(root) {\n",
       "      if (root.Bokeh !== undefined) {\n",
       "        clearInterval(timer);\n",
       "        embed_document(root);\n",
       "      } else {\n",
       "        attempts++;\n",
       "        if (attempts > 100) {\n",
       "          clearInterval(timer);\n",
       "          console.log(\"Bokeh: ERROR: Unable to run BokehJS code because BokehJS library is missing\");\n",
       "        }\n",
       "      }\n",
       "    }, 10, root)\n",
       "  }\n",
       "})(window);"
      ],
      "application/vnd.bokehjs_exec.v0+json": ""
     },
     "metadata": {
      "application/vnd.bokehjs_exec.v0+json": {
       "id": "19142"
      }
     },
     "output_type": "display_data"
    },
    {
     "name": "stdout",
     "output_type": "stream",
     "text": [
      "k = 8\n",
      "silhouette: 0.262\n"
     ]
    },
    {
     "data": {
      "text/html": [
       "\n",
       "\n",
       "\n",
       "\n",
       "\n",
       "\n",
       "  <div class=\"bk-root\" id=\"0c22af48-7f20-448c-a258-23fd17692fc5\" data-root-id=\"19927\"></div>\n"
      ]
     },
     "metadata": {},
     "output_type": "display_data"
    },
    {
     "data": {
      "application/javascript": [
       "(function(root) {\n",
       "  function embed_document(root) {\n",
       "    \n",
       "  var docs_json = {\"1309aa59-3457-40e4-8d2f-2c7dc0a012da\":{\"roots\":{\"references\":[{\"attributes\":{\"below\":[{\"id\":\"19936\"}],\"center\":[{\"id\":\"19939\"},{\"id\":\"19943\"},{\"id\":\"19974\"}],\"left\":[{\"id\":\"19940\"}],\"plot_height\":400,\"plot_width\":400,\"renderers\":[{\"id\":\"19963\"}],\"title\":{\"id\":\"19966\"},\"toolbar\":{\"id\":\"19952\"},\"x_range\":{\"id\":\"19928\"},\"x_scale\":{\"id\":\"19932\"},\"y_range\":{\"id\":\"19930\"},\"y_scale\":{\"id\":\"19934\"}},\"id\":\"19927\",\"subtype\":\"Figure\",\"type\":\"Plot\"},{\"attributes\":{},\"id\":\"19949\",\"type\":\"HelpTool\"},{\"attributes\":{\"formatter\":{\"id\":\"19970\"},\"ticker\":{\"id\":\"19941\"}},\"id\":\"19940\",\"type\":\"LinearAxis\"},{\"attributes\":{},\"id\":\"19945\",\"type\":\"WheelZoomTool\"},{\"attributes\":{},\"id\":\"19944\",\"type\":\"PanTool\"},{\"attributes\":{\"overlay\":{\"id\":\"19950\"}},\"id\":\"19946\",\"type\":\"BoxZoomTool\"},{\"attributes\":{},\"id\":\"19947\",\"type\":\"SaveTool\"},{\"attributes\":{},\"id\":\"19948\",\"type\":\"ResetTool\"},{\"attributes\":{\"text\":\"\"},\"id\":\"19966\",\"type\":\"Title\"},{\"attributes\":{\"items\":[{\"id\":\"19975\"},{\"id\":\"19976\"},{\"id\":\"19977\"},{\"id\":\"19978\"},{\"id\":\"19979\"},{\"id\":\"19980\"},{\"id\":\"19981\"},{\"id\":\"19982\"}]},\"id\":\"19974\",\"type\":\"Legend\"},{\"attributes\":{},\"id\":\"19968\",\"type\":\"BasicTickFormatter\"},{\"attributes\":{},\"id\":\"19972\",\"type\":\"UnionRenderers\"},{\"attributes\":{\"index\":1,\"label\":{\"value\":\"00\"},\"renderers\":[{\"id\":\"19963\"}]},\"id\":\"19975\",\"type\":\"LegendItem\"},{\"attributes\":{\"axis\":{\"id\":\"19936\"},\"ticker\":null},\"id\":\"19939\",\"type\":\"Grid\"},{\"attributes\":{\"data\":{\"Country\":[\"Afghanistan\",\"Albania\",\"Algeria\",\"Angola\",\"Argentina\",\"Armenia\",\"Australia\",\"Austria\",\"Azerbaijan\",\"Bahrain\",\"Bangladesh\",\"Barbados\",\"Belarus\",\"Belgium\",\"Benin\",\"Bhutan\",\"Bolivia\",\"Bosnia and Herzegovina\",\"Botswana\",\"Brazil\",\"Bulgaria\",\"Burkina Faso\",\"Burundi\",\"Cabo Verde\",\"Cambodia\",\"Cameroon\",\"Canada\",\"Central African Republic\",\"Colombia\",\"Congo, Democratic Republic of\",\"Congo, Republic of\",\"Costa Rica\",\"C\\u00f4te d'Ivoire\",\"Croatia\",\"Cuba\",\"Cyprus\",\"Czechia\",\"Denmark\",\"Djibouti\",\"Dominican Republic\",\"Ecuador\",\"Egypt\",\"El Salvador\",\"Equatorial Guinea\",\"Eritrea\",\"Estonia\",\"Eswatini\",\"Ethiopia\",\"Fiji\",\"Finland\",\"France\",\"Gabon\",\"Gambia, The\",\"Georgia\",\"Germany\",\"Ghana\",\"Greece\",\"Guatemala\",\"Guinea\",\"Guinea-Bissau\",\"Guyana\",\"Haiti\",\"Honduras\",\"Hungary\",\"Chad\",\"Chile\",\"China\",\"Iceland\",\"India\",\"Indonesia\",\"Iran\",\"Iraq\",\"Ireland\",\"Israel\",\"Italy\",\"Jamaica\",\"Japan\",\"Jordan\",\"Kazakhstan\",\"Kenya\",\"Korea, Democratic Republic of\",\"Korea, Republic of\",\"Kuwait\",\"Kyrgyzstan\",\"Laos\",\"Latvia\",\"Lebanon\",\"Lesotho\",\"Liberia\",\"Lithuania\",\"Luxembourg\",\"Madagascar\",\"Malawi\",\"Malaysia\",\"Maldives\",\"Mali\",\"Malta\",\"Mauritania\",\"Mauritius\",\"Mexico\",\"Moldova\",\"Mongolia\",\"Montenegro\",\"Morocco\",\"Mozambique\",\"Myanmar\",\"Namibia\",\"Nepal\",\"Netherlands\",\"New Zealand\",\"Nicaragua\",\"Niger\",\"Nigeria\",\"Norway\",\"Oman\",\"Pakistan\",\"Panama\",\"Papua New Guinea\",\"Paraguay\",\"Peru\",\"Philippines\",\"Poland\",\"Portugal\",\"Qatar\",\"Republic of North Macedonia\",\"Romania\",\"Russia\",\"Rwanda\",\"Saudi Arabia\",\"Senegal\",\"Serbia\",\"Sierra Leone\",\"Singapore\",\"Slovakia\",\"Slovenia\",\"Somalia\",\"South Africa\",\"South Sudan\",\"Spain\",\"Sri Lanka\",\"Sudan\",\"Suriname\",\"Sweden\",\"Switzerland\",\"Tajikistan\",\"Tanzania\",\"Thailand\",\"Timor-Leste\",\"Togo\",\"Trinidad and Tobago\",\"Tunisia\",\"Turkey\",\"Turkmenistan\",\"Uganda\",\"Ukraine\",\"United Arab Emirates\",\"United Kingdom\",\"United States\",\"Uruguay\",\"Uzbekistan\",\"Vietnam\",\"Zambia\",\"Zimbabwe\"],\"index\":[10,20,30,40,50,60,70,80,90,100,110,120,130,140,150,160,170,180,190,200,210,220,230,240,250,260,270,280,290,300,310,320,330,340,350,360,370,380,390,400,410,420,430,440,450,460,470,480,490,500,510,520,530,540,550,560,570,580,590,600,610,620,630,640,650,660,670,680,690,700,710,720,730,740,750,760,770,780,790,800,810,820,830,840,850,860,870,880,890,900,910,920,930,940,950,960,970,980,990,1000,1010,1020,1030,1040,1050,1060,1070,1080,1090,1100,1110,1120,1130,1140,1150,1160,1170,1180,1190,1200,1210,1220,1230,1240,1250,1260,1270,1280,1293,1303,1313,1323,1333,1343,1353,1363,1373,1383,1390,1400,1410,1420,1430,1440,1450,1460,1470,1480,1490,1500,1510,1520,1530,1540,1550,1560,1570,1580,1590,1600,1610,1620,1630],\"labels\":[\"06\",\"00\",\"03\",\"07\",\"00\",\"00\",\"02\",\"02\",\"03\",\"03\",\"07\",\"00\",\"00\",\"02\",\"01\",\"05\",\"05\",\"00\",\"05\",\"00\",\"00\",\"01\",\"06\",\"05\",\"04\",\"07\",\"02\",\"06\",\"00\",\"06\",\"04\",\"02\",\"01\",\"00\",\"03\",\"02\",\"02\",\"02\",\"07\",\"05\",\"00\",\"03\",\"05\",\"04\",\"06\",\"02\",\"04\",\"01\",\"05\",\"02\",\"02\",\"05\",\"01\",\"00\",\"02\",\"05\",\"02\",\"05\",\"06\",\"01\",\"05\",\"01\",\"05\",\"00\",\"06\",\"02\",\"03\",\"02\",\"07\",\"05\",\"03\",\"03\",\"02\",\"02\",\"02\",\"00\",\"02\",\"03\",\"03\",\"07\",\"04\",\"02\",\"00\",\"05\",\"04\",\"02\",\"03\",\"07\",\"01\",\"02\",\"02\",\"01\",\"01\",\"00\",\"05\",\"01\",\"02\",\"07\",\"00\",\"00\",\"00\",\"05\",\"00\",\"03\",\"01\",\"07\",\"05\",\"07\",\"02\",\"02\",\"05\",\"01\",\"07\",\"02\",\"03\",\"07\",\"00\",\"01\",\"00\",\"00\",\"05\",\"02\",\"02\",\"03\",\"00\",\"00\",\"03\",\"07\",\"03\",\"01\",\"00\",\"01\",\"02\",\"02\",\"02\",\"06\",\"05\",\"06\",\"02\",\"00\",\"04\",\"05\",\"02\",\"02\",\"04\",\"01\",\"03\",\"07\",\"01\",\"00\",\"00\",\"03\",\"03\",\"07\",\"00\",\"03\",\"02\",\"02\",\"02\",\"03\",\"03\",\"01\",\"04\"],\"x\":{\"__ndarray__\":\"9381A0duWEAC368tE6s8wDIAU9VouCfAlqW6+nFOVEAjX0n8urFJwHwetArayUHAR+AexhsWVsAHVDca6m9UwIzzHrBh3yFARQHsco39GsA0GmcFa3pIQDl42o0GH0nAUt6nQmoFQ8BVl/2KgEBUwDqf7acTjE1ARfxh8cgavb/YjSJw8QQTwPaSd4Xa+zXAxYdg4TsO679/UUl31gA6wJ8NFiRIaEfAqIbCJcxEVED7opvtvvtbQFGnRBXl4SrAHWYaWcWYR0AcSkdwJ3ZQQP3LwU3+FFbAQO0D0kStYkAE3+T4Mhw6wFv0GxpzgVpArBaoJaViU0DBM7GLt0FMwK9ritA/+E5A3mPB01NtS8BWXgxId/EnwIc9I6Di+1HABUFdpLLpUcBCMADxrKtWwH1BsMkZQ1NAP7Px1+c9JcDxYl2wFfs9wKcpyivzCTJAsF5O9FWT3z8qneG2yTFRQK+k8+vEc2BAbpXW3vZWUsCh/XOQaN5NQMDUCE9F31RAdjfE2VER/r84ya67mFdWwFLWTHKJ0FPAbGL5Fg7zK0AOvTAtapJMQDQzZm0sdzzAOuWvYAthVcAtJgCLbsoyQDKVbQ9GAlHAacNEyP0LOEDJimxYgZhZQMypBthqtFdAdhA7JBmNE0AbpptV/hxUQCoqBKHHvTVAJBj8qX5uScBy29v8yKNiQP1B7xiZUU7AIU0a5+srCsCqrtjpfKVVwFzlagrszUFAB7RbG1U/F8CEvBCMDpoZwHn9vnI5rh9AFtpU8v/qVMCZfRoCg+BOwJPcs7enaFLAMpPg03FCN8CtECgi6BNVwNfGIlcfKTPAXSeC4UhtNsAXvUNFOulHQDXY2xEKIVFAe9nfxfyGVMC/HDYOheREwKgVBLJMpRDAg1mdubvdUEDMagiMTpdNwDloowzqkCbAioWICrNYTkC3n8CohwBTQD4wBVIms07A4cl6rRP7U8BpVDBsiQhWQGLm6SGikFBABfQf4N0FQ8BQb1K37mIjwDRk61r9Z1VAcK0JMuUFUMDSu58cjrNSQP+vbaLzzUXAeD9KsuNLOMCdYqMXsUI0wG1YbZFbLSXAVMm5pTX4O8Dt80o+L7rgv4G7JjPwQFVAIyPpw9znR0A9hLrycXMhQHEFXMd/DkRADyvI87nPVcA3I7MSAxFWwLm6WiU2hTFAS8WcaYYiW0BOM4mDux5QQAqvZL7zFlfAzzEECKouNMDhbLNL3U9RQIqh7w7nnz/AKWqdeKRVWEAr1YOQMisxwIm1XZ1ODzjAXjG4OgQ/EkBrmoj+hc5PwIbGzWI+cFLAg4wVz3HHM8Ai+BHayBE4wOwTDgSbOUTAInFyXZgiOcC6FdwVkYlNQPHGO4hZ5QrALYRXbp14Q0CNU98abB1AwPcAa3Ym2FJAqd639D0UUcC5m0kK55tNwG+WdiZPpVLA3vt1lX06YEBhScl76gMmwDTVYdA7A2NA4gAr30OUU8BwujiZlIowwKmYDBglLVJAjHdIS1iVJ8DMq5FxQBZWwKPITWukL1bAXmroQY9PQ0D78B30/LRLQKaHem0H3CjA4uxow2KKQEC01vo8FaRQQNZOeHrmukDASJmCCoAVP8C5QEtCOQ0lwGYTVI2G6z9Ap5NNavIlUECCoB2RHZE6wAZCkVz8jTLAe4zmE47IU8D3KbHrggdSwA4GzfYANE3AhQshkxpwGUARqQo9ydASwEg0gDIEEk1AztXaQyVlUEA=\",\"dtype\":\"float64\",\"order\":\"little\",\"shape\":[163]},\"y\":{\"__ndarray__\":\"e4Lu+j0NLEBIgEvt2AX7P3tG7kN3DEBAwPVMFCzZFcBevvOSsKIWwEvGrIsM6BhAerCQHoq6McCL0s6ZmUElwBquSQjgfUVA2o4WrIr/T0DtQJe+Ww0tQGnDIZDaqB3Aty4c08J+N0BDgyjAxLQzwPChDh1t0kbA7hFXIcOBHsDxMZJbH5TGv1/j3aiyJC5A3qzLMzQWMsAKjJGVdzkiQJcW9GM5dAnAChD7Rt3cQ8D8kk4ed0gJwGaXBxQ0QDLA8NL1zTxqL0DZwqNTDSD8PyzK9lWeaTTAOvhh4I3EPsAGf5Ai19QsQOqd93j49M2/nxFpA3LOMEDKKvh7JrgwwHXDArH/MTPA2jQ8ntlX5j/rCLIKkwU7QKtuyOak2STA15IFr3PhIcA9+H/FVjw5wA1AllYBUhJASFkJ8rDfFMD1OOK6yCfWv6O34UklKEtAzutAMerCFkD/TMEuj746QGK3NA2taTZADq5368jsKMB+RH2+8AY2QOGXNOPWrSTAX/zudjU2FkBuW0sMXKM4wMd0dIgKcSnA9FBr+JpcFUBjb6lcgBlAwNoRBDcnRgxABAfqWBJqM8D2M3Zrb4NAwMb7lEOICyfAInqDnTnnHUAhFhrCkxEuwLpRG7o+2EDArgbKjyAtHsDJ24HB0bkpwD/IVkPbhSVAjXujAvEl7z+uRAlLGjMgwPp7qXcamR/AyoLASW0eTUC2nh1HMiYxwJChx0ZPyyxAH5OkhKccwr/+hQnpY0BJQAigOh0agUJA8j46CaRtNcBG/DZQiN8BQI6L2oxMJjDA38WnXeQKNcCppVVAqbopwOu6vy6YW0BA7jvfruz0PED4JZtaEzoswPZ++wpH1klAig7/GS+gIcD3EZ7ESaY1QGRotSpKLDFA5+NECguxL0DQLHoGyCYcwL+6Wgk5lTxAWGPXOt5LQMCLIlGatJ1HwI0fgRZ7YyfAUioOXZSmNsAqWAuLupBEwGvK0anXUUDAW7sxgQPcLUANl3sybZEgQLGVAi0lPTzA9v/sn4yjJcD7IzidDz0VQNN1ZXU8NyHAHbsaJ8kQE0AiNLwSUNIYQFPeD72nHy3Ajmw7zpxxMkBxrCkgW1A5QPf67B0jhkHAlzWgo6vnGkDJINfsbVM6wHAlfg5akCTACukIzMvCM8CUEHR3g2k3wD7DOXqyDDNA2tg4BdwvQ8AD+r8tSOQhwAInLcZzPDjA+YaJsyLcQECcnwmR6HQ1QDfUtuGfVR3AU2hca5K+QMByscbrJ/vwvzNQCg9D1QfA/lrkD9/H/7/V3wPEdWwIwD1ixpJGsTPAgnjLmHrTSkAXBb7WxfYxQDknjrdfRArAtzqtk+rmQkBqzANXwjEgwCwOKvdgglNA/LHf/tqgQMAwU14kRJ4nQJXqg3XpCUjAVF/sD9XhIUB4WZh/C/cQwA9MObYy2yvAkFZ0rLEeI0Din7jSFO0awOHoNdHYQw1AA7awOUSnMMBZJAoq91y2v1kf9boF+jlAiiqu56O+EsBBgYPDZrI4wJc6Z7ZThzPAdV7zITegSEDmoQYtFto8wBXMxBuwUjVANJS4KV03OMA5ekzoyoE6wL48twiG1yDAZp+PHqsW3j+AU/AnFilKQGjEoP0KOE9AJIpptwdnKsDnWDAcl7swQNqNhG04WUZA1A8GgwAPKcCsjfV+k8MIwISNgrudbDHAyh1sSoYuQUAtSmKUn3k2QNT8akyDkDbAoosAcdJcBUA=\",\"dtype\":\"float64\",\"order\":\"little\",\"shape\":[163]}},\"selected\":{\"id\":\"19973\"},\"selection_policy\":{\"id\":\"19972\"}},\"id\":\"19926\",\"type\":\"ColumnDataSource\"},{\"attributes\":{},\"id\":\"19941\",\"type\":\"BasicTicker\"},{\"attributes\":{\"index\":14,\"label\":{\"value\":\"01\"},\"renderers\":[{\"id\":\"19963\"}]},\"id\":\"19976\",\"type\":\"LegendItem\"},{\"attributes\":{\"index\":3,\"label\":{\"value\":\"07\"},\"renderers\":[{\"id\":\"19963\"}]},\"id\":\"19982\",\"type\":\"LegendItem\"},{\"attributes\":{\"callback\":null,\"tooltips\":[[\"Country:\",\"@Country\"],[\"Label:\",\"@labels\"]]},\"id\":\"19951\",\"type\":\"HoverTool\"},{\"attributes\":{\"fill_alpha\":{\"value\":0.1},\"fill_color\":{\"field\":\"labels\",\"transform\":{\"id\":\"19925\"}},\"line_alpha\":{\"value\":0.1},\"line_color\":{\"value\":null},\"radius\":{\"units\":\"data\",\"value\":1.5}},\"id\":\"19962\",\"type\":\"Circle\"},{\"attributes\":{\"index\":0,\"label\":{\"value\":\"06\"},\"renderers\":[{\"id\":\"19963\"}]},\"id\":\"19981\",\"type\":\"LegendItem\"},{\"attributes\":{\"data_source\":{\"id\":\"19926\"},\"glyph\":{\"id\":\"19961\"},\"hover_glyph\":null,\"muted_glyph\":null,\"nonselection_glyph\":{\"id\":\"19962\"},\"selection_glyph\":null,\"view\":{\"id\":\"19964\"}},\"id\":\"19963\",\"type\":\"GlyphRenderer\"},{\"attributes\":{},\"id\":\"19937\",\"type\":\"BasicTicker\"},{\"attributes\":{\"index\":6,\"label\":{\"value\":\"02\"},\"renderers\":[{\"id\":\"19963\"}]},\"id\":\"19977\",\"type\":\"LegendItem\"},{\"attributes\":{\"bottom_units\":\"screen\",\"fill_alpha\":0.5,\"fill_color\":\"lightgrey\",\"left_units\":\"screen\",\"level\":\"overlay\",\"line_alpha\":1.0,\"line_color\":\"black\",\"line_dash\":[4,4],\"line_width\":2,\"right_units\":\"screen\",\"top_units\":\"screen\"},\"id\":\"19950\",\"type\":\"BoxAnnotation\"},{\"attributes\":{\"active_drag\":\"auto\",\"active_inspect\":\"auto\",\"active_multi\":null,\"active_scroll\":\"auto\",\"active_tap\":\"auto\",\"tools\":[{\"id\":\"19944\"},{\"id\":\"19945\"},{\"id\":\"19946\"},{\"id\":\"19947\"},{\"id\":\"19948\"},{\"id\":\"19949\"},{\"id\":\"19951\"}]},\"id\":\"19952\",\"type\":\"Toolbar\"},{\"attributes\":{},\"id\":\"19928\",\"type\":\"DataRange1d\"},{\"attributes\":{\"index\":2,\"label\":{\"value\":\"03\"},\"renderers\":[{\"id\":\"19963\"}]},\"id\":\"19978\",\"type\":\"LegendItem\"},{\"attributes\":{\"source\":{\"id\":\"19926\"}},\"id\":\"19964\",\"type\":\"CDSView\"},{\"attributes\":{\"fill_color\":{\"field\":\"labels\",\"transform\":{\"id\":\"19925\"}},\"line_color\":{\"value\":null},\"radius\":{\"units\":\"data\",\"value\":1.5}},\"id\":\"19961\",\"type\":\"Circle\"},{\"attributes\":{\"index\":24,\"label\":{\"value\":\"04\"},\"renderers\":[{\"id\":\"19963\"}]},\"id\":\"19979\",\"type\":\"LegendItem\"},{\"attributes\":{\"factors\":[\"00\",\"01\",\"02\",\"03\",\"04\",\"05\",\"06\",\"07\"],\"palette\":[\"rgb(224, 103, 142)\",\"rgb(0, 166, 82)\",\"rgb(280, 0, 114)\",\"rgb(167, 128, 205)\",\"rgb(0, 163, 182)\",\"rgb(178, 132, 131)\",\"rgb(0, 180, 139)\",\"rgb(62, 161, 131)\"]},\"id\":\"19925\",\"type\":\"CategoricalColorMapper\"},{\"attributes\":{},\"id\":\"19932\",\"type\":\"LinearScale\"},{\"attributes\":{\"index\":15,\"label\":{\"value\":\"05\"},\"renderers\":[{\"id\":\"19963\"}]},\"id\":\"19980\",\"type\":\"LegendItem\"},{\"attributes\":{},\"id\":\"19973\",\"type\":\"Selection\"},{\"attributes\":{\"formatter\":{\"id\":\"19968\"},\"ticker\":{\"id\":\"19937\"}},\"id\":\"19936\",\"type\":\"LinearAxis\"},{\"attributes\":{\"axis\":{\"id\":\"19940\"},\"dimension\":1,\"ticker\":null},\"id\":\"19943\",\"type\":\"Grid\"},{\"attributes\":{},\"id\":\"19970\",\"type\":\"BasicTickFormatter\"},{\"attributes\":{},\"id\":\"19934\",\"type\":\"LinearScale\"},{\"attributes\":{},\"id\":\"19930\",\"type\":\"DataRange1d\"}],\"root_ids\":[\"19927\"]},\"title\":\"Bokeh Application\",\"version\":\"2.2.3\"}};\n",
       "  var render_items = [{\"docid\":\"1309aa59-3457-40e4-8d2f-2c7dc0a012da\",\"root_ids\":[\"19927\"],\"roots\":{\"19927\":\"0c22af48-7f20-448c-a258-23fd17692fc5\"}}];\n",
       "  root.Bokeh.embed.embed_items_notebook(docs_json, render_items);\n",
       "\n",
       "  }\n",
       "  if (root.Bokeh !== undefined) {\n",
       "    embed_document(root);\n",
       "  } else {\n",
       "    var attempts = 0;\n",
       "    var timer = setInterval(function(root) {\n",
       "      if (root.Bokeh !== undefined) {\n",
       "        clearInterval(timer);\n",
       "        embed_document(root);\n",
       "      } else {\n",
       "        attempts++;\n",
       "        if (attempts > 100) {\n",
       "          clearInterval(timer);\n",
       "          console.log(\"Bokeh: ERROR: Unable to run BokehJS code because BokehJS library is missing\");\n",
       "        }\n",
       "      }\n",
       "    }, 10, root)\n",
       "  }\n",
       "})(window);"
      ],
      "application/vnd.bokehjs_exec.v0+json": ""
     },
     "metadata": {
      "application/vnd.bokehjs_exec.v0+json": {
       "id": "19927"
      }
     },
     "output_type": "display_data"
    },
    {
     "data": {
      "text/html": [
       "\n",
       "\n",
       "\n",
       "\n",
       "\n",
       "\n",
       "  <div class=\"bk-root\" id=\"26262565-b512-4247-91b9-04d1dd0c2e54\" data-root-id=\"20649\"></div>\n"
      ]
     },
     "metadata": {},
     "output_type": "display_data"
    },
    {
     "data": {
      "application/javascript": [
       "(function(root) {\n",
       "  function embed_document(root) {\n",
       "    \n",
       "  var docs_json = {\"5dc69f4c-1b68-40b9-9384-902fb53e9aad\":{\"roots\":{\"references\":[{\"attributes\":{\"below\":[{\"id\":\"20658\"}],\"center\":[{\"id\":\"20661\"},{\"id\":\"20665\"}],\"left\":[{\"id\":\"20662\"}],\"plot_height\":400,\"plot_width\":800,\"renderers\":[{\"id\":\"20683\"},{\"id\":\"20688\"},{\"id\":\"20693\"},{\"id\":\"20698\"},{\"id\":\"20703\"},{\"id\":\"20708\"},{\"id\":\"20713\"},{\"id\":\"20718\"}],\"title\":{\"id\":\"21342\"},\"toolbar\":{\"id\":\"20673\"},\"x_range\":{\"id\":\"20650\"},\"x_scale\":{\"id\":\"20654\"},\"y_range\":{\"id\":\"20652\"},\"y_scale\":{\"id\":\"20656\"}},\"id\":\"20649\",\"subtype\":\"Figure\",\"type\":\"Plot\"},{\"attributes\":{},\"id\":\"20652\",\"type\":\"DataRange1d\"},{\"attributes\":{\"fill_color\":\"rgb(224, 103, 142)\",\"height\":{\"value\":0.3},\"line_color\":\"rgb(224, 103, 142)\",\"right\":{\"field\":\"right\"},\"y\":{\"field\":\"y\"}},\"id\":\"20681\",\"type\":\"HBar\"},{\"attributes\":{},\"id\":\"20650\",\"type\":\"DataRange1d\"},{\"attributes\":{},\"id\":\"20656\",\"type\":\"LinearScale\"},{\"attributes\":{},\"id\":\"20654\",\"type\":\"LinearScale\"},{\"attributes\":{},\"id\":\"20659\",\"type\":\"BasicTicker\"},{\"attributes\":{},\"id\":\"20671\",\"type\":\"HelpTool\"},{\"attributes\":{\"fill_color\":\"rgb(280, 0, 114)\",\"height\":{\"value\":0.3},\"left\":{\"value\":6},\"line_color\":\"rgb(280, 0, 114)\",\"right\":{\"field\":\"right\"},\"y\":{\"field\":\"y\"}},\"id\":\"20691\",\"type\":\"HBar\"},{\"attributes\":{\"formatter\":{\"id\":\"21346\"},\"ticker\":{\"id\":\"20663\"}},\"id\":\"20662\",\"type\":\"LinearAxis\"},{\"attributes\":{\"axis\":{\"id\":\"20662\"},\"dimension\":1,\"ticker\":null},\"id\":\"20665\",\"type\":\"Grid\"},{\"attributes\":{},\"id\":\"20663\",\"type\":\"BasicTicker\"},{\"attributes\":{\"data\":{\"right\":{\"__ndarray__\":\"iGuiFgkN4j9+9/wc6rngP6M+M5GaGtc/PN1vscry5D+yHKGwJlTkP6uUm6eHC+M/eO17k47Auj+qhehDGZ/hPxn8xIQPxeE/mW6t1VLn1j/I14aa1Z/IPx+2y+7bDt0/wWdPdwZYyj/BcB6Sl0q4P9IulEBsHNs/\",\"dtype\":\"float64\",\"order\":\"little\",\"shape\":[15]},\"y\":[0,1,2,3,4,5,6,7,8,9,10,11,12,13,14]},\"selected\":{\"id\":\"21349\"},\"selection_policy\":{\"id\":\"21348\"}},\"id\":\"20680\",\"type\":\"ColumnDataSource\"},{\"attributes\":{\"active_drag\":\"auto\",\"active_inspect\":\"auto\",\"active_multi\":null,\"active_scroll\":\"auto\",\"active_tap\":\"auto\",\"tools\":[{\"id\":\"20666\"},{\"id\":\"20667\"},{\"id\":\"20668\"},{\"id\":\"20669\"},{\"id\":\"20670\"},{\"id\":\"20671\"}]},\"id\":\"20673\",\"type\":\"Toolbar\"},{\"attributes\":{},\"id\":\"20667\",\"type\":\"WheelZoomTool\"},{\"attributes\":{\"axis\":{\"id\":\"20658\"},\"ticker\":null},\"id\":\"20661\",\"type\":\"Grid\"},{\"attributes\":{},\"id\":\"20666\",\"type\":\"PanTool\"},{\"attributes\":{\"overlay\":{\"id\":\"20672\"}},\"id\":\"20668\",\"type\":\"BoxZoomTool\"},{\"attributes\":{},\"id\":\"20669\",\"type\":\"SaveTool\"},{\"attributes\":{},\"id\":\"20670\",\"type\":\"ResetTool\"},{\"attributes\":{\"fill_alpha\":{\"value\":0.1},\"fill_color\":\"rgb(0, 163, 182)\",\"height\":{\"value\":0.3},\"left\":{\"value\":12},\"line_alpha\":{\"value\":0.1},\"line_color\":\"rgb(0, 163, 182)\",\"right\":{\"field\":\"right\"},\"y\":{\"field\":\"y\"}},\"id\":\"20702\",\"type\":\"HBar\"},{\"attributes\":{\"source\":{\"id\":\"20700\"}},\"id\":\"20704\",\"type\":\"CDSView\"},{\"attributes\":{\"data_source\":{\"id\":\"20700\"},\"glyph\":{\"id\":\"20701\"},\"hover_glyph\":null,\"muted_glyph\":null,\"nonselection_glyph\":{\"id\":\"20702\"},\"selection_glyph\":null,\"view\":{\"id\":\"20704\"}},\"id\":\"20703\",\"type\":\"GlyphRenderer\"},{\"attributes\":{\"fill_color\":\"rgb(0, 163, 182)\",\"height\":{\"value\":0.3},\"left\":{\"value\":12},\"line_color\":\"rgb(0, 163, 182)\",\"right\":{\"field\":\"right\"},\"y\":{\"field\":\"y\"}},\"id\":\"20701\",\"type\":\"HBar\"},{\"attributes\":{\"fill_color\":\"rgb(0, 180, 139)\",\"height\":{\"value\":0.3},\"left\":{\"value\":18},\"line_color\":\"rgb(0, 180, 139)\",\"right\":{\"field\":\"right\"},\"y\":{\"field\":\"y\"}},\"id\":\"20711\",\"type\":\"HBar\"},{\"attributes\":{\"formatter\":{\"id\":\"21344\"},\"ticker\":{\"id\":\"20659\"}},\"id\":\"20658\",\"type\":\"LinearAxis\"},{\"attributes\":{\"data\":{\"right\":{\"__ndarray__\":\"igeoOHncL0D5U4kQhB0wQGgR85dmMjBA9v0OdaXmL0CYF8kIvxgwQKe7r1WOGzBAV6mMi40PMECIkEGuRwwwQMudnAV2EjBAQv0fez5ZMEDfU0/sdZIxQA8D22q6bDBA30erV74YMECKXdFT4tMwQHjq20/lczBA\",\"dtype\":\"float64\",\"order\":\"little\",\"shape\":[15]},\"y\":[0,1,2,3,4,5,6,7,8,9,10,11,12,13,14]},\"selected\":{\"id\":\"21361\"},\"selection_policy\":{\"id\":\"21360\"}},\"id\":\"20710\",\"type\":\"ColumnDataSource\"},{\"attributes\":{\"fill_alpha\":{\"value\":0.1},\"fill_color\":\"rgb(178, 132, 131)\",\"height\":{\"value\":0.3},\"left\":{\"value\":15},\"line_alpha\":{\"value\":0.1},\"line_color\":\"rgb(178, 132, 131)\",\"right\":{\"field\":\"right\"},\"y\":{\"field\":\"y\"}},\"id\":\"20707\",\"type\":\"HBar\"},{\"attributes\":{\"fill_alpha\":{\"value\":0.1},\"fill_color\":\"rgb(0, 180, 139)\",\"height\":{\"value\":0.3},\"left\":{\"value\":18},\"line_alpha\":{\"value\":0.1},\"line_color\":\"rgb(0, 180, 139)\",\"right\":{\"field\":\"right\"},\"y\":{\"field\":\"y\"}},\"id\":\"20712\",\"type\":\"HBar\"},{\"attributes\":{\"data_source\":{\"id\":\"20705\"},\"glyph\":{\"id\":\"20706\"},\"hover_glyph\":null,\"muted_glyph\":null,\"nonselection_glyph\":{\"id\":\"20707\"},\"selection_glyph\":null,\"view\":{\"id\":\"20709\"}},\"id\":\"20708\",\"type\":\"GlyphRenderer\"},{\"attributes\":{\"source\":{\"id\":\"20705\"}},\"id\":\"20709\",\"type\":\"CDSView\"},{\"attributes\":{\"data_source\":{\"id\":\"20710\"},\"glyph\":{\"id\":\"20711\"},\"hover_glyph\":null,\"muted_glyph\":null,\"nonselection_glyph\":{\"id\":\"20712\"},\"selection_glyph\":null,\"view\":{\"id\":\"20714\"}},\"id\":\"20713\",\"type\":\"GlyphRenderer\"},{\"attributes\":{\"data\":{\"right\":{\"__ndarray__\":\"vHqe0I5xJkDDADOx4RkmQHwlk4xAWyVA1auleiiCJkCRvjGGj+YmQELnwpmCiSZAs81LqbD5JUCoLcgCIQ4nQP7EQCwTWiVArN5EO0kpJkBQ1OVlVncnQAf2ZqGGmCRAF/9CD+9vJkBjzfCsOqklQFI05kqqcSZA\",\"dtype\":\"float64\",\"order\":\"little\",\"shape\":[15]},\"y\":[0,1,2,3,4,5,6,7,8,9,10,11,12,13,14]},\"selected\":{\"id\":\"21357\"},\"selection_policy\":{\"id\":\"21356\"}},\"id\":\"20700\",\"type\":\"ColumnDataSource\"},{\"attributes\":{\"bottom_units\":\"screen\",\"fill_alpha\":0.5,\"fill_color\":\"lightgrey\",\"left_units\":\"screen\",\"level\":\"overlay\",\"line_alpha\":1.0,\"line_color\":\"black\",\"line_dash\":[4,4],\"line_width\":2,\"right_units\":\"screen\",\"top_units\":\"screen\"},\"id\":\"20672\",\"type\":\"BoxAnnotation\"},{\"attributes\":{\"source\":{\"id\":\"20710\"}},\"id\":\"20714\",\"type\":\"CDSView\"},{\"attributes\":{},\"id\":\"21344\",\"type\":\"BasicTickFormatter\"},{\"attributes\":{\"fill_alpha\":{\"value\":0.1},\"fill_color\":\"rgb(280, 0, 114)\",\"height\":{\"value\":0.3},\"left\":{\"value\":6},\"line_alpha\":{\"value\":0.1},\"line_color\":\"rgb(280, 0, 114)\",\"right\":{\"field\":\"right\"},\"y\":{\"field\":\"y\"}},\"id\":\"20692\",\"type\":\"HBar\"},{\"attributes\":{\"data_source\":{\"id\":\"20695\"},\"glyph\":{\"id\":\"20696\"},\"hover_glyph\":null,\"muted_glyph\":null,\"nonselection_glyph\":{\"id\":\"20697\"},\"selection_glyph\":null,\"view\":{\"id\":\"20699\"}},\"id\":\"20698\",\"type\":\"GlyphRenderer\"},{\"attributes\":{\"fill_alpha\":{\"value\":0.1},\"fill_color\":\"rgb(224, 103, 142)\",\"height\":{\"value\":0.3},\"line_alpha\":{\"value\":0.1},\"line_color\":\"rgb(224, 103, 142)\",\"right\":{\"field\":\"right\"},\"y\":{\"field\":\"y\"}},\"id\":\"20682\",\"type\":\"HBar\"},{\"attributes\":{},\"id\":\"21358\",\"type\":\"UnionRenderers\"},{\"attributes\":{\"data_source\":{\"id\":\"20690\"},\"glyph\":{\"id\":\"20691\"},\"hover_glyph\":null,\"muted_glyph\":null,\"nonselection_glyph\":{\"id\":\"20692\"},\"selection_glyph\":null,\"view\":{\"id\":\"20694\"}},\"id\":\"20693\",\"type\":\"GlyphRenderer\"},{\"attributes\":{},\"id\":\"21359\",\"type\":\"Selection\"},{\"attributes\":{\"data_source\":{\"id\":\"20685\"},\"glyph\":{\"id\":\"20686\"},\"hover_glyph\":null,\"muted_glyph\":null,\"nonselection_glyph\":{\"id\":\"20687\"},\"selection_glyph\":null,\"view\":{\"id\":\"20689\"}},\"id\":\"20688\",\"type\":\"GlyphRenderer\"},{\"attributes\":{\"fill_alpha\":{\"value\":0.1},\"fill_color\":\"rgb(167, 128, 205)\",\"height\":{\"value\":0.3},\"left\":{\"value\":9},\"line_alpha\":{\"value\":0.1},\"line_color\":\"rgb(167, 128, 205)\",\"right\":{\"field\":\"right\"},\"y\":{\"field\":\"y\"}},\"id\":\"20697\",\"type\":\"HBar\"},{\"attributes\":{\"data_source\":{\"id\":\"20680\"},\"glyph\":{\"id\":\"20681\"},\"hover_glyph\":null,\"muted_glyph\":null,\"nonselection_glyph\":{\"id\":\"20682\"},\"selection_glyph\":null,\"view\":{\"id\":\"20684\"}},\"id\":\"20683\",\"type\":\"GlyphRenderer\"},{\"attributes\":{},\"id\":\"21360\",\"type\":\"UnionRenderers\"},{\"attributes\":{},\"id\":\"21361\",\"type\":\"Selection\"},{\"attributes\":{},\"id\":\"21348\",\"type\":\"UnionRenderers\"},{\"attributes\":{},\"id\":\"21349\",\"type\":\"Selection\"},{\"attributes\":{\"fill_color\":\"rgb(62, 161, 131)\",\"height\":{\"value\":0.3},\"left\":{\"value\":21},\"line_color\":\"rgb(62, 161, 131)\",\"right\":{\"field\":\"right\"},\"y\":{\"field\":\"y\"}},\"id\":\"20716\",\"type\":\"HBar\"},{\"attributes\":{\"source\":{\"id\":\"20680\"}},\"id\":\"20684\",\"type\":\"CDSView\"},{\"attributes\":{},\"id\":\"21362\",\"type\":\"UnionRenderers\"},{\"attributes\":{\"data\":{\"right\":{\"__ndarray__\":\"NeF4p4cJLkC/uKKvduotQNRYkvkx5i1Ap/689br4LUCJggMMve8tQJh3bFw2Wy5Az+K1+pPELUDuILLZtQQuQHHIA2yWCy5AMZfm0nN4LUD0Kf+JkSwuQHw9UxWvdi5AvcHHxUkCLkAuNM2t2QEuQJ3oMqrDIy1A\",\"dtype\":\"float64\",\"order\":\"little\",\"shape\":[15]},\"y\":[0,1,2,3,4,5,6,7,8,9,10,11,12,13,14]},\"selected\":{\"id\":\"21359\"},\"selection_policy\":{\"id\":\"21358\"}},\"id\":\"20705\",\"type\":\"ColumnDataSource\"},{\"attributes\":{},\"id\":\"21363\",\"type\":\"Selection\"},{\"attributes\":{\"fill_alpha\":{\"value\":0.1},\"fill_color\":\"rgb(0, 166, 82)\",\"height\":{\"value\":0.3},\"left\":{\"value\":3},\"line_alpha\":{\"value\":0.1},\"line_color\":\"rgb(0, 166, 82)\",\"right\":{\"field\":\"right\"},\"y\":{\"field\":\"y\"}},\"id\":\"20687\",\"type\":\"HBar\"},{\"attributes\":{\"data\":{\"right\":{\"__ndarray__\":\"AriYqyvvIkCUI1b0xbAhQLH32Cj6DyFAYSNUrqonI0DRIafNXx0jQJ19U1QnIiNA/1ESGOfCIUBUc1c56JoiQPqXbEqS/CFAPWclDAdaIkCmzpif7PseQASvtvzbaB9AH+PmoDRiIkA+nfGIVCsgQJFf+D9auSJA\",\"dtype\":\"float64\",\"order\":\"little\",\"shape\":[15]},\"y\":[0,1,2,3,4,5,6,7,8,9,10,11,12,13,14]},\"selected\":{\"id\":\"21355\"},\"selection_policy\":{\"id\":\"21354\"}},\"id\":\"20695\",\"type\":\"ColumnDataSource\"},{\"attributes\":{\"data\":{\"right\":{\"__ndarray__\":\"qsknDdclHEBKk9MMpx0dQJIfxSLykh1ATz4WBHGvG0AJg2iIrMUbQFiIyg6xmhtAqH49gKmvHEBIhKTif8wbQJOfWTU9cRxA+HDfV/8JHUAqxWcrtrobQPWs/5C/VBxAYLPESuj5HEDgPQtLfCEdQHHO5Nmw2xxA\",\"dtype\":\"float64\",\"order\":\"little\",\"shape\":[15]},\"y\":[0,1,2,3,4,5,6,7,8,9,10,11,12,13,14]},\"selected\":{\"id\":\"21353\"},\"selection_policy\":{\"id\":\"21352\"}},\"id\":\"20690\",\"type\":\"ColumnDataSource\"},{\"attributes\":{},\"id\":\"21350\",\"type\":\"UnionRenderers\"},{\"attributes\":{\"fill_color\":\"rgb(178, 132, 131)\",\"height\":{\"value\":0.3},\"left\":{\"value\":15},\"line_color\":\"rgb(178, 132, 131)\",\"right\":{\"field\":\"right\"},\"y\":{\"field\":\"y\"}},\"id\":\"20706\",\"type\":\"HBar\"},{\"attributes\":{\"data\":{\"right\":{\"__ndarray__\":\"nucs4+7H+T+xYvWxbFP/P/0hUtygiAJA1TIZEZIJ+j/tm+sXdZ33P9vj1vezF/Y/4g4nzkxeBUB1p1bGgYf6P9l45bZqF/8/ENn8VJU+/j9BtaxDW6sKQORylX60UghABtmUo5XK/D+uILHDK7gHQAG9PFM7I/w/\",\"dtype\":\"float64\",\"order\":\"little\",\"shape\":[15]},\"y\":[0,1,2,3,4,5,6,7,8,9,10,11,12,13,14]},\"selected\":{\"id\":\"21351\"},\"selection_policy\":{\"id\":\"21350\"}},\"id\":\"20685\",\"type\":\"ColumnDataSource\"},{\"attributes\":{},\"id\":\"21351\",\"type\":\"Selection\"},{\"attributes\":{\"text\":\"\"},\"id\":\"21342\",\"type\":\"Title\"},{\"attributes\":{\"fill_color\":\"rgb(0, 166, 82)\",\"height\":{\"value\":0.3},\"left\":{\"value\":3},\"line_color\":\"rgb(0, 166, 82)\",\"right\":{\"field\":\"right\"},\"y\":{\"field\":\"y\"}},\"id\":\"20686\",\"type\":\"HBar\"},{\"attributes\":{\"data\":{\"right\":{\"__ndarray__\":\"wu5I3FEANECKD8UaXQU0QLKLsUIRPzRAnJju+AvyM0BP0kG1PfgzQMrchqlZEjRAGBOF3CNZNEC0iCfIxjA0QL9GeAIEWDRAYkl7XlknNEC2PJOGAfczQJYpm+VxnzRAgZWt191HNEDak3xEA1k0QJuYjkpjHTRA\",\"dtype\":\"float64\",\"order\":\"little\",\"shape\":[15]},\"y\":[0,1,2,3,4,5,6,7,8,9,10,11,12,13,14]},\"selected\":{\"id\":\"21363\"},\"selection_policy\":{\"id\":\"21362\"}},\"id\":\"20715\",\"type\":\"ColumnDataSource\"},{\"attributes\":{\"fill_color\":\"rgb(167, 128, 205)\",\"height\":{\"value\":0.3},\"left\":{\"value\":9},\"line_color\":\"rgb(167, 128, 205)\",\"right\":{\"field\":\"right\"},\"y\":{\"field\":\"y\"}},\"id\":\"20696\",\"type\":\"HBar\"},{\"attributes\":{\"source\":{\"id\":\"20685\"}},\"id\":\"20689\",\"type\":\"CDSView\"},{\"attributes\":{\"fill_alpha\":{\"value\":0.1},\"fill_color\":\"rgb(62, 161, 131)\",\"height\":{\"value\":0.3},\"left\":{\"value\":21},\"line_alpha\":{\"value\":0.1},\"line_color\":\"rgb(62, 161, 131)\",\"right\":{\"field\":\"right\"},\"y\":{\"field\":\"y\"}},\"id\":\"20717\",\"type\":\"HBar\"},{\"attributes\":{},\"id\":\"21352\",\"type\":\"UnionRenderers\"},{\"attributes\":{},\"id\":\"21353\",\"type\":\"Selection\"},{\"attributes\":{\"data_source\":{\"id\":\"20715\"},\"glyph\":{\"id\":\"20716\"},\"hover_glyph\":null,\"muted_glyph\":null,\"nonselection_glyph\":{\"id\":\"20717\"},\"selection_glyph\":null,\"view\":{\"id\":\"20719\"}},\"id\":\"20718\",\"type\":\"GlyphRenderer\"},{\"attributes\":{\"source\":{\"id\":\"20690\"}},\"id\":\"20694\",\"type\":\"CDSView\"},{\"attributes\":{\"source\":{\"id\":\"20695\"}},\"id\":\"20699\",\"type\":\"CDSView\"},{\"attributes\":{},\"id\":\"21354\",\"type\":\"UnionRenderers\"},{\"attributes\":{},\"id\":\"21355\",\"type\":\"Selection\"},{\"attributes\":{\"source\":{\"id\":\"20715\"}},\"id\":\"20719\",\"type\":\"CDSView\"},{\"attributes\":{},\"id\":\"21346\",\"type\":\"BasicTickFormatter\"},{\"attributes\":{},\"id\":\"21356\",\"type\":\"UnionRenderers\"},{\"attributes\":{},\"id\":\"21357\",\"type\":\"Selection\"}],\"root_ids\":[\"20649\"]},\"title\":\"Bokeh Application\",\"version\":\"2.2.3\"}};\n",
       "  var render_items = [{\"docid\":\"5dc69f4c-1b68-40b9-9384-902fb53e9aad\",\"root_ids\":[\"20649\"],\"roots\":{\"20649\":\"26262565-b512-4247-91b9-04d1dd0c2e54\"}}];\n",
       "  root.Bokeh.embed.embed_items_notebook(docs_json, render_items);\n",
       "\n",
       "  }\n",
       "  if (root.Bokeh !== undefined) {\n",
       "    embed_document(root);\n",
       "  } else {\n",
       "    var attempts = 0;\n",
       "    var timer = setInterval(function(root) {\n",
       "      if (root.Bokeh !== undefined) {\n",
       "        clearInterval(timer);\n",
       "        embed_document(root);\n",
       "      } else {\n",
       "        attempts++;\n",
       "        if (attempts > 100) {\n",
       "          clearInterval(timer);\n",
       "          console.log(\"Bokeh: ERROR: Unable to run BokehJS code because BokehJS library is missing\");\n",
       "        }\n",
       "      }\n",
       "    }, 10, root)\n",
       "  }\n",
       "})(window);"
      ],
      "application/vnd.bokehjs_exec.v0+json": ""
     },
     "metadata": {
      "application/vnd.bokehjs_exec.v0+json": {
       "id": "20649"
      }
     },
     "output_type": "display_data"
    },
    {
     "name": "stdout",
     "output_type": "stream",
     "text": [
      "k = 9\n",
      "silhouette: 0.268\n"
     ]
    },
    {
     "data": {
      "text/html": [
       "\n",
       "\n",
       "\n",
       "\n",
       "\n",
       "\n",
       "  <div class=\"bk-root\" id=\"b51fd43b-41fd-4c18-9f6a-3b8ca5a8c518\" data-root-id=\"21481\"></div>\n"
      ]
     },
     "metadata": {},
     "output_type": "display_data"
    },
    {
     "data": {
      "application/javascript": [
       "(function(root) {\n",
       "  function embed_document(root) {\n",
       "    \n",
       "  var docs_json = {\"2825eaa0-be36-431b-b046-57cb30b9b07c\":{\"roots\":{\"references\":[{\"attributes\":{\"below\":[{\"id\":\"21490\"}],\"center\":[{\"id\":\"21493\"},{\"id\":\"21497\"},{\"id\":\"21528\"}],\"left\":[{\"id\":\"21494\"}],\"plot_height\":400,\"plot_width\":400,\"renderers\":[{\"id\":\"21517\"}],\"title\":{\"id\":\"21520\"},\"toolbar\":{\"id\":\"21506\"},\"x_range\":{\"id\":\"21482\"},\"x_scale\":{\"id\":\"21486\"},\"y_range\":{\"id\":\"21484\"},\"y_scale\":{\"id\":\"21488\"}},\"id\":\"21481\",\"subtype\":\"Figure\",\"type\":\"Plot\"},{\"attributes\":{\"items\":[{\"id\":\"21529\"},{\"id\":\"21530\"},{\"id\":\"21531\"},{\"id\":\"21532\"},{\"id\":\"21533\"},{\"id\":\"21534\"},{\"id\":\"21535\"},{\"id\":\"21536\"},{\"id\":\"21537\"}]},\"id\":\"21528\",\"type\":\"Legend\"},{\"attributes\":{},\"id\":\"21491\",\"type\":\"BasicTicker\"},{\"attributes\":{\"formatter\":{\"id\":\"21524\"},\"ticker\":{\"id\":\"21495\"}},\"id\":\"21494\",\"type\":\"LinearAxis\"},{\"attributes\":{\"axis\":{\"id\":\"21490\"},\"ticker\":null},\"id\":\"21493\",\"type\":\"Grid\"},{\"attributes\":{\"factors\":[\"00\",\"01\",\"02\",\"03\",\"04\",\"05\",\"06\",\"07\",\"08\"],\"palette\":[\"rgb(170, 128, 199)\",\"rgb(75, 161, 106)\",\"rgb(219, 107, 142)\",\"rgb(273, 31, 116)\",\"rgb(176, 133, 132)\",\"rgb(0, 158, 229)\",\"rgb(0, 169, 80)\",\"rgb(0, 180, 140)\",\"rgb(0, 162, 158)\"]},\"id\":\"21479\",\"type\":\"CategoricalColorMapper\"},{\"attributes\":{},\"id\":\"21484\",\"type\":\"DataRange1d\"},{\"attributes\":{\"fill_alpha\":{\"value\":0.1},\"fill_color\":{\"field\":\"labels\",\"transform\":{\"id\":\"21479\"}},\"line_alpha\":{\"value\":0.1},\"line_color\":{\"value\":null},\"radius\":{\"units\":\"data\",\"value\":1.5}},\"id\":\"21516\",\"type\":\"Circle\"},{\"attributes\":{\"active_drag\":\"auto\",\"active_inspect\":\"auto\",\"active_multi\":null,\"active_scroll\":\"auto\",\"active_tap\":\"auto\",\"tools\":[{\"id\":\"21498\"},{\"id\":\"21499\"},{\"id\":\"21500\"},{\"id\":\"21501\"},{\"id\":\"21502\"},{\"id\":\"21503\"},{\"id\":\"21505\"}]},\"id\":\"21506\",\"type\":\"Toolbar\"},{\"attributes\":{},\"id\":\"21522\",\"type\":\"BasicTickFormatter\"},{\"attributes\":{\"text\":\"\"},\"id\":\"21520\",\"type\":\"Title\"},{\"attributes\":{\"index\":2,\"label\":{\"value\":\"00\"},\"renderers\":[{\"id\":\"21517\"}]},\"id\":\"21529\",\"type\":\"LegendItem\"},{\"attributes\":{},\"id\":\"21524\",\"type\":\"BasicTickFormatter\"},{\"attributes\":{\"index\":3,\"label\":{\"value\":\"01\"},\"renderers\":[{\"id\":\"21517\"}]},\"id\":\"21530\",\"type\":\"LegendItem\"},{\"attributes\":{\"index\":22,\"label\":{\"value\":\"07\"},\"renderers\":[{\"id\":\"21517\"}]},\"id\":\"21536\",\"type\":\"LegendItem\"},{\"attributes\":{\"index\":21,\"label\":{\"value\":\"06\"},\"renderers\":[{\"id\":\"21517\"}]},\"id\":\"21535\",\"type\":\"LegendItem\"},{\"attributes\":{\"formatter\":{\"id\":\"21522\"},\"ticker\":{\"id\":\"21491\"}},\"id\":\"21490\",\"type\":\"LinearAxis\"},{\"attributes\":{\"data_source\":{\"id\":\"21480\"},\"glyph\":{\"id\":\"21515\"},\"hover_glyph\":null,\"muted_glyph\":null,\"nonselection_glyph\":{\"id\":\"21516\"},\"selection_glyph\":null,\"view\":{\"id\":\"21518\"}},\"id\":\"21517\",\"type\":\"GlyphRenderer\"},{\"attributes\":{\"index\":1,\"label\":{\"value\":\"02\"},\"renderers\":[{\"id\":\"21517\"}]},\"id\":\"21531\",\"type\":\"LegendItem\"},{\"attributes\":{\"bottom_units\":\"screen\",\"fill_alpha\":0.5,\"fill_color\":\"lightgrey\",\"left_units\":\"screen\",\"level\":\"overlay\",\"line_alpha\":1.0,\"line_color\":\"black\",\"line_dash\":[4,4],\"line_width\":2,\"right_units\":\"screen\",\"top_units\":\"screen\"},\"id\":\"21504\",\"type\":\"BoxAnnotation\"},{\"attributes\":{\"index\":6,\"label\":{\"value\":\"03\"},\"renderers\":[{\"id\":\"21517\"}]},\"id\":\"21532\",\"type\":\"LegendItem\"},{\"attributes\":{},\"id\":\"21503\",\"type\":\"HelpTool\"},{\"attributes\":{},\"id\":\"21486\",\"type\":\"LinearScale\"},{\"attributes\":{\"index\":15,\"label\":{\"value\":\"04\"},\"renderers\":[{\"id\":\"21517\"}]},\"id\":\"21533\",\"type\":\"LegendItem\"},{\"attributes\":{\"data\":{\"Country\":[\"Afghanistan\",\"Albania\",\"Algeria\",\"Angola\",\"Argentina\",\"Armenia\",\"Australia\",\"Austria\",\"Azerbaijan\",\"Bahrain\",\"Bangladesh\",\"Barbados\",\"Belarus\",\"Belgium\",\"Benin\",\"Bhutan\",\"Bolivia\",\"Bosnia and Herzegovina\",\"Botswana\",\"Brazil\",\"Bulgaria\",\"Burkina Faso\",\"Burundi\",\"Cabo Verde\",\"Cambodia\",\"Cameroon\",\"Canada\",\"Central African Republic\",\"Colombia\",\"Congo, Democratic Republic of\",\"Congo, Republic of\",\"Costa Rica\",\"C\\u00f4te d'Ivoire\",\"Croatia\",\"Cuba\",\"Cyprus\",\"Czechia\",\"Denmark\",\"Djibouti\",\"Dominican Republic\",\"Ecuador\",\"Egypt\",\"El Salvador\",\"Equatorial Guinea\",\"Eritrea\",\"Estonia\",\"Eswatini\",\"Ethiopia\",\"Fiji\",\"Finland\",\"France\",\"Gabon\",\"Gambia, The\",\"Georgia\",\"Germany\",\"Ghana\",\"Greece\",\"Guatemala\",\"Guinea\",\"Guinea-Bissau\",\"Guyana\",\"Haiti\",\"Honduras\",\"Hungary\",\"Chad\",\"Chile\",\"China\",\"Iceland\",\"India\",\"Indonesia\",\"Iran\",\"Iraq\",\"Ireland\",\"Israel\",\"Italy\",\"Jamaica\",\"Japan\",\"Jordan\",\"Kazakhstan\",\"Kenya\",\"Korea, Democratic Republic of\",\"Korea, Republic of\",\"Kuwait\",\"Kyrgyzstan\",\"Laos\",\"Latvia\",\"Lebanon\",\"Lesotho\",\"Liberia\",\"Lithuania\",\"Luxembourg\",\"Madagascar\",\"Malawi\",\"Malaysia\",\"Maldives\",\"Mali\",\"Malta\",\"Mauritania\",\"Mauritius\",\"Mexico\",\"Moldova\",\"Mongolia\",\"Montenegro\",\"Morocco\",\"Mozambique\",\"Myanmar\",\"Namibia\",\"Nepal\",\"Netherlands\",\"New Zealand\",\"Nicaragua\",\"Niger\",\"Nigeria\",\"Norway\",\"Oman\",\"Pakistan\",\"Panama\",\"Papua New Guinea\",\"Paraguay\",\"Peru\",\"Philippines\",\"Poland\",\"Portugal\",\"Qatar\",\"Republic of North Macedonia\",\"Romania\",\"Russia\",\"Rwanda\",\"Saudi Arabia\",\"Senegal\",\"Serbia\",\"Sierra Leone\",\"Singapore\",\"Slovakia\",\"Slovenia\",\"Somalia\",\"South Africa\",\"South Sudan\",\"Spain\",\"Sri Lanka\",\"Sudan\",\"Suriname\",\"Sweden\",\"Switzerland\",\"Tajikistan\",\"Tanzania\",\"Thailand\",\"Timor-Leste\",\"Togo\",\"Trinidad and Tobago\",\"Tunisia\",\"Turkey\",\"Turkmenistan\",\"Uganda\",\"Ukraine\",\"United Arab Emirates\",\"United Kingdom\",\"United States\",\"Uruguay\",\"Uzbekistan\",\"Vietnam\",\"Zambia\",\"Zimbabwe\"],\"index\":[10,20,30,40,50,60,70,80,90,100,110,120,130,140,150,160,170,180,190,200,210,220,230,240,250,260,270,280,290,300,310,320,330,340,350,360,370,380,390,400,410,420,430,440,450,460,470,480,490,500,510,520,530,540,550,560,570,580,590,600,610,620,630,640,650,660,670,680,690,700,710,720,730,740,750,760,770,780,790,800,810,820,830,840,850,860,870,880,890,900,910,920,930,940,950,960,970,980,990,1000,1010,1020,1030,1040,1050,1060,1070,1080,1090,1100,1110,1120,1130,1140,1150,1160,1170,1180,1190,1200,1210,1220,1230,1240,1250,1260,1270,1280,1293,1303,1313,1323,1333,1343,1353,1363,1373,1383,1390,1400,1410,1420,1430,1440,1450,1460,1470,1480,1490,1500,1510,1520,1530,1540,1550,1560,1570,1580,1590,1600,1610,1620,1630],\"labels\":[\"08\",\"02\",\"00\",\"01\",\"02\",\"02\",\"03\",\"03\",\"00\",\"00\",\"08\",\"02\",\"02\",\"03\",\"01\",\"04\",\"04\",\"02\",\"04\",\"02\",\"02\",\"06\",\"07\",\"04\",\"08\",\"08\",\"03\",\"07\",\"02\",\"07\",\"08\",\"03\",\"01\",\"02\",\"00\",\"03\",\"03\",\"03\",\"08\",\"04\",\"02\",\"00\",\"04\",\"08\",\"07\",\"03\",\"08\",\"01\",\"04\",\"03\",\"03\",\"04\",\"01\",\"02\",\"03\",\"04\",\"03\",\"04\",\"06\",\"06\",\"04\",\"01\",\"04\",\"02\",\"07\",\"03\",\"00\",\"03\",\"08\",\"04\",\"00\",\"00\",\"03\",\"03\",\"03\",\"02\",\"03\",\"00\",\"00\",\"01\",\"05\",\"03\",\"02\",\"04\",\"08\",\"03\",\"00\",\"01\",\"06\",\"03\",\"03\",\"06\",\"01\",\"02\",\"04\",\"06\",\"03\",\"08\",\"02\",\"02\",\"02\",\"04\",\"02\",\"00\",\"06\",\"08\",\"04\",\"08\",\"03\",\"03\",\"04\",\"06\",\"01\",\"03\",\"00\",\"08\",\"02\",\"06\",\"02\",\"02\",\"04\",\"03\",\"03\",\"00\",\"02\",\"02\",\"00\",\"01\",\"00\",\"01\",\"02\",\"06\",\"03\",\"03\",\"03\",\"07\",\"04\",\"07\",\"03\",\"02\",\"08\",\"04\",\"03\",\"03\",\"05\",\"01\",\"00\",\"01\",\"01\",\"02\",\"02\",\"00\",\"05\",\"01\",\"02\",\"00\",\"03\",\"03\",\"03\",\"00\",\"00\",\"01\",\"01\"],\"x\":{\"__ndarray__\":\"9381A0duWEAC368tE6s8wDIAU9VouCfAlqW6+nFOVEAjX0n8urFJwHwetArayUHAR+AexhsWVsAHVDca6m9UwIzzHrBh3yFARQHsco39GsA0GmcFa3pIQDl42o0GH0nAUt6nQmoFQ8BVl/2KgEBUwDqf7acTjE1ARfxh8cgavb/YjSJw8QQTwPaSd4Xa+zXAxYdg4TsO679/UUl31gA6wJ8NFiRIaEfAqIbCJcxEVED7opvtvvtbQFGnRBXl4SrAHWYaWcWYR0AcSkdwJ3ZQQP3LwU3+FFbAQO0D0kStYkAE3+T4Mhw6wFv0GxpzgVpArBaoJaViU0DBM7GLt0FMwK9ritA/+E5A3mPB01NtS8BWXgxId/EnwIc9I6Di+1HABUFdpLLpUcBCMADxrKtWwH1BsMkZQ1NAP7Px1+c9JcDxYl2wFfs9wKcpyivzCTJAsF5O9FWT3z8qneG2yTFRQK+k8+vEc2BAbpXW3vZWUsCh/XOQaN5NQMDUCE9F31RAdjfE2VER/r84ya67mFdWwFLWTHKJ0FPAbGL5Fg7zK0AOvTAtapJMQDQzZm0sdzzAOuWvYAthVcAtJgCLbsoyQDKVbQ9GAlHAacNEyP0LOEDJimxYgZhZQMypBthqtFdAdhA7JBmNE0AbpptV/hxUQCoqBKHHvTVAJBj8qX5uScBy29v8yKNiQP1B7xiZUU7AIU0a5+srCsCqrtjpfKVVwFzlagrszUFAB7RbG1U/F8CEvBCMDpoZwHn9vnI5rh9AFtpU8v/qVMCZfRoCg+BOwJPcs7enaFLAMpPg03FCN8CtECgi6BNVwNfGIlcfKTPAXSeC4UhtNsAXvUNFOulHQDXY2xEKIVFAe9nfxfyGVMC/HDYOheREwKgVBLJMpRDAg1mdubvdUEDMagiMTpdNwDloowzqkCbAioWICrNYTkC3n8CohwBTQD4wBVIms07A4cl6rRP7U8BpVDBsiQhWQGLm6SGikFBABfQf4N0FQ8BQb1K37mIjwDRk61r9Z1VAcK0JMuUFUMDSu58cjrNSQP+vbaLzzUXAeD9KsuNLOMCdYqMXsUI0wG1YbZFbLSXAVMm5pTX4O8Dt80o+L7rgv4G7JjPwQFVAIyPpw9znR0A9hLrycXMhQHEFXMd/DkRADyvI87nPVcA3I7MSAxFWwLm6WiU2hTFAS8WcaYYiW0BOM4mDux5QQAqvZL7zFlfAzzEECKouNMDhbLNL3U9RQIqh7w7nnz/AKWqdeKRVWEAr1YOQMisxwIm1XZ1ODzjAXjG4OgQ/EkBrmoj+hc5PwIbGzWI+cFLAg4wVz3HHM8Ai+BHayBE4wOwTDgSbOUTAInFyXZgiOcC6FdwVkYlNQPHGO4hZ5QrALYRXbp14Q0CNU98abB1AwPcAa3Ym2FJAqd639D0UUcC5m0kK55tNwG+WdiZPpVLA3vt1lX06YEBhScl76gMmwDTVYdA7A2NA4gAr30OUU8BwujiZlIowwKmYDBglLVJAjHdIS1iVJ8DMq5FxQBZWwKPITWukL1bAXmroQY9PQ0D78B30/LRLQKaHem0H3CjA4uxow2KKQEC01vo8FaRQQNZOeHrmukDASJmCCoAVP8C5QEtCOQ0lwGYTVI2G6z9Ap5NNavIlUECCoB2RHZE6wAZCkVz8jTLAe4zmE47IU8D3KbHrggdSwA4GzfYANE3AhQshkxpwGUARqQo9ydASwEg0gDIEEk1AztXaQyVlUEA=\",\"dtype\":\"float64\",\"order\":\"little\",\"shape\":[163]},\"y\":{\"__ndarray__\":\"e4Lu+j0NLEBIgEvt2AX7P3tG7kN3DEBAwPVMFCzZFcBevvOSsKIWwEvGrIsM6BhAerCQHoq6McCL0s6ZmUElwBquSQjgfUVA2o4WrIr/T0DtQJe+Ww0tQGnDIZDaqB3Aty4c08J+N0BDgyjAxLQzwPChDh1t0kbA7hFXIcOBHsDxMZJbH5TGv1/j3aiyJC5A3qzLMzQWMsAKjJGVdzkiQJcW9GM5dAnAChD7Rt3cQ8D8kk4ed0gJwGaXBxQ0QDLA8NL1zTxqL0DZwqNTDSD8PyzK9lWeaTTAOvhh4I3EPsAGf5Ai19QsQOqd93j49M2/nxFpA3LOMEDKKvh7JrgwwHXDArH/MTPA2jQ8ntlX5j/rCLIKkwU7QKtuyOak2STA15IFr3PhIcA9+H/FVjw5wA1AllYBUhJASFkJ8rDfFMD1OOK6yCfWv6O34UklKEtAzutAMerCFkD/TMEuj746QGK3NA2taTZADq5368jsKMB+RH2+8AY2QOGXNOPWrSTAX/zudjU2FkBuW0sMXKM4wMd0dIgKcSnA9FBr+JpcFUBjb6lcgBlAwNoRBDcnRgxABAfqWBJqM8D2M3Zrb4NAwMb7lEOICyfAInqDnTnnHUAhFhrCkxEuwLpRG7o+2EDArgbKjyAtHsDJ24HB0bkpwD/IVkPbhSVAjXujAvEl7z+uRAlLGjMgwPp7qXcamR/AyoLASW0eTUC2nh1HMiYxwJChx0ZPyyxAH5OkhKccwr/+hQnpY0BJQAigOh0agUJA8j46CaRtNcBG/DZQiN8BQI6L2oxMJjDA38WnXeQKNcCppVVAqbopwOu6vy6YW0BA7jvfruz0PED4JZtaEzoswPZ++wpH1klAig7/GS+gIcD3EZ7ESaY1QGRotSpKLDFA5+NECguxL0DQLHoGyCYcwL+6Wgk5lTxAWGPXOt5LQMCLIlGatJ1HwI0fgRZ7YyfAUioOXZSmNsAqWAuLupBEwGvK0anXUUDAW7sxgQPcLUANl3sybZEgQLGVAi0lPTzA9v/sn4yjJcD7IzidDz0VQNN1ZXU8NyHAHbsaJ8kQE0AiNLwSUNIYQFPeD72nHy3Ajmw7zpxxMkBxrCkgW1A5QPf67B0jhkHAlzWgo6vnGkDJINfsbVM6wHAlfg5akCTACukIzMvCM8CUEHR3g2k3wD7DOXqyDDNA2tg4BdwvQ8AD+r8tSOQhwAInLcZzPDjA+YaJsyLcQECcnwmR6HQ1QDfUtuGfVR3AU2hca5K+QMByscbrJ/vwvzNQCg9D1QfA/lrkD9/H/7/V3wPEdWwIwD1ixpJGsTPAgnjLmHrTSkAXBb7WxfYxQDknjrdfRArAtzqtk+rmQkBqzANXwjEgwCwOKvdgglNA/LHf/tqgQMAwU14kRJ4nQJXqg3XpCUjAVF/sD9XhIUB4WZh/C/cQwA9MObYy2yvAkFZ0rLEeI0Din7jSFO0awOHoNdHYQw1AA7awOUSnMMBZJAoq91y2v1kf9boF+jlAiiqu56O+EsBBgYPDZrI4wJc6Z7ZThzPAdV7zITegSEDmoQYtFto8wBXMxBuwUjVANJS4KV03OMA5ekzoyoE6wL48twiG1yDAZp+PHqsW3j+AU/AnFilKQGjEoP0KOE9AJIpptwdnKsDnWDAcl7swQNqNhG04WUZA1A8GgwAPKcCsjfV+k8MIwISNgrudbDHAyh1sSoYuQUAtSmKUn3k2QNT8akyDkDbAoosAcdJcBUA=\",\"dtype\":\"float64\",\"order\":\"little\",\"shape\":[163]}},\"selected\":{\"id\":\"21527\"},\"selection_policy\":{\"id\":\"21526\"}},\"id\":\"21480\",\"type\":\"ColumnDataSource\"},{\"attributes\":{\"index\":80,\"label\":{\"value\":\"05\"},\"renderers\":[{\"id\":\"21517\"}]},\"id\":\"21534\",\"type\":\"LegendItem\"},{\"attributes\":{\"overlay\":{\"id\":\"21504\"}},\"id\":\"21500\",\"type\":\"BoxZoomTool\"},{\"attributes\":{},\"id\":\"21488\",\"type\":\"LinearScale\"},{\"attributes\":{\"axis\":{\"id\":\"21494\"},\"dimension\":1,\"ticker\":null},\"id\":\"21497\",\"type\":\"Grid\"},{\"attributes\":{},\"id\":\"21501\",\"type\":\"SaveTool\"},{\"attributes\":{},\"id\":\"21502\",\"type\":\"ResetTool\"},{\"attributes\":{\"index\":0,\"label\":{\"value\":\"08\"},\"renderers\":[{\"id\":\"21517\"}]},\"id\":\"21537\",\"type\":\"LegendItem\"},{\"attributes\":{},\"id\":\"21499\",\"type\":\"WheelZoomTool\"},{\"attributes\":{},\"id\":\"21526\",\"type\":\"UnionRenderers\"},{\"attributes\":{},\"id\":\"21498\",\"type\":\"PanTool\"},{\"attributes\":{},\"id\":\"21527\",\"type\":\"Selection\"},{\"attributes\":{},\"id\":\"21495\",\"type\":\"BasicTicker\"},{\"attributes\":{\"callback\":null,\"tooltips\":[[\"Country:\",\"@Country\"],[\"Label:\",\"@labels\"]]},\"id\":\"21505\",\"type\":\"HoverTool\"},{\"attributes\":{\"fill_color\":{\"field\":\"labels\",\"transform\":{\"id\":\"21479\"}},\"line_color\":{\"value\":null},\"radius\":{\"units\":\"data\",\"value\":1.5}},\"id\":\"21515\",\"type\":\"Circle\"},{\"attributes\":{\"source\":{\"id\":\"21480\"}},\"id\":\"21518\",\"type\":\"CDSView\"},{\"attributes\":{},\"id\":\"21482\",\"type\":\"DataRange1d\"}],\"root_ids\":[\"21481\"]},\"title\":\"Bokeh Application\",\"version\":\"2.2.3\"}};\n",
       "  var render_items = [{\"docid\":\"2825eaa0-be36-431b-b046-57cb30b9b07c\",\"root_ids\":[\"21481\"],\"roots\":{\"21481\":\"b51fd43b-41fd-4c18-9f6a-3b8ca5a8c518\"}}];\n",
       "  root.Bokeh.embed.embed_items_notebook(docs_json, render_items);\n",
       "\n",
       "  }\n",
       "  if (root.Bokeh !== undefined) {\n",
       "    embed_document(root);\n",
       "  } else {\n",
       "    var attempts = 0;\n",
       "    var timer = setInterval(function(root) {\n",
       "      if (root.Bokeh !== undefined) {\n",
       "        clearInterval(timer);\n",
       "        embed_document(root);\n",
       "      } else {\n",
       "        attempts++;\n",
       "        if (attempts > 100) {\n",
       "          clearInterval(timer);\n",
       "          console.log(\"Bokeh: ERROR: Unable to run BokehJS code because BokehJS library is missing\");\n",
       "        }\n",
       "      }\n",
       "    }, 10, root)\n",
       "  }\n",
       "})(window);"
      ],
      "application/vnd.bokehjs_exec.v0+json": ""
     },
     "metadata": {
      "application/vnd.bokehjs_exec.v0+json": {
       "id": "21481"
      }
     },
     "output_type": "display_data"
    },
    {
     "data": {
      "text/html": [
       "\n",
       "\n",
       "\n",
       "\n",
       "\n",
       "\n",
       "  <div class=\"bk-root\" id=\"86f4ae5b-4a37-469a-a747-b9b48e5c6ecf\" data-root-id=\"22236\"></div>\n"
      ]
     },
     "metadata": {},
     "output_type": "display_data"
    },
    {
     "data": {
      "application/javascript": [
       "(function(root) {\n",
       "  function embed_document(root) {\n",
       "    \n",
       "  var docs_json = {\"bf21e571-bb00-4e87-acdd-4cd3c8c56929\":{\"roots\":{\"references\":[{\"attributes\":{\"below\":[{\"id\":\"22245\"}],\"center\":[{\"id\":\"22248\"},{\"id\":\"22252\"}],\"left\":[{\"id\":\"22249\"}],\"plot_height\":400,\"plot_width\":900,\"renderers\":[{\"id\":\"22270\"},{\"id\":\"22275\"},{\"id\":\"22280\"},{\"id\":\"22285\"},{\"id\":\"22290\"},{\"id\":\"22295\"},{\"id\":\"22300\"},{\"id\":\"22305\"},{\"id\":\"22310\"}],\"title\":{\"id\":\"22966\"},\"toolbar\":{\"id\":\"22260\"},\"x_range\":{\"id\":\"22237\"},\"x_scale\":{\"id\":\"22241\"},\"y_range\":{\"id\":\"22239\"},\"y_scale\":{\"id\":\"22243\"}},\"id\":\"22236\",\"subtype\":\"Figure\",\"type\":\"Plot\"},{\"attributes\":{\"data_source\":{\"id\":\"22277\"},\"glyph\":{\"id\":\"22278\"},\"hover_glyph\":null,\"muted_glyph\":null,\"nonselection_glyph\":{\"id\":\"22279\"},\"selection_glyph\":null,\"view\":{\"id\":\"22281\"}},\"id\":\"22280\",\"type\":\"GlyphRenderer\"},{\"attributes\":{},\"id\":\"22984\",\"type\":\"UnionRenderers\"},{\"attributes\":{},\"id\":\"22243\",\"type\":\"LinearScale\"},{\"attributes\":{},\"id\":\"22985\",\"type\":\"Selection\"},{\"attributes\":{\"data_source\":{\"id\":\"22282\"},\"glyph\":{\"id\":\"22283\"},\"hover_glyph\":null,\"muted_glyph\":null,\"nonselection_glyph\":{\"id\":\"22284\"},\"selection_glyph\":null,\"view\":{\"id\":\"22286\"}},\"id\":\"22285\",\"type\":\"GlyphRenderer\"},{\"attributes\":{\"fill_alpha\":{\"value\":0.1},\"fill_color\":\"rgb(0, 162, 158)\",\"height\":{\"value\":0.3},\"left\":{\"value\":24},\"line_alpha\":{\"value\":0.1},\"line_color\":\"rgb(0, 162, 158)\",\"right\":{\"field\":\"right\"},\"y\":{\"field\":\"y\"}},\"id\":\"22309\",\"type\":\"HBar\"},{\"attributes\":{},\"id\":\"22246\",\"type\":\"BasicTicker\"},{\"attributes\":{\"data\":{\"right\":{\"__ndarray__\":\"cU3UIqFBGkDwnp9DPRcaQOozE6mpcRlAqPstVlmeGkCWIxTWhIoaQJVy8/RwYRpAtu9NOgJrGEC1EH0o4zMaQIOfmPChOBpA6tZaLXVuGUC+NtSs/sQYQGK77L7t0BlAPnu6M8DSGEDDeUheKmEYQO1CCcTGsRlA\",\"dtype\":\"float64\",\"order\":\"little\",\"shape\":[15]},\"y\":[0,1,2,3,4,5,6,7,8,9,10,11,12,13,14]},\"selected\":{\"id\":\"22977\"},\"selection_policy\":{\"id\":\"22976\"}},\"id\":\"22277\",\"type\":\"ColumnDataSource\"},{\"attributes\":{\"fill_alpha\":{\"value\":0.1},\"fill_color\":\"rgb(273, 31, 116)\",\"height\":{\"value\":0.3},\"left\":{\"value\":9},\"line_alpha\":{\"value\":0.1},\"line_color\":\"rgb(273, 31, 116)\",\"right\":{\"field\":\"right\"},\"y\":{\"field\":\"y\"}},\"id\":\"22284\",\"type\":\"HBar\"},{\"attributes\":{\"data\":{\"right\":{\"__ndarray__\":\"NeF4p4cJKEC/uKKvduonQNRYkvkx5idAp/689br4J0CJggMMve8nQJh3bFw2WyhAz+K1+pPEJ0DuILLZtQQoQHHIA2yWCyhAMZfm0nN4J0D0Kf+JkSwoQHw9UxWvdihAvcHHxUkCKEAuNM2t2QEoQJ3oMqrDIydA\",\"dtype\":\"float64\",\"order\":\"little\",\"shape\":[15]},\"y\":[0,1,2,3,4,5,6,7,8,9,10,11,12,13,14]},\"selected\":{\"id\":\"22981\"},\"selection_policy\":{\"id\":\"22980\"}},\"id\":\"22287\",\"type\":\"ColumnDataSource\"},{\"attributes\":{\"data_source\":{\"id\":\"22287\"},\"glyph\":{\"id\":\"22288\"},\"hover_glyph\":null,\"muted_glyph\":null,\"nonselection_glyph\":{\"id\":\"22289\"},\"selection_glyph\":null,\"view\":{\"id\":\"22291\"}},\"id\":\"22290\",\"type\":\"GlyphRenderer\"},{\"attributes\":{\"fill_alpha\":{\"value\":0.1},\"fill_color\":\"rgb(219, 107, 142)\",\"height\":{\"value\":0.3},\"left\":{\"value\":6},\"line_alpha\":{\"value\":0.1},\"line_color\":\"rgb(219, 107, 142)\",\"right\":{\"field\":\"right\"},\"y\":{\"field\":\"y\"}},\"id\":\"22279\",\"type\":\"HBar\"},{\"attributes\":{\"fill_alpha\":{\"value\":0.1},\"fill_color\":\"rgb(176, 133, 132)\",\"height\":{\"value\":0.3},\"left\":{\"value\":12},\"line_alpha\":{\"value\":0.1},\"line_color\":\"rgb(176, 133, 132)\",\"right\":{\"field\":\"right\"},\"y\":{\"field\":\"y\"}},\"id\":\"22289\",\"type\":\"HBar\"},{\"attributes\":{\"fill_color\":\"rgb(219, 107, 142)\",\"height\":{\"value\":0.3},\"left\":{\"value\":6},\"line_color\":\"rgb(219, 107, 142)\",\"right\":{\"field\":\"right\"},\"y\":{\"field\":\"y\"}},\"id\":\"22278\",\"type\":\"HBar\"},{\"attributes\":{},\"id\":\"22986\",\"type\":\"UnionRenderers\"},{\"attributes\":{\"fill_alpha\":{\"value\":0.1},\"fill_color\":\"rgb(0, 158, 229)\",\"height\":{\"value\":0.3},\"left\":{\"value\":15},\"line_alpha\":{\"value\":0.1},\"line_color\":\"rgb(0, 158, 229)\",\"right\":{\"field\":\"right\"},\"y\":{\"field\":\"y\"}},\"id\":\"22294\",\"type\":\"HBar\"},{\"attributes\":{},\"id\":\"22987\",\"type\":\"Selection\"},{\"attributes\":{\"axis\":{\"id\":\"22249\"},\"dimension\":1,\"ticker\":null},\"id\":\"22252\",\"type\":\"Grid\"},{\"attributes\":{\"data\":{\"right\":{\"__ndarray__\":\"1eSThusSJEClyWmG044kQMmPYhF5ySRAJx8LgrjXI0CFQTRE1uIjQCxEZYdYzSNAVL8ewNRXJEAkQlLxP+YjQMrPrJqeOCRAfLjvq/+EJECV4rMVW90jQHrWf8hfKiRAsFliJfR8JEDwnoUlvpAkQDhn8mzYbSRA\",\"dtype\":\"float64\",\"order\":\"little\",\"shape\":[15]},\"y\":[0,1,2,3,4,5,6,7,8,9,10,11,12,13,14]},\"selected\":{\"id\":\"22979\"},\"selection_policy\":{\"id\":\"22978\"}},\"id\":\"22282\",\"type\":\"ColumnDataSource\"},{\"attributes\":{\"formatter\":{\"id\":\"22970\"},\"ticker\":{\"id\":\"22250\"}},\"id\":\"22249\",\"type\":\"LinearAxis\"},{\"attributes\":{\"data_source\":{\"id\":\"22297\"},\"glyph\":{\"id\":\"22298\"},\"hover_glyph\":null,\"muted_glyph\":null,\"nonselection_glyph\":{\"id\":\"22299\"},\"selection_glyph\":null,\"view\":{\"id\":\"22301\"}},\"id\":\"22300\",\"type\":\"GlyphRenderer\"},{\"attributes\":{\"data_source\":{\"id\":\"22292\"},\"glyph\":{\"id\":\"22293\"},\"hover_glyph\":null,\"muted_glyph\":null,\"nonselection_glyph\":{\"id\":\"22294\"},\"selection_glyph\":null,\"view\":{\"id\":\"22296\"}},\"id\":\"22295\",\"type\":\"GlyphRenderer\"},{\"attributes\":{},\"id\":\"22258\",\"type\":\"HelpTool\"},{\"attributes\":{\"formatter\":{\"id\":\"22968\"},\"ticker\":{\"id\":\"22246\"}},\"id\":\"22245\",\"type\":\"LinearAxis\"},{\"attributes\":{\"fill_color\":\"rgb(0, 158, 229)\",\"height\":{\"value\":0.3},\"left\":{\"value\":15},\"line_color\":\"rgb(0, 158, 229)\",\"right\":{\"field\":\"right\"},\"y\":{\"field\":\"y\"}},\"id\":\"22293\",\"type\":\"HBar\"},{\"attributes\":{},\"id\":\"22970\",\"type\":\"BasicTickFormatter\"},{\"attributes\":{},\"id\":\"22250\",\"type\":\"BasicTicker\"},{\"attributes\":{\"fill_color\":\"rgb(176, 133, 132)\",\"height\":{\"value\":0.3},\"left\":{\"value\":12},\"line_color\":\"rgb(176, 133, 132)\",\"right\":{\"field\":\"right\"},\"y\":{\"field\":\"y\"}},\"id\":\"22288\",\"type\":\"HBar\"},{\"attributes\":{\"axis\":{\"id\":\"22245\"},\"ticker\":null},\"id\":\"22248\",\"type\":\"Grid\"},{\"attributes\":{\"data_source\":{\"id\":\"22302\"},\"glyph\":{\"id\":\"22303\"},\"hover_glyph\":null,\"muted_glyph\":null,\"nonselection_glyph\":{\"id\":\"22304\"},\"selection_glyph\":null,\"view\":{\"id\":\"22306\"}},\"id\":\"22305\",\"type\":\"GlyphRenderer\"},{\"attributes\":{\"source\":{\"id\":\"22277\"}},\"id\":\"22281\",\"type\":\"CDSView\"},{\"attributes\":{},\"id\":\"22988\",\"type\":\"UnionRenderers\"},{\"attributes\":{},\"id\":\"22253\",\"type\":\"PanTool\"},{\"attributes\":{},\"id\":\"22989\",\"type\":\"Selection\"},{\"attributes\":{\"source\":{\"id\":\"22267\"}},\"id\":\"22271\",\"type\":\"CDSView\"},{\"attributes\":{},\"id\":\"22254\",\"type\":\"WheelZoomTool\"},{\"attributes\":{\"overlay\":{\"id\":\"22259\"}},\"id\":\"22255\",\"type\":\"BoxZoomTool\"},{\"attributes\":{\"data\":{\"right\":{\"__ndarray__\":\"6r/R0nDZLUBcp8QqrzUsQMIQUTqb3ipAUKTvj6XOLUBgs55wpWEuQMaun8vIlC1A5uTYIwNwLUAFunhA9QYvQJMkqsUaiCpAMu4IDj95LEDA0WispSMsQBIKWZ2aKClAfQuUP+9ZLUCU7ao57CQrQL+7rjACHixA\",\"dtype\":\"float64\",\"order\":\"little\",\"shape\":[15]},\"y\":[0,1,2,3,4,5,6,7,8,9,10,11,12,13,14]},\"selected\":{\"id\":\"22983\"},\"selection_policy\":{\"id\":\"22982\"}},\"id\":\"22292\",\"type\":\"ColumnDataSource\"},{\"attributes\":{},\"id\":\"22256\",\"type\":\"SaveTool\"},{\"attributes\":{\"fill_alpha\":{\"value\":0.1},\"fill_color\":\"rgb(0, 169, 80)\",\"height\":{\"value\":0.3},\"left\":{\"value\":18},\"line_alpha\":{\"value\":0.1},\"line_color\":\"rgb(0, 169, 80)\",\"right\":{\"field\":\"right\"},\"y\":{\"field\":\"y\"}},\"id\":\"22299\",\"type\":\"HBar\"},{\"attributes\":{},\"id\":\"22257\",\"type\":\"ResetTool\"},{\"attributes\":{\"source\":{\"id\":\"22282\"}},\"id\":\"22286\",\"type\":\"CDSView\"},{\"attributes\":{\"fill_color\":\"rgb(0, 169, 80)\",\"height\":{\"value\":0.3},\"left\":{\"value\":18},\"line_color\":\"rgb(0, 169, 80)\",\"right\":{\"field\":\"right\"},\"y\":{\"field\":\"y\"}},\"id\":\"22298\",\"type\":\"HBar\"},{\"attributes\":{\"data\":{\"right\":{\"__ndarray__\":\"0agLu0daMEBCule3yK8wQC7f+Nz0LDFArIukl7JSMECS6J2ERz4wQFcmIOVYGTBARpig0ACKMUAp+7cUuEUwQEi08HR60TBAPMtso6eYMEDlFOnqkD8yQPm8WlRg/jFAsEv80duDMEC4NKImwe4xQADaKWKgnTBA\",\"dtype\":\"float64\",\"order\":\"little\",\"shape\":[15]},\"y\":[0,1,2,3,4,5,6,7,8,9,10,11,12,13,14]},\"selected\":{\"id\":\"22985\"},\"selection_policy\":{\"id\":\"22984\"}},\"id\":\"22297\",\"type\":\"ColumnDataSource\"},{\"attributes\":{\"fill_alpha\":{\"value\":0.1},\"fill_color\":\"rgb(0, 180, 140)\",\"height\":{\"value\":0.3},\"left\":{\"value\":21},\"line_alpha\":{\"value\":0.1},\"line_color\":\"rgb(0, 180, 140)\",\"right\":{\"field\":\"right\"},\"y\":{\"field\":\"y\"}},\"id\":\"22304\",\"type\":\"HBar\"},{\"attributes\":{\"source\":{\"id\":\"22287\"}},\"id\":\"22291\",\"type\":\"CDSView\"},{\"attributes\":{\"fill_color\":\"rgb(0, 180, 140)\",\"height\":{\"value\":0.3},\"left\":{\"value\":21},\"line_color\":\"rgb(0, 180, 140)\",\"right\":{\"field\":\"right\"},\"y\":{\"field\":\"y\"}},\"id\":\"22303\",\"type\":\"HBar\"},{\"attributes\":{\"data\":{\"right\":{\"__ndarray__\":\"Us8BdADFMkBocRk6GA8zQOJ6fEIPHzNAo8M8+VndMkC49MS7q+kyQLC4qT8K9jJAm1hk/FHlMkDCUs72oSczQL9VnnQ2yzJA0/xvysphM0D3LqSJ+JI0QJXw21RCRjNADRqwHhoFM0CBEyXe4tYzQFdPvOtVbTNA\",\"dtype\":\"float64\",\"order\":\"little\",\"shape\":[15]},\"y\":[0,1,2,3,4,5,6,7,8,9,10,11,12,13,14]},\"selected\":{\"id\":\"22987\"},\"selection_policy\":{\"id\":\"22986\"}},\"id\":\"22302\",\"type\":\"ColumnDataSource\"},{\"attributes\":{\"data_source\":{\"id\":\"22307\"},\"glyph\":{\"id\":\"22308\"},\"hover_glyph\":null,\"muted_glyph\":null,\"nonselection_glyph\":{\"id\":\"22309\"},\"selection_glyph\":null,\"view\":{\"id\":\"22311\"}},\"id\":\"22310\",\"type\":\"GlyphRenderer\"},{\"attributes\":{\"source\":{\"id\":\"22292\"}},\"id\":\"22296\",\"type\":\"CDSView\"},{\"attributes\":{\"data_source\":{\"id\":\"22267\"},\"glyph\":{\"id\":\"22268\"},\"hover_glyph\":null,\"muted_glyph\":null,\"nonselection_glyph\":{\"id\":\"22269\"},\"selection_glyph\":null,\"view\":{\"id\":\"22271\"}},\"id\":\"22270\",\"type\":\"GlyphRenderer\"},{\"attributes\":{\"fill_color\":\"rgb(0, 162, 158)\",\"height\":{\"value\":0.3},\"left\":{\"value\":24},\"line_color\":\"rgb(0, 162, 158)\",\"right\":{\"field\":\"right\"},\"y\":{\"field\":\"y\"}},\"id\":\"22308\",\"type\":\"HBar\"},{\"attributes\":{\"fill_color\":\"rgb(170, 128, 199)\",\"height\":{\"value\":0.3},\"line_color\":\"rgb(170, 128, 199)\",\"right\":{\"field\":\"right\"},\"y\":{\"field\":\"y\"}},\"id\":\"22268\",\"type\":\"HBar\"},{\"attributes\":{\"fill_alpha\":{\"value\":0.1},\"fill_color\":\"rgb(170, 128, 199)\",\"height\":{\"value\":0.3},\"line_alpha\":{\"value\":0.1},\"line_color\":\"rgb(170, 128, 199)\",\"right\":{\"field\":\"right\"},\"y\":{\"field\":\"y\"}},\"id\":\"22269\",\"type\":\"HBar\"},{\"attributes\":{\"data\":{\"right\":{\"__ndarray__\":\"m8baLzIoN0AVblxUp8k2QGOrme4A7TZAMoqyp8EiN0DtIgZzLjE3QOxoUrSXQTdAhXn4JwpBN0CDLUGlRvY2QDki5vtYDTdAVCoSx3cPN0AWK1x8Stg2QDwL9JIf+jZAjB0qTwMdN0ACnPb2VhY3QPknzKaVJTdA\",\"dtype\":\"float64\",\"order\":\"little\",\"shape\":[15]},\"y\":[0,1,2,3,4,5,6,7,8,9,10,11,12,13,14]},\"selected\":{\"id\":\"22989\"},\"selection_policy\":{\"id\":\"22988\"}},\"id\":\"22307\",\"type\":\"ColumnDataSource\"},{\"attributes\":{},\"id\":\"22968\",\"type\":\"BasicTickFormatter\"},{\"attributes\":{\"fill_alpha\":{\"value\":0.1},\"fill_color\":\"rgb(75, 161, 106)\",\"height\":{\"value\":0.3},\"left\":{\"value\":3},\"line_alpha\":{\"value\":0.1},\"line_color\":\"rgb(75, 161, 106)\",\"right\":{\"field\":\"right\"},\"y\":{\"field\":\"y\"}},\"id\":\"22274\",\"type\":\"HBar\"},{\"attributes\":{\"source\":{\"id\":\"22297\"}},\"id\":\"22301\",\"type\":\"CDSView\"},{\"attributes\":{\"data\":{\"right\":{\"__ndarray__\":\"g5w/LbEc3j85ZDP67kfAv9t2T7bJcdq/uaQaMFWx4j/CXCRT40niPx2gvWFNHOI/s3ByFKj+wL8y9UG6GxzSP5I9UqQfdqo/4l2eVFO6zD+nFYs+6h30v0d3F3U2V/G/2lDn0QWPyT9idLPTGpzsvzcHz9wgs9w/\",\"dtype\":\"float64\",\"order\":\"little\",\"shape\":[15]},\"y\":[0,1,2,3,4,5,6,7,8,9,10,11,12,13,14]},\"selected\":{\"id\":\"22973\"},\"selection_policy\":{\"id\":\"22972\"}},\"id\":\"22267\",\"type\":\"ColumnDataSource\"},{\"attributes\":{\"source\":{\"id\":\"22272\"}},\"id\":\"22276\",\"type\":\"CDSView\"},{\"attributes\":{\"fill_color\":\"rgb(75, 161, 106)\",\"height\":{\"value\":0.3},\"left\":{\"value\":3},\"line_color\":\"rgb(75, 161, 106)\",\"right\":{\"field\":\"right\"},\"y\":{\"field\":\"y\"}},\"id\":\"22273\",\"type\":\"HBar\"},{\"attributes\":{},\"id\":\"22237\",\"type\":\"DataRange1d\"},{\"attributes\":{\"text\":\"\"},\"id\":\"22966\",\"type\":\"Title\"},{\"attributes\":{\"bottom_units\":\"screen\",\"fill_alpha\":0.5,\"fill_color\":\"lightgrey\",\"left_units\":\"screen\",\"level\":\"overlay\",\"line_alpha\":1.0,\"line_color\":\"black\",\"line_dash\":[4,4],\"line_width\":2,\"right_units\":\"screen\",\"top_units\":\"screen\"},\"id\":\"22259\",\"type\":\"BoxAnnotation\"},{\"attributes\":{\"source\":{\"id\":\"22302\"}},\"id\":\"22306\",\"type\":\"CDSView\"},{\"attributes\":{\"data_source\":{\"id\":\"22272\"},\"glyph\":{\"id\":\"22273\"},\"hover_glyph\":null,\"muted_glyph\":null,\"nonselection_glyph\":{\"id\":\"22274\"},\"selection_glyph\":null,\"view\":{\"id\":\"22276\"}},\"id\":\"22275\",\"type\":\"GlyphRenderer\"},{\"attributes\":{\"fill_color\":\"rgb(273, 31, 116)\",\"height\":{\"value\":0.3},\"left\":{\"value\":9},\"line_color\":\"rgb(273, 31, 116)\",\"right\":{\"field\":\"right\"},\"y\":{\"field\":\"y\"}},\"id\":\"22283\",\"type\":\"HBar\"},{\"attributes\":{\"active_drag\":\"auto\",\"active_inspect\":\"auto\",\"active_multi\":null,\"active_scroll\":\"auto\",\"active_tap\":\"auto\",\"tools\":[{\"id\":\"22253\"},{\"id\":\"22254\"},{\"id\":\"22255\"},{\"id\":\"22256\"},{\"id\":\"22257\"},{\"id\":\"22258\"}]},\"id\":\"22260\",\"type\":\"Toolbar\"},{\"attributes\":{\"source\":{\"id\":\"22307\"}},\"id\":\"22311\",\"type\":\"CDSView\"},{\"attributes\":{\"data\":{\"right\":{\"__ndarray__\":\"rVKeanjD/D+uTPVgYSkCQPKsQqNkvAJARXYom67B/D9wHcPp6v77PwDL3VXj3Ps/KNo2UvwVA0D4dKVyp4sBQDYXYOuW5AFAqJkfMOjhAECp6cDxH8YJQMYV/BkrDgdAVX8LfH5xAUD+ZBN2+EcFQFSxRIHQUP8/\",\"dtype\":\"float64\",\"order\":\"little\",\"shape\":[15]},\"y\":[0,1,2,3,4,5,6,7,8,9,10,11,12,13,14]},\"selected\":{\"id\":\"22975\"},\"selection_policy\":{\"id\":\"22974\"}},\"id\":\"22272\",\"type\":\"ColumnDataSource\"},{\"attributes\":{},\"id\":\"22972\",\"type\":\"UnionRenderers\"},{\"attributes\":{},\"id\":\"22973\",\"type\":\"Selection\"},{\"attributes\":{},\"id\":\"22974\",\"type\":\"UnionRenderers\"},{\"attributes\":{},\"id\":\"22975\",\"type\":\"Selection\"},{\"attributes\":{},\"id\":\"22976\",\"type\":\"UnionRenderers\"},{\"attributes\":{},\"id\":\"22977\",\"type\":\"Selection\"},{\"attributes\":{},\"id\":\"22241\",\"type\":\"LinearScale\"},{\"attributes\":{},\"id\":\"22978\",\"type\":\"UnionRenderers\"},{\"attributes\":{},\"id\":\"22979\",\"type\":\"Selection\"},{\"attributes\":{},\"id\":\"22980\",\"type\":\"UnionRenderers\"},{\"attributes\":{},\"id\":\"22981\",\"type\":\"Selection\"},{\"attributes\":{},\"id\":\"22982\",\"type\":\"UnionRenderers\"},{\"attributes\":{},\"id\":\"22983\",\"type\":\"Selection\"},{\"attributes\":{},\"id\":\"22239\",\"type\":\"DataRange1d\"}],\"root_ids\":[\"22236\"]},\"title\":\"Bokeh Application\",\"version\":\"2.2.3\"}};\n",
       "  var render_items = [{\"docid\":\"bf21e571-bb00-4e87-acdd-4cd3c8c56929\",\"root_ids\":[\"22236\"],\"roots\":{\"22236\":\"86f4ae5b-4a37-469a-a747-b9b48e5c6ecf\"}}];\n",
       "  root.Bokeh.embed.embed_items_notebook(docs_json, render_items);\n",
       "\n",
       "  }\n",
       "  if (root.Bokeh !== undefined) {\n",
       "    embed_document(root);\n",
       "  } else {\n",
       "    var attempts = 0;\n",
       "    var timer = setInterval(function(root) {\n",
       "      if (root.Bokeh !== undefined) {\n",
       "        clearInterval(timer);\n",
       "        embed_document(root);\n",
       "      } else {\n",
       "        attempts++;\n",
       "        if (attempts > 100) {\n",
       "          clearInterval(timer);\n",
       "          console.log(\"Bokeh: ERROR: Unable to run BokehJS code because BokehJS library is missing\");\n",
       "        }\n",
       "      }\n",
       "    }, 10, root)\n",
       "  }\n",
       "})(window);"
      ],
      "application/vnd.bokehjs_exec.v0+json": ""
     },
     "metadata": {
      "application/vnd.bokehjs_exec.v0+json": {
       "id": "22236"
      }
     },
     "output_type": "display_data"
    },
    {
     "name": "stdout",
     "output_type": "stream",
     "text": [
      "k = 10\n",
      "silhouette: 0.220\n"
     ]
    },
    {
     "data": {
      "text/html": [
       "\n",
       "\n",
       "\n",
       "\n",
       "\n",
       "\n",
       "  <div class=\"bk-root\" id=\"e6dd9873-c9bb-4a6d-acd9-666f560a8738\" data-root-id=\"23117\"></div>\n"
      ]
     },
     "metadata": {},
     "output_type": "display_data"
    },
    {
     "data": {
      "application/javascript": [
       "(function(root) {\n",
       "  function embed_document(root) {\n",
       "    \n",
       "  var docs_json = {\"df3f4738-24de-430c-961c-3e6392823b3b\":{\"roots\":{\"references\":[{\"attributes\":{\"below\":[{\"id\":\"23126\"}],\"center\":[{\"id\":\"23129\"},{\"id\":\"23133\"},{\"id\":\"23164\"}],\"left\":[{\"id\":\"23130\"}],\"plot_height\":400,\"plot_width\":400,\"renderers\":[{\"id\":\"23153\"}],\"title\":{\"id\":\"23156\"},\"toolbar\":{\"id\":\"23142\"},\"x_range\":{\"id\":\"23118\"},\"x_scale\":{\"id\":\"23122\"},\"y_range\":{\"id\":\"23120\"},\"y_scale\":{\"id\":\"23124\"}},\"id\":\"23117\",\"subtype\":\"Figure\",\"type\":\"Plot\"},{\"attributes\":{},\"id\":\"23131\",\"type\":\"BasicTicker\"},{\"attributes\":{},\"id\":\"23163\",\"type\":\"Selection\"},{\"attributes\":{},\"id\":\"23124\",\"type\":\"LinearScale\"},{\"attributes\":{},\"id\":\"23139\",\"type\":\"HelpTool\"},{\"attributes\":{},\"id\":\"23127\",\"type\":\"BasicTicker\"},{\"attributes\":{\"source\":{\"id\":\"23116\"}},\"id\":\"23154\",\"type\":\"CDSView\"},{\"attributes\":{\"active_drag\":\"auto\",\"active_inspect\":\"auto\",\"active_multi\":null,\"active_scroll\":\"auto\",\"active_tap\":\"auto\",\"tools\":[{\"id\":\"23134\"},{\"id\":\"23135\"},{\"id\":\"23136\"},{\"id\":\"23137\"},{\"id\":\"23138\"},{\"id\":\"23139\"},{\"id\":\"23141\"}]},\"id\":\"23142\",\"type\":\"Toolbar\"},{\"attributes\":{\"data_source\":{\"id\":\"23116\"},\"glyph\":{\"id\":\"23151\"},\"hover_glyph\":null,\"muted_glyph\":null,\"nonselection_glyph\":{\"id\":\"23152\"},\"selection_glyph\":null,\"view\":{\"id\":\"23154\"}},\"id\":\"23153\",\"type\":\"GlyphRenderer\"},{\"attributes\":{},\"id\":\"23120\",\"type\":\"DataRange1d\"},{\"attributes\":{\"fill_alpha\":{\"value\":0.1},\"fill_color\":{\"field\":\"labels\",\"transform\":{\"id\":\"23115\"}},\"line_alpha\":{\"value\":0.1},\"line_color\":{\"value\":null},\"radius\":{\"units\":\"data\",\"value\":1.5}},\"id\":\"23152\",\"type\":\"Circle\"},{\"attributes\":{\"items\":[{\"id\":\"23165\"},{\"id\":\"23166\"},{\"id\":\"23167\"},{\"id\":\"23168\"},{\"id\":\"23169\"},{\"id\":\"23170\"},{\"id\":\"23171\"},{\"id\":\"23172\"},{\"id\":\"23173\"},{\"id\":\"23174\"}]},\"id\":\"23164\",\"type\":\"Legend\"},{\"attributes\":{\"text\":\"\"},\"id\":\"23156\",\"type\":\"Title\"},{\"attributes\":{\"index\":0,\"label\":{\"value\":\"00\"},\"renderers\":[{\"id\":\"23153\"}]},\"id\":\"23165\",\"type\":\"LegendItem\"},{\"attributes\":{},\"id\":\"23158\",\"type\":\"BasicTickFormatter\"},{\"attributes\":{\"index\":14,\"label\":{\"value\":\"08\"},\"renderers\":[{\"id\":\"23153\"}]},\"id\":\"23173\",\"type\":\"LegendItem\"},{\"attributes\":{\"factors\":[\"00\",\"01\",\"02\",\"03\",\"04\",\"05\",\"06\",\"07\",\"08\",\"09\"],\"palette\":[\"rgb(21, 162, 148)\",\"rgb(205, 115, 157)\",\"rgb(245, 84, 127)\",\"rgb(0, 169, 87)\",\"rgb(162, 130, 210)\",\"rgb(180, 131, 133)\",\"rgb(0, 161, 187)\",\"rgb(278, 0, 114)\",\"rgb(98, 158, 97)\",\"rgb(0, 180, 140)\"]},\"id\":\"23115\",\"type\":\"CategoricalColorMapper\"},{\"attributes\":{\"data\":{\"Country\":[\"Afghanistan\",\"Albania\",\"Algeria\",\"Angola\",\"Argentina\",\"Armenia\",\"Australia\",\"Austria\",\"Azerbaijan\",\"Bahrain\",\"Bangladesh\",\"Barbados\",\"Belarus\",\"Belgium\",\"Benin\",\"Bhutan\",\"Bolivia\",\"Bosnia and Herzegovina\",\"Botswana\",\"Brazil\",\"Bulgaria\",\"Burkina Faso\",\"Burundi\",\"Cabo Verde\",\"Cambodia\",\"Cameroon\",\"Canada\",\"Central African Republic\",\"Colombia\",\"Congo, Democratic Republic of\",\"Congo, Republic of\",\"Costa Rica\",\"C\\u00f4te d'Ivoire\",\"Croatia\",\"Cuba\",\"Cyprus\",\"Czechia\",\"Denmark\",\"Djibouti\",\"Dominican Republic\",\"Ecuador\",\"Egypt\",\"El Salvador\",\"Equatorial Guinea\",\"Eritrea\",\"Estonia\",\"Eswatini\",\"Ethiopia\",\"Fiji\",\"Finland\",\"France\",\"Gabon\",\"Gambia, The\",\"Georgia\",\"Germany\",\"Ghana\",\"Greece\",\"Guatemala\",\"Guinea\",\"Guinea-Bissau\",\"Guyana\",\"Haiti\",\"Honduras\",\"Hungary\",\"Chad\",\"Chile\",\"China\",\"Iceland\",\"India\",\"Indonesia\",\"Iran\",\"Iraq\",\"Ireland\",\"Israel\",\"Italy\",\"Jamaica\",\"Japan\",\"Jordan\",\"Kazakhstan\",\"Kenya\",\"Korea, Democratic Republic of\",\"Korea, Republic of\",\"Kuwait\",\"Kyrgyzstan\",\"Laos\",\"Latvia\",\"Lebanon\",\"Lesotho\",\"Liberia\",\"Lithuania\",\"Luxembourg\",\"Madagascar\",\"Malawi\",\"Malaysia\",\"Maldives\",\"Mali\",\"Malta\",\"Mauritania\",\"Mauritius\",\"Mexico\",\"Moldova\",\"Mongolia\",\"Montenegro\",\"Morocco\",\"Mozambique\",\"Myanmar\",\"Namibia\",\"Nepal\",\"Netherlands\",\"New Zealand\",\"Nicaragua\",\"Niger\",\"Nigeria\",\"Norway\",\"Oman\",\"Pakistan\",\"Panama\",\"Papua New Guinea\",\"Paraguay\",\"Peru\",\"Philippines\",\"Poland\",\"Portugal\",\"Qatar\",\"Republic of North Macedonia\",\"Romania\",\"Russia\",\"Rwanda\",\"Saudi Arabia\",\"Senegal\",\"Serbia\",\"Sierra Leone\",\"Singapore\",\"Slovakia\",\"Slovenia\",\"Somalia\",\"South Africa\",\"South Sudan\",\"Spain\",\"Sri Lanka\",\"Sudan\",\"Suriname\",\"Sweden\",\"Switzerland\",\"Tajikistan\",\"Tanzania\",\"Thailand\",\"Timor-Leste\",\"Togo\",\"Trinidad and Tobago\",\"Tunisia\",\"Turkey\",\"Turkmenistan\",\"Uganda\",\"Ukraine\",\"United Arab Emirates\",\"United Kingdom\",\"United States\",\"Uruguay\",\"Uzbekistan\",\"Vietnam\",\"Zambia\",\"Zimbabwe\"],\"index\":[10,20,30,40,50,60,70,80,90,100,110,120,130,140,150,160,170,180,190,200,210,220,230,240,250,260,270,280,290,300,310,320,330,340,350,360,370,380,390,400,410,420,430,440,450,460,470,480,490,500,510,520,530,540,550,560,570,580,590,600,610,620,630,640,650,660,670,680,690,700,710,720,730,740,750,760,770,780,790,800,810,820,830,840,850,860,870,880,890,900,910,920,930,940,950,960,970,980,990,1000,1010,1020,1030,1040,1050,1060,1070,1080,1090,1100,1110,1120,1130,1140,1150,1160,1170,1180,1190,1200,1210,1220,1230,1240,1250,1260,1270,1280,1293,1303,1313,1323,1333,1343,1353,1363,1373,1383,1390,1400,1410,1420,1430,1440,1450,1460,1470,1480,1490,1500,1510,1520,1530,1540,1550,1560,1570,1580,1590,1600,1610,1620,1630],\"labels\":[\"00\",\"01\",\"04\",\"00\",\"02\",\"01\",\"07\",\"07\",\"04\",\"04\",\"00\",\"02\",\"01\",\"07\",\"08\",\"05\",\"05\",\"01\",\"05\",\"01\",\"02\",\"03\",\"09\",\"05\",\"06\",\"00\",\"07\",\"09\",\"01\",\"09\",\"06\",\"02\",\"08\",\"02\",\"01\",\"07\",\"07\",\"07\",\"00\",\"05\",\"01\",\"04\",\"05\",\"06\",\"09\",\"07\",\"06\",\"03\",\"05\",\"07\",\"07\",\"05\",\"08\",\"01\",\"07\",\"08\",\"07\",\"05\",\"03\",\"03\",\"05\",\"03\",\"05\",\"02\",\"09\",\"02\",\"04\",\"07\",\"00\",\"05\",\"04\",\"04\",\"07\",\"02\",\"07\",\"05\",\"07\",\"01\",\"01\",\"08\",\"06\",\"07\",\"01\",\"01\",\"06\",\"02\",\"01\",\"08\",\"03\",\"02\",\"07\",\"03\",\"08\",\"01\",\"05\",\"03\",\"02\",\"00\",\"02\",\"01\",\"01\",\"05\",\"01\",\"05\",\"03\",\"00\",\"05\",\"00\",\"07\",\"07\",\"05\",\"03\",\"00\",\"07\",\"04\",\"00\",\"01\",\"03\",\"05\",\"01\",\"05\",\"02\",\"07\",\"04\",\"01\",\"02\",\"04\",\"08\",\"04\",\"08\",\"01\",\"03\",\"07\",\"02\",\"07\",\"09\",\"05\",\"09\",\"07\",\"01\",\"00\",\"05\",\"07\",\"07\",\"06\",\"08\",\"01\",\"08\",\"08\",\"02\",\"02\",\"04\",\"06\",\"08\",\"01\",\"04\",\"07\",\"07\",\"02\",\"04\",\"01\",\"08\",\"06\"],\"x\":{\"__ndarray__\":\"9381A0duWEAC368tE6s8wDIAU9VouCfAlqW6+nFOVEAjX0n8urFJwHwetArayUHAR+AexhsWVsAHVDca6m9UwIzzHrBh3yFARQHsco39GsA0GmcFa3pIQDl42o0GH0nAUt6nQmoFQ8BVl/2KgEBUwDqf7acTjE1ARfxh8cgavb/YjSJw8QQTwPaSd4Xa+zXAxYdg4TsO679/UUl31gA6wJ8NFiRIaEfAqIbCJcxEVED7opvtvvtbQFGnRBXl4SrAHWYaWcWYR0AcSkdwJ3ZQQP3LwU3+FFbAQO0D0kStYkAE3+T4Mhw6wFv0GxpzgVpArBaoJaViU0DBM7GLt0FMwK9ritA/+E5A3mPB01NtS8BWXgxId/EnwIc9I6Di+1HABUFdpLLpUcBCMADxrKtWwH1BsMkZQ1NAP7Px1+c9JcDxYl2wFfs9wKcpyivzCTJAsF5O9FWT3z8qneG2yTFRQK+k8+vEc2BAbpXW3vZWUsCh/XOQaN5NQMDUCE9F31RAdjfE2VER/r84ya67mFdWwFLWTHKJ0FPAbGL5Fg7zK0AOvTAtapJMQDQzZm0sdzzAOuWvYAthVcAtJgCLbsoyQDKVbQ9GAlHAacNEyP0LOEDJimxYgZhZQMypBthqtFdAdhA7JBmNE0AbpptV/hxUQCoqBKHHvTVAJBj8qX5uScBy29v8yKNiQP1B7xiZUU7AIU0a5+srCsCqrtjpfKVVwFzlagrszUFAB7RbG1U/F8CEvBCMDpoZwHn9vnI5rh9AFtpU8v/qVMCZfRoCg+BOwJPcs7enaFLAMpPg03FCN8CtECgi6BNVwNfGIlcfKTPAXSeC4UhtNsAXvUNFOulHQDXY2xEKIVFAe9nfxfyGVMC/HDYOheREwKgVBLJMpRDAg1mdubvdUEDMagiMTpdNwDloowzqkCbAioWICrNYTkC3n8CohwBTQD4wBVIms07A4cl6rRP7U8BpVDBsiQhWQGLm6SGikFBABfQf4N0FQ8BQb1K37mIjwDRk61r9Z1VAcK0JMuUFUMDSu58cjrNSQP+vbaLzzUXAeD9KsuNLOMCdYqMXsUI0wG1YbZFbLSXAVMm5pTX4O8Dt80o+L7rgv4G7JjPwQFVAIyPpw9znR0A9hLrycXMhQHEFXMd/DkRADyvI87nPVcA3I7MSAxFWwLm6WiU2hTFAS8WcaYYiW0BOM4mDux5QQAqvZL7zFlfAzzEECKouNMDhbLNL3U9RQIqh7w7nnz/AKWqdeKRVWEAr1YOQMisxwIm1XZ1ODzjAXjG4OgQ/EkBrmoj+hc5PwIbGzWI+cFLAg4wVz3HHM8Ai+BHayBE4wOwTDgSbOUTAInFyXZgiOcC6FdwVkYlNQPHGO4hZ5QrALYRXbp14Q0CNU98abB1AwPcAa3Ym2FJAqd639D0UUcC5m0kK55tNwG+WdiZPpVLA3vt1lX06YEBhScl76gMmwDTVYdA7A2NA4gAr30OUU8BwujiZlIowwKmYDBglLVJAjHdIS1iVJ8DMq5FxQBZWwKPITWukL1bAXmroQY9PQ0D78B30/LRLQKaHem0H3CjA4uxow2KKQEC01vo8FaRQQNZOeHrmukDASJmCCoAVP8C5QEtCOQ0lwGYTVI2G6z9Ap5NNavIlUECCoB2RHZE6wAZCkVz8jTLAe4zmE47IU8D3KbHrggdSwA4GzfYANE3AhQshkxpwGUARqQo9ydASwEg0gDIEEk1AztXaQyVlUEA=\",\"dtype\":\"float64\",\"order\":\"little\",\"shape\":[163]},\"y\":{\"__ndarray__\":\"e4Lu+j0NLEBIgEvt2AX7P3tG7kN3DEBAwPVMFCzZFcBevvOSsKIWwEvGrIsM6BhAerCQHoq6McCL0s6ZmUElwBquSQjgfUVA2o4WrIr/T0DtQJe+Ww0tQGnDIZDaqB3Aty4c08J+N0BDgyjAxLQzwPChDh1t0kbA7hFXIcOBHsDxMZJbH5TGv1/j3aiyJC5A3qzLMzQWMsAKjJGVdzkiQJcW9GM5dAnAChD7Rt3cQ8D8kk4ed0gJwGaXBxQ0QDLA8NL1zTxqL0DZwqNTDSD8PyzK9lWeaTTAOvhh4I3EPsAGf5Ai19QsQOqd93j49M2/nxFpA3LOMEDKKvh7JrgwwHXDArH/MTPA2jQ8ntlX5j/rCLIKkwU7QKtuyOak2STA15IFr3PhIcA9+H/FVjw5wA1AllYBUhJASFkJ8rDfFMD1OOK6yCfWv6O34UklKEtAzutAMerCFkD/TMEuj746QGK3NA2taTZADq5368jsKMB+RH2+8AY2QOGXNOPWrSTAX/zudjU2FkBuW0sMXKM4wMd0dIgKcSnA9FBr+JpcFUBjb6lcgBlAwNoRBDcnRgxABAfqWBJqM8D2M3Zrb4NAwMb7lEOICyfAInqDnTnnHUAhFhrCkxEuwLpRG7o+2EDArgbKjyAtHsDJ24HB0bkpwD/IVkPbhSVAjXujAvEl7z+uRAlLGjMgwPp7qXcamR/AyoLASW0eTUC2nh1HMiYxwJChx0ZPyyxAH5OkhKccwr/+hQnpY0BJQAigOh0agUJA8j46CaRtNcBG/DZQiN8BQI6L2oxMJjDA38WnXeQKNcCppVVAqbopwOu6vy6YW0BA7jvfruz0PED4JZtaEzoswPZ++wpH1klAig7/GS+gIcD3EZ7ESaY1QGRotSpKLDFA5+NECguxL0DQLHoGyCYcwL+6Wgk5lTxAWGPXOt5LQMCLIlGatJ1HwI0fgRZ7YyfAUioOXZSmNsAqWAuLupBEwGvK0anXUUDAW7sxgQPcLUANl3sybZEgQLGVAi0lPTzA9v/sn4yjJcD7IzidDz0VQNN1ZXU8NyHAHbsaJ8kQE0AiNLwSUNIYQFPeD72nHy3Ajmw7zpxxMkBxrCkgW1A5QPf67B0jhkHAlzWgo6vnGkDJINfsbVM6wHAlfg5akCTACukIzMvCM8CUEHR3g2k3wD7DOXqyDDNA2tg4BdwvQ8AD+r8tSOQhwAInLcZzPDjA+YaJsyLcQECcnwmR6HQ1QDfUtuGfVR3AU2hca5K+QMByscbrJ/vwvzNQCg9D1QfA/lrkD9/H/7/V3wPEdWwIwD1ixpJGsTPAgnjLmHrTSkAXBb7WxfYxQDknjrdfRArAtzqtk+rmQkBqzANXwjEgwCwOKvdgglNA/LHf/tqgQMAwU14kRJ4nQJXqg3XpCUjAVF/sD9XhIUB4WZh/C/cQwA9MObYy2yvAkFZ0rLEeI0Din7jSFO0awOHoNdHYQw1AA7awOUSnMMBZJAoq91y2v1kf9boF+jlAiiqu56O+EsBBgYPDZrI4wJc6Z7ZThzPAdV7zITegSEDmoQYtFto8wBXMxBuwUjVANJS4KV03OMA5ekzoyoE6wL48twiG1yDAZp+PHqsW3j+AU/AnFilKQGjEoP0KOE9AJIpptwdnKsDnWDAcl7swQNqNhG04WUZA1A8GgwAPKcCsjfV+k8MIwISNgrudbDHAyh1sSoYuQUAtSmKUn3k2QNT8akyDkDbAoosAcdJcBUA=\",\"dtype\":\"float64\",\"order\":\"little\",\"shape\":[163]}},\"selected\":{\"id\":\"23163\"},\"selection_policy\":{\"id\":\"23162\"}},\"id\":\"23116\",\"type\":\"ColumnDataSource\"},{\"attributes\":{\"index\":1,\"label\":{\"value\":\"01\"},\"renderers\":[{\"id\":\"23153\"}]},\"id\":\"23166\",\"type\":\"LegendItem\"},{\"attributes\":{\"callback\":null,\"tooltips\":[[\"Country:\",\"@Country\"],[\"Label:\",\"@labels\"]]},\"id\":\"23141\",\"type\":\"HoverTool\"},{\"attributes\":{\"index\":6,\"label\":{\"value\":\"07\"},\"renderers\":[{\"id\":\"23153\"}]},\"id\":\"23172\",\"type\":\"LegendItem\"},{\"attributes\":{\"index\":24,\"label\":{\"value\":\"06\"},\"renderers\":[{\"id\":\"23153\"}]},\"id\":\"23171\",\"type\":\"LegendItem\"},{\"attributes\":{},\"id\":\"23160\",\"type\":\"BasicTickFormatter\"},{\"attributes\":{},\"id\":\"23137\",\"type\":\"SaveTool\"},{\"attributes\":{\"index\":4,\"label\":{\"value\":\"02\"},\"renderers\":[{\"id\":\"23153\"}]},\"id\":\"23167\",\"type\":\"LegendItem\"},{\"attributes\":{\"bottom_units\":\"screen\",\"fill_alpha\":0.5,\"fill_color\":\"lightgrey\",\"left_units\":\"screen\",\"level\":\"overlay\",\"line_alpha\":1.0,\"line_color\":\"black\",\"line_dash\":[4,4],\"line_width\":2,\"right_units\":\"screen\",\"top_units\":\"screen\"},\"id\":\"23140\",\"type\":\"BoxAnnotation\"},{\"attributes\":{\"formatter\":{\"id\":\"23160\"},\"ticker\":{\"id\":\"23131\"}},\"id\":\"23130\",\"type\":\"LinearAxis\"},{\"attributes\":{\"index\":21,\"label\":{\"value\":\"03\"},\"renderers\":[{\"id\":\"23153\"}]},\"id\":\"23168\",\"type\":\"LegendItem\"},{\"attributes\":{\"fill_color\":{\"field\":\"labels\",\"transform\":{\"id\":\"23115\"}},\"line_color\":{\"value\":null},\"radius\":{\"units\":\"data\",\"value\":1.5}},\"id\":\"23151\",\"type\":\"Circle\"},{\"attributes\":{\"index\":2,\"label\":{\"value\":\"04\"},\"renderers\":[{\"id\":\"23153\"}]},\"id\":\"23169\",\"type\":\"LegendItem\"},{\"attributes\":{},\"id\":\"23122\",\"type\":\"LinearScale\"},{\"attributes\":{\"index\":22,\"label\":{\"value\":\"09\"},\"renderers\":[{\"id\":\"23153\"}]},\"id\":\"23174\",\"type\":\"LegendItem\"},{\"attributes\":{\"formatter\":{\"id\":\"23158\"},\"ticker\":{\"id\":\"23127\"}},\"id\":\"23126\",\"type\":\"LinearAxis\"},{\"attributes\":{\"index\":15,\"label\":{\"value\":\"05\"},\"renderers\":[{\"id\":\"23153\"}]},\"id\":\"23170\",\"type\":\"LegendItem\"},{\"attributes\":{},\"id\":\"23118\",\"type\":\"DataRange1d\"},{\"attributes\":{},\"id\":\"23138\",\"type\":\"ResetTool\"},{\"attributes\":{\"overlay\":{\"id\":\"23140\"}},\"id\":\"23136\",\"type\":\"BoxZoomTool\"},{\"attributes\":{\"axis\":{\"id\":\"23126\"},\"ticker\":null},\"id\":\"23129\",\"type\":\"Grid\"},{\"attributes\":{},\"id\":\"23162\",\"type\":\"UnionRenderers\"},{\"attributes\":{},\"id\":\"23135\",\"type\":\"WheelZoomTool\"},{\"attributes\":{},\"id\":\"23134\",\"type\":\"PanTool\"},{\"attributes\":{\"axis\":{\"id\":\"23130\"},\"dimension\":1,\"ticker\":null},\"id\":\"23133\",\"type\":\"Grid\"}],\"root_ids\":[\"23117\"]},\"title\":\"Bokeh Application\",\"version\":\"2.2.3\"}};\n",
       "  var render_items = [{\"docid\":\"df3f4738-24de-430c-961c-3e6392823b3b\",\"root_ids\":[\"23117\"],\"roots\":{\"23117\":\"e6dd9873-c9bb-4a6d-acd9-666f560a8738\"}}];\n",
       "  root.Bokeh.embed.embed_items_notebook(docs_json, render_items);\n",
       "\n",
       "  }\n",
       "  if (root.Bokeh !== undefined) {\n",
       "    embed_document(root);\n",
       "  } else {\n",
       "    var attempts = 0;\n",
       "    var timer = setInterval(function(root) {\n",
       "      if (root.Bokeh !== undefined) {\n",
       "        clearInterval(timer);\n",
       "        embed_document(root);\n",
       "      } else {\n",
       "        attempts++;\n",
       "        if (attempts > 100) {\n",
       "          clearInterval(timer);\n",
       "          console.log(\"Bokeh: ERROR: Unable to run BokehJS code because BokehJS library is missing\");\n",
       "        }\n",
       "      }\n",
       "    }, 10, root)\n",
       "  }\n",
       "})(window);"
      ],
      "application/vnd.bokehjs_exec.v0+json": ""
     },
     "metadata": {
      "application/vnd.bokehjs_exec.v0+json": {
       "id": "23117"
      }
     },
     "output_type": "display_data"
    },
    {
     "data": {
      "text/html": [
       "\n",
       "\n",
       "\n",
       "\n",
       "\n",
       "\n",
       "  <div class=\"bk-root\" id=\"9af3d3c6-63a7-433d-bc2e-df179a3932a4\" data-root-id=\"23907\"></div>\n"
      ]
     },
     "metadata": {},
     "output_type": "display_data"
    },
    {
     "data": {
      "application/javascript": [
       "(function(root) {\n",
       "  function embed_document(root) {\n",
       "    \n",
       "  var docs_json = {\"81183d66-681d-42d0-88f6-201946e3743b\":{\"roots\":{\"references\":[{\"attributes\":{\"below\":[{\"id\":\"23916\"}],\"center\":[{\"id\":\"23919\"},{\"id\":\"23923\"}],\"left\":[{\"id\":\"23920\"}],\"plot_height\":400,\"plot_width\":1000,\"renderers\":[{\"id\":\"23941\"},{\"id\":\"23946\"},{\"id\":\"23951\"},{\"id\":\"23956\"},{\"id\":\"23961\"},{\"id\":\"23966\"},{\"id\":\"23971\"},{\"id\":\"23976\"},{\"id\":\"23981\"},{\"id\":\"23986\"}],\"title\":{\"id\":\"24676\"},\"toolbar\":{\"id\":\"23931\"},\"x_range\":{\"id\":\"23908\"},\"x_scale\":{\"id\":\"23912\"},\"y_range\":{\"id\":\"23910\"},\"y_scale\":{\"id\":\"23914\"}},\"id\":\"23907\",\"subtype\":\"Figure\",\"type\":\"Plot\"},{\"attributes\":{\"data_source\":{\"id\":\"23973\"},\"glyph\":{\"id\":\"23974\"},\"hover_glyph\":null,\"muted_glyph\":null,\"nonselection_glyph\":{\"id\":\"23975\"},\"selection_glyph\":null,\"view\":{\"id\":\"23977\"}},\"id\":\"23976\",\"type\":\"GlyphRenderer\"},{\"attributes\":{\"data\":{\"right\":{\"__ndarray__\":\"FhXNvtCVHUDu2isQwNseQKVlBfdVRSBA9ox+WW6AHUBCzmwAyzIdQOY6aXlMvBxAoRR4tcvxIEA2thSOBlYdQL6t01qkIR9AiqOTEeSWHkDADXmqbI0iQEWFBbeFzSFAbkJX6Dx1HkA+uN4EHYYhQEm1SJaRmB5A\",\"dtype\":\"float64\",\"order\":\"little\",\"shape\":[15]},\"y\":[0,1,2,3,4,5,6,7,8,9,10,11,12,13,14]},\"selected\":{\"id\":\"24689\"},\"selection_policy\":{\"id\":\"24688\"}},\"id\":\"23953\",\"type\":\"ColumnDataSource\"},{\"attributes\":{\"fill_alpha\":{\"value\":0.1},\"fill_color\":\"rgb(98, 158, 97)\",\"height\":{\"value\":0.3},\"left\":{\"value\":24},\"line_alpha\":{\"value\":0.1},\"line_color\":\"rgb(98, 158, 97)\",\"right\":{\"field\":\"right\"},\"y\":{\"field\":\"y\"}},\"id\":\"23980\",\"type\":\"HBar\"},{\"attributes\":{\"fill_alpha\":{\"value\":0.1},\"fill_color\":\"rgb(180, 131, 133)\",\"height\":{\"value\":0.3},\"left\":{\"value\":15},\"line_alpha\":{\"value\":0.1},\"line_color\":\"rgb(180, 131, 133)\",\"right\":{\"field\":\"right\"},\"y\":{\"field\":\"y\"}},\"id\":\"23965\",\"type\":\"HBar\"},{\"attributes\":{\"data_source\":{\"id\":\"23963\"},\"glyph\":{\"id\":\"23964\"},\"hover_glyph\":null,\"muted_glyph\":null,\"nonselection_glyph\":{\"id\":\"23965\"},\"selection_glyph\":null,\"view\":{\"id\":\"23967\"}},\"id\":\"23966\",\"type\":\"GlyphRenderer\"},{\"attributes\":{\"fill_alpha\":{\"value\":0.1},\"fill_color\":\"rgb(278, 0, 114)\",\"height\":{\"value\":0.3},\"left\":{\"value\":21},\"line_alpha\":{\"value\":0.1},\"line_color\":\"rgb(278, 0, 114)\",\"right\":{\"field\":\"right\"},\"y\":{\"field\":\"y\"}},\"id\":\"23975\",\"type\":\"HBar\"},{\"attributes\":{},\"id\":\"24682\",\"type\":\"UnionRenderers\"},{\"attributes\":{\"data_source\":{\"id\":\"23968\"},\"glyph\":{\"id\":\"23969\"},\"hover_glyph\":null,\"muted_glyph\":null,\"nonselection_glyph\":{\"id\":\"23970\"},\"selection_glyph\":null,\"view\":{\"id\":\"23972\"}},\"id\":\"23971\",\"type\":\"GlyphRenderer\"},{\"attributes\":{\"axis\":{\"id\":\"23920\"},\"dimension\":1,\"ticker\":null},\"id\":\"23923\",\"type\":\"Grid\"},{\"attributes\":{\"formatter\":{\"id\":\"24680\"},\"ticker\":{\"id\":\"23921\"}},\"id\":\"23920\",\"type\":\"LinearAxis\"},{\"attributes\":{},\"id\":\"24683\",\"type\":\"Selection\"},{\"attributes\":{\"fill_alpha\":{\"value\":0.1},\"fill_color\":\"rgb(0, 180, 140)\",\"height\":{\"value\":0.3},\"left\":{\"value\":27},\"line_alpha\":{\"value\":0.1},\"line_color\":\"rgb(0, 180, 140)\",\"right\":{\"field\":\"right\"},\"y\":{\"field\":\"y\"}},\"id\":\"23985\",\"type\":\"HBar\"},{\"attributes\":{\"data_source\":{\"id\":\"23978\"},\"glyph\":{\"id\":\"23979\"},\"hover_glyph\":null,\"muted_glyph\":null,\"nonselection_glyph\":{\"id\":\"23980\"},\"selection_glyph\":null,\"view\":{\"id\":\"23982\"}},\"id\":\"23981\",\"type\":\"GlyphRenderer\"},{\"attributes\":{\"axis\":{\"id\":\"23916\"},\"ticker\":null},\"id\":\"23919\",\"type\":\"Grid\"},{\"attributes\":{\"formatter\":{\"id\":\"24678\"},\"ticker\":{\"id\":\"23917\"}},\"id\":\"23916\",\"type\":\"LinearAxis\"},{\"attributes\":{\"source\":{\"id\":\"23963\"}},\"id\":\"23967\",\"type\":\"CDSView\"},{\"attributes\":{\"data\":{\"right\":{\"__ndarray__\":\"7Zd7WhZeMUB7nVOpTyAxQLqQC1qhpjBAxr+6gHlfMUCxPnpiapIxQCLQxt86ZzFATjQGoXorMUCXprFg4scxQO7Yq6dRpTBAEKYVBEETMUAleTiW+sIxQFOkW5eMKzBAo9rJuShdMUBYnADgPNowQFWUOCcKIjFA\",\"dtype\":\"float64\",\"order\":\"little\",\"shape\":[15]},\"y\":[0,1,2,3,4,5,6,7,8,9,10,11,12,13,14]},\"selected\":{\"id\":\"24695\"},\"selection_policy\":{\"id\":\"24694\"}},\"id\":\"23968\",\"type\":\"ColumnDataSource\"},{\"attributes\":{},\"id\":\"23917\",\"type\":\"BasicTicker\"},{\"attributes\":{\"fill_color\":\"rgb(0, 161, 187)\",\"height\":{\"value\":0.3},\"left\":{\"value\":18},\"line_color\":\"rgb(0, 161, 187)\",\"right\":{\"field\":\"right\"},\"y\":{\"field\":\"y\"}},\"id\":\"23969\",\"type\":\"HBar\"},{\"attributes\":{},\"id\":\"23908\",\"type\":\"DataRange1d\"},{\"attributes\":{\"fill_color\":\"rgb(278, 0, 114)\",\"height\":{\"value\":0.3},\"left\":{\"value\":21},\"line_color\":\"rgb(278, 0, 114)\",\"right\":{\"field\":\"right\"},\"y\":{\"field\":\"y\"}},\"id\":\"23974\",\"type\":\"HBar\"},{\"attributes\":{\"text\":\"\"},\"id\":\"24676\",\"type\":\"Title\"},{\"attributes\":{},\"id\":\"23929\",\"type\":\"HelpTool\"},{\"attributes\":{\"data\":{\"right\":{\"__ndarray__\":\"4FAcvqwWNkDKFEdHjWA2QI/qyKOkgDZA+SjBbvHxNUBnDszP4fU1QGYWMWJm6zVACjBgmUNYNkDizeEeQ/81QLSPxP+2MDZA4nM6jQlkNkA6+lWPrQE2QL2igNw/HDZACwqRuFNXNkCLLT1QCGw2QKGFcckHVzZA\",\"dtype\":\"float64\",\"order\":\"little\",\"shape\":[15]},\"y\":[0,1,2,3,4,5,6,7,8,9,10,11,12,13,14]},\"selected\":{\"id\":\"24697\"},\"selection_policy\":{\"id\":\"24696\"}},\"id\":\"23973\",\"type\":\"ColumnDataSource\"},{\"attributes\":{},\"id\":\"24684\",\"type\":\"UnionRenderers\"},{\"attributes\":{\"fill_color\":\"rgb(21, 162, 148)\",\"height\":{\"value\":0.3},\"line_color\":\"rgb(21, 162, 148)\",\"right\":{\"field\":\"right\"},\"y\":{\"field\":\"y\"}},\"id\":\"23939\",\"type\":\"HBar\"},{\"attributes\":{\"fill_alpha\":{\"value\":0.1},\"fill_color\":\"rgb(0, 161, 187)\",\"height\":{\"value\":0.3},\"left\":{\"value\":18},\"line_alpha\":{\"value\":0.1},\"line_color\":\"rgb(0, 161, 187)\",\"right\":{\"field\":\"right\"},\"y\":{\"field\":\"y\"}},\"id\":\"23970\",\"type\":\"HBar\"},{\"attributes\":{},\"id\":\"24685\",\"type\":\"Selection\"},{\"attributes\":{},\"id\":\"23921\",\"type\":\"BasicTicker\"},{\"attributes\":{},\"id\":\"23924\",\"type\":\"PanTool\"},{\"attributes\":{\"fill_color\":\"rgb(98, 158, 97)\",\"height\":{\"value\":0.3},\"left\":{\"value\":24},\"line_color\":\"rgb(98, 158, 97)\",\"right\":{\"field\":\"right\"},\"y\":{\"field\":\"y\"}},\"id\":\"23979\",\"type\":\"HBar\"},{\"attributes\":{\"fill_color\":\"rgb(162, 130, 210)\",\"height\":{\"value\":0.3},\"left\":{\"value\":12},\"line_color\":\"rgb(162, 130, 210)\",\"right\":{\"field\":\"right\"},\"y\":{\"field\":\"y\"}},\"id\":\"23959\",\"type\":\"HBar\"},{\"attributes\":{},\"id\":\"23925\",\"type\":\"WheelZoomTool\"},{\"attributes\":{\"overlay\":{\"id\":\"23930\"}},\"id\":\"23926\",\"type\":\"BoxZoomTool\"},{\"attributes\":{\"data\":{\"right\":{\"__ndarray__\":\"JjMimfjlNkBPR3DO2mU3QMd2QJddiTdAC5vLMi/nNkCG4E+v+8Y2QJMcDdV0wzZAWYTTBDKyN0DZkU0Wdks3QPRi2TKNZTdA2pTr4nczN0BF4gmNuEU4QLghnirvFThAGeg99gtHN0CF6klbGAA4QH+nwMe1/jZA\",\"dtype\":\"float64\",\"order\":\"little\",\"shape\":[15]},\"y\":[0,1,2,3,4,5,6,7,8,9,10,11,12,13,14]},\"selected\":{\"id\":\"24699\"},\"selection_policy\":{\"id\":\"24698\"}},\"id\":\"23978\",\"type\":\"ColumnDataSource\"},{\"attributes\":{\"data_source\":{\"id\":\"23983\"},\"glyph\":{\"id\":\"23984\"},\"hover_glyph\":null,\"muted_glyph\":null,\"nonselection_glyph\":{\"id\":\"23985\"},\"selection_glyph\":null,\"view\":{\"id\":\"23987\"}},\"id\":\"23986\",\"type\":\"GlyphRenderer\"},{\"attributes\":{},\"id\":\"23927\",\"type\":\"SaveTool\"},{\"attributes\":{},\"id\":\"23910\",\"type\":\"DataRange1d\"},{\"attributes\":{},\"id\":\"23928\",\"type\":\"ResetTool\"},{\"attributes\":{\"source\":{\"id\":\"23968\"}},\"id\":\"23972\",\"type\":\"CDSView\"},{\"attributes\":{\"fill_color\":\"rgb(0, 180, 140)\",\"height\":{\"value\":0.3},\"left\":{\"value\":27},\"line_color\":\"rgb(0, 180, 140)\",\"right\":{\"field\":\"right\"},\"y\":{\"field\":\"y\"}},\"id\":\"23984\",\"type\":\"HBar\"},{\"attributes\":{},\"id\":\"24678\",\"type\":\"BasicTickFormatter\"},{\"attributes\":{\"data\":{\"right\":{\"__ndarray__\":\"rbNmwNbtKEAxrylgSJInQNRIQGEu+CZAiYZmYPQxKUBzpXQNpEMpQJkYELOrFylAcR+x9aR/J0D58XZO3oMoQLwYi4o4VyhAf23DZuxZKEDmuG/tp5MkQHxGCAGyeSVAO47V07JyKEDywCE0tbslQMQ/iRBv/ihA\",\"dtype\":\"float64\",\"order\":\"little\",\"shape\":[15]},\"y\":[0,1,2,3,4,5,6,7,8,9,10,11,12,13,14]},\"selected\":{\"id\":\"24691\"},\"selection_policy\":{\"id\":\"24690\"}},\"id\":\"23958\",\"type\":\"ColumnDataSource\"},{\"attributes\":{\"data_source\":{\"id\":\"23958\"},\"glyph\":{\"id\":\"23959\"},\"hover_glyph\":null,\"muted_glyph\":null,\"nonselection_glyph\":{\"id\":\"23960\"},\"selection_glyph\":null,\"view\":{\"id\":\"23962\"}},\"id\":\"23961\",\"type\":\"GlyphRenderer\"},{\"attributes\":{\"data\":{\"right\":{\"__ndarray__\":\"Us8BdADFOEBocRk6GA85QOJ6fEIPHzlAo8M8+VndOEC49MS7q+k4QLC4qT8K9jhAm1hk/FHlOEDCUs72oSc5QL9VnnQ2yzhA0/xvysphOUD3LqSJ+JI6QJXw21RCRjlADRqwHhoFOUCBEyXe4tY5QFdPvOtVbTlA\",\"dtype\":\"float64\",\"order\":\"little\",\"shape\":[15]},\"y\":[0,1,2,3,4,5,6,7,8,9,10,11,12,13,14]},\"selected\":{\"id\":\"24701\"},\"selection_policy\":{\"id\":\"24700\"}},\"id\":\"23983\",\"type\":\"ColumnDataSource\"},{\"attributes\":{\"fill_alpha\":{\"value\":0.1},\"fill_color\":\"rgb(205, 115, 157)\",\"height\":{\"value\":0.3},\"left\":{\"value\":3},\"line_alpha\":{\"value\":0.1},\"line_color\":\"rgb(205, 115, 157)\",\"right\":{\"field\":\"right\"},\"y\":{\"field\":\"y\"}},\"id\":\"23945\",\"type\":\"HBar\"},{\"attributes\":{},\"id\":\"24686\",\"type\":\"UnionRenderers\"},{\"attributes\":{},\"id\":\"24687\",\"type\":\"Selection\"},{\"attributes\":{\"data_source\":{\"id\":\"23953\"},\"glyph\":{\"id\":\"23954\"},\"hover_glyph\":null,\"muted_glyph\":null,\"nonselection_glyph\":{\"id\":\"23955\"},\"selection_glyph\":null,\"view\":{\"id\":\"23957\"}},\"id\":\"23956\",\"type\":\"GlyphRenderer\"},{\"attributes\":{\"source\":{\"id\":\"23973\"}},\"id\":\"23977\",\"type\":\"CDSView\"},{\"attributes\":{\"fill_alpha\":{\"value\":0.1},\"fill_color\":\"rgb(245, 84, 127)\",\"height\":{\"value\":0.3},\"left\":{\"value\":6},\"line_alpha\":{\"value\":0.1},\"line_color\":\"rgb(245, 84, 127)\",\"right\":{\"field\":\"right\"},\"y\":{\"field\":\"y\"}},\"id\":\"23950\",\"type\":\"HBar\"},{\"attributes\":{\"source\":{\"id\":\"23958\"}},\"id\":\"23962\",\"type\":\"CDSView\"},{\"attributes\":{\"data_source\":{\"id\":\"23948\"},\"glyph\":{\"id\":\"23949\"},\"hover_glyph\":null,\"muted_glyph\":null,\"nonselection_glyph\":{\"id\":\"23950\"},\"selection_glyph\":null,\"view\":{\"id\":\"23952\"}},\"id\":\"23951\",\"type\":\"GlyphRenderer\"},{\"attributes\":{\"fill_alpha\":{\"value\":0.1},\"fill_color\":\"rgb(21, 162, 148)\",\"height\":{\"value\":0.3},\"line_alpha\":{\"value\":0.1},\"line_color\":\"rgb(21, 162, 148)\",\"right\":{\"field\":\"right\"},\"y\":{\"field\":\"y\"}},\"id\":\"23940\",\"type\":\"HBar\"},{\"attributes\":{\"data_source\":{\"id\":\"23943\"},\"glyph\":{\"id\":\"23944\"},\"hover_glyph\":null,\"muted_glyph\":null,\"nonselection_glyph\":{\"id\":\"23945\"},\"selection_glyph\":null,\"view\":{\"id\":\"23947\"}},\"id\":\"23946\",\"type\":\"GlyphRenderer\"},{\"attributes\":{\"fill_color\":\"rgb(245, 84, 127)\",\"height\":{\"value\":0.3},\"left\":{\"value\":6},\"line_color\":\"rgb(245, 84, 127)\",\"right\":{\"field\":\"right\"},\"y\":{\"field\":\"y\"}},\"id\":\"23949\",\"type\":\"HBar\"},{\"attributes\":{\"source\":{\"id\":\"23978\"}},\"id\":\"23982\",\"type\":\"CDSView\"},{\"attributes\":{\"fill_color\":\"rgb(0, 169, 87)\",\"height\":{\"value\":0.3},\"left\":{\"value\":9},\"line_color\":\"rgb(0, 169, 87)\",\"right\":{\"field\":\"right\"},\"y\":{\"field\":\"y\"}},\"id\":\"23954\",\"type\":\"HBar\"},{\"attributes\":{\"fill_alpha\":{\"value\":0.1},\"fill_color\":\"rgb(0, 169, 87)\",\"height\":{\"value\":0.3},\"left\":{\"value\":9},\"line_alpha\":{\"value\":0.1},\"line_color\":\"rgb(0, 169, 87)\",\"right\":{\"field\":\"right\"},\"y\":{\"field\":\"y\"}},\"id\":\"23955\",\"type\":\"HBar\"},{\"attributes\":{\"source\":{\"id\":\"23948\"}},\"id\":\"23952\",\"type\":\"CDSView\"},{\"attributes\":{\"source\":{\"id\":\"23953\"}},\"id\":\"23957\",\"type\":\"CDSView\"},{\"attributes\":{\"data\":{\"right\":{\"__ndarray__\":\"1HkGhI8MDEBE71rkXEoLQLN5cM5JmwhAv3mZ8LcCDUDTQXDAfWsMQJ7nMV2IiAxAb5l3ApRECEAcZYzVA2gMQDAcsKk1rgpAPgf2AUMAC0Aq315ZnE0IQJtWQooh4QdAlK9smwuCCECfGvuSHigGQDtXQlPERgtA\",\"dtype\":\"float64\",\"order\":\"little\",\"shape\":[15]},\"y\":[0,1,2,3,4,5,6,7,8,9,10,11,12,13,14]},\"selected\":{\"id\":\"24685\"},\"selection_policy\":{\"id\":\"24684\"}},\"id\":\"23943\",\"type\":\"ColumnDataSource\"},{\"attributes\":{},\"id\":\"24688\",\"type\":\"UnionRenderers\"},{\"attributes\":{\"data\":{\"right\":{\"__ndarray__\":\"KvmlPlnt7b/9TKPBN8b0vy5cah3lMu+/LKW6bDyE7r8Ncxb7aUnuv5iPqTk8yem/JhfTdkTV6L8ZpTEGTt7yv1oYyDcolOm/j9DPyEbV7b9+eibG1Pb4v8dbPJyH7eO/rBvyo5es77/0OM6KUovtv0LS0LoOEOy/\",\"dtype\":\"float64\",\"order\":\"little\",\"shape\":[15]},\"y\":[0,1,2,3,4,5,6,7,8,9,10,11,12,13,14]},\"selected\":{\"id\":\"24683\"},\"selection_policy\":{\"id\":\"24682\"}},\"id\":\"23938\",\"type\":\"ColumnDataSource\"},{\"attributes\":{\"source\":{\"id\":\"23983\"}},\"id\":\"23987\",\"type\":\"CDSView\"},{\"attributes\":{},\"id\":\"24689\",\"type\":\"Selection\"},{\"attributes\":{\"data\":{\"right\":{\"__ndarray__\":\"upATV1QrLkAyqS0/5vAtQCOhIVUG8i1AMWqZt8oSLkA8asNjICYuQIZjL+g4gy5A465zNAe1LUCKJ7+7JeUtQNnyc1cwGC5A1TtLyrWGLUDXQXTEPk4uQIon22TxeS5ALEQ1E1QYLkAu4koYaQouQK9K6yPwLC1A\",\"dtype\":\"float64\",\"order\":\"little\",\"shape\":[15]},\"y\":[0,1,2,3,4,5,6,7,8,9,10,11,12,13,14]},\"selected\":{\"id\":\"24693\"},\"selection_policy\":{\"id\":\"24692\"}},\"id\":\"23963\",\"type\":\"ColumnDataSource\"},{\"attributes\":{\"fill_color\":\"rgb(180, 131, 133)\",\"height\":{\"value\":0.3},\"left\":{\"value\":15},\"line_color\":\"rgb(180, 131, 133)\",\"right\":{\"field\":\"right\"},\"y\":{\"field\":\"y\"}},\"id\":\"23964\",\"type\":\"HBar\"},{\"attributes\":{\"bottom_units\":\"screen\",\"fill_alpha\":0.5,\"fill_color\":\"lightgrey\",\"left_units\":\"screen\",\"level\":\"overlay\",\"line_alpha\":1.0,\"line_color\":\"black\",\"line_dash\":[4,4],\"line_width\":2,\"right_units\":\"screen\",\"top_units\":\"screen\"},\"id\":\"23930\",\"type\":\"BoxAnnotation\"},{\"attributes\":{\"source\":{\"id\":\"23943\"}},\"id\":\"23947\",\"type\":\"CDSView\"},{\"attributes\":{\"fill_alpha\":{\"value\":0.1},\"fill_color\":\"rgb(162, 130, 210)\",\"height\":{\"value\":0.3},\"left\":{\"value\":12},\"line_alpha\":{\"value\":0.1},\"line_color\":\"rgb(162, 130, 210)\",\"right\":{\"field\":\"right\"},\"y\":{\"field\":\"y\"}},\"id\":\"23960\",\"type\":\"HBar\"},{\"attributes\":{},\"id\":\"24680\",\"type\":\"BasicTickFormatter\"},{\"attributes\":{\"active_drag\":\"auto\",\"active_inspect\":\"auto\",\"active_multi\":null,\"active_scroll\":\"auto\",\"active_tap\":\"auto\",\"tools\":[{\"id\":\"23924\"},{\"id\":\"23925\"},{\"id\":\"23926\"},{\"id\":\"23927\"},{\"id\":\"23928\"},{\"id\":\"23929\"}]},\"id\":\"23931\",\"type\":\"Toolbar\"},{\"attributes\":{},\"id\":\"24690\",\"type\":\"UnionRenderers\"},{\"attributes\":{},\"id\":\"24691\",\"type\":\"Selection\"},{\"attributes\":{},\"id\":\"24692\",\"type\":\"UnionRenderers\"},{\"attributes\":{},\"id\":\"24693\",\"type\":\"Selection\"},{\"attributes\":{\"data\":{\"right\":{\"__ndarray__\":\"xdpOyUgiG0CMwlzi+xYbQJUBQ3lUlRtAglp9P6UdG0DGZH0Js0AbQGkQztMwDRtAEkL/tub9GUBgdmD14O8aQP4Uz37kBhtAVdoQ4kRtGkB9WB06mZYZQOFdVmP9sRtAnZuMWMv+GkCViXH+PcoaQM7D70ButxpA\",\"dtype\":\"float64\",\"order\":\"little\",\"shape\":[15]},\"y\":[0,1,2,3,4,5,6,7,8,9,10,11,12,13,14]},\"selected\":{\"id\":\"24687\"},\"selection_policy\":{\"id\":\"24686\"}},\"id\":\"23948\",\"type\":\"ColumnDataSource\"},{\"attributes\":{},\"id\":\"23912\",\"type\":\"LinearScale\"},{\"attributes\":{\"data_source\":{\"id\":\"23938\"},\"glyph\":{\"id\":\"23939\"},\"hover_glyph\":null,\"muted_glyph\":null,\"nonselection_glyph\":{\"id\":\"23940\"},\"selection_glyph\":null,\"view\":{\"id\":\"23942\"}},\"id\":\"23941\",\"type\":\"GlyphRenderer\"},{\"attributes\":{},\"id\":\"23914\",\"type\":\"LinearScale\"},{\"attributes\":{\"source\":{\"id\":\"23938\"}},\"id\":\"23942\",\"type\":\"CDSView\"},{\"attributes\":{},\"id\":\"24694\",\"type\":\"UnionRenderers\"},{\"attributes\":{},\"id\":\"24695\",\"type\":\"Selection\"},{\"attributes\":{},\"id\":\"24696\",\"type\":\"UnionRenderers\"},{\"attributes\":{},\"id\":\"24697\",\"type\":\"Selection\"},{\"attributes\":{},\"id\":\"24698\",\"type\":\"UnionRenderers\"},{\"attributes\":{},\"id\":\"24699\",\"type\":\"Selection\"},{\"attributes\":{},\"id\":\"24700\",\"type\":\"UnionRenderers\"},{\"attributes\":{},\"id\":\"24701\",\"type\":\"Selection\"},{\"attributes\":{\"fill_color\":\"rgb(205, 115, 157)\",\"height\":{\"value\":0.3},\"left\":{\"value\":3},\"line_color\":\"rgb(205, 115, 157)\",\"right\":{\"field\":\"right\"},\"y\":{\"field\":\"y\"}},\"id\":\"23944\",\"type\":\"HBar\"}],\"root_ids\":[\"23907\"]},\"title\":\"Bokeh Application\",\"version\":\"2.2.3\"}};\n",
       "  var render_items = [{\"docid\":\"81183d66-681d-42d0-88f6-201946e3743b\",\"root_ids\":[\"23907\"],\"roots\":{\"23907\":\"9af3d3c6-63a7-433d-bc2e-df179a3932a4\"}}];\n",
       "  root.Bokeh.embed.embed_items_notebook(docs_json, render_items);\n",
       "\n",
       "  }\n",
       "  if (root.Bokeh !== undefined) {\n",
       "    embed_document(root);\n",
       "  } else {\n",
       "    var attempts = 0;\n",
       "    var timer = setInterval(function(root) {\n",
       "      if (root.Bokeh !== undefined) {\n",
       "        clearInterval(timer);\n",
       "        embed_document(root);\n",
       "      } else {\n",
       "        attempts++;\n",
       "        if (attempts > 100) {\n",
       "          clearInterval(timer);\n",
       "          console.log(\"Bokeh: ERROR: Unable to run BokehJS code because BokehJS library is missing\");\n",
       "        }\n",
       "      }\n",
       "    }, 10, root)\n",
       "  }\n",
       "})(window);"
      ],
      "application/vnd.bokehjs_exec.v0+json": ""
     },
     "metadata": {
      "application/vnd.bokehjs_exec.v0+json": {
       "id": "23907"
      }
     },
     "output_type": "display_data"
    }
   ],
   "source": [
    "for k in range(3, 11): show_clusters(k)"
   ]
  },
  {
   "cell_type": "code",
   "execution_count": null,
   "id": "chinese-cotton",
   "metadata": {},
   "outputs": [],
   "source": []
  },
  {
   "cell_type": "code",
   "execution_count": null,
   "id": "alike-attendance",
   "metadata": {},
   "outputs": [],
   "source": []
  }
 ],
 "metadata": {
  "kernelspec": {
   "display_name": "Python 3",
   "language": "python",
   "name": "python3"
  },
  "language_info": {
   "codemirror_mode": {
    "name": "ipython",
    "version": 3
   },
   "file_extension": ".py",
   "mimetype": "text/x-python",
   "name": "python",
   "nbconvert_exporter": "python",
   "pygments_lexer": "ipython3",
   "version": "3.9.5"
  }
 },
 "nbformat": 4,
 "nbformat_minor": 5
}
