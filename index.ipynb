{
 "cells": [
  {
   "cell_type": "markdown",
   "id": "correct-malta",
   "metadata": {},
   "source": [
    "# 公開ノートブック集\n",
    "\n",
    "[![Binder](https://mybinder.org/badge_logo.svg)](https://mybinder.org/v2/gh/wakita/binder-vis/main?urlpath=git-pull%3Frepo%3Dhttps%253A%252F%252Fgithub.com%252Fwakita%252Fvisnb%26urlpath%3Dlab%252Ftree%252Fvisnb%252Findex.ipynb%26branch%3Dmain)"
   ]
  },
  {
   "cell_type": "markdown",
   "id": "numeric-monkey",
   "metadata": {},
   "source": [
    "- Andrienko & Andrienko\n",
    "    - [Clustering](andrienko/ch04/analyse.ipynb)"
   ]
  },
  {
   "cell_type": "code",
   "execution_count": null,
   "id": "iraqi-tsunami",
   "metadata": {},
   "outputs": [],
   "source": []
  }
 ],
 "metadata": {
  "kernelspec": {
   "display_name": "Python 3",
   "language": "python",
   "name": "python3"
  },
  "language_info": {
   "codemirror_mode": {
    "name": "ipython",
    "version": 3
   },
   "file_extension": ".py",
   "mimetype": "text/x-python",
   "name": "python",
   "nbconvert_exporter": "python",
   "pygments_lexer": "ipython3",
   "version": "3.9.5"
  }
 },
 "nbformat": 4,
 "nbformat_minor": 5
}
