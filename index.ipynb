{
 "cells": [
  {
   "cell_type": "markdown",
   "id": "purple-debut",
   "metadata": {},
   "source": [
    "# 公開ノートブック集\n",
    "\n",
    "[![Binder](https://mybinder.org/badge_logo.svg)](https://mybinder.org/v2/gh/wakita/binder-vis/main?urlpath=git-pull%3Frepo%3Dhttps%253A%252F%252Fgithub.com%252Fwakita%252Fvisnb%26urlpath%3Dlab%252Ftree%252Fvisnb%252Findex.ipynb%26branch%3Dmain)"
   ]
  },
  {
   "cell_type": "markdown",
   "id": "virgin-columbus",
   "metadata": {},
   "source": [
    "- Andrienko & Andrienko\n",
    "    - [Clustering](andrienko/ch04/analyse.ipynb)"
   ]
  },
  {
   "cell_type": "code",
   "execution_count": 1,
   "id": "elegant-recycling",
   "metadata": {},
   "outputs": [
    {
     "data": {
      "text/markdown": [
       "# 公開ノートブックへのリンク\n",
       "- [公開ノートブック集](https://mybinder.org/v2/gh/wakita/binder-vis/main?urlpath=git-pull%3Frepo%3Dhttps%253A%252F%252Fgithub.com%252Fwakita%252Fvisnb%26urlpath%3Dlab%252Ftree%252Fvisnb%252Findex.ipynb%26branch%3Dmain)\n",
       "- [2021-06-09 BubbleSet 的な可視化を実現できそうな仕掛けを試した](https://mybinder.org/v2/gh/wakita/binder-vis/main?urlpath=git-pull%3Frepo%3Dhttps%253A%252F%252Fgithub.com%252Fwakita%252Fvisnb%26urlpath%3Dlab%252Ftree%252Fvisnb%252Fmisc%252F20210609-bubbleset.ipynb%26branch%3Dmain)\n",
       "- [Andrienko 4 章のクラスタリングを実践した](https://mybinder.org/v2/gh/wakita/binder-vis/main?urlpath=git-pull%3Frepo%3Dhttps%253A%252F%252Fgithub.com%252Fwakita%252Fvisnb%26urlpath%3Dlab%252Ftree%252Fvisnb%252Fandrienko%252Fch04%252Fanalyse.ipynb%26branch%3Dmain)"
      ],
      "text/plain": [
       "<IPython.core.display.Markdown object>"
      ]
     },
     "execution_count": 1,
     "metadata": {},
     "output_type": "execute_result"
    }
   ],
   "source": [
    "import support\n",
    "\n",
    "support.generate()"
   ]
  }
 ],
 "metadata": {
  "kernelspec": {
   "display_name": "Python 3",
   "language": "python",
   "name": "python3"
  },
  "language_info": {
   "codemirror_mode": {
    "name": "ipython",
    "version": 3
   },
   "file_extension": ".py",
   "mimetype": "text/x-python",
   "name": "python",
   "nbconvert_exporter": "python",
   "pygments_lexer": "ipython3",
   "version": "3.9.5"
  }
 },
 "nbformat": 4,
 "nbformat_minor": 5
}
