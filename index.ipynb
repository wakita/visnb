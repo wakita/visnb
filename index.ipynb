{
 "cells": [
  {
   "cell_type": "markdown",
   "id": "revised-pricing",
   "metadata": {},
   "source": [
    "# 公開ノートブック集\n",
    "\n",
    "[このノートブック集](https://mybinder.org/v2/gh/wakita/binder-vis/main?urlpath=git-pull%3Frepo%3Dhttps%253A%252F%252Fgithub.com%252Fwakita%252Fvisnb%26urlpath%3Dlab%252Ftree%252Fvisnb%252Findex.ipynb%26branch%3Dmain)"
   ]
  },
  {
   "cell_type": "code",
   "execution_count": null,
   "id": "guided-chess",
   "metadata": {},
   "outputs": [],
   "source": []
  }
 ],
 "metadata": {
  "kernelspec": {
   "display_name": "Python 3",
   "language": "python",
   "name": "python3"
  },
  "language_info": {
   "codemirror_mode": {
    "name": "ipython",
    "version": 3
   },
   "file_extension": ".py",
   "mimetype": "text/x-python",
   "name": "python",
   "nbconvert_exporter": "python",
   "pygments_lexer": "ipython3",
   "version": "3.9.5"
  }
 },
 "nbformat": 4,
 "nbformat_minor": 5
}
